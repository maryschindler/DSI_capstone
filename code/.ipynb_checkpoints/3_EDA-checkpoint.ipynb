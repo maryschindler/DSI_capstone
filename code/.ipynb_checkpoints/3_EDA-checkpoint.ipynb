{
 "cells": [
  {
   "cell_type": "markdown",
   "id": "ce32ab8d-7cb0-444d-b741-207ae2855714",
   "metadata": {},
   "source": [
    "## Exploratory Data Analysis"
   ]
  },
  {
   "cell_type": "markdown",
   "id": "baba36d6-c2c1-4d8f-80ff-d6ac112c8384",
   "metadata": {},
   "source": [
    "**Imports**"
   ]
  },
  {
   "cell_type": "code",
   "execution_count": 1,
   "id": "833c90d0-17f9-49de-aec1-928a7054691c",
   "metadata": {},
   "outputs": [],
   "source": [
    "import pandas as pd\n",
    "pd.set_option('display.max_columns', None)\n",
    "\n",
    "import numpy as np\n",
    "np.random.seed(42)\n",
    "\n",
    "import matplotlib.pyplot as plt\n",
    "import seaborn as sns\n",
    "sns.set(style = \"darkgrid\")\n",
    "\n",
    "import datetime as dt"
   ]
  },
  {
   "cell_type": "markdown",
   "id": "8478836b-a3ba-4e9d-a83b-4184da959a09",
   "metadata": {},
   "source": [
    "**Reading in Data**"
   ]
  },
  {
   "cell_type": "code",
   "execution_count": 2,
   "id": "e032203f-e634-456b-9a56-606e6870f677",
   "metadata": {},
   "outputs": [],
   "source": [
    "df = pd.read_csv('../data/showsandsets.csv')\n",
    "setlists_df = pd.read_csv('../data/just_setlists.csv')"
   ]
  },
  {
   "cell_type": "code",
   "execution_count": 3,
   "id": "f7927769-1d8e-4718-9843-7109a4aa3835",
   "metadata": {},
   "outputs": [
    {
     "data": {
      "text/html": [
       "<div>\n",
       "<style scoped>\n",
       "    .dataframe tbody tr th:only-of-type {\n",
       "        vertical-align: middle;\n",
       "    }\n",
       "\n",
       "    .dataframe tbody tr th {\n",
       "        vertical-align: top;\n",
       "    }\n",
       "\n",
       "    .dataframe thead th {\n",
       "        text-align: right;\n",
       "    }\n",
       "</style>\n",
       "<table border=\"1\" class=\"dataframe\">\n",
       "  <thead>\n",
       "    <tr style=\"text-align: right;\">\n",
       "      <th></th>\n",
       "      <th>showid</th>\n",
       "      <th>showyear</th>\n",
       "      <th>showmonth</th>\n",
       "      <th>showdate</th>\n",
       "      <th>permalink</th>\n",
       "      <th>setlist_notes</th>\n",
       "      <th>venue</th>\n",
       "      <th>city</th>\n",
       "      <th>state</th>\n",
       "      <th>country</th>\n",
       "      <th>artist_name</th>\n",
       "      <th>tourid</th>\n",
       "      <th>tour_name</th>\n",
       "      <th>setlists</th>\n",
       "    </tr>\n",
       "  </thead>\n",
       "  <tbody>\n",
       "    <tr>\n",
       "      <th>0</th>\n",
       "      <td>1251253100</td>\n",
       "      <td>1983</td>\n",
       "      <td>12</td>\n",
       "      <td>1983-12-02</td>\n",
       "      <td>https://phish.net/setlists/phish-december-02-1...</td>\n",
       "      <td>Trey, Mike, Fish, and Jeff Holdsworth recall b...</td>\n",
       "      <td>Harris-Millis Cafeteria - University of Vermont</td>\n",
       "      <td>Burlington</td>\n",
       "      <td>VT</td>\n",
       "      <td>USA</td>\n",
       "      <td>Phish</td>\n",
       "      <td>1</td>\n",
       "      <td>1983 Tour</td>\n",
       "      <td>['Long Cool Woman in a Black Dress', 'Proud Ma...</td>\n",
       "    </tr>\n",
       "    <tr>\n",
       "      <th>1</th>\n",
       "      <td>1250613219</td>\n",
       "      <td>1984</td>\n",
       "      <td>10</td>\n",
       "      <td>1984-10-23</td>\n",
       "      <td>https://phish.net/setlists/phish-october-23-19...</td>\n",
       "      <td>This show, played in the garage of a house on ...</td>\n",
       "      <td>69 Grant Street</td>\n",
       "      <td>Burlington</td>\n",
       "      <td>VT</td>\n",
       "      <td>USA</td>\n",
       "      <td>Phish</td>\n",
       "      <td>2</td>\n",
       "      <td>1984 Tour</td>\n",
       "      <td>['Makisupa Policeman']</td>\n",
       "    </tr>\n",
       "    <tr>\n",
       "      <th>2</th>\n",
       "      <td>1251262142</td>\n",
       "      <td>1984</td>\n",
       "      <td>11</td>\n",
       "      <td>1984-11-03</td>\n",
       "      <td>https://phish.net/setlists/phish-november-03-1...</td>\n",
       "      <td>The setlist for this show might be incomplete,...</td>\n",
       "      <td>Slade Hall, University of Vermont</td>\n",
       "      <td>Burlington</td>\n",
       "      <td>VT</td>\n",
       "      <td>USA</td>\n",
       "      <td>Phish</td>\n",
       "      <td>2</td>\n",
       "      <td>1984 Tour</td>\n",
       "      <td>['In the Midnight Hour', 'Wild Child', 'Jam', ...</td>\n",
       "    </tr>\n",
       "  </tbody>\n",
       "</table>\n",
       "</div>"
      ],
      "text/plain": [
       "       showid  showyear  showmonth    showdate  \\\n",
       "0  1251253100      1983         12  1983-12-02   \n",
       "1  1250613219      1984         10  1984-10-23   \n",
       "2  1251262142      1984         11  1984-11-03   \n",
       "\n",
       "                                           permalink  \\\n",
       "0  https://phish.net/setlists/phish-december-02-1...   \n",
       "1  https://phish.net/setlists/phish-october-23-19...   \n",
       "2  https://phish.net/setlists/phish-november-03-1...   \n",
       "\n",
       "                                       setlist_notes  \\\n",
       "0  Trey, Mike, Fish, and Jeff Holdsworth recall b...   \n",
       "1  This show, played in the garage of a house on ...   \n",
       "2  The setlist for this show might be incomplete,...   \n",
       "\n",
       "                                             venue        city state country  \\\n",
       "0  Harris-Millis Cafeteria - University of Vermont  Burlington    VT     USA   \n",
       "1                                  69 Grant Street  Burlington    VT     USA   \n",
       "2                Slade Hall, University of Vermont  Burlington    VT     USA   \n",
       "\n",
       "  artist_name  tourid  tour_name  \\\n",
       "0       Phish       1  1983 Tour   \n",
       "1       Phish       2  1984 Tour   \n",
       "2       Phish       2  1984 Tour   \n",
       "\n",
       "                                            setlists  \n",
       "0  ['Long Cool Woman in a Black Dress', 'Proud Ma...  \n",
       "1                             ['Makisupa Policeman']  \n",
       "2  ['In the Midnight Hour', 'Wild Child', 'Jam', ...  "
      ]
     },
     "execution_count": 3,
     "metadata": {},
     "output_type": "execute_result"
    }
   ],
   "source": [
    "df.head(3)"
   ]
  },
  {
   "cell_type": "code",
   "execution_count": 4,
   "id": "c0331b54-aa21-4386-98e4-1be580aca9f4",
   "metadata": {},
   "outputs": [
    {
     "data": {
      "text/plain": [
       "(1804, 14)"
      ]
     },
     "execution_count": 4,
     "metadata": {},
     "output_type": "execute_result"
    }
   ],
   "source": [
    "df.shape"
   ]
  },
  {
   "cell_type": "code",
   "execution_count": 5,
   "id": "25a679a8-82f9-4032-ae0b-684c08d8d266",
   "metadata": {},
   "outputs": [
    {
     "name": "stdout",
     "output_type": "stream",
     "text": [
      "<class 'pandas.core.frame.DataFrame'>\n",
      "RangeIndex: 1804 entries, 0 to 1803\n",
      "Data columns (total 14 columns):\n",
      " #   Column         Non-Null Count  Dtype \n",
      "---  ------         --------------  ----- \n",
      " 0   showid         1804 non-null   int64 \n",
      " 1   showyear       1804 non-null   int64 \n",
      " 2   showmonth      1804 non-null   int64 \n",
      " 3   showdate       1804 non-null   object\n",
      " 4   permalink      1804 non-null   object\n",
      " 5   setlist_notes  1804 non-null   object\n",
      " 6   venue          1804 non-null   object\n",
      " 7   city           1804 non-null   object\n",
      " 8   state          1804 non-null   object\n",
      " 9   country        1804 non-null   object\n",
      " 10  artist_name    1804 non-null   object\n",
      " 11  tourid         1804 non-null   int64 \n",
      " 12  tour_name      1804 non-null   object\n",
      " 13  setlists       1804 non-null   object\n",
      "dtypes: int64(4), object(10)\n",
      "memory usage: 197.4+ KB\n"
     ]
    }
   ],
   "source": [
    "df.info()"
   ]
  },
  {
   "cell_type": "code",
   "execution_count": 6,
   "id": "9692a1c1-9162-4bad-a190-26220b89b81c",
   "metadata": {},
   "outputs": [],
   "source": [
    "df['showdate'] = pd.to_datetime(df['showdate'])"
   ]
  },
  {
   "cell_type": "code",
   "execution_count": 7,
   "id": "3c0636b8-a0ef-46cc-b7ae-03989c66481c",
   "metadata": {},
   "outputs": [
    {
     "data": {
      "text/plain": [
       "showid                    int64\n",
       "showyear                  int64\n",
       "showmonth                 int64\n",
       "showdate         datetime64[ns]\n",
       "permalink                object\n",
       "setlist_notes            object\n",
       "venue                    object\n",
       "city                     object\n",
       "state                    object\n",
       "country                  object\n",
       "artist_name              object\n",
       "tourid                    int64\n",
       "tour_name                object\n",
       "setlists                 object\n",
       "dtype: object"
      ]
     },
     "execution_count": 7,
     "metadata": {},
     "output_type": "execute_result"
    }
   ],
   "source": [
    "df.dtypes"
   ]
  },
  {
   "cell_type": "markdown",
   "id": "ec5f8981-0636-498a-97a3-a323d33b18da",
   "metadata": {},
   "source": [
    "**Examining Column Values**"
   ]
  },
  {
   "cell_type": "code",
   "execution_count": 8,
   "id": "a6df7102-a81a-4614-b5fd-6849218d8ef0",
   "metadata": {},
   "outputs": [
    {
     "data": {
      "text/plain": [
       "Index(['showid', 'showyear', 'showmonth', 'showdate', 'permalink',\n",
       "       'setlist_notes', 'venue', 'city', 'state', 'country', 'artist_name',\n",
       "       'tourid', 'tour_name', 'setlists'],\n",
       "      dtype='object')"
      ]
     },
     "execution_count": 8,
     "metadata": {},
     "output_type": "execute_result"
    }
   ],
   "source": [
    "df.columns"
   ]
  },
  {
   "cell_type": "code",
   "execution_count": 9,
   "id": "0d4fb203-9e0e-48fa-9f71-07137cf9e832",
   "metadata": {},
   "outputs": [
    {
     "data": {
      "text/plain": [
       "Phish    1804\n",
       "Name: artist_name, dtype: int64"
      ]
     },
     "execution_count": 9,
     "metadata": {},
     "output_type": "execute_result"
    }
   ],
   "source": [
    "#just making sure we have only shows for Phish as Phish.net collects information on other bands\n",
    "df['artist_name'].value_counts()"
   ]
  },
  {
   "cell_type": "code",
   "execution_count": 10,
   "id": "b38ed2f7-7448-4504-9a14-46cae0a1bbd8",
   "metadata": {},
   "outputs": [
    {
     "data": {
      "text/plain": [
       "1804"
      ]
     },
     "execution_count": 10,
     "metadata": {},
     "output_type": "execute_result"
    }
   ],
   "source": [
    "#the number of unique shows since the beginning:\n",
    "df['showid'].nunique()"
   ]
  },
  {
   "cell_type": "code",
   "execution_count": 11,
   "id": "a7154d4a-d0ac-4f09-bfed-211cb340ea83",
   "metadata": {},
   "outputs": [
    {
     "data": {
      "text/plain": [
       "2021     35\n",
       "2020      5\n",
       "2019     41\n",
       "2018     39\n",
       "2017     29\n",
       "2016     48\n",
       "2015     31\n",
       "2014     42\n",
       "2013     41\n",
       "2012     37\n",
       "2011     41\n",
       "2010     50\n",
       "2009     52\n",
       "2008      1\n",
       "2004     21\n",
       "2003     47\n",
       "2002      3\n",
       "2001      1\n",
       "2000     58\n",
       "1999     69\n",
       "1998     71\n",
       "1997     84\n",
       "1996     73\n",
       "1995     83\n",
       "1994    128\n",
       "1993    112\n",
       "1992    124\n",
       "1991    124\n",
       "1990    127\n",
       "1989     88\n",
       "1988     53\n",
       "1987     20\n",
       "1986      9\n",
       "1985     13\n",
       "1984      3\n",
       "1983      1\n",
       "Name: showyear, dtype: int64"
      ]
     },
     "execution_count": 11,
     "metadata": {},
     "output_type": "execute_result"
    }
   ],
   "source": [
    "df['showyear'].value_counts().sort_index(ascending = False)"
   ]
  },
  {
   "cell_type": "code",
   "execution_count": 12,
   "id": "09a8a27d-d033-49fa-b944-498a7eafe56a",
   "metadata": {},
   "outputs": [
    {
     "data": {
      "text/plain": [
       "12    183\n",
       "11    166\n",
       "10    216\n",
       "9      91\n",
       "8     199\n",
       "7     294\n",
       "6     183\n",
       "5     117\n",
       "4     130\n",
       "3      96\n",
       "2     101\n",
       "1      28\n",
       "Name: showmonth, dtype: int64"
      ]
     },
     "execution_count": 12,
     "metadata": {},
     "output_type": "execute_result"
    }
   ],
   "source": [
    "df['showmonth'].value_counts().sort_index(ascending = False)"
   ]
  },
  {
   "cell_type": "code",
   "execution_count": 13,
   "id": "6d967101-5209-4f9f-8011-c352ee571204",
   "metadata": {},
   "outputs": [
    {
     "data": {
      "text/plain": [
       "Madison Square Garden              64\n",
       "The Front                          33\n",
       "Dick's Sporting Goods Park         30\n",
       "Nectar's                           24\n",
       "Saratoga Performing Arts Center    22\n",
       "                                   ..\n",
       "Auditorium Theatre                  1\n",
       "Club West                           1\n",
       "Summer Pops, Embarcadero Center     1\n",
       "Tenax                               1\n",
       "Achilles Rink, Union College        1\n",
       "Name: venue, Length: 766, dtype: int64"
      ]
     },
     "execution_count": 13,
     "metadata": {},
     "output_type": "execute_result"
    }
   ],
   "source": [
    "df['venue'].value_counts().sort_values(ascending = False)\n",
    "#Phish typically plays New Years' shows every year at MSG\n",
    "#It makes sense they have the highest count of shows played"
   ]
  },
  {
   "cell_type": "code",
   "execution_count": 14,
   "id": "84197c94-26b4-4df7-9c5a-0dcbb238edca",
   "metadata": {},
   "outputs": [
    {
     "data": {
      "text/plain": [
       "NY               277\n",
       "VT               157\n",
       "CA               127\n",
       "Not Available    118\n",
       "CO               102\n",
       "MA                99\n",
       "PA                69\n",
       "VA                56\n",
       "OH                49\n",
       "GA                48\n",
       "IL                47\n",
       "NJ                45\n",
       "NC                42\n",
       "WA                39\n",
       "FL                37\n",
       "ME                36\n",
       "NH                34\n",
       "TN                34\n",
       "IN                32\n",
       "NV                32\n",
       "WI                30\n",
       "CT                27\n",
       "MI                25\n",
       "TX                25\n",
       "OR                24\n",
       "MD                23\n",
       "RI                21\n",
       "MO                20\n",
       "SC                19\n",
       "AZ                18\n",
       "MN                14\n",
       "AL                11\n",
       "LA                11\n",
       "DC                10\n",
       "KS                 8\n",
       "UT                 7\n",
       "NM                 7\n",
       "KY                 5\n",
       "IA                 5\n",
       "NE                 2\n",
       "MS                 2\n",
       "DE                 2\n",
       "MT                 2\n",
       "ID                 2\n",
       "WV                 2\n",
       "OK                 1\n",
       "AR                 1\n",
       "Name: state, dtype: int64"
      ]
     },
     "execution_count": 14,
     "metadata": {},
     "output_type": "execute_result"
    }
   ],
   "source": [
    "df['state'].value_counts().sort_values(ascending = False)"
   ]
  },
  {
   "cell_type": "code",
   "execution_count": 15,
   "id": "d9eb5183-1a7b-445f-bdcf-49060f417387",
   "metadata": {},
   "outputs": [
    {
     "data": {
      "text/plain": [
       "New York               109\n",
       "Burlington             107\n",
       "Commerce City           30\n",
       "Philadelphia            29\n",
       "Atlanta                 28\n",
       "                      ... \n",
       "Santa Rosa               1\n",
       "Clearwater               1\n",
       "Burbank                  1\n",
       "Castleton                1\n",
       "San Juan Capistrano      1\n",
       "Name: city, Length: 370, dtype: int64"
      ]
     },
     "execution_count": 15,
     "metadata": {},
     "output_type": "execute_result"
    }
   ],
   "source": [
    "df['city'].value_counts().sort_values(ascending = False)\n",
    "#MSG is in New York and UVM is in Burlington, VT\n",
    "#where the band was foudned"
   ]
  },
  {
   "cell_type": "code",
   "execution_count": 16,
   "id": "812045c6-a64f-46f9-9889-e67a0c2342da",
   "metadata": {},
   "outputs": [
    {
     "data": {
      "text/plain": [
       "USA               1687\n",
       "Canada              19\n",
       "Germany             18\n",
       "Mexico              16\n",
       "Japan               12\n",
       "Italy               11\n",
       "France              11\n",
       "Denmark              8\n",
       "England              5\n",
       "Spain                4\n",
       "Netherlands          4\n",
       "Belgium              3\n",
       "Czech Republic       3\n",
       "Ireland              2\n",
       "Austria              1\n",
       "Name: country, dtype: int64"
      ]
     },
     "execution_count": 16,
     "metadata": {},
     "output_type": "execute_result"
    }
   ],
   "source": [
    "df['country'].value_counts().sort_values(ascending = False)"
   ]
  },
  {
   "cell_type": "code",
   "execution_count": 17,
   "id": "d6e5df39-d17b-46f2-b7b4-2d64585806cd",
   "metadata": {},
   "outputs": [
    {
     "data": {
      "text/plain": [
       "186    22\n",
       "184     4\n",
       "183     8\n",
       "182    25\n",
       "181     4\n",
       "       ..\n",
       "5      20\n",
       "4       8\n",
       "3      12\n",
       "2       3\n",
       "1       1\n",
       "Name: tourid, Length: 94, dtype: int64"
      ]
     },
     "execution_count": 17,
     "metadata": {},
     "output_type": "execute_result"
    }
   ],
   "source": [
    "df['tourid'].value_counts().sort_index(ascending = False)"
   ]
  },
  {
   "cell_type": "code",
   "execution_count": 18,
   "id": "2ccf009a-4b8c-42e6-8dcc-1b8488853bcb",
   "metadata": {},
   "outputs": [
    {
     "data": {
      "text/plain": [
       "Not Part of a Tour    110\n",
       "Mexico 2017             3\n",
       "Mexico 2016             3\n",
       "2021 Summer Tour       22\n",
       "2019 Summer Tour       25\n",
       "                     ... \n",
       "1987 Tour              20\n",
       "1986 Tour               8\n",
       "1985 Tour              12\n",
       "1984 Tour               3\n",
       "1983 Tour               1\n",
       "Name: tour_name, Length: 94, dtype: int64"
      ]
     },
     "execution_count": 18,
     "metadata": {},
     "output_type": "execute_result"
    }
   ],
   "source": [
    "df['tour_name'].value_counts().sort_index(ascending = False)"
   ]
  },
  {
   "cell_type": "code",
   "execution_count": 19,
   "id": "f8689ffb-2b57-49ed-ab48-8a433e8cef32",
   "metadata": {},
   "outputs": [
    {
     "data": {
      "text/plain": [
       "1799"
      ]
     },
     "execution_count": 19,
     "metadata": {},
     "output_type": "execute_result"
    }
   ],
   "source": [
    "df['setlists'].nunique()"
   ]
  },
  {
   "cell_type": "code",
   "execution_count": 20,
   "id": "dbde2196-4eb6-4d56-9df6-95df9789aff3",
   "metadata": {},
   "outputs": [
    {
     "data": {
      "text/plain": [
       "177"
      ]
     },
     "execution_count": 20,
     "metadata": {},
     "output_type": "execute_result"
    }
   ],
   "source": [
    "len(df['setlists'][0])"
   ]
  },
  {
   "cell_type": "markdown",
   "id": "4456568e-5cae-4643-9db8-bcee1e77f0c7",
   "metadata": {},
   "source": [
    "**Building the List of Songs to Model on:**"
   ]
  },
  {
   "cell_type": "code",
   "execution_count": 21,
   "id": "681c9deb-786e-40e3-b66c-410f4bfe87cd",
   "metadata": {},
   "outputs": [],
   "source": [
    "#the number of unique songs played:\n",
    "#setlists_df['songid'].nunique()"
   ]
  },
  {
   "cell_type": "code",
   "execution_count": 22,
   "id": "2192aa8f-aca0-475c-a524-0279372ea9b8",
   "metadata": {},
   "outputs": [],
   "source": [
    "#setlists_df.loc[setlists_df['is_original'] == 1, 'songid'].nunique()"
   ]
  },
  {
   "cell_type": "code",
   "execution_count": 23,
   "id": "313c37b0-2c1d-4d93-8227-b420053a1770",
   "metadata": {},
   "outputs": [],
   "source": [
    "setlists = df['setlists'].tolist()"
   ]
  },
  {
   "cell_type": "code",
   "execution_count": 24,
   "id": "bf1c6ca5-0b69-4208-afdd-4861dc22ddcf",
   "metadata": {},
   "outputs": [
    {
     "name": "stdout",
     "output_type": "stream",
     "text": [
      "['Long Cool Woman in a Black Dress', 'Proud Mary', 'In the Midnight Hour', 'Squeeze Box', 'Roadhouse Blues', 'Happy Birthday to You', 'Scarlet Begonias', 'Fire on the Mountain']['Makisupa Policeman']['In the Midnight Hour', 'Wild Child', 'Jam', 'Bertha', \"Can't You Hear Me Knocking\", 'St. Stephen', \"Can't You Hear Me Knocking\", 'Camel Walk', 'Eyes of the World', 'Whipping Post', 'Drums']['Jam', 'Wild Child', 'Bertha', \"Can't You Hear Me Knocking\", 'Camel Walk', 'Jam', 'In the Midnight Hour', 'Scarlet Begonias', 'Fire', 'Fire on the Mountain', 'Makisupa Policeman', 'Slave to the Traffic Light', 'Spanish Flea', \"Don't Want You No More\", 'Cities', 'Drums', 'Skippy the Wondermouse', 'Fluffhead', 'Eyes of the World']['Slave to the Traffic Light', \"Mike's Song\", \"Dave's Energy Guide\", 'You Enjoy Myself', 'Alumni Blues', 'Letter to Jimmy Page', 'Alumni Blues', 'Prep School Hippie', 'Run Like an Antelope']['Anarchy', 'Camel Walk', 'Fire Up the Ganja', 'Skippy the Wondermouse'\n"
     ]
    }
   ],
   "source": [
    "setlists_joined = \"\".join(setlists)\n",
    "print(setlists_joined[0:982])"
   ]
  },
  {
   "cell_type": "code",
   "execution_count": 25,
   "id": "13fec42c-5dbd-437f-b07a-1a4b5f41269e",
   "metadata": {},
   "outputs": [],
   "source": [
    "setlists_delim = setlists_joined.replace('][', ', ')\n",
    "# setlists_delim = setlists_joined.replace('[', ', ')\n",
    "# setlists_delim = setlists_joined.replace(']', ', ')\n",
    "\n",
    "#I wish I could do Jams or 'intos' to designate a transition\n",
    "\n",
    "#REVISIT REVISIT REVISIT\n",
    "#REVISIT REVISIT REVISIT\n",
    "#REVISIT REVISIT REVISIT"
   ]
  },
  {
   "cell_type": "code",
   "execution_count": 26,
   "id": "3c83334e-f5aa-49cd-8bfd-10e38ddfc792",
   "metadata": {},
   "outputs": [
    {
     "name": "stdout",
     "output_type": "stream",
     "text": [
      "['Long Cool Woman in a Black Dress', 'Proud Mary', 'In the Midnight Hour', 'Squeeze Box', 'Roadhouse Blues', 'Happy Birthday to You', 'Scarlet Begonias', 'Fire on the Mountain', 'Makisupa Policeman', 'In the Midnight Hour', 'Wild Child', 'Jam', 'Bertha', \"Can't You Hear Me Knocking\", 'St. Stephen', \"Can't You Hear Me Knocking\", 'Camel Walk', 'Eyes of the World', 'Whipping Post', 'Drums', 'Jam', 'Wild Child', 'Bertha', \"Can't You Hear Me Knocking\", 'Camel Walk', 'Jam', 'In the Midnight Hour', 'Scarlet Begonias', 'Fire', 'Fire on the Mountain', 'Makisupa Policeman', 'Slave to the Traffic Light', 'Spanish Flea', \"Don't Want You No More\", 'Cities', 'Drums', 'Skippy the Wondermouse', 'Fluffhead', 'Eyes of the World', 'Slave to the Traffic Light', \"Mike's Song\", \"Dave's Energy Guide\", 'You Enjoy Myself', 'Alumni Blues', 'Letter to Jimmy Page', 'Alumni Blues', 'Prep School Hippie', 'Run Like an Antelope', 'Anarchy', 'Camel Walk', 'Fire Up the Ganja', 'Skippy the Wondermouse'\n"
     ]
    }
   ],
   "source": [
    "print(setlists_delim[0:982])"
   ]
  },
  {
   "cell_type": "code",
   "execution_count": 27,
   "id": "af3d152a-60fc-4343-aa45-8e9f6d9a61c2",
   "metadata": {},
   "outputs": [
    {
     "data": {
      "text/plain": [
       "[\"['Long Cool Woman in a Black Dress'\",\n",
       " \"'Proud Mary'\",\n",
       " \"'In the Midnight Hour'\",\n",
       " \"'Squeeze Box'\",\n",
       " \"'Roadhouse Blues'\"]"
      ]
     },
     "execution_count": 27,
     "metadata": {},
     "output_type": "execute_result"
    }
   ],
   "source": [
    "setlists_string = setlists_delim.split(', ')\n",
    "setlists_string[0:5]"
   ]
  },
  {
   "cell_type": "code",
   "execution_count": 28,
   "id": "755a38bc-5d46-4294-9ee9-16c65f6eef44",
   "metadata": {},
   "outputs": [
    {
     "data": {
      "text/plain": [
       "36023"
      ]
     },
     "execution_count": 28,
     "metadata": {},
     "output_type": "execute_result"
    }
   ],
   "source": [
    "#number of all songs played:\n",
    "len(setlists_string)"
   ]
  },
  {
   "cell_type": "code",
   "execution_count": 29,
   "id": "811618c7-2af9-45c8-965e-0b7daba1ed08",
   "metadata": {},
   "outputs": [
    {
     "data": {
      "text/plain": [
       "970"
      ]
     },
     "execution_count": 29,
     "metadata": {},
     "output_type": "execute_result"
    }
   ],
   "source": [
    "#number of all unique songs played:\n",
    "len(set(setlists_string))"
   ]
  },
  {
   "cell_type": "code",
   "execution_count": 30,
   "id": "1260b56d-0751-432f-bf78-8bc62a0a15de",
   "metadata": {},
   "outputs": [
    {
     "data": {
      "text/plain": [
       "['\"Ain\\'t Love Funny\"',\n",
       " '\"Cryin\\'\"',\n",
       " '\"Everything\\'s Right\"',\n",
       " '\"I\\'ll Come Running\"',\n",
       " '\"Jumpin\\' Jack Flash\"',\n",
       " '\"Olivia\\'s Pool\"',\n",
       " '\"Take the \\'A\\' Train\"',\n",
       " '\"Why Don\\'t We Do It in the Road?\"',\n",
       " \"'A Apolitical Blues'\",\n",
       " \"'All Along the Watchtower'\",\n",
       " \"'American Woman'\",\n",
       " \"'Auld Lang Syne'\",\n",
       " \"'Back on the Train'\",\n",
       " \"'Big Alligator'\",\n",
       " \"'Black-Eyed Katy'\",\n",
       " \"'Bobby Jean'\",\n",
       " \"'Brother'\",\n",
       " \"'Cannonball'\",\n",
       " \"'Chalk Dust Torture'\",\n",
       " \"'Coconut'\",\n",
       " \"'Corona'\",\n",
       " \"'Day or Night'\",\n",
       " \"'Dinner and a Movie'\",\n",
       " \"'Down By the River'\",\n",
       " \"'Eclipse'\",\n",
       " \"'Evolve'\",\n",
       " \"'Fire on the Mountain'\",\n",
       " \"'Foreplay/Long Time'\",\n",
       " \"'Frost'\",\n",
       " \"'Girls Girls Girls'\",\n",
       " \"'Goodbye Jam'\",\n",
       " \"'Halfway to the Moon'\",\n",
       " \"'Heavy Rotation'\",\n",
       " \"'Hold Your Head Up'\",\n",
       " \"'I Always Wanted It This Way'\",\n",
       " \"'I Know a Little'\",\n",
       " \"'If I Only Had a Brain'\",\n",
       " \"'Iron Man'\",\n",
       " \"'Julius'\",\n",
       " \"'La Grange'\",\n",
       " \"'Life on Mars?'\",\n",
       " \"'Lonely Trip'\",\n",
       " \"'Lucky Seven'\",\n",
       " \"'Maybe'\",\n",
       " \"'Merry Pranksters Jam'\",\n",
       " \"'Moby Dick'\",\n",
       " \"'Mr. Completely'\",\n",
       " \"'My Soul'\",\n",
       " \"'No Dogs Allowed'\",\n",
       " \"'Oh Atlanta'\",\n",
       " \"'Passing Through'\",\n",
       " \"'Plasma'\",\n",
       " \"'Punch You in the Eye'\",\n",
       " \"'Revolution'\",\n",
       " \"'Rock and Roll All Nite'\",\n",
       " \"'Rotation Jam'\",\n",
       " \"'Sanity'\",\n",
       " \"'Secret Smile'\",\n",
       " \"'Shaggy Dog'\",\n",
       " \"'Simple'\",\n",
       " \"'Snow'\",\n",
       " \"'Spanish Moon'\",\n",
       " \"'Star'\",\n",
       " \"'Strawberry Letter 23'\",\n",
       " \"'Sweet Emotion'\",\n",
       " \"'Taste That Surrounds'\",\n",
       " \"'The Birds'\",\n",
       " \"'The Final Hurrah'\",\n",
       " \"'The Last Step'\",\n",
       " \"'The Other One'\",\n",
       " \"'The Squirming Coil'\",\n",
       " \"'Theme From the Bottom'\",\n",
       " \"'Time'\",\n",
       " \"'Tubthumping'\",\n",
       " \"'Uncloudy Day'\",\n",
       " \"'Vultures'\",\n",
       " \"'Water in the Sky'\",\n",
       " \"'Whipping Post'\",\n",
       " \"'Wild Thing'\",\n",
       " \"'Woodstock'\",\n",
       " \"'Your Pet Cat'\"]"
      ]
     },
     "execution_count": 30,
     "metadata": {},
     "output_type": "execute_result"
    }
   ],
   "source": [
    "#all unique songs played:\n",
    "unique_songs = sorted(set(setlists_string))\n",
    "unique_songs[0::12]"
   ]
  },
  {
   "cell_type": "markdown",
   "id": "d383704f-9456-4437-9323-0e14ad3db244",
   "metadata": {},
   "source": [
    "- I want to be able to model on a list of the songs played in order to predict the next song (song N + 1 based on the previous N songs played) so I need to map the song titles to integers."
   ]
  },
  {
   "cell_type": "code",
   "execution_count": 31,
   "id": "87dcc00c-3f4e-4d99-9258-9db5c0401dea",
   "metadata": {},
   "outputs": [],
   "source": [
    "#https://stackoverflow.com/questions/53801614/map-elements-of-a-list-to-their-index-in-another-list\n",
    "#from itertools import islice\n",
    "from itertools import islice\n",
    "\n",
    "idx_list = {song: index for index, song in enumerate(unique_songs)}\n",
    "#idx_list #commented out for length"
   ]
  },
  {
   "cell_type": "markdown",
   "id": "a71ba855-e3ab-43cb-85ba-ae22c53e9726",
   "metadata": {},
   "source": [
    "- Applying the index_list mapping to the entire (running) setlist:"
   ]
  },
  {
   "cell_type": "code",
   "execution_count": 32,
   "id": "f3efb744-686c-406b-9d5b-c6a4d286b037",
   "metadata": {},
   "outputs": [
    {
     "data": {
      "text/plain": [
       "36023"
      ]
     },
     "execution_count": 32,
     "metadata": {},
     "output_type": "execute_result"
    }
   ],
   "source": [
    "encoded_setlists_list = [idx_list[song] for song in setlists_string]\n",
    "len(encoded_setlists_list)"
   ]
  },
  {
   "cell_type": "code",
   "execution_count": 33,
   "id": "88a9fd02-b47c-4b10-8ad7-956505bb4b1d",
   "metadata": {},
   "outputs": [
    {
     "data": {
      "text/plain": [
       "[969, 621, 439, 739, 644, 375, 679, 312, 509, 439, 934, 448]"
      ]
     },
     "execution_count": 33,
     "metadata": {},
     "output_type": "execute_result"
    }
   ],
   "source": [
    "#first twelve songs played:\n",
    "encoded_setlists_list[0:12]"
   ]
  },
  {
   "cell_type": "code",
   "execution_count": 36,
   "id": "3348dcc2-6775-44f3-a00c-b6fdd9526b16",
   "metadata": {},
   "outputs": [
    {
     "data": {
      "text/plain": [
       "\"['Long Cool Woman in a Black Dress', 'Proud Mary', 'In the Midnight Hour', 'Squeeze Box', 'Roadhouse Blues', 'Happy Birthday to You', 'Scarlet Begonias', 'Fire on the Mountain']\""
      ]
     },
     "execution_count": 36,
     "metadata": {},
     "output_type": "execute_result"
    }
   ],
   "source": [
    "#Phish's first show:\n",
    "df['setlists'][0]"
   ]
  },
  {
   "cell_type": "code",
   "execution_count": 37,
   "id": "3284236e-aa66-41e5-b34d-5c6aa6ee8173",
   "metadata": {},
   "outputs": [
    {
     "data": {
      "text/plain": [
       "[969, 621, 439, 739, 644, 375, 679, 312]"
      ]
     },
     "execution_count": 37,
     "metadata": {},
     "output_type": "execute_result"
    }
   ],
   "source": [
    "#As an encoded list:\n",
    "encoded_setlists_list[0:8]"
   ]
  },
  {
   "cell_type": "code",
   "execution_count": null,
   "id": "bf3f4348-62c7-424d-b046-f5c6bb70d632",
   "metadata": {},
   "outputs": [],
   "source": []
  }
 ],
 "metadata": {
  "kernelspec": {
   "display_name": "Python 3",
   "language": "python",
   "name": "python3"
  },
  "language_info": {
   "codemirror_mode": {
    "name": "ipython",
    "version": 3
   },
   "file_extension": ".py",
   "mimetype": "text/x-python",
   "name": "python",
   "nbconvert_exporter": "python",
   "pygments_lexer": "ipython3",
   "version": "3.8.8"
  }
 },
 "nbformat": 4,
 "nbformat_minor": 5
}
