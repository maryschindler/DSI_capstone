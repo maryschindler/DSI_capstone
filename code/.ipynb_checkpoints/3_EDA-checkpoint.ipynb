{
 "cells": [
  {
   "cell_type": "markdown",
   "id": "ce32ab8d-7cb0-444d-b741-207ae2855714",
   "metadata": {},
   "source": [
    "## Exploratory Data Analysis"
   ]
  },
  {
   "cell_type": "markdown",
   "id": "baba36d6-c2c1-4d8f-80ff-d6ac112c8384",
   "metadata": {},
   "source": [
    "**Imports**"
   ]
  },
  {
   "cell_type": "code",
   "execution_count": 1,
   "id": "833c90d0-17f9-49de-aec1-928a7054691c",
   "metadata": {},
   "outputs": [],
   "source": [
    "import pandas as pd\n",
    "pd.set_option('display.max_columns', None)\n",
    "\n",
    "import numpy as np\n",
    "np.random.seed(42)\n",
    "\n",
    "import matplotlib.pyplot as plt\n",
    "import seaborn as sns\n",
    "sns.set(style = \"darkgrid\")\n",
    "\n",
    "import datetime as dt"
   ]
  },
  {
   "cell_type": "markdown",
   "id": "8478836b-a3ba-4e9d-a83b-4184da959a09",
   "metadata": {},
   "source": [
    "**Reading in Data**"
   ]
  },
  {
   "cell_type": "code",
   "execution_count": 2,
   "id": "e032203f-e634-456b-9a56-606e6870f677",
   "metadata": {},
   "outputs": [],
   "source": [
    "df = pd.read_csv('../data/showsandsets.csv')\n",
    "setlists_df = pd.read_csv('../data/just_setlists.csv')"
   ]
  },
  {
   "cell_type": "code",
   "execution_count": 3,
   "id": "f7927769-1d8e-4718-9843-7109a4aa3835",
   "metadata": {},
   "outputs": [
    {
     "data": {
      "text/html": [
       "<div>\n",
       "<style scoped>\n",
       "    .dataframe tbody tr th:only-of-type {\n",
       "        vertical-align: middle;\n",
       "    }\n",
       "\n",
       "    .dataframe tbody tr th {\n",
       "        vertical-align: top;\n",
       "    }\n",
       "\n",
       "    .dataframe thead th {\n",
       "        text-align: right;\n",
       "    }\n",
       "</style>\n",
       "<table border=\"1\" class=\"dataframe\">\n",
       "  <thead>\n",
       "    <tr style=\"text-align: right;\">\n",
       "      <th></th>\n",
       "      <th>showid</th>\n",
       "      <th>showyear</th>\n",
       "      <th>showmonth</th>\n",
       "      <th>showdate</th>\n",
       "      <th>permalink</th>\n",
       "      <th>setlist_notes</th>\n",
       "      <th>venue</th>\n",
       "      <th>city</th>\n",
       "      <th>state</th>\n",
       "      <th>country</th>\n",
       "      <th>artist_name</th>\n",
       "      <th>tourid</th>\n",
       "      <th>tour_name</th>\n",
       "      <th>setlists</th>\n",
       "    </tr>\n",
       "  </thead>\n",
       "  <tbody>\n",
       "    <tr>\n",
       "      <th>0</th>\n",
       "      <td>1251253100</td>\n",
       "      <td>1983</td>\n",
       "      <td>12</td>\n",
       "      <td>1983-12-02</td>\n",
       "      <td>https://phish.net/setlists/phish-december-02-1...</td>\n",
       "      <td>Trey, Mike, Fish, and Jeff Holdsworth recall b...</td>\n",
       "      <td>Harris-Millis Cafeteria - University of Vermont</td>\n",
       "      <td>Burlington</td>\n",
       "      <td>VT</td>\n",
       "      <td>USA</td>\n",
       "      <td>Phish</td>\n",
       "      <td>1</td>\n",
       "      <td>1983 Tour</td>\n",
       "      <td>['Long Cool Woman in a Black Dress', 'Proud Ma...</td>\n",
       "    </tr>\n",
       "    <tr>\n",
       "      <th>1</th>\n",
       "      <td>1250613219</td>\n",
       "      <td>1984</td>\n",
       "      <td>10</td>\n",
       "      <td>1984-10-23</td>\n",
       "      <td>https://phish.net/setlists/phish-october-23-19...</td>\n",
       "      <td>This show, played in the garage of a house on ...</td>\n",
       "      <td>69 Grant Street</td>\n",
       "      <td>Burlington</td>\n",
       "      <td>VT</td>\n",
       "      <td>USA</td>\n",
       "      <td>Phish</td>\n",
       "      <td>2</td>\n",
       "      <td>1984 Tour</td>\n",
       "      <td>['Makisupa Policeman']</td>\n",
       "    </tr>\n",
       "    <tr>\n",
       "      <th>2</th>\n",
       "      <td>1251262142</td>\n",
       "      <td>1984</td>\n",
       "      <td>11</td>\n",
       "      <td>1984-11-03</td>\n",
       "      <td>https://phish.net/setlists/phish-november-03-1...</td>\n",
       "      <td>The setlist for this show might be incomplete,...</td>\n",
       "      <td>Slade Hall, University of Vermont</td>\n",
       "      <td>Burlington</td>\n",
       "      <td>VT</td>\n",
       "      <td>USA</td>\n",
       "      <td>Phish</td>\n",
       "      <td>2</td>\n",
       "      <td>1984 Tour</td>\n",
       "      <td>['In the Midnight Hour', 'Wild Child', 'Jam', ...</td>\n",
       "    </tr>\n",
       "  </tbody>\n",
       "</table>\n",
       "</div>"
      ],
      "text/plain": [
       "       showid  showyear  showmonth    showdate  \\\n",
       "0  1251253100      1983         12  1983-12-02   \n",
       "1  1250613219      1984         10  1984-10-23   \n",
       "2  1251262142      1984         11  1984-11-03   \n",
       "\n",
       "                                           permalink  \\\n",
       "0  https://phish.net/setlists/phish-december-02-1...   \n",
       "1  https://phish.net/setlists/phish-october-23-19...   \n",
       "2  https://phish.net/setlists/phish-november-03-1...   \n",
       "\n",
       "                                       setlist_notes  \\\n",
       "0  Trey, Mike, Fish, and Jeff Holdsworth recall b...   \n",
       "1  This show, played in the garage of a house on ...   \n",
       "2  The setlist for this show might be incomplete,...   \n",
       "\n",
       "                                             venue        city state country  \\\n",
       "0  Harris-Millis Cafeteria - University of Vermont  Burlington    VT     USA   \n",
       "1                                  69 Grant Street  Burlington    VT     USA   \n",
       "2                Slade Hall, University of Vermont  Burlington    VT     USA   \n",
       "\n",
       "  artist_name  tourid  tour_name  \\\n",
       "0       Phish       1  1983 Tour   \n",
       "1       Phish       2  1984 Tour   \n",
       "2       Phish       2  1984 Tour   \n",
       "\n",
       "                                            setlists  \n",
       "0  ['Long Cool Woman in a Black Dress', 'Proud Ma...  \n",
       "1                             ['Makisupa Policeman']  \n",
       "2  ['In the Midnight Hour', 'Wild Child', 'Jam', ...  "
      ]
     },
     "execution_count": 3,
     "metadata": {},
     "output_type": "execute_result"
    }
   ],
   "source": [
    "df.head(3)"
   ]
  },
  {
   "cell_type": "code",
   "execution_count": 4,
   "id": "c0331b54-aa21-4386-98e4-1be580aca9f4",
   "metadata": {},
   "outputs": [
    {
     "data": {
      "text/plain": [
       "(1804, 14)"
      ]
     },
     "execution_count": 4,
     "metadata": {},
     "output_type": "execute_result"
    }
   ],
   "source": [
    "df.shape"
   ]
  },
  {
   "cell_type": "code",
   "execution_count": 5,
   "id": "25a679a8-82f9-4032-ae0b-684c08d8d266",
   "metadata": {},
   "outputs": [
    {
     "name": "stdout",
     "output_type": "stream",
     "text": [
      "<class 'pandas.core.frame.DataFrame'>\n",
      "RangeIndex: 1804 entries, 0 to 1803\n",
      "Data columns (total 14 columns):\n",
      " #   Column         Non-Null Count  Dtype \n",
      "---  ------         --------------  ----- \n",
      " 0   showid         1804 non-null   int64 \n",
      " 1   showyear       1804 non-null   int64 \n",
      " 2   showmonth      1804 non-null   int64 \n",
      " 3   showdate       1804 non-null   object\n",
      " 4   permalink      1804 non-null   object\n",
      " 5   setlist_notes  1804 non-null   object\n",
      " 6   venue          1804 non-null   object\n",
      " 7   city           1804 non-null   object\n",
      " 8   state          1804 non-null   object\n",
      " 9   country        1804 non-null   object\n",
      " 10  artist_name    1804 non-null   object\n",
      " 11  tourid         1804 non-null   int64 \n",
      " 12  tour_name      1804 non-null   object\n",
      " 13  setlists       1804 non-null   object\n",
      "dtypes: int64(4), object(10)\n",
      "memory usage: 197.4+ KB\n"
     ]
    }
   ],
   "source": [
    "df.info()"
   ]
  },
  {
   "cell_type": "code",
   "execution_count": 6,
   "id": "9692a1c1-9162-4bad-a190-26220b89b81c",
   "metadata": {},
   "outputs": [],
   "source": [
    "df['showdate'] = pd.to_datetime(df['showdate'])"
   ]
  },
  {
   "cell_type": "code",
   "execution_count": 7,
   "id": "3c0636b8-a0ef-46cc-b7ae-03989c66481c",
   "metadata": {},
   "outputs": [
    {
     "data": {
      "text/plain": [
       "showid                    int64\n",
       "showyear                  int64\n",
       "showmonth                 int64\n",
       "showdate         datetime64[ns]\n",
       "permalink                object\n",
       "setlist_notes            object\n",
       "venue                    object\n",
       "city                     object\n",
       "state                    object\n",
       "country                  object\n",
       "artist_name              object\n",
       "tourid                    int64\n",
       "tour_name                object\n",
       "setlists                 object\n",
       "dtype: object"
      ]
     },
     "execution_count": 7,
     "metadata": {},
     "output_type": "execute_result"
    }
   ],
   "source": [
    "df.dtypes"
   ]
  },
  {
   "cell_type": "markdown",
   "id": "ec5f8981-0636-498a-97a3-a323d33b18da",
   "metadata": {},
   "source": [
    "**Examining Column Values**"
   ]
  },
  {
   "cell_type": "code",
   "execution_count": 8,
   "id": "a6df7102-a81a-4614-b5fd-6849218d8ef0",
   "metadata": {},
   "outputs": [
    {
     "data": {
      "text/plain": [
       "Index(['showid', 'showyear', 'showmonth', 'showdate', 'permalink',\n",
       "       'setlist_notes', 'venue', 'city', 'state', 'country', 'artist_name',\n",
       "       'tourid', 'tour_name', 'setlists'],\n",
       "      dtype='object')"
      ]
     },
     "execution_count": 8,
     "metadata": {},
     "output_type": "execute_result"
    }
   ],
   "source": [
    "df.columns"
   ]
  },
  {
   "cell_type": "code",
   "execution_count": 9,
   "id": "0d4fb203-9e0e-48fa-9f71-07137cf9e832",
   "metadata": {},
   "outputs": [
    {
     "data": {
      "text/plain": [
       "Phish    1804\n",
       "Name: artist_name, dtype: int64"
      ]
     },
     "execution_count": 9,
     "metadata": {},
     "output_type": "execute_result"
    }
   ],
   "source": [
    "#just making sure we have only shows for Phish as Phish.net collects information on other bands\n",
    "df['artist_name'].value_counts()"
   ]
  },
  {
   "cell_type": "code",
   "execution_count": 10,
   "id": "b38ed2f7-7448-4504-9a14-46cae0a1bbd8",
   "metadata": {},
   "outputs": [
    {
     "data": {
      "text/plain": [
       "1804"
      ]
     },
     "execution_count": 10,
     "metadata": {},
     "output_type": "execute_result"
    }
   ],
   "source": [
    "#the number of unique shows since the beginning:\n",
    "df['showid'].nunique()"
   ]
  },
  {
   "cell_type": "code",
   "execution_count": 11,
   "id": "a7154d4a-d0ac-4f09-bfed-211cb340ea83",
   "metadata": {},
   "outputs": [
    {
     "data": {
      "text/plain": [
       "1983      1\n",
       "1984      3\n",
       "1985     13\n",
       "1986      9\n",
       "1987     20\n",
       "1988     53\n",
       "1989     88\n",
       "1990    127\n",
       "1991    124\n",
       "1992    124\n",
       "1993    112\n",
       "1994    128\n",
       "1995     83\n",
       "1996     73\n",
       "1997     84\n",
       "1998     71\n",
       "1999     69\n",
       "2000     58\n",
       "2001      1\n",
       "2002      3\n",
       "2003     47\n",
       "2004     21\n",
       "2008      1\n",
       "2009     52\n",
       "2010     50\n",
       "2011     41\n",
       "2012     37\n",
       "2013     41\n",
       "2014     42\n",
       "2015     31\n",
       "2016     48\n",
       "2017     29\n",
       "2018     39\n",
       "2019     41\n",
       "2020      5\n",
       "2021     35\n",
       "Name: showyear, dtype: int64"
      ]
     },
     "execution_count": 11,
     "metadata": {},
     "output_type": "execute_result"
    }
   ],
   "source": [
    "df['showyear'].value_counts().sort_index()"
   ]
  },
  {
   "cell_type": "code",
   "execution_count": 12,
   "id": "8b37c517-8c43-4ef7-8720-ed3366a1241e",
   "metadata": {},
   "outputs": [
    {
     "data": {
      "image/png": "[encoded data removed]",
      "text/plain": [
       "<Figure size 864x720 with 1 Axes>"
      ]
     },
     "metadata": {},
     "output_type": "display_data"
    }
   ],
   "source": [
    "plt.figure(figsize = (12, 10))\n",
    "fig = sns.countplot(x = 'showyear',\n",
    "                    data = df,\n",
    "                    palette = 'crest',\n",
    "                    edgecolor = 'black')\n",
    "fig.set(title = 'Show Frequency by Year',\n",
    "        xlabel = 'Year',\n",
    "        ylabel = 'Number of Shows')\n",
    "fig.set_xticklabels(labels = sorted(df['showyear'].value_counts().index),\n",
    "                    fontsize = 10,\n",
    "                    rotation=40);\n",
    "#change the title/xlabel/ylabel sizes?"
   ]
  },
  {
   "cell_type": "code",
   "execution_count": 13,
   "id": "09a8a27d-d033-49fa-b944-498a7eafe56a",
   "metadata": {},
   "outputs": [
    {
     "data": {
      "text/plain": [
       "12    183\n",
       "11    166\n",
       "10    216\n",
       "9      91\n",
       "8     199\n",
       "7     294\n",
       "6     183\n",
       "5     117\n",
       "4     130\n",
       "3      96\n",
       "2     101\n",
       "1      28\n",
       "Name: showmonth, dtype: int64"
      ]
     },
     "execution_count": 13,
     "metadata": {},
     "output_type": "execute_result"
    }
   ],
   "source": [
    "df['showmonth'].value_counts().sort_index(ascending = False)"
   ]
  },
  {
   "cell_type": "code",
   "execution_count": 14,
   "id": "50239a4c-d0ff-4427-86d0-4480a617c98f",
   "metadata": {},
   "outputs": [
    {
     "data": {
      "image/png": "[encoded data removed]",
      "text/plain": [
       "<Figure size 864x720 with 1 Axes>"
      ]
     },
     "metadata": {},
     "output_type": "display_data"
    }
   ],
   "source": [
    "months = ['January', 'February', 'March',\n",
    "          'April', 'May', 'June',\n",
    "          'July', 'August', 'September',\n",
    "          'October', 'November', 'December']\n",
    "\n",
    "plt.figure(figsize = (12, 10))\n",
    "fig = sns.countplot(x = 'showmonth',\n",
    "                    data = df,\n",
    "                    palette = 'crest',\n",
    "                    edgecolor = 'black')\n",
    "fig.set(title = 'Show Frequency by Month',\n",
    "        xlabel = 'Month',\n",
    "        ylabel = 'Number of Shows')\n",
    "fig.set_xticklabels(labels = months,\n",
    "                    rotation = 40);\n",
    "#change the title/xlabel/ylabel sizes?"
   ]
  },
  {
   "cell_type": "markdown",
   "id": "d623cbbc-797a-4753-a420-226bd1676e61",
   "metadata": {},
   "source": [
    "- Phish typically always has a run of shows around the Fourth of July, which may contribute to the total number of shows in July. "
   ]
  },
  {
   "cell_type": "code",
   "execution_count": 15,
   "id": "6d967101-5209-4f9f-8011-c352ee571204",
   "metadata": {},
   "outputs": [
    {
     "data": {
      "text/plain": [
       "Madison Square Garden                                        64\n",
       "The Front                                                    33\n",
       "Dick's Sporting Goods Park                                   30\n",
       "Nectar's                                                     24\n",
       "Gorge Amphitheatre                                           22\n",
       "                                                             ..\n",
       "Kohl Center                                                   1\n",
       "Redbird Arena, Illinois State University                      1\n",
       "Hill Auditorium, University of Michigan                       1\n",
       "Cotterell Court, Reid Athletic Center, Colgate University     1\n",
       "Woodbury Ski & Racquet Club                                   1\n",
       "Name: venue, Length: 766, dtype: int64"
      ]
     },
     "execution_count": 15,
     "metadata": {},
     "output_type": "execute_result"
    }
   ],
   "source": [
    "df['venue'].value_counts().sort_values(ascending = False)\n",
    "#Phish typically plays New Years' shows every year at MSG\n",
    "#It makes sense they have the highest count of shows played"
   ]
  },
  {
   "cell_type": "code",
   "execution_count": 16,
   "id": "84197c94-26b4-4df7-9c5a-0dcbb238edca",
   "metadata": {},
   "outputs": [
    {
     "data": {
      "text/plain": [
       "NY               277\n",
       "VT               157\n",
       "CA               127\n",
       "Not Available    118\n",
       "CO               102\n",
       "MA                99\n",
       "PA                69\n",
       "VA                56\n",
       "OH                49\n",
       "GA                48\n",
       "IL                47\n",
       "NJ                45\n",
       "NC                42\n",
       "WA                39\n",
       "FL                37\n",
       "ME                36\n",
       "TN                34\n",
       "NH                34\n",
       "NV                32\n",
       "IN                32\n",
       "WI                30\n",
       "CT                27\n",
       "TX                25\n",
       "MI                25\n",
       "OR                24\n",
       "MD                23\n",
       "RI                21\n",
       "MO                20\n",
       "SC                19\n",
       "AZ                18\n",
       "MN                14\n",
       "LA                11\n",
       "AL                11\n",
       "DC                10\n",
       "KS                 8\n",
       "UT                 7\n",
       "NM                 7\n",
       "IA                 5\n",
       "KY                 5\n",
       "WV                 2\n",
       "DE                 2\n",
       "MS                 2\n",
       "ID                 2\n",
       "MT                 2\n",
       "NE                 2\n",
       "AR                 1\n",
       "OK                 1\n",
       "Name: state, dtype: int64"
      ]
     },
     "execution_count": 16,
     "metadata": {},
     "output_type": "execute_result"
    }
   ],
   "source": [
    "df['state'].value_counts().sort_values(ascending = False)"
   ]
  },
  {
   "cell_type": "code",
   "execution_count": 17,
   "id": "d9eb5183-1a7b-445f-bdcf-49060f417387",
   "metadata": {},
   "outputs": [
    {
     "data": {
      "text/plain": [
       "New York         109\n",
       "Burlington       107\n",
       "Commerce City     30\n",
       "Philadelphia      29\n",
       "Atlanta           28\n",
       "                ... \n",
       "New Brunswick      1\n",
       "Springfield        1\n",
       "Bee Cave           1\n",
       "Santa Monica       1\n",
       "Plymouth           1\n",
       "Name: city, Length: 370, dtype: int64"
      ]
     },
     "execution_count": 17,
     "metadata": {},
     "output_type": "execute_result"
    }
   ],
   "source": [
    "df['city'].value_counts().sort_values(ascending = False)\n",
    "#MSG is in New York and UVM is in Burlington, VT\n",
    "#where the band was foudned"
   ]
  },
  {
   "cell_type": "code",
   "execution_count": 18,
   "id": "812045c6-a64f-46f9-9889-e67a0c2342da",
   "metadata": {},
   "outputs": [
    {
     "data": {
      "text/plain": [
       "USA               1687\n",
       "Canada              19\n",
       "Germany             18\n",
       "Mexico              16\n",
       "Japan               12\n",
       "France              11\n",
       "Italy               11\n",
       "Denmark              8\n",
       "England              5\n",
       "Spain                4\n",
       "Netherlands          4\n",
       "Czech Republic       3\n",
       "Belgium              3\n",
       "Ireland              2\n",
       "Austria              1\n",
       "Name: country, dtype: int64"
      ]
     },
     "execution_count": 18,
     "metadata": {},
     "output_type": "execute_result"
    }
   ],
   "source": [
    "df['country'].value_counts().sort_values(ascending = False)"
   ]
  },
  {
   "cell_type": "code",
   "execution_count": 19,
   "id": "ab4de5ee-863a-479a-9aba-09c233d694e3",
   "metadata": {},
   "outputs": [
    {
     "data": {
      "image/png": "[encoded data removed]",
      "text/plain": [
       "<Figure size 864x720 with 1 Axes>"
      ]
     },
     "metadata": {},
     "output_type": "display_data"
    }
   ],
   "source": [
    "plt.figure(figsize = (12, 10))\n",
    "fig = sns.countplot(x = 'country',\n",
    "                    data = df,\n",
    "                    palette = 'crest',\n",
    "                    edgecolor = 'black')\n",
    "fig.set(title = 'Show Frequency by Country',\n",
    "        xlabel = 'Country',\n",
    "        ylabel = 'Number of Shows')\n",
    "fig.set_xticklabels(labels = df['country'].value_counts().index, rotation = 40);\n",
    "#change the title/xlabel/ylabel sizes?"
   ]
  },
  {
   "cell_type": "code",
   "execution_count": 20,
   "id": "d6e5df39-d17b-46f2-b7b4-2d64585806cd",
   "metadata": {},
   "outputs": [
    {
     "data": {
      "text/plain": [
       "186    22\n",
       "184     4\n",
       "183     8\n",
       "182    25\n",
       "181     4\n",
       "       ..\n",
       "5      20\n",
       "4       8\n",
       "3      12\n",
       "2       3\n",
       "1       1\n",
       "Name: tourid, Length: 94, dtype: int64"
      ]
     },
     "execution_count": 20,
     "metadata": {},
     "output_type": "execute_result"
    }
   ],
   "source": [
    "df['tourid'].value_counts().sort_index(ascending = False)"
   ]
  },
  {
   "cell_type": "code",
   "execution_count": 21,
   "id": "2ccf009a-4b8c-42e6-8dcc-1b8488853bcb",
   "metadata": {},
   "outputs": [
    {
     "data": {
      "text/plain": [
       "Not Part of a Tour    110\n",
       "Mexico 2017             3\n",
       "Mexico 2016             3\n",
       "2021 Summer Tour       22\n",
       "2019 Summer Tour       25\n",
       "                     ... \n",
       "1987 Tour              20\n",
       "1986 Tour               8\n",
       "1985 Tour              12\n",
       "1984 Tour               3\n",
       "1983 Tour               1\n",
       "Name: tour_name, Length: 94, dtype: int64"
      ]
     },
     "execution_count": 21,
     "metadata": {},
     "output_type": "execute_result"
    }
   ],
   "source": [
    "df['tour_name'].value_counts().sort_index(ascending = False)"
   ]
  },
  {
   "cell_type": "code",
   "execution_count": 22,
   "id": "f8689ffb-2b57-49ed-ab48-8a433e8cef32",
   "metadata": {},
   "outputs": [
    {
     "data": {
      "text/plain": [
       "1799"
      ]
     },
     "execution_count": 22,
     "metadata": {},
     "output_type": "execute_result"
    }
   ],
   "source": [
    "df['setlists'].nunique()"
   ]
  },
  {
   "cell_type": "code",
   "execution_count": 23,
   "id": "dbde2196-4eb6-4d56-9df6-95df9789aff3",
   "metadata": {},
   "outputs": [
    {
     "data": {
      "text/plain": [
       "177"
      ]
     },
     "execution_count": 23,
     "metadata": {},
     "output_type": "execute_result"
    }
   ],
   "source": [
    "len(df['setlists'][0])"
   ]
  },
  {
   "cell_type": "code",
   "execution_count": 24,
   "id": "c3508205-5216-42bb-9aa3-9087441396e7",
   "metadata": {},
   "outputs": [
    {
     "data": {
      "text/plain": [
       "19.96840354767184"
      ]
     },
     "execution_count": 24,
     "metadata": {},
     "output_type": "execute_result"
    }
   ],
   "source": [
    "df['setlength'] = df['setlists'].str.split(\", \").str.len()\n",
    "df['setlength'].mean()"
   ]
  },
  {
   "cell_type": "markdown",
   "id": "d377be87-6e54-4655-a156-882c5b584abe",
   "metadata": {},
   "source": [
    "**Examining Song Frequencies**"
   ]
  },
  {
   "cell_type": "code",
   "execution_count": 25,
   "id": "929ac342-c1f1-4299-83ce-2f8f3d3c3b3c",
   "metadata": {},
   "outputs": [
    {
     "data": {
      "text/plain": [
       "[\"['Long Cool Woman in a Black Dress', 'Proud Mary', 'In the Midnight Hour', 'Squeeze Box', 'Roadhouse Blues', 'Happy Birthday to You', 'Scarlet Begonias', 'Fire on the Mountain']\",\n",
       " \"['Makisupa Policeman']\"]"
      ]
     },
     "execution_count": 25,
     "metadata": {},
     "output_type": "execute_result"
    }
   ],
   "source": [
    "df['setlists'].tolist()[0:2]"
   ]
  },
  {
   "cell_type": "code",
   "execution_count": 26,
   "id": "3ccc0f0e-d837-4b8b-953a-ec9cbb66d3e1",
   "metadata": {},
   "outputs": [
    {
     "name": "stdout",
     "output_type": "stream",
     "text": [
      "[\"['Long Cool Woman in a Black Dress', 'Proud Mary', 'In the Midnight Hour', 'Squeeze Box', 'Roadhouse Blues', 'Happy Birthday to You', 'Scarlet Begonias', 'Fire on the Mountain']\", \"['Makisupa Policeman']\"]\n"
     ]
    }
   ],
   "source": [
    "setlists = df['setlists'].tolist()\n",
    "setlists = [song for song in setlists]\n",
    "print(f'{setlists[0:2]}')"
   ]
  },
  {
   "cell_type": "code",
   "execution_count": 27,
   "id": "7b3b32c2-721d-467a-b64d-344ae2bb9372",
   "metadata": {},
   "outputs": [
    {
     "name": "stdout",
     "output_type": "stream",
     "text": [
      "['Long Cool Woman in a Black Dress', 'Proud Mary', 'In the Midnight Hour', 'Squeeze Box', 'Roadhouse Blues', 'Happy Birthday to You', 'Scarlet Begonias', 'Fire on the Mountain']['Makisupa Policeman']['In the Midnight Hour', 'Wild Child', 'Jam', 'Bertha', \"Can't You Hear Me Knocking\", 'St. Stephen', \"Can't You Hear Me Knocking\", 'Camel Walk', 'Eyes of the World', 'Whipping Post', 'Drums']['Jam', 'Wild Child', 'Bertha', \"Can't You Hear Me Knocking\", 'Camel Walk', 'Jam', 'In the Midnight Hour', 'Scarlet Begonias', 'Fire', 'Fire on the Mountain', 'Makisupa Policeman', 'Slave to the Traffic Light', 'Spanish Flea', \"Don't Want You No More\", 'Cities', 'Drums', 'Skippy the Wondermouse', 'Fluffhead', 'Eyes of the World']['Slave to the Traffic Light', \"Mike's Song\", \"Dave's Energy Guide\", 'You Enjoy Myself', 'Alumni Blues', 'Letter to Jimmy Page', 'Alumni Blues', 'Prep School Hippie', 'Run Like an Antelope']['Anarchy', 'Camel Walk', 'Fire Up the Ganja', 'Skippy the Wondermouse'\n"
     ]
    }
   ],
   "source": [
    "setlists_str = ''.join(setlists)\n",
    "print(f'{setlists_str[0:982]}')"
   ]
  },
  {
   "cell_type": "code",
   "execution_count": 28,
   "id": "894bb81b-26c8-4eb5-a8f6-b258cfb91c03",
   "metadata": {},
   "outputs": [
    {
     "name": "stdout",
     "output_type": "stream",
     "text": [
      "['Long Cool Woman in a Black Dress', 'Proud Mary', 'In the Midnight Hour', 'Squeeze Box', 'Roadhouse Blues', 'Happy Birthday to You', 'Scarlet Begonias', 'Fire on the Mountain', 'Makisupa Policeman', 'In the Midnight Hour', 'Wild Child', 'Jam', 'Bertha', \"Can't You Hear Me Knocking\", 'St. Stephen', \"Can't You Hear Me Knocking\", 'Camel Walk', 'Eyes of the World', 'Whipping Post', 'Drums', 'Jam', 'Wild Child', 'Bertha', \"Can't You Hear Me Knocking\", 'Camel Walk', 'Jam', 'In the Midnight Hour', 'Scarlet Begonias', 'Fire', 'Fire on the Mountain', 'Makisupa Policeman', 'Slave to the Traffic Light', 'Spanish Flea', \"Don't Want You No More\", 'Cities', 'Drums', 'Skippy the Wondermouse', 'Fluffhead', 'Eyes of the World', 'Slave to the Traffic Light', \"Mike's Song\", \"Dave's Energy Guide\", 'You Enjoy Myself', 'Alumni Blues', 'Letter to Jimmy Page', 'Alumni Blues', 'Prep School Hippie', 'Run Like an Antelope', 'Anarchy', 'Camel Walk', 'Fire Up the Ganja', 'Skippy the Wondermouse'\n"
     ]
    }
   ],
   "source": [
    "setlists_str = setlists_str.replace('][', ', ')\n",
    "print(f'{setlists_str[0:982]}')"
   ]
  },
  {
   "cell_type": "code",
   "execution_count": 29,
   "id": "4e842063-3066-4c0b-848d-51288c64645b",
   "metadata": {},
   "outputs": [
    {
     "name": "stdout",
     "output_type": "stream",
     "text": [
      "'Long Cool Woman in a Black Dress', 'Proud Mary', 'In the Midnight Hour', 'Squeeze Box', 'Roadhouse Blues', 'Happy Birthday to You', 'Scarlet Begonias', 'Fire on the Mountain', 'Makisupa Policeman', 'In the Midnight Hour', 'Wild Child', 'Jam', 'Bertha', \"Can't You Hear Me Knocking\", 'St. Stephen', \"Can't You Hear Me Knocking\", 'Camel Walk', 'Eyes of the World', 'Whipping Post', 'Drums', 'Jam', 'Wild Child', 'Bertha', \"Can't You Hear Me Knocking\", 'Camel Walk', 'Jam', 'In the Midnight Hour', 'Scarlet Begonias', 'Fire', 'Fire on the Mountain', 'Makisupa Policeman', 'Slave to the Traffic Light', 'Spanish Flea', \"Don't Want You No More\", 'Cities', 'Drums', 'Skippy the Wondermouse', 'Fluffhead', 'Eyes of the World', 'Slave to the Traffic Light', \"Mike's Song\", \"Dave's Energy Guide\", 'You Enjoy Myself', 'Alumni Blues', 'Letter to Jimmy Page', 'Alumni Blues', 'Prep School Hippie', 'Run Like an Antelope', 'Anarchy', 'Camel Walk', 'Fire Up the Ganja', 'Skippy the Wondermouse',\n"
     ]
    }
   ],
   "source": [
    "setlists_str = setlists_str.replace('[', '')\n",
    "print(f'{setlists_str[0:982]}')"
   ]
  },
  {
   "cell_type": "code",
   "execution_count": 30,
   "id": "cf187868-d406-44db-b4be-08c60ecbcd9a",
   "metadata": {},
   "outputs": [
    {
     "name": "stdout",
     "output_type": "stream",
     "text": [
      "', 'Soul Planet', \"Death Don't Hurt Very Long\", 'Twist', \"Drift While You're Sleeping\", 'Harry Hood'\n"
     ]
    }
   ],
   "source": [
    "setlists_str = setlists_str.replace(']', '')\n",
    "print(f'{setlists_str[-100::]}')"
   ]
  },
  {
   "cell_type": "code",
   "execution_count": 31,
   "id": "91b14079-b424-441a-a8c4-5d1515524748",
   "metadata": {},
   "outputs": [
    {
     "data": {
      "text/plain": [
       "[\"'Long Cool Woman in a Black Dress'\",\n",
       " \" 'Proud Mary'\",\n",
       " \" 'In the Midnight Hour'\",\n",
       " \" 'Squeeze Box'\",\n",
       " \" 'Roadhouse Blues'\",\n",
       " \" 'Happy Birthday to You'\",\n",
       " \" 'Scarlet Begonias'\",\n",
       " \" 'Fire on the Mountain'\",\n",
       " \" 'Makisupa Policeman'\",\n",
       " \" 'In the Midnight Hour'\"]"
      ]
     },
     "execution_count": 31,
     "metadata": {},
     "output_type": "execute_result"
    }
   ],
   "source": [
    "setlists = setlists_str.split(',')\n",
    "setlists[0:10]"
   ]
  },
  {
   "cell_type": "code",
   "execution_count": 32,
   "id": "8d7f6677-8a3a-4ca8-a6cd-11484867bbab",
   "metadata": {},
   "outputs": [],
   "source": [
    "from collections import Counter\n",
    "\n",
    "song_counter_dict = Counter(setlists)\n",
    "#song_counter_dict\n",
    "#commented out for length"
   ]
  },
  {
   "cell_type": "code",
   "execution_count": 33,
   "id": "c3824c3c-8587-4541-9cf6-57547cd08374",
   "metadata": {},
   "outputs": [
    {
     "data": {
      "text/html": [
       "<div>\n",
       "<style scoped>\n",
       "    .dataframe tbody tr th:only-of-type {\n",
       "        vertical-align: middle;\n",
       "    }\n",
       "\n",
       "    .dataframe tbody tr th {\n",
       "        vertical-align: top;\n",
       "    }\n",
       "\n",
       "    .dataframe thead th {\n",
       "        text-align: right;\n",
       "    }\n",
       "</style>\n",
       "<table border=\"1\" class=\"dataframe\">\n",
       "  <thead>\n",
       "    <tr style=\"text-align: right;\">\n",
       "      <th></th>\n",
       "      <th>index</th>\n",
       "      <th>0</th>\n",
       "    </tr>\n",
       "  </thead>\n",
       "  <tbody>\n",
       "    <tr>\n",
       "      <th>0</th>\n",
       "      <td>'Long Cool Woman in a Black Dress'</td>\n",
       "      <td>1</td>\n",
       "    </tr>\n",
       "    <tr>\n",
       "      <th>1</th>\n",
       "      <td>'Proud Mary'</td>\n",
       "      <td>2</td>\n",
       "    </tr>\n",
       "    <tr>\n",
       "      <th>2</th>\n",
       "      <td>'In the Midnight Hour'</td>\n",
       "      <td>5</td>\n",
       "    </tr>\n",
       "    <tr>\n",
       "      <th>3</th>\n",
       "      <td>'Squeeze Box'</td>\n",
       "      <td>1</td>\n",
       "    </tr>\n",
       "    <tr>\n",
       "      <th>4</th>\n",
       "      <td>'Roadhouse Blues'</td>\n",
       "      <td>1</td>\n",
       "    </tr>\n",
       "  </tbody>\n",
       "</table>\n",
       "</div>"
      ],
      "text/plain": [
       "                                index  0\n",
       "0  'Long Cool Woman in a Black Dress'  1\n",
       "1                        'Proud Mary'  2\n",
       "2              'In the Midnight Hour'  5\n",
       "3                       'Squeeze Box'  1\n",
       "4                   'Roadhouse Blues'  1"
      ]
     },
     "execution_count": 33,
     "metadata": {},
     "output_type": "execute_result"
    }
   ],
   "source": [
    "songs_df = pd.DataFrame.from_dict(song_counter_dict, orient = 'index').reset_index()\n",
    "songs_df.head()"
   ]
  },
  {
   "cell_type": "code",
   "execution_count": 34,
   "id": "8c5e1b2a-a934-452f-b8cc-532d6ca3028f",
   "metadata": {},
   "outputs": [
    {
     "data": {
      "text/html": [
       "<div>\n",
       "<style scoped>\n",
       "    .dataframe tbody tr th:only-of-type {\n",
       "        vertical-align: middle;\n",
       "    }\n",
       "\n",
       "    .dataframe tbody tr th {\n",
       "        vertical-align: top;\n",
       "    }\n",
       "\n",
       "    .dataframe thead th {\n",
       "        text-align: right;\n",
       "    }\n",
       "</style>\n",
       "<table border=\"1\" class=\"dataframe\">\n",
       "  <thead>\n",
       "    <tr style=\"text-align: right;\">\n",
       "      <th></th>\n",
       "      <th>song</th>\n",
       "      <th>count</th>\n",
       "    </tr>\n",
       "  </thead>\n",
       "  <tbody>\n",
       "    <tr>\n",
       "      <th>0</th>\n",
       "      <td>'Long Cool Woman in a Black Dress'</td>\n",
       "      <td>1</td>\n",
       "    </tr>\n",
       "    <tr>\n",
       "      <th>1</th>\n",
       "      <td>'Proud Mary'</td>\n",
       "      <td>2</td>\n",
       "    </tr>\n",
       "    <tr>\n",
       "      <th>2</th>\n",
       "      <td>'In the Midnight Hour'</td>\n",
       "      <td>5</td>\n",
       "    </tr>\n",
       "  </tbody>\n",
       "</table>\n",
       "</div>"
      ],
      "text/plain": [
       "                                 song  count\n",
       "0  'Long Cool Woman in a Black Dress'      1\n",
       "1                        'Proud Mary'      2\n",
       "2              'In the Midnight Hour'      5"
      ]
     },
     "execution_count": 34,
     "metadata": {},
     "output_type": "execute_result"
    }
   ],
   "source": [
    "songs_df.rename(columns = {\"index\": \"song\", 0: \"count\"}, inplace = True)\n",
    "songs_df.head(3)\n",
    "#don't know why the second column name isn't changing\n",
    "#doesn't really matter, I guess\n",
    "\n",
    "#I know Phish has played Long Cool Woman more than once, I don't know why the count is '1'"
   ]
  },
  {
   "cell_type": "code",
   "execution_count": 35,
   "id": "ec8a137b-69ae-4a3a-aca4-f5db5b098519",
   "metadata": {},
   "outputs": [
    {
     "data": {
      "text/html": [
       "<div>\n",
       "<style scoped>\n",
       "    .dataframe tbody tr th:only-of-type {\n",
       "        vertical-align: middle;\n",
       "    }\n",
       "\n",
       "    .dataframe tbody tr th {\n",
       "        vertical-align: top;\n",
       "    }\n",
       "\n",
       "    .dataframe thead th {\n",
       "        text-align: right;\n",
       "    }\n",
       "</style>\n",
       "<table border=\"1\" class=\"dataframe\">\n",
       "  <thead>\n",
       "    <tr style=\"text-align: right;\">\n",
       "      <th></th>\n",
       "      <th>song</th>\n",
       "      <th>count</th>\n",
       "    </tr>\n",
       "  </thead>\n",
       "  <tbody>\n",
       "    <tr>\n",
       "      <th>27</th>\n",
       "      <td>'You Enjoy Myself'</td>\n",
       "      <td>621</td>\n",
       "    </tr>\n",
       "    <tr>\n",
       "      <th>46</th>\n",
       "      <td>'Possum'</td>\n",
       "      <td>551</td>\n",
       "    </tr>\n",
       "    <tr>\n",
       "      <th>25</th>\n",
       "      <td>\"Mike's Song\"</td>\n",
       "      <td>535</td>\n",
       "    </tr>\n",
       "    <tr>\n",
       "      <th>116</th>\n",
       "      <td>'Hold Your Head Up'</td>\n",
       "      <td>533</td>\n",
       "    </tr>\n",
       "    <tr>\n",
       "      <th>142</th>\n",
       "      <td>'Weekapaug Groove'</td>\n",
       "      <td>505</td>\n",
       "    </tr>\n",
       "    <tr>\n",
       "      <th>...</th>\n",
       "      <td>...</td>\n",
       "      <td>...</td>\n",
       "    </tr>\n",
       "    <tr>\n",
       "      <th>588</th>\n",
       "      <td>'Cool It Down'</td>\n",
       "      <td>10</td>\n",
       "    </tr>\n",
       "    <tr>\n",
       "      <th>292</th>\n",
       "      <td>'I Walk the Line'</td>\n",
       "      <td>10</td>\n",
       "    </tr>\n",
       "    <tr>\n",
       "      <th>348</th>\n",
       "      <td>'Digital Delay Loop Jam'</td>\n",
       "      <td>10</td>\n",
       "    </tr>\n",
       "    <tr>\n",
       "      <th>647</th>\n",
       "      <td>'Mellow Mood'</td>\n",
       "      <td>10</td>\n",
       "    </tr>\n",
       "    <tr>\n",
       "      <th>941</th>\n",
       "      <td>'Sigma Oasis'</td>\n",
       "      <td>10</td>\n",
       "    </tr>\n",
       "  </tbody>\n",
       "</table>\n",
       "<p>325 rows × 2 columns</p>\n",
       "</div>"
      ],
      "text/plain": [
       "                          song  count\n",
       "27          'You Enjoy Myself'    621\n",
       "46                    'Possum'    551\n",
       "25               \"Mike's Song\"    535\n",
       "116        'Hold Your Head Up'    533\n",
       "142         'Weekapaug Groove'    505\n",
       "..                         ...    ...\n",
       "588             'Cool It Down'     10\n",
       "292          'I Walk the Line'     10\n",
       "348   'Digital Delay Loop Jam'     10\n",
       "647              'Mellow Mood'     10\n",
       "941              'Sigma Oasis'     10\n",
       "\n",
       "[325 rows x 2 columns]"
      ]
     },
     "execution_count": 35,
     "metadata": {},
     "output_type": "execute_result"
    }
   ],
   "source": [
    "songs_df[songs_df['count'] >= 10].sort_values(by = 'count', ascending = False)\n",
    "#Possum and Weekapaug Groove are bangers"
   ]
  },
  {
   "cell_type": "code",
   "execution_count": 36,
   "id": "2313b216-2358-4241-9517-6281908d79e4",
   "metadata": {},
   "outputs": [
    {
     "data": {
      "text/html": [
       "<div>\n",
       "<style scoped>\n",
       "    .dataframe tbody tr th:only-of-type {\n",
       "        vertical-align: middle;\n",
       "    }\n",
       "\n",
       "    .dataframe tbody tr th {\n",
       "        vertical-align: top;\n",
       "    }\n",
       "\n",
       "    .dataframe thead th {\n",
       "        text-align: right;\n",
       "    }\n",
       "</style>\n",
       "<table border=\"1\" class=\"dataframe\">\n",
       "  <thead>\n",
       "    <tr style=\"text-align: right;\">\n",
       "      <th></th>\n",
       "      <th>song</th>\n",
       "      <th>count</th>\n",
       "      <th>percent_played</th>\n",
       "    </tr>\n",
       "  </thead>\n",
       "  <tbody>\n",
       "    <tr>\n",
       "      <th>0</th>\n",
       "      <td>'Long Cool Woman in a Black Dress'</td>\n",
       "      <td>1</td>\n",
       "      <td>0.000554</td>\n",
       "    </tr>\n",
       "    <tr>\n",
       "      <th>1</th>\n",
       "      <td>'Proud Mary'</td>\n",
       "      <td>2</td>\n",
       "      <td>0.001109</td>\n",
       "    </tr>\n",
       "    <tr>\n",
       "      <th>2</th>\n",
       "      <td>'In the Midnight Hour'</td>\n",
       "      <td>5</td>\n",
       "      <td>0.002772</td>\n",
       "    </tr>\n",
       "  </tbody>\n",
       "</table>\n",
       "</div>"
      ],
      "text/plain": [
       "                                 song  count  percent_played\n",
       "0  'Long Cool Woman in a Black Dress'      1        0.000554\n",
       "1                        'Proud Mary'      2        0.001109\n",
       "2              'In the Midnight Hour'      5        0.002772"
      ]
     },
     "execution_count": 36,
     "metadata": {},
     "output_type": "execute_result"
    }
   ],
   "source": [
    "songs_df['percent_played'] = songs_df['count'] / df.shape[0]\n",
    "songs_df.head(3)"
   ]
  },
  {
   "cell_type": "code",
   "execution_count": 44,
   "id": "ea1dfcfa-85d0-48ec-9629-463145ea5d9a",
   "metadata": {},
   "outputs": [
    {
     "data": {
      "text/html": [
       "<div>\n",
       "<style scoped>\n",
       "    .dataframe tbody tr th:only-of-type {\n",
       "        vertical-align: middle;\n",
       "    }\n",
       "\n",
       "    .dataframe tbody tr th {\n",
       "        vertical-align: top;\n",
       "    }\n",
       "\n",
       "    .dataframe thead th {\n",
       "        text-align: right;\n",
       "    }\n",
       "</style>\n",
       "<table border=\"1\" class=\"dataframe\">\n",
       "  <thead>\n",
       "    <tr style=\"text-align: right;\">\n",
       "      <th></th>\n",
       "      <th>song</th>\n",
       "      <th>count</th>\n",
       "      <th>percent_played</th>\n",
       "    </tr>\n",
       "  </thead>\n",
       "  <tbody>\n",
       "    <tr>\n",
       "      <th>27</th>\n",
       "      <td>'You Enjoy Myself'</td>\n",
       "      <td>621</td>\n",
       "      <td>0.344235</td>\n",
       "    </tr>\n",
       "    <tr>\n",
       "      <th>46</th>\n",
       "      <td>'Possum'</td>\n",
       "      <td>551</td>\n",
       "      <td>0.305432</td>\n",
       "    </tr>\n",
       "    <tr>\n",
       "      <th>25</th>\n",
       "      <td>\"Mike's Song\"</td>\n",
       "      <td>535</td>\n",
       "      <td>0.296563</td>\n",
       "    </tr>\n",
       "    <tr>\n",
       "      <th>116</th>\n",
       "      <td>'Hold Your Head Up'</td>\n",
       "      <td>533</td>\n",
       "      <td>0.295455</td>\n",
       "    </tr>\n",
       "    <tr>\n",
       "      <th>142</th>\n",
       "      <td>'Weekapaug Groove'</td>\n",
       "      <td>505</td>\n",
       "      <td>0.279933</td>\n",
       "    </tr>\n",
       "    <tr>\n",
       "      <th>250</th>\n",
       "      <td>'Chalk Dust Torture'</td>\n",
       "      <td>490</td>\n",
       "      <td>0.271619</td>\n",
       "    </tr>\n",
       "    <tr>\n",
       "      <th>79</th>\n",
       "      <td>'David Bowie'</td>\n",
       "      <td>484</td>\n",
       "      <td>0.268293</td>\n",
       "    </tr>\n",
       "    <tr>\n",
       "      <th>31</th>\n",
       "      <td>'Run Like an Antelope'</td>\n",
       "      <td>479</td>\n",
       "      <td>0.265521</td>\n",
       "    </tr>\n",
       "    <tr>\n",
       "      <th>205</th>\n",
       "      <td>'Bouncing Around the Room'</td>\n",
       "      <td>473</td>\n",
       "      <td>0.262195</td>\n",
       "    </tr>\n",
       "    <tr>\n",
       "      <th>212</th>\n",
       "      <td>'Cavern'</td>\n",
       "      <td>467</td>\n",
       "      <td>0.258869</td>\n",
       "    </tr>\n",
       "    <tr>\n",
       "      <th>67</th>\n",
       "      <td>'Golgi Apparatus'</td>\n",
       "      <td>466</td>\n",
       "      <td>0.258315</td>\n",
       "    </tr>\n",
       "    <tr>\n",
       "      <th>87</th>\n",
       "      <td>'Suzy Greenberg'</td>\n",
       "      <td>442</td>\n",
       "      <td>0.245011</td>\n",
       "    </tr>\n",
       "    <tr>\n",
       "      <th>231</th>\n",
       "      <td>'Stash'</td>\n",
       "      <td>429</td>\n",
       "      <td>0.237805</td>\n",
       "    </tr>\n",
       "    <tr>\n",
       "      <th>107</th>\n",
       "      <td>'Divided Sky'</td>\n",
       "      <td>425</td>\n",
       "      <td>0.235588</td>\n",
       "    </tr>\n",
       "    <tr>\n",
       "      <th>209</th>\n",
       "      <td>'Tweezer'</td>\n",
       "      <td>418</td>\n",
       "      <td>0.231707</td>\n",
       "    </tr>\n",
       "    <tr>\n",
       "      <th>49</th>\n",
       "      <td>'Harry Hood'</td>\n",
       "      <td>401</td>\n",
       "      <td>0.222284</td>\n",
       "    </tr>\n",
       "    <tr>\n",
       "      <th>211</th>\n",
       "      <td>'Runaway Jim'</td>\n",
       "      <td>394</td>\n",
       "      <td>0.218404</td>\n",
       "    </tr>\n",
       "    <tr>\n",
       "      <th>192</th>\n",
       "      <td>'Reba'</td>\n",
       "      <td>393</td>\n",
       "      <td>0.217849</td>\n",
       "    </tr>\n",
       "    <tr>\n",
       "      <th>203</th>\n",
       "      <td>'The Squirming Coil'</td>\n",
       "      <td>361</td>\n",
       "      <td>0.200111</td>\n",
       "    </tr>\n",
       "    <tr>\n",
       "      <th>153</th>\n",
       "      <td>'Foam'</td>\n",
       "      <td>346</td>\n",
       "      <td>0.191796</td>\n",
       "    </tr>\n",
       "  </tbody>\n",
       "</table>\n",
       "</div>"
      ],
      "text/plain": [
       "                            song  count  percent_played\n",
       "27            'You Enjoy Myself'    621        0.344235\n",
       "46                      'Possum'    551        0.305432\n",
       "25                 \"Mike's Song\"    535        0.296563\n",
       "116          'Hold Your Head Up'    533        0.295455\n",
       "142           'Weekapaug Groove'    505        0.279933\n",
       "250         'Chalk Dust Torture'    490        0.271619\n",
       "79                 'David Bowie'    484        0.268293\n",
       "31        'Run Like an Antelope'    479        0.265521\n",
       "205   'Bouncing Around the Room'    473        0.262195\n",
       "212                     'Cavern'    467        0.258869\n",
       "67             'Golgi Apparatus'    466        0.258315\n",
       "87              'Suzy Greenberg'    442        0.245011\n",
       "231                      'Stash'    429        0.237805\n",
       "107                'Divided Sky'    425        0.235588\n",
       "209                    'Tweezer'    418        0.231707\n",
       "49                  'Harry Hood'    401        0.222284\n",
       "211                'Runaway Jim'    394        0.218404\n",
       "192                       'Reba'    393        0.217849\n",
       "203         'The Squirming Coil'    361        0.200111\n",
       "153                       'Foam'    346        0.191796"
      ]
     },
     "execution_count": 44,
     "metadata": {},
     "output_type": "execute_result"
    }
   ],
   "source": [
    "songs_df.sort_values(by = 'percent_played', ascending = False)[0:20]"
   ]
  },
  {
   "cell_type": "code",
   "execution_count": 57,
   "id": "a0786d1c-c3ab-4247-b8ae-a8d3d00df452",
   "metadata": {},
   "outputs": [],
   "source": [
    "height = songs_df['count'][0:20]\n",
    "bars = songs_df['song'][0:20]"
   ]
  },
  {
   "cell_type": "code",
   "execution_count": 76,
   "id": "f4aae1b4-784f-4dff-8508-2824724b2e8f",
   "metadata": {},
   "outputs": [
    {
     "data": {
      "image/png": "[encoded data removed]",
      "text/plain": [
       "<Figure size 432x288 with 1 Axes>"
      ]
     },
     "metadata": {},
     "output_type": "display_data"
    }
   ],
   "source": [
    "plt.barh(bars, height, color = 'midnightblue')\n",
    "plt.suptitle('Overall Frequency of Phish\\'s First 20 Songs Played')\n",
    "plt.title('(played for the first time)')\n",
    "plt.xticks(rotation = 90);"
   ]
  },
  {
   "cell_type": "code",
   "execution_count": 71,
   "id": "c5fd9b02-0701-4398-a3b2-8b82c6a63f2d",
   "metadata": {},
   "outputs": [],
   "source": [
    "height0 = songs_df['count'][-20:]\n",
    "bars0 = songs_df['song'][-20:]"
   ]
  },
  {
   "cell_type": "code",
   "execution_count": 75,
   "id": "ce528088-6ffd-4252-bb2c-aa8a840c1947",
   "metadata": {},
   "outputs": [
    {
     "data": {
      "image/png": "[encoded data removed]",
      "text/plain": [
       "<Figure size 432x288 with 1 Axes>"
      ]
     },
     "metadata": {},
     "output_type": "display_data"
    }
   ],
   "source": [
    "plt.barh(bars0, height0, color = 'midnightblue')\n",
    "plt.suptitle('Overall Frequency of Phish\\'s Last 20 Songs Played')\n",
    "plt.title('(played for the first time, most recently)')\n",
    "plt.xticks(rotation = 90);"
   ]
  },
  {
   "cell_type": "code",
   "execution_count": 80,
   "id": "9ad5d759-1647-480c-9105-8598b7124065",
   "metadata": {},
   "outputs": [
    {
     "data": {
      "text/html": [
       "<div>\n",
       "<style scoped>\n",
       "    .dataframe tbody tr th:only-of-type {\n",
       "        vertical-align: middle;\n",
       "    }\n",
       "\n",
       "    .dataframe tbody tr th {\n",
       "        vertical-align: top;\n",
       "    }\n",
       "\n",
       "    .dataframe thead th {\n",
       "        text-align: right;\n",
       "    }\n",
       "</style>\n",
       "<table border=\"1\" class=\"dataframe\">\n",
       "  <thead>\n",
       "    <tr style=\"text-align: right;\">\n",
       "      <th></th>\n",
       "      <th>song</th>\n",
       "    </tr>\n",
       "  </thead>\n",
       "  <tbody>\n",
       "    <tr>\n",
       "      <th>0</th>\n",
       "      <td>'Long Cool Woman in a Black Dress'</td>\n",
       "    </tr>\n",
       "    <tr>\n",
       "      <th>1</th>\n",
       "      <td>'Proud Mary'</td>\n",
       "    </tr>\n",
       "    <tr>\n",
       "      <th>2</th>\n",
       "      <td>'In the Midnight Hour'</td>\n",
       "    </tr>\n",
       "    <tr>\n",
       "      <th>3</th>\n",
       "      <td>'Squeeze Box'</td>\n",
       "    </tr>\n",
       "    <tr>\n",
       "      <th>4</th>\n",
       "      <td>'Roadhouse Blues'</td>\n",
       "    </tr>\n",
       "    <tr>\n",
       "      <th>...</th>\n",
       "      <td>...</td>\n",
       "    </tr>\n",
       "    <tr>\n",
       "      <th>36018</th>\n",
       "      <td>'Soul Planet'</td>\n",
       "    </tr>\n",
       "    <tr>\n",
       "      <th>36019</th>\n",
       "      <td>\"Death Don't Hurt Very Long\"</td>\n",
       "    </tr>\n",
       "    <tr>\n",
       "      <th>36020</th>\n",
       "      <td>'Twist'</td>\n",
       "    </tr>\n",
       "    <tr>\n",
       "      <th>36021</th>\n",
       "      <td>\"Drift While You're Sleeping\"</td>\n",
       "    </tr>\n",
       "    <tr>\n",
       "      <th>36022</th>\n",
       "      <td>'Harry Hood'</td>\n",
       "    </tr>\n",
       "  </tbody>\n",
       "</table>\n",
       "<p>36023 rows × 1 columns</p>\n",
       "</div>"
      ],
      "text/plain": [
       "                                     song\n",
       "0      'Long Cool Woman in a Black Dress'\n",
       "1                            'Proud Mary'\n",
       "2                  'In the Midnight Hour'\n",
       "3                           'Squeeze Box'\n",
       "4                       'Roadhouse Blues'\n",
       "...                                   ...\n",
       "36018                       'Soul Planet'\n",
       "36019        \"Death Don't Hurt Very Long\"\n",
       "36020                             'Twist'\n",
       "36021       \"Drift While You're Sleeping\"\n",
       "36022                        'Harry Hood'\n",
       "\n",
       "[36023 rows x 1 columns]"
      ]
     },
     "execution_count": 80,
     "metadata": {},
     "output_type": "execute_result"
    }
   ],
   "source": [
    "songs = pd.DataFrame(setlists)\n",
    "songs.rename(columns = {0: 'song'})"
   ]
  },
  {
   "cell_type": "code",
   "execution_count": 81,
   "id": "3d893bb9-d15a-43ab-ae3f-36fd51f5bd33",
   "metadata": {},
   "outputs": [
    {
     "data": {
      "text/plain": [
       " 'You Enjoy Myself'                   621\n",
       " 'Possum'                             551\n",
       " \"Mike's Song\"                        535\n",
       " 'Hold Your Head Up'                  533\n",
       " 'Weekapaug Groove'                   505\n",
       "                                     ... \n",
       " 'Is This What You Wanted'              1\n",
       " 'Is It In My Head?'                    1\n",
       " 'Intro'                                1\n",
       " 'In the Aeroplane Over the Sea'        1\n",
       "'Long Cool Woman in a Black Dress'      1\n",
       "Length: 969, dtype: int64"
      ]
     },
     "execution_count": 81,
     "metadata": {},
     "output_type": "execute_result"
    }
   ],
   "source": [
    "songs.value_counts()"
   ]
  },
  {
   "cell_type": "code",
   "execution_count": null,
   "id": "a55114fd-59bf-460d-bb79-731782e882a4",
   "metadata": {},
   "outputs": [],
   "source": []
  }
 ],
 "metadata": {
  "kernelspec": {
   "display_name": "Python 3",
   "language": "python",
   "name": "python3"
  },
  "language_info": {
   "codemirror_mode": {
    "name": "ipython",
    "version": 3
   },
   "file_extension": ".py",
   "mimetype": "text/x-python",
   "name": "python",
   "nbconvert_exporter": "python",
   "pygments_lexer": "ipython3",
   "version": "3.8.8"
  }
 },
 "nbformat": 4,
 "nbformat_minor": 5
}
