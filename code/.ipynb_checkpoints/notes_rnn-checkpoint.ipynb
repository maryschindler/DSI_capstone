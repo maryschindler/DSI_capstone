{
 "cells": [
  {
   "cell_type": "markdown",
   "metadata": {},
   "source": [
    "<img src=\"http://imgur.com/1ZcRyrc.png\" style=\"float: left; margin: 20px; height: 55px\">\n",
    "\n",
    "# Recurrent Neural Networks (RNNs)\n",
    "\n",
    "_Author: Riley Dallas (ATX)_\n",
    "\n",
    "---\n",
    "\n",
    "\n",
    "### Learning Objectives\n",
    "\n",
    "- Learn how to train/test split for sequence data\n",
    "- Use `TimeseriesGenerator` to prep our time series data for modeling\n",
    "- Create a basic RNN model using `keras`"
   ]
  },
  {
   "cell_type": "code",
   "execution_count": 1,
   "metadata": {},
   "outputs": [],
   "source": [
    "import pandas as pd\n",
    "\n",
    "from sklearn.preprocessing import StandardScaler\n",
    "from sklearn.model_selection import train_test_split\n",
    "from sklearn.metrics import accuracy_score\n",
    "\n",
    "from tensorflow.keras.models import Sequential\n",
    "from tensorflow.keras.layers import Dense, Dropout, GRU\n",
    "from tensorflow.keras.optimizers import Adam\n",
    "from tensorflow.keras.preprocessing.sequence import TimeseriesGenerator\n",
    "\n",
    "import matplotlib.pyplot as plt"
   ]
  },
  {
   "cell_type": "markdown",
   "metadata": {},
   "source": [
    "## Load data: AAPL stock prices and SEC filings\n",
    "---\n",
    "\n",
    "There are two datasets that we'll merge together:\n",
    "- Apple's historical stock prices (ticker: AAPL)\n",
    "- Their SEC filings:\n",
    "  - Annual earnings reports: 10-K\n",
    "  - Quarterly earnings reports: 10-Q\n",
    "  - Company news and updates: 8-K\n",
    "\n",
    "Load both in the cells below."
   ]
  },
  {
   "cell_type": "code",
   "execution_count": 2,
   "metadata": {},
   "outputs": [
    {
     "data": {
      "text/html": [
       "<div>\n",
       "<style scoped>\n",
       "    .dataframe tbody tr th:only-of-type {\n",
       "        vertical-align: middle;\n",
       "    }\n",
       "\n",
       "    .dataframe tbody tr th {\n",
       "        vertical-align: top;\n",
       "    }\n",
       "\n",
       "    .dataframe thead th {\n",
       "        text-align: right;\n",
       "    }\n",
       "</style>\n",
       "<table border=\"1\" class=\"dataframe\">\n",
       "  <thead>\n",
       "    <tr style=\"text-align: right;\">\n",
       "      <th></th>\n",
       "      <th>Date</th>\n",
       "      <th>Open</th>\n",
       "      <th>High</th>\n",
       "      <th>Low</th>\n",
       "      <th>Close</th>\n",
       "      <th>Adj Close</th>\n",
       "      <th>Volume</th>\n",
       "    </tr>\n",
       "  </thead>\n",
       "  <tbody>\n",
       "    <tr>\n",
       "      <th>0</th>\n",
       "      <td>2005-04-25</td>\n",
       "      <td>5.212857</td>\n",
       "      <td>5.288571</td>\n",
       "      <td>5.158571</td>\n",
       "      <td>5.282857</td>\n",
       "      <td>3.522625</td>\n",
       "      <td>186615100</td>\n",
       "    </tr>\n",
       "    <tr>\n",
       "      <th>1</th>\n",
       "      <td>2005-04-26</td>\n",
       "      <td>5.254286</td>\n",
       "      <td>5.358572</td>\n",
       "      <td>5.160000</td>\n",
       "      <td>5.170000</td>\n",
       "      <td>3.447372</td>\n",
       "      <td>202626900</td>\n",
       "    </tr>\n",
       "    <tr>\n",
       "      <th>2</th>\n",
       "      <td>2005-04-27</td>\n",
       "      <td>5.127143</td>\n",
       "      <td>5.194286</td>\n",
       "      <td>5.072857</td>\n",
       "      <td>5.135714</td>\n",
       "      <td>3.424510</td>\n",
       "      <td>153472200</td>\n",
       "    </tr>\n",
       "  </tbody>\n",
       "</table>\n",
       "</div>"
      ],
      "text/plain": [
       "         Date      Open      High       Low     Close  Adj Close     Volume\n",
       "0  2005-04-25  5.212857  5.288571  5.158571  5.282857   3.522625  186615100\n",
       "1  2005-04-26  5.254286  5.358572  5.160000  5.170000   3.447372  202626900\n",
       "2  2005-04-27  5.127143  5.194286  5.072857  5.135714   3.424510  153472200"
      ]
     },
     "execution_count": 2,
     "metadata": {},
     "output_type": "execute_result"
    }
   ],
   "source": [
    "# load prices\n",
    "price = pd.read_csv('./datasets/AAPL.csv')\n",
    "price.head(3)"
   ]
  },
  {
   "cell_type": "code",
   "execution_count": 3,
   "metadata": {
    "scrolled": true
   },
   "outputs": [
    {
     "data": {
      "text/html": [
       "<div>\n",
       "<style scoped>\n",
       "    .dataframe tbody tr th:only-of-type {\n",
       "        vertical-align: middle;\n",
       "    }\n",
       "\n",
       "    .dataframe tbody tr th {\n",
       "        vertical-align: top;\n",
       "    }\n",
       "\n",
       "    .dataframe thead th {\n",
       "        text-align: right;\n",
       "    }\n",
       "</style>\n",
       "<table border=\"1\" class=\"dataframe\">\n",
       "  <thead>\n",
       "    <tr style=\"text-align: right;\">\n",
       "      <th></th>\n",
       "      <th>Date</th>\n",
       "      <th>10-K</th>\n",
       "      <th>10-Q</th>\n",
       "      <th>8-K</th>\n",
       "    </tr>\n",
       "  </thead>\n",
       "  <tbody>\n",
       "    <tr>\n",
       "      <th>0</th>\n",
       "      <td>1994-12-13</td>\n",
       "      <td>1.0</td>\n",
       "      <td>0.0</td>\n",
       "      <td>0.0</td>\n",
       "    </tr>\n",
       "    <tr>\n",
       "      <th>1</th>\n",
       "      <td>1995-12-19</td>\n",
       "      <td>1.0</td>\n",
       "      <td>0.0</td>\n",
       "      <td>0.0</td>\n",
       "    </tr>\n",
       "    <tr>\n",
       "      <th>2</th>\n",
       "      <td>1996-12-19</td>\n",
       "      <td>1.0</td>\n",
       "      <td>0.0</td>\n",
       "      <td>0.0</td>\n",
       "    </tr>\n",
       "  </tbody>\n",
       "</table>\n",
       "</div>"
      ],
      "text/plain": [
       "         Date  10-K  10-Q  8-K\n",
       "0  1994-12-13   1.0   0.0  0.0\n",
       "1  1995-12-19   1.0   0.0  0.0\n",
       "2  1996-12-19   1.0   0.0  0.0"
      ]
     },
     "execution_count": 3,
     "metadata": {},
     "output_type": "execute_result"
    }
   ],
   "source": [
    "# load filings\n",
    "filings = pd.read_csv('./datasets/filings.csv')\n",
    "filings.head(3)"
   ]
  },
  {
   "cell_type": "code",
   "execution_count": 4,
   "metadata": {},
   "outputs": [
    {
     "name": "stdout",
     "output_type": "stream",
     "text": [
      "<class 'pandas.core.frame.DataFrame'>\n",
      "RangeIndex: 3523 entries, 0 to 3522\n",
      "Data columns (total 7 columns):\n",
      " #   Column     Non-Null Count  Dtype  \n",
      "---  ------     --------------  -----  \n",
      " 0   Date       3523 non-null   object \n",
      " 1   Open       3523 non-null   float64\n",
      " 2   High       3523 non-null   float64\n",
      " 3   Low        3523 non-null   float64\n",
      " 4   Close      3523 non-null   float64\n",
      " 5   Adj Close  3523 non-null   float64\n",
      " 6   Volume     3523 non-null   int64  \n",
      "dtypes: float64(5), int64(1), object(1)\n",
      "memory usage: 192.8+ KB\n"
     ]
    }
   ],
   "source": [
    "price.info()"
   ]
  },
  {
   "cell_type": "markdown",
   "metadata": {},
   "source": [
    "## `Date` columns\n",
    "---\n",
    "\n",
    "For both datasets, we need to:\n",
    "1. Convert the `Date` column to be a `datetime` object\n",
    "2. Since these are time series datasets, we need the indices to be the `Date` columns"
   ]
  },
  {
   "cell_type": "code",
   "execution_count": 5,
   "metadata": {},
   "outputs": [
    {
     "data": {
      "text/plain": [
       "Date         datetime64[ns]\n",
       "Open                float64\n",
       "High                float64\n",
       "Low                 float64\n",
       "Close               float64\n",
       "Adj Close           float64\n",
       "Volume                int64\n",
       "dtype: object"
      ]
     },
     "execution_count": 5,
     "metadata": {},
     "output_type": "execute_result"
    }
   ],
   "source": [
    "# set prices Date to datetime\n",
    "price['Date'] = pd.to_datetime(price['Date'])\n",
    "price.dtypes"
   ]
  },
  {
   "cell_type": "code",
   "execution_count": 6,
   "metadata": {},
   "outputs": [
    {
     "data": {
      "text/html": [
       "<div>\n",
       "<style scoped>\n",
       "    .dataframe tbody tr th:only-of-type {\n",
       "        vertical-align: middle;\n",
       "    }\n",
       "\n",
       "    .dataframe tbody tr th {\n",
       "        vertical-align: top;\n",
       "    }\n",
       "\n",
       "    .dataframe thead th {\n",
       "        text-align: right;\n",
       "    }\n",
       "</style>\n",
       "<table border=\"1\" class=\"dataframe\">\n",
       "  <thead>\n",
       "    <tr style=\"text-align: right;\">\n",
       "      <th></th>\n",
       "      <th>Open</th>\n",
       "      <th>High</th>\n",
       "      <th>Low</th>\n",
       "      <th>Close</th>\n",
       "      <th>Adj Close</th>\n",
       "      <th>Volume</th>\n",
       "    </tr>\n",
       "    <tr>\n",
       "      <th>Date</th>\n",
       "      <th></th>\n",
       "      <th></th>\n",
       "      <th></th>\n",
       "      <th></th>\n",
       "      <th></th>\n",
       "      <th></th>\n",
       "    </tr>\n",
       "  </thead>\n",
       "  <tbody>\n",
       "    <tr>\n",
       "      <th>2005-04-25</th>\n",
       "      <td>5.212857</td>\n",
       "      <td>5.288571</td>\n",
       "      <td>5.158571</td>\n",
       "      <td>5.282857</td>\n",
       "      <td>3.522625</td>\n",
       "      <td>186615100</td>\n",
       "    </tr>\n",
       "    <tr>\n",
       "      <th>2005-04-26</th>\n",
       "      <td>5.254286</td>\n",
       "      <td>5.358572</td>\n",
       "      <td>5.160000</td>\n",
       "      <td>5.170000</td>\n",
       "      <td>3.447372</td>\n",
       "      <td>202626900</td>\n",
       "    </tr>\n",
       "    <tr>\n",
       "      <th>2005-04-27</th>\n",
       "      <td>5.127143</td>\n",
       "      <td>5.194286</td>\n",
       "      <td>5.072857</td>\n",
       "      <td>5.135714</td>\n",
       "      <td>3.424510</td>\n",
       "      <td>153472200</td>\n",
       "    </tr>\n",
       "    <tr>\n",
       "      <th>2005-04-28</th>\n",
       "      <td>5.184286</td>\n",
       "      <td>5.191429</td>\n",
       "      <td>5.034286</td>\n",
       "      <td>5.077143</td>\n",
       "      <td>3.385454</td>\n",
       "      <td>143776500</td>\n",
       "    </tr>\n",
       "    <tr>\n",
       "      <th>2005-04-29</th>\n",
       "      <td>5.164286</td>\n",
       "      <td>5.175714</td>\n",
       "      <td>5.031428</td>\n",
       "      <td>5.151429</td>\n",
       "      <td>3.434988</td>\n",
       "      <td>167907600</td>\n",
       "    </tr>\n",
       "    <tr>\n",
       "      <th>...</th>\n",
       "      <td>...</td>\n",
       "      <td>...</td>\n",
       "      <td>...</td>\n",
       "      <td>...</td>\n",
       "      <td>...</td>\n",
       "      <td>...</td>\n",
       "    </tr>\n",
       "    <tr>\n",
       "      <th>2019-04-16</th>\n",
       "      <td>199.460007</td>\n",
       "      <td>201.369995</td>\n",
       "      <td>198.559998</td>\n",
       "      <td>199.250000</td>\n",
       "      <td>199.250000</td>\n",
       "      <td>25696400</td>\n",
       "    </tr>\n",
       "    <tr>\n",
       "      <th>2019-04-17</th>\n",
       "      <td>199.539993</td>\n",
       "      <td>203.380005</td>\n",
       "      <td>198.610001</td>\n",
       "      <td>203.130005</td>\n",
       "      <td>203.130005</td>\n",
       "      <td>28906800</td>\n",
       "    </tr>\n",
       "    <tr>\n",
       "      <th>2019-04-18</th>\n",
       "      <td>203.119995</td>\n",
       "      <td>204.149994</td>\n",
       "      <td>202.520004</td>\n",
       "      <td>203.860001</td>\n",
       "      <td>203.860001</td>\n",
       "      <td>24195800</td>\n",
       "    </tr>\n",
       "    <tr>\n",
       "      <th>2019-04-22</th>\n",
       "      <td>202.830002</td>\n",
       "      <td>204.940002</td>\n",
       "      <td>202.339996</td>\n",
       "      <td>204.529999</td>\n",
       "      <td>204.529999</td>\n",
       "      <td>19439500</td>\n",
       "    </tr>\n",
       "    <tr>\n",
       "      <th>2019-04-23</th>\n",
       "      <td>204.429993</td>\n",
       "      <td>207.750000</td>\n",
       "      <td>203.899994</td>\n",
       "      <td>207.479996</td>\n",
       "      <td>207.479996</td>\n",
       "      <td>23309000</td>\n",
       "    </tr>\n",
       "  </tbody>\n",
       "</table>\n",
       "<p>3523 rows × 6 columns</p>\n",
       "</div>"
      ],
      "text/plain": [
       "                  Open        High         Low       Close   Adj Close  \\\n",
       "Date                                                                     \n",
       "2005-04-25    5.212857    5.288571    5.158571    5.282857    3.522625   \n",
       "2005-04-26    5.254286    5.358572    5.160000    5.170000    3.447372   \n",
       "2005-04-27    5.127143    5.194286    5.072857    5.135714    3.424510   \n",
       "2005-04-28    5.184286    5.191429    5.034286    5.077143    3.385454   \n",
       "2005-04-29    5.164286    5.175714    5.031428    5.151429    3.434988   \n",
       "...                ...         ...         ...         ...         ...   \n",
       "2019-04-16  199.460007  201.369995  198.559998  199.250000  199.250000   \n",
       "2019-04-17  199.539993  203.380005  198.610001  203.130005  203.130005   \n",
       "2019-04-18  203.119995  204.149994  202.520004  203.860001  203.860001   \n",
       "2019-04-22  202.830002  204.940002  202.339996  204.529999  204.529999   \n",
       "2019-04-23  204.429993  207.750000  203.899994  207.479996  207.479996   \n",
       "\n",
       "               Volume  \n",
       "Date                   \n",
       "2005-04-25  186615100  \n",
       "2005-04-26  202626900  \n",
       "2005-04-27  153472200  \n",
       "2005-04-28  143776500  \n",
       "2005-04-29  167907600  \n",
       "...               ...  \n",
       "2019-04-16   25696400  \n",
       "2019-04-17   28906800  \n",
       "2019-04-18   24195800  \n",
       "2019-04-22   19439500  \n",
       "2019-04-23   23309000  \n",
       "\n",
       "[3523 rows x 6 columns]"
      ]
     },
     "execution_count": 6,
     "metadata": {},
     "output_type": "execute_result"
    }
   ],
   "source": [
    "# set prices index to Date column\n",
    "price.set_index('Date', inplace = True)\n",
    "price.sort_index()"
   ]
  },
  {
   "cell_type": "code",
   "execution_count": 7,
   "metadata": {},
   "outputs": [
    {
     "data": {
      "text/plain": [
       "Date    datetime64[ns]\n",
       "10-K           float64\n",
       "10-Q           float64\n",
       "8-K            float64\n",
       "dtype: object"
      ]
     },
     "execution_count": 7,
     "metadata": {},
     "output_type": "execute_result"
    }
   ],
   "source": [
    "# set filings Date to datetime\n",
    "filings['Date'] = pd.to_datetime(filings['Date'])\n",
    "filings.dtypes"
   ]
  },
  {
   "cell_type": "code",
   "execution_count": 8,
   "metadata": {},
   "outputs": [],
   "source": [
    "# set filings index to Date column\n",
    "filings.set_index('Date', inplace = True)"
   ]
  },
  {
   "cell_type": "code",
   "execution_count": 9,
   "metadata": {},
   "outputs": [
    {
     "data": {
      "text/html": [
       "<div>\n",
       "<style scoped>\n",
       "    .dataframe tbody tr th:only-of-type {\n",
       "        vertical-align: middle;\n",
       "    }\n",
       "\n",
       "    .dataframe tbody tr th {\n",
       "        vertical-align: top;\n",
       "    }\n",
       "\n",
       "    .dataframe thead th {\n",
       "        text-align: right;\n",
       "    }\n",
       "</style>\n",
       "<table border=\"1\" class=\"dataframe\">\n",
       "  <thead>\n",
       "    <tr style=\"text-align: right;\">\n",
       "      <th></th>\n",
       "      <th>10-K</th>\n",
       "      <th>10-Q</th>\n",
       "      <th>8-K</th>\n",
       "    </tr>\n",
       "    <tr>\n",
       "      <th>Date</th>\n",
       "      <th></th>\n",
       "      <th></th>\n",
       "      <th></th>\n",
       "    </tr>\n",
       "  </thead>\n",
       "  <tbody>\n",
       "    <tr>\n",
       "      <th>1994-12-13</th>\n",
       "      <td>1.0</td>\n",
       "      <td>0.0</td>\n",
       "      <td>0.0</td>\n",
       "    </tr>\n",
       "    <tr>\n",
       "      <th>1995-12-19</th>\n",
       "      <td>1.0</td>\n",
       "      <td>0.0</td>\n",
       "      <td>0.0</td>\n",
       "    </tr>\n",
       "    <tr>\n",
       "      <th>1996-12-19</th>\n",
       "      <td>1.0</td>\n",
       "      <td>0.0</td>\n",
       "      <td>0.0</td>\n",
       "    </tr>\n",
       "    <tr>\n",
       "      <th>1997-12-05</th>\n",
       "      <td>1.0</td>\n",
       "      <td>0.0</td>\n",
       "      <td>0.0</td>\n",
       "    </tr>\n",
       "    <tr>\n",
       "      <th>1999-12-22</th>\n",
       "      <td>1.0</td>\n",
       "      <td>0.0</td>\n",
       "      <td>0.0</td>\n",
       "    </tr>\n",
       "    <tr>\n",
       "      <th>...</th>\n",
       "      <td>...</td>\n",
       "      <td>...</td>\n",
       "      <td>...</td>\n",
       "    </tr>\n",
       "    <tr>\n",
       "      <th>2019-01-02</th>\n",
       "      <td>0.0</td>\n",
       "      <td>0.0</td>\n",
       "      <td>1.0</td>\n",
       "    </tr>\n",
       "    <tr>\n",
       "      <th>2019-01-29</th>\n",
       "      <td>0.0</td>\n",
       "      <td>0.0</td>\n",
       "      <td>1.0</td>\n",
       "    </tr>\n",
       "    <tr>\n",
       "      <th>2019-01-30</th>\n",
       "      <td>0.0</td>\n",
       "      <td>1.0</td>\n",
       "      <td>0.0</td>\n",
       "    </tr>\n",
       "    <tr>\n",
       "      <th>2019-02-06</th>\n",
       "      <td>0.0</td>\n",
       "      <td>0.0</td>\n",
       "      <td>1.0</td>\n",
       "    </tr>\n",
       "    <tr>\n",
       "      <th>2019-03-04</th>\n",
       "      <td>0.0</td>\n",
       "      <td>0.0</td>\n",
       "      <td>1.0</td>\n",
       "    </tr>\n",
       "  </tbody>\n",
       "</table>\n",
       "<p>100 rows × 3 columns</p>\n",
       "</div>"
      ],
      "text/plain": [
       "            10-K  10-Q  8-K\n",
       "Date                       \n",
       "1994-12-13   1.0   0.0  0.0\n",
       "1995-12-19   1.0   0.0  0.0\n",
       "1996-12-19   1.0   0.0  0.0\n",
       "1997-12-05   1.0   0.0  0.0\n",
       "1999-12-22   1.0   0.0  0.0\n",
       "...          ...   ...  ...\n",
       "2019-01-02   0.0   0.0  1.0\n",
       "2019-01-29   0.0   0.0  1.0\n",
       "2019-01-30   0.0   1.0  0.0\n",
       "2019-02-06   0.0   0.0  1.0\n",
       "2019-03-04   0.0   0.0  1.0\n",
       "\n",
       "[100 rows x 3 columns]"
      ]
     },
     "execution_count": 9,
     "metadata": {},
     "output_type": "execute_result"
    }
   ],
   "source": [
    "filings.sort_index()"
   ]
  },
  {
   "cell_type": "markdown",
   "metadata": {},
   "source": [
    "## Data cleaning: Prices\n",
    "---\n",
    "\n",
    "For Apple's stock prices, we'll need to do a few things:\n",
    "1. Drop the `Adj Close` column since we already have a `Close` price\n",
    "2. De-trend the dataset using `.pct_change()`\n",
    "3. Drop any `NaN`s that were created from step 2"
   ]
  },
  {
   "cell_type": "code",
   "execution_count": 10,
   "metadata": {},
   "outputs": [],
   "source": [
    "# Drop Adj Close column\n",
    "\n",
    "price.drop(columns = 'Adj Close', inplace = True)"
   ]
  },
  {
   "cell_type": "code",
   "execution_count": 11,
   "metadata": {},
   "outputs": [
    {
     "data": {
      "text/html": [
       "<div>\n",
       "<style scoped>\n",
       "    .dataframe tbody tr th:only-of-type {\n",
       "        vertical-align: middle;\n",
       "    }\n",
       "\n",
       "    .dataframe tbody tr th {\n",
       "        vertical-align: top;\n",
       "    }\n",
       "\n",
       "    .dataframe thead th {\n",
       "        text-align: right;\n",
       "    }\n",
       "</style>\n",
       "<table border=\"1\" class=\"dataframe\">\n",
       "  <thead>\n",
       "    <tr style=\"text-align: right;\">\n",
       "      <th></th>\n",
       "      <th>Open</th>\n",
       "      <th>High</th>\n",
       "      <th>Low</th>\n",
       "      <th>Close</th>\n",
       "      <th>Volume</th>\n",
       "    </tr>\n",
       "    <tr>\n",
       "      <th>Date</th>\n",
       "      <th></th>\n",
       "      <th></th>\n",
       "      <th></th>\n",
       "      <th></th>\n",
       "      <th></th>\n",
       "    </tr>\n",
       "  </thead>\n",
       "  <tbody>\n",
       "    <tr>\n",
       "      <th>2005-04-25</th>\n",
       "      <td>5.212857</td>\n",
       "      <td>5.288571</td>\n",
       "      <td>5.158571</td>\n",
       "      <td>5.282857</td>\n",
       "      <td>186615100</td>\n",
       "    </tr>\n",
       "    <tr>\n",
       "      <th>2005-04-26</th>\n",
       "      <td>5.254286</td>\n",
       "      <td>5.358572</td>\n",
       "      <td>5.160000</td>\n",
       "      <td>5.170000</td>\n",
       "      <td>202626900</td>\n",
       "    </tr>\n",
       "    <tr>\n",
       "      <th>2005-04-27</th>\n",
       "      <td>5.127143</td>\n",
       "      <td>5.194286</td>\n",
       "      <td>5.072857</td>\n",
       "      <td>5.135714</td>\n",
       "      <td>153472200</td>\n",
       "    </tr>\n",
       "    <tr>\n",
       "      <th>2005-04-28</th>\n",
       "      <td>5.184286</td>\n",
       "      <td>5.191429</td>\n",
       "      <td>5.034286</td>\n",
       "      <td>5.077143</td>\n",
       "      <td>143776500</td>\n",
       "    </tr>\n",
       "    <tr>\n",
       "      <th>2005-04-29</th>\n",
       "      <td>5.164286</td>\n",
       "      <td>5.175714</td>\n",
       "      <td>5.031428</td>\n",
       "      <td>5.151429</td>\n",
       "      <td>167907600</td>\n",
       "    </tr>\n",
       "    <tr>\n",
       "      <th>...</th>\n",
       "      <td>...</td>\n",
       "      <td>...</td>\n",
       "      <td>...</td>\n",
       "      <td>...</td>\n",
       "      <td>...</td>\n",
       "    </tr>\n",
       "    <tr>\n",
       "      <th>2019-04-16</th>\n",
       "      <td>199.460007</td>\n",
       "      <td>201.369995</td>\n",
       "      <td>198.559998</td>\n",
       "      <td>199.250000</td>\n",
       "      <td>25696400</td>\n",
       "    </tr>\n",
       "    <tr>\n",
       "      <th>2019-04-17</th>\n",
       "      <td>199.539993</td>\n",
       "      <td>203.380005</td>\n",
       "      <td>198.610001</td>\n",
       "      <td>203.130005</td>\n",
       "      <td>28906800</td>\n",
       "    </tr>\n",
       "    <tr>\n",
       "      <th>2019-04-18</th>\n",
       "      <td>203.119995</td>\n",
       "      <td>204.149994</td>\n",
       "      <td>202.520004</td>\n",
       "      <td>203.860001</td>\n",
       "      <td>24195800</td>\n",
       "    </tr>\n",
       "    <tr>\n",
       "      <th>2019-04-22</th>\n",
       "      <td>202.830002</td>\n",
       "      <td>204.940002</td>\n",
       "      <td>202.339996</td>\n",
       "      <td>204.529999</td>\n",
       "      <td>19439500</td>\n",
       "    </tr>\n",
       "    <tr>\n",
       "      <th>2019-04-23</th>\n",
       "      <td>204.429993</td>\n",
       "      <td>207.750000</td>\n",
       "      <td>203.899994</td>\n",
       "      <td>207.479996</td>\n",
       "      <td>23309000</td>\n",
       "    </tr>\n",
       "  </tbody>\n",
       "</table>\n",
       "<p>3523 rows × 5 columns</p>\n",
       "</div>"
      ],
      "text/plain": [
       "                  Open        High         Low       Close     Volume\n",
       "Date                                                                 \n",
       "2005-04-25    5.212857    5.288571    5.158571    5.282857  186615100\n",
       "2005-04-26    5.254286    5.358572    5.160000    5.170000  202626900\n",
       "2005-04-27    5.127143    5.194286    5.072857    5.135714  153472200\n",
       "2005-04-28    5.184286    5.191429    5.034286    5.077143  143776500\n",
       "2005-04-29    5.164286    5.175714    5.031428    5.151429  167907600\n",
       "...                ...         ...         ...         ...        ...\n",
       "2019-04-16  199.460007  201.369995  198.559998  199.250000   25696400\n",
       "2019-04-17  199.539993  203.380005  198.610001  203.130005   28906800\n",
       "2019-04-18  203.119995  204.149994  202.520004  203.860001   24195800\n",
       "2019-04-22  202.830002  204.940002  202.339996  204.529999   19439500\n",
       "2019-04-23  204.429993  207.750000  203.899994  207.479996   23309000\n",
       "\n",
       "[3523 rows x 5 columns]"
      ]
     },
     "execution_count": 11,
     "metadata": {},
     "output_type": "execute_result"
    }
   ],
   "source": [
    "price"
   ]
  },
  {
   "cell_type": "code",
   "execution_count": 26,
   "metadata": {},
   "outputs": [
    {
     "data": {
      "image/png": "[encoded data removed]",
      "text/plain": [
       "<Figure size 432x288 with 1 Axes>"
      ]
     },
     "metadata": {
      "needs_background": "light"
     },
     "output_type": "display_data"
    }
   ],
   "source": [
    "# Plot Close column\n",
    "price['Close'].plot();"
   ]
  },
  {
   "cell_type": "code",
   "execution_count": 36,
   "metadata": {},
   "outputs": [],
   "source": [
    "# Convert prices to be percent changes from prior row\n",
    "price = price.pct_change()"
   ]
  },
  {
   "cell_type": "code",
   "execution_count": 37,
   "metadata": {},
   "outputs": [],
   "source": [
    "# Drop nulls\n",
    "price.dropna(inplace = True)"
   ]
  },
  {
   "cell_type": "code",
   "execution_count": 38,
   "metadata": {},
   "outputs": [
    {
     "data": {
      "image/png": "[encoded data removed]",
      "text/plain": [
       "<Figure size 432x288 with 1 Axes>"
      ]
     },
     "metadata": {
      "needs_background": "light"
     },
     "output_type": "display_data"
    }
   ],
   "source": [
    "# Plot Close column again\n",
    "price.Close.plot();"
   ]
  },
  {
   "cell_type": "markdown",
   "metadata": {},
   "source": [
    "## Create `Target` column\n",
    "---\n",
    "\n",
    "Our column of interest is the `Close` prices. We could build a regression model, where we predict the actual percentage change, or we could set this up as a binary classification problem:\n",
    "- 1: The `Close` price was greater than or equal to the previous day\n",
    "- 0: The `Close` price was lower than the previous day\n",
    "\n",
    "We'll go with the latter option. In the cell below, let's create our binary `Target` column."
   ]
  },
  {
   "cell_type": "code",
   "execution_count": 40,
   "metadata": {},
   "outputs": [
    {
     "data": {
      "text/html": [
       "<div>\n",
       "<style scoped>\n",
       "    .dataframe tbody tr th:only-of-type {\n",
       "        vertical-align: middle;\n",
       "    }\n",
       "\n",
       "    .dataframe tbody tr th {\n",
       "        vertical-align: top;\n",
       "    }\n",
       "\n",
       "    .dataframe thead th {\n",
       "        text-align: right;\n",
       "    }\n",
       "</style>\n",
       "<table border=\"1\" class=\"dataframe\">\n",
       "  <thead>\n",
       "    <tr style=\"text-align: right;\">\n",
       "      <th></th>\n",
       "      <th>Open</th>\n",
       "      <th>High</th>\n",
       "      <th>Low</th>\n",
       "      <th>Close</th>\n",
       "      <th>Volume</th>\n",
       "      <th>Target</th>\n",
       "    </tr>\n",
       "    <tr>\n",
       "      <th>Date</th>\n",
       "      <th></th>\n",
       "      <th></th>\n",
       "      <th></th>\n",
       "      <th></th>\n",
       "      <th></th>\n",
       "      <th></th>\n",
       "    </tr>\n",
       "  </thead>\n",
       "  <tbody>\n",
       "    <tr>\n",
       "      <th>2005-04-26</th>\n",
       "      <td>0.007947</td>\n",
       "      <td>0.013236</td>\n",
       "      <td>0.000277</td>\n",
       "      <td>-0.021363</td>\n",
       "      <td>0.085801</td>\n",
       "      <td>0</td>\n",
       "    </tr>\n",
       "    <tr>\n",
       "      <th>2005-04-27</th>\n",
       "      <td>-0.024198</td>\n",
       "      <td>-0.030659</td>\n",
       "      <td>-0.016888</td>\n",
       "      <td>-0.006632</td>\n",
       "      <td>-0.242587</td>\n",
       "      <td>0</td>\n",
       "    </tr>\n",
       "    <tr>\n",
       "      <th>2005-04-28</th>\n",
       "      <td>0.011145</td>\n",
       "      <td>-0.000550</td>\n",
       "      <td>-0.007603</td>\n",
       "      <td>-0.011405</td>\n",
       "      <td>-0.063176</td>\n",
       "      <td>0</td>\n",
       "    </tr>\n",
       "    <tr>\n",
       "      <th>2005-04-29</th>\n",
       "      <td>-0.003858</td>\n",
       "      <td>-0.003027</td>\n",
       "      <td>-0.000568</td>\n",
       "      <td>0.014631</td>\n",
       "      <td>0.167838</td>\n",
       "      <td>1</td>\n",
       "    </tr>\n",
       "    <tr>\n",
       "      <th>2005-05-02</th>\n",
       "      <td>0.001660</td>\n",
       "      <td>0.011593</td>\n",
       "      <td>0.022714</td>\n",
       "      <td>0.010261</td>\n",
       "      <td>-0.306285</td>\n",
       "      <td>1</td>\n",
       "    </tr>\n",
       "    <tr>\n",
       "      <th>...</th>\n",
       "      <td>...</td>\n",
       "      <td>...</td>\n",
       "      <td>...</td>\n",
       "      <td>...</td>\n",
       "      <td>...</td>\n",
       "      <td>...</td>\n",
       "    </tr>\n",
       "    <tr>\n",
       "      <th>2019-04-16</th>\n",
       "      <td>0.004431</td>\n",
       "      <td>0.007606</td>\n",
       "      <td>0.002778</td>\n",
       "      <td>0.000100</td>\n",
       "      <td>0.465301</td>\n",
       "      <td>1</td>\n",
       "    </tr>\n",
       "    <tr>\n",
       "      <th>2019-04-17</th>\n",
       "      <td>0.000401</td>\n",
       "      <td>0.009982</td>\n",
       "      <td>0.000252</td>\n",
       "      <td>0.019473</td>\n",
       "      <td>0.124936</td>\n",
       "      <td>1</td>\n",
       "    </tr>\n",
       "    <tr>\n",
       "      <th>2019-04-18</th>\n",
       "      <td>0.017941</td>\n",
       "      <td>0.003786</td>\n",
       "      <td>0.019687</td>\n",
       "      <td>0.003594</td>\n",
       "      <td>-0.162972</td>\n",
       "      <td>1</td>\n",
       "    </tr>\n",
       "    <tr>\n",
       "      <th>2019-04-22</th>\n",
       "      <td>-0.001428</td>\n",
       "      <td>0.003870</td>\n",
       "      <td>-0.000889</td>\n",
       "      <td>0.003287</td>\n",
       "      <td>-0.196575</td>\n",
       "      <td>1</td>\n",
       "    </tr>\n",
       "    <tr>\n",
       "      <th>2019-04-23</th>\n",
       "      <td>0.007888</td>\n",
       "      <td>0.013711</td>\n",
       "      <td>0.007710</td>\n",
       "      <td>0.014423</td>\n",
       "      <td>0.199053</td>\n",
       "      <td>1</td>\n",
       "    </tr>\n",
       "  </tbody>\n",
       "</table>\n",
       "<p>3522 rows × 6 columns</p>\n",
       "</div>"
      ],
      "text/plain": [
       "                Open      High       Low     Close    Volume  Target\n",
       "Date                                                                \n",
       "2005-04-26  0.007947  0.013236  0.000277 -0.021363  0.085801       0\n",
       "2005-04-27 -0.024198 -0.030659 -0.016888 -0.006632 -0.242587       0\n",
       "2005-04-28  0.011145 -0.000550 -0.007603 -0.011405 -0.063176       0\n",
       "2005-04-29 -0.003858 -0.003027 -0.000568  0.014631  0.167838       1\n",
       "2005-05-02  0.001660  0.011593  0.022714  0.010261 -0.306285       1\n",
       "...              ...       ...       ...       ...       ...     ...\n",
       "2019-04-16  0.004431  0.007606  0.002778  0.000100  0.465301       1\n",
       "2019-04-17  0.000401  0.009982  0.000252  0.019473  0.124936       1\n",
       "2019-04-18  0.017941  0.003786  0.019687  0.003594 -0.162972       1\n",
       "2019-04-22 -0.001428  0.003870 -0.000889  0.003287 -0.196575       1\n",
       "2019-04-23  0.007888  0.013711  0.007710  0.014423  0.199053       1\n",
       "\n",
       "[3522 rows x 6 columns]"
      ]
     },
     "execution_count": 40,
     "metadata": {},
     "output_type": "execute_result"
    }
   ],
   "source": [
    "# Create Target column\n",
    "\n",
    "price['Target'] = (price['Close'] > 0).astype(int)\n",
    "price"
   ]
  },
  {
   "cell_type": "markdown",
   "metadata": {},
   "source": [
    "## Merge Prices with SEC filings\n",
    "---\n",
    "\n",
    "SEC filings tend to have a huge impact on stock prices. Because of this, we'll want to merge the prices and filings `DataFrames` together."
   ]
  },
  {
   "cell_type": "markdown",
   "metadata": {},
   "source": [
    "<details><summary>What kind of join should we use here?</summary>\n",
    "\n",
    "We'll want to do a left join, so that we don't lose any rows that aren't associated with any SEC filings.\n",
    "</details>"
   ]
  },
  {
   "cell_type": "code",
   "execution_count": 44,
   "metadata": {},
   "outputs": [
    {
     "data": {
      "text/html": [
       "<div>\n",
       "<style scoped>\n",
       "    .dataframe tbody tr th:only-of-type {\n",
       "        vertical-align: middle;\n",
       "    }\n",
       "\n",
       "    .dataframe tbody tr th {\n",
       "        vertical-align: top;\n",
       "    }\n",
       "\n",
       "    .dataframe thead th {\n",
       "        text-align: right;\n",
       "    }\n",
       "</style>\n",
       "<table border=\"1\" class=\"dataframe\">\n",
       "  <thead>\n",
       "    <tr style=\"text-align: right;\">\n",
       "      <th></th>\n",
       "      <th>Open</th>\n",
       "      <th>High</th>\n",
       "      <th>Low</th>\n",
       "      <th>Close</th>\n",
       "      <th>Volume</th>\n",
       "      <th>Target</th>\n",
       "      <th>10-K</th>\n",
       "      <th>10-Q</th>\n",
       "      <th>8-K</th>\n",
       "    </tr>\n",
       "    <tr>\n",
       "      <th>Date</th>\n",
       "      <th></th>\n",
       "      <th></th>\n",
       "      <th></th>\n",
       "      <th></th>\n",
       "      <th></th>\n",
       "      <th></th>\n",
       "      <th></th>\n",
       "      <th></th>\n",
       "      <th></th>\n",
       "    </tr>\n",
       "  </thead>\n",
       "  <tbody>\n",
       "    <tr>\n",
       "      <th>2005-04-26</th>\n",
       "      <td>0.007947</td>\n",
       "      <td>0.013236</td>\n",
       "      <td>0.000277</td>\n",
       "      <td>-0.021363</td>\n",
       "      <td>0.085801</td>\n",
       "      <td>0</td>\n",
       "      <td>NaN</td>\n",
       "      <td>NaN</td>\n",
       "      <td>NaN</td>\n",
       "    </tr>\n",
       "    <tr>\n",
       "      <th>2005-04-27</th>\n",
       "      <td>-0.024198</td>\n",
       "      <td>-0.030659</td>\n",
       "      <td>-0.016888</td>\n",
       "      <td>-0.006632</td>\n",
       "      <td>-0.242587</td>\n",
       "      <td>0</td>\n",
       "      <td>NaN</td>\n",
       "      <td>NaN</td>\n",
       "      <td>NaN</td>\n",
       "    </tr>\n",
       "    <tr>\n",
       "      <th>2005-04-28</th>\n",
       "      <td>0.011145</td>\n",
       "      <td>-0.000550</td>\n",
       "      <td>-0.007603</td>\n",
       "      <td>-0.011405</td>\n",
       "      <td>-0.063176</td>\n",
       "      <td>0</td>\n",
       "      <td>NaN</td>\n",
       "      <td>NaN</td>\n",
       "      <td>NaN</td>\n",
       "    </tr>\n",
       "    <tr>\n",
       "      <th>2005-04-29</th>\n",
       "      <td>-0.003858</td>\n",
       "      <td>-0.003027</td>\n",
       "      <td>-0.000568</td>\n",
       "      <td>0.014631</td>\n",
       "      <td>0.167838</td>\n",
       "      <td>1</td>\n",
       "      <td>NaN</td>\n",
       "      <td>NaN</td>\n",
       "      <td>NaN</td>\n",
       "    </tr>\n",
       "    <tr>\n",
       "      <th>2005-05-02</th>\n",
       "      <td>0.001660</td>\n",
       "      <td>0.011593</td>\n",
       "      <td>0.022714</td>\n",
       "      <td>0.010261</td>\n",
       "      <td>-0.306285</td>\n",
       "      <td>1</td>\n",
       "      <td>NaN</td>\n",
       "      <td>NaN</td>\n",
       "      <td>NaN</td>\n",
       "    </tr>\n",
       "  </tbody>\n",
       "</table>\n",
       "</div>"
      ],
      "text/plain": [
       "                Open      High       Low     Close    Volume  Target  10-K  \\\n",
       "Date                                                                         \n",
       "2005-04-26  0.007947  0.013236  0.000277 -0.021363  0.085801       0   NaN   \n",
       "2005-04-27 -0.024198 -0.030659 -0.016888 -0.006632 -0.242587       0   NaN   \n",
       "2005-04-28  0.011145 -0.000550 -0.007603 -0.011405 -0.063176       0   NaN   \n",
       "2005-04-29 -0.003858 -0.003027 -0.000568  0.014631  0.167838       1   NaN   \n",
       "2005-05-02  0.001660  0.011593  0.022714  0.010261 -0.306285       1   NaN   \n",
       "\n",
       "            10-Q  8-K  \n",
       "Date                   \n",
       "2005-04-26   NaN  NaN  \n",
       "2005-04-27   NaN  NaN  \n",
       "2005-04-28   NaN  NaN  \n",
       "2005-04-29   NaN  NaN  \n",
       "2005-05-02   NaN  NaN  "
      ]
     },
     "execution_count": 44,
     "metadata": {},
     "output_type": "execute_result"
    }
   ],
   "source": [
    "# Merge DataFrames\n",
    "df = pd.merge(price, filings,\n",
    "              how = 'left',\n",
    "              left_index = True,\n",
    "              right_index = True)\n",
    "df.head()"
   ]
  },
  {
   "cell_type": "markdown",
   "metadata": {},
   "source": [
    "## Fill `NaN`s\n",
    "---\n",
    "\n",
    "After the merge, we now have a bunch of `NaN`s for rows that didn't have any SEC filings on that date. Let's fill those in with 0."
   ]
  },
  {
   "cell_type": "code",
   "execution_count": 45,
   "metadata": {},
   "outputs": [
    {
     "data": {
      "text/plain": [
       "10-K      3431\n",
       "10-Q      3431\n",
       "8-K       3431\n",
       "Open         0\n",
       "High         0\n",
       "Low          0\n",
       "Close        0\n",
       "Volume       0\n",
       "Target       0\n",
       "dtype: int64"
      ]
     },
     "execution_count": 45,
     "metadata": {},
     "output_type": "execute_result"
    }
   ],
   "source": [
    "# Fill Nans with 0\n",
    "df.isna().sum().sort_values(ascending = False)"
   ]
  },
  {
   "cell_type": "code",
   "execution_count": 48,
   "metadata": {},
   "outputs": [
    {
     "data": {
      "text/html": [
       "<div>\n",
       "<style scoped>\n",
       "    .dataframe tbody tr th:only-of-type {\n",
       "        vertical-align: middle;\n",
       "    }\n",
       "\n",
       "    .dataframe tbody tr th {\n",
       "        vertical-align: top;\n",
       "    }\n",
       "\n",
       "    .dataframe thead th {\n",
       "        text-align: right;\n",
       "    }\n",
       "</style>\n",
       "<table border=\"1\" class=\"dataframe\">\n",
       "  <thead>\n",
       "    <tr style=\"text-align: right;\">\n",
       "      <th></th>\n",
       "      <th>Open</th>\n",
       "      <th>High</th>\n",
       "      <th>Low</th>\n",
       "      <th>Close</th>\n",
       "      <th>Volume</th>\n",
       "      <th>Target</th>\n",
       "      <th>10-K</th>\n",
       "      <th>10-Q</th>\n",
       "      <th>8-K</th>\n",
       "    </tr>\n",
       "    <tr>\n",
       "      <th>Date</th>\n",
       "      <th></th>\n",
       "      <th></th>\n",
       "      <th></th>\n",
       "      <th></th>\n",
       "      <th></th>\n",
       "      <th></th>\n",
       "      <th></th>\n",
       "      <th></th>\n",
       "      <th></th>\n",
       "    </tr>\n",
       "  </thead>\n",
       "  <tbody>\n",
       "    <tr>\n",
       "      <th>2005-04-26</th>\n",
       "      <td>0.007947</td>\n",
       "      <td>0.013236</td>\n",
       "      <td>0.000277</td>\n",
       "      <td>-0.021363</td>\n",
       "      <td>0.085801</td>\n",
       "      <td>0</td>\n",
       "      <td>0.0</td>\n",
       "      <td>0.0</td>\n",
       "      <td>0.0</td>\n",
       "    </tr>\n",
       "    <tr>\n",
       "      <th>2005-04-27</th>\n",
       "      <td>-0.024198</td>\n",
       "      <td>-0.030659</td>\n",
       "      <td>-0.016888</td>\n",
       "      <td>-0.006632</td>\n",
       "      <td>-0.242587</td>\n",
       "      <td>0</td>\n",
       "      <td>0.0</td>\n",
       "      <td>0.0</td>\n",
       "      <td>0.0</td>\n",
       "    </tr>\n",
       "    <tr>\n",
       "      <th>2005-04-28</th>\n",
       "      <td>0.011145</td>\n",
       "      <td>-0.000550</td>\n",
       "      <td>-0.007603</td>\n",
       "      <td>-0.011405</td>\n",
       "      <td>-0.063176</td>\n",
       "      <td>0</td>\n",
       "      <td>0.0</td>\n",
       "      <td>0.0</td>\n",
       "      <td>0.0</td>\n",
       "    </tr>\n",
       "    <tr>\n",
       "      <th>2005-04-29</th>\n",
       "      <td>-0.003858</td>\n",
       "      <td>-0.003027</td>\n",
       "      <td>-0.000568</td>\n",
       "      <td>0.014631</td>\n",
       "      <td>0.167838</td>\n",
       "      <td>1</td>\n",
       "      <td>0.0</td>\n",
       "      <td>0.0</td>\n",
       "      <td>0.0</td>\n",
       "    </tr>\n",
       "    <tr>\n",
       "      <th>2005-05-02</th>\n",
       "      <td>0.001660</td>\n",
       "      <td>0.011593</td>\n",
       "      <td>0.022714</td>\n",
       "      <td>0.010261</td>\n",
       "      <td>-0.306285</td>\n",
       "      <td>1</td>\n",
       "      <td>0.0</td>\n",
       "      <td>0.0</td>\n",
       "      <td>0.0</td>\n",
       "    </tr>\n",
       "  </tbody>\n",
       "</table>\n",
       "</div>"
      ],
      "text/plain": [
       "                Open      High       Low     Close    Volume  Target  10-K  \\\n",
       "Date                                                                         \n",
       "2005-04-26  0.007947  0.013236  0.000277 -0.021363  0.085801       0   0.0   \n",
       "2005-04-27 -0.024198 -0.030659 -0.016888 -0.006632 -0.242587       0   0.0   \n",
       "2005-04-28  0.011145 -0.000550 -0.007603 -0.011405 -0.063176       0   0.0   \n",
       "2005-04-29 -0.003858 -0.003027 -0.000568  0.014631  0.167838       1   0.0   \n",
       "2005-05-02  0.001660  0.011593  0.022714  0.010261 -0.306285       1   0.0   \n",
       "\n",
       "            10-Q  8-K  \n",
       "Date                   \n",
       "2005-04-26   0.0  0.0  \n",
       "2005-04-27   0.0  0.0  \n",
       "2005-04-28   0.0  0.0  \n",
       "2005-04-29   0.0  0.0  \n",
       "2005-05-02   0.0  0.0  "
      ]
     },
     "execution_count": 48,
     "metadata": {},
     "output_type": "execute_result"
    }
   ],
   "source": [
    "df.fillna(0, inplace = True)\n",
    "df.head()"
   ]
  },
  {
   "cell_type": "code",
   "execution_count": 49,
   "metadata": {},
   "outputs": [
    {
     "data": {
      "text/plain": [
       "Open      0\n",
       "High      0\n",
       "Low       0\n",
       "Close     0\n",
       "Volume    0\n",
       "Target    0\n",
       "10-K      0\n",
       "10-Q      0\n",
       "8-K       0\n",
       "dtype: int64"
      ]
     },
     "execution_count": 49,
     "metadata": {},
     "output_type": "execute_result"
    }
   ],
   "source": [
    "df.isna().sum().sort_values(ascending = False)"
   ]
  },
  {
   "cell_type": "markdown",
   "metadata": {},
   "source": [
    "## Train/Test Split\n",
    "---\n",
    "\n",
    "Since we're dealing with time series data, we don't want the model to be able to see the future. "
   ]
  },
  {
   "cell_type": "markdown",
   "metadata": {},
   "source": [
    "<details><summary>What do we need to do in train_test_split?</summary>\n",
    "\n",
    "- set `shuffle=False` so that the order is maintained\n",
    "</details>"
   ]
  },
  {
   "cell_type": "code",
   "execution_count": 51,
   "metadata": {},
   "outputs": [],
   "source": [
    "# Create X and y\n",
    "features = [col for col in df.columns if not col =='Target']\n",
    "\n",
    "X = df[features]\n",
    "y = df[['Target']].values"
   ]
  },
  {
   "cell_type": "code",
   "execution_count": 52,
   "metadata": {},
   "outputs": [],
   "source": [
    "# Train/Test Split\n",
    "X_train, X_test, y_train, y_test = train_test_split(X, y,\n",
    "                                                   shuffle = False)"
   ]
  },
  {
   "cell_type": "markdown",
   "metadata": {},
   "source": [
    "## Scaling\n",
    "---\n",
    "\n",
    "You want to scale your data for any model that uses gradient descent, which includes neural networks."
   ]
  },
  {
   "cell_type": "code",
   "execution_count": 54,
   "metadata": {},
   "outputs": [],
   "source": [
    "# Scale\n",
    "sc = StandardScaler()\n",
    "X_train_sc = sc.fit_transform(X_train)\n",
    "X_test_sc = sc.transform(X_test)"
   ]
  },
  {
   "cell_type": "markdown",
   "metadata": {},
   "source": [
    "## `TimeseriesGenerator`\n",
    "---\n",
    "\n",
    "We'll now convert our data into series' using `TimeseriesGenerator`. The `length` parameter dictates how many rows will constitute a sample. The generator also creates our batches.\n",
    "\n",
    "```python\n",
    "train_sequences = TimeseriesGenerator(X_train_sc, y_train, length=3, batch_size=64)\n",
    "```\n",
    "\n",
    "In the cells below, convert your training and validation data into sequences."
   ]
  },
  {
   "cell_type": "code",
   "execution_count": 55,
   "metadata": {},
   "outputs": [],
   "source": [
    "# Create training sequences\n",
    "train_sequences = TimeseriesGenerator(X_train_sc, y_train, length = 3, batch_size = 64)"
   ]
  },
  {
   "cell_type": "code",
   "execution_count": 56,
   "metadata": {},
   "outputs": [
    {
     "data": {
      "text/plain": [
       "<keras.preprocessing.sequence.TimeseriesGenerator at 0x21a56e57310>"
      ]
     },
     "execution_count": 56,
     "metadata": {},
     "output_type": "execute_result"
    }
   ],
   "source": [
    "train_sequences"
   ]
  },
  {
   "cell_type": "code",
   "execution_count": 57,
   "metadata": {},
   "outputs": [],
   "source": [
    "# Create test sequences\n",
    "test_sequences = TimeseriesGenerator(X_test_sc, y_test, length = 3, batch_size = 64)"
   ]
  },
  {
   "cell_type": "markdown",
   "metadata": {},
   "source": [
    "## Modeling time!\n",
    "---\n",
    "\n",
    "Now it's time to design our RNN model. We'll have:\n",
    "\n",
    "- 2 `GRU` layers\n",
    "- 1 `Dense` output layer\n",
    "\n",
    "We're doing a binary classification problem."
   ]
  },
  {
   "cell_type": "markdown",
   "metadata": {},
   "source": [
    "<details><summary>What should our output layer look like?</summary>\n",
    "\n",
    "- 1 neuron\n",
    "- sigmoid activation function\n",
    "- this way, our model predicts a probability\n",
    "</details>"
   ]
  },
  {
   "cell_type": "code",
   "execution_count": 66,
   "metadata": {},
   "outputs": [
    {
     "data": {
      "text/plain": [
       "(3, 8)"
      ]
     },
     "execution_count": 66,
     "metadata": {},
     "output_type": "execute_result"
    }
   ],
   "source": [
    "# Design RNN\n",
    "train_sequences[0][0][0].shape"
   ]
  },
  {
   "cell_type": "code",
   "execution_count": 67,
   "metadata": {},
   "outputs": [],
   "source": [
    "input_shape = train_sequences[0][0][0].shape"
   ]
  },
  {
   "cell_type": "code",
   "execution_count": 68,
   "metadata": {},
   "outputs": [],
   "source": [
    "model = Sequential()\n",
    "model.add(GRU(8, input_shape = input_shape, return_sequences = True)) #True is next layer is RNN\n",
    "model.add(GRU(8, return_sequences = False))\n",
    "\n",
    "model.add(Dense(4, activation = 'relu'))\n",
    "\n",
    "#output layer\n",
    "model.add(Dense(1, activation = 'sigmoid'))"
   ]
  },
  {
   "cell_type": "code",
   "execution_count": 73,
   "metadata": {},
   "outputs": [],
   "source": [
    "model.compile(optimizer = Adam(learning_rate = .0005), loss = 'bce', metrics = ['acc'])\n",
    "\n",
    "history = model.fit(train_sequences, \n",
    "                    validation_data = test_sequences, \n",
    "                    epochs = 50, verbose = 0)"
   ]
  },
  {
   "cell_type": "code",
   "execution_count": 75,
   "metadata": {},
   "outputs": [
    {
     "data": {
      "image/png": "[encoded data removed]",
      "text/plain": [
       "<Figure size 432x288 with 1 Axes>"
      ]
     },
     "metadata": {
      "needs_background": "light"
     },
     "output_type": "display_data"
    }
   ],
   "source": [
    "plt.plot(history.history['loss'], label='Train loss')\n",
    "plt.plot(history.history['val_loss'], label='Test loss')\n",
    "plt.legend();"
   ]
  },
  {
   "cell_type": "code",
   "execution_count": 74,
   "metadata": {},
   "outputs": [
    {
     "data": {
      "image/png": "[encoded data removed]",
      "text/plain": [
       "<Figure size 432x288 with 1 Axes>"
      ]
     },
     "metadata": {
      "needs_background": "light"
     },
     "output_type": "display_data"
    }
   ],
   "source": [
    "plt.plot(history.history['acc'], label='Train accuracy')\n",
    "plt.plot(history.history['val_acc'], label='Test accuracy')\n",
    "plt.legend();"
   ]
  },
  {
   "cell_type": "code",
   "execution_count": 76,
   "metadata": {},
   "outputs": [
    {
     "name": "stdout",
     "output_type": "stream",
     "text": [
      "Epoch 1/100\n",
      "42/42 [==============================] - 3s 15ms/step - loss: 0.6962 - acc: 0.4989 - val_loss: 0.6917 - val_acc: 0.5251\n",
      "Epoch 2/100\n",
      "42/42 [==============================] - 0s 3ms/step - loss: 0.6934 - acc: 0.5106 - val_loss: 0.6916 - val_acc: 0.5262\n",
      "Epoch 3/100\n",
      "42/42 [==============================] - 0s 3ms/step - loss: 0.6927 - acc: 0.5224 - val_loss: 0.6912 - val_acc: 0.5296\n",
      "Epoch 4/100\n",
      "42/42 [==============================] - 0s 3ms/step - loss: 0.6920 - acc: 0.5212 - val_loss: 0.6908 - val_acc: 0.5296\n",
      "Epoch 5/100\n",
      "42/42 [==============================] - 0s 3ms/step - loss: 0.6918 - acc: 0.5216 - val_loss: 0.6906 - val_acc: 0.5319\n",
      "Epoch 6/100\n",
      "42/42 [==============================] - 0s 3ms/step - loss: 0.6915 - acc: 0.5243 - val_loss: 0.6902 - val_acc: 0.5353\n",
      "Epoch 7/100\n",
      "42/42 [==============================] - 0s 3ms/step - loss: 0.6913 - acc: 0.5265 - val_loss: 0.6902 - val_acc: 0.5376\n",
      "Epoch 8/100\n",
      "42/42 [==============================] - 0s 3ms/step - loss: 0.6910 - acc: 0.5288 - val_loss: 0.6897 - val_acc: 0.5364\n",
      "Epoch 9/100\n",
      "42/42 [==============================] - 0s 3ms/step - loss: 0.6905 - acc: 0.5299 - val_loss: 0.6896 - val_acc: 0.5364\n",
      "Epoch 10/100\n",
      "42/42 [==============================] - 0s 3ms/step - loss: 0.6903 - acc: 0.5258 - val_loss: 0.6895 - val_acc: 0.5387\n",
      "Epoch 11/100\n",
      "42/42 [==============================] - 0s 3ms/step - loss: 0.6902 - acc: 0.5246 - val_loss: 0.6896 - val_acc: 0.5376\n",
      "Epoch 12/100\n",
      "42/42 [==============================] - 0s 3ms/step - loss: 0.6900 - acc: 0.5277 - val_loss: 0.6892 - val_acc: 0.5399\n",
      "Epoch 13/100\n",
      "42/42 [==============================] - 0s 3ms/step - loss: 0.6897 - acc: 0.5277 - val_loss: 0.6892 - val_acc: 0.5410\n",
      "Epoch 14/100\n",
      "42/42 [==============================] - 0s 3ms/step - loss: 0.6893 - acc: 0.5315 - val_loss: 0.6891 - val_acc: 0.5399\n",
      "Epoch 15/100\n",
      "42/42 [==============================] - 0s 3ms/step - loss: 0.6889 - acc: 0.5379 - val_loss: 0.6886 - val_acc: 0.5421\n",
      "Epoch 16/100\n",
      "42/42 [==============================] - 0s 4ms/step - loss: 0.6886 - acc: 0.5353 - val_loss: 0.6887 - val_acc: 0.5399\n",
      "Epoch 17/100\n",
      "42/42 [==============================] - 0s 3ms/step - loss: 0.6886 - acc: 0.5368 - val_loss: 0.6885 - val_acc: 0.5364\n",
      "Epoch 18/100\n",
      "42/42 [==============================] - 0s 3ms/step - loss: 0.6882 - acc: 0.5428 - val_loss: 0.6883 - val_acc: 0.5376\n",
      "Epoch 19/100\n",
      "42/42 [==============================] - 0s 3ms/step - loss: 0.6876 - acc: 0.5413 - val_loss: 0.6885 - val_acc: 0.5399\n",
      "Epoch 20/100\n",
      "42/42 [==============================] - 0s 3ms/step - loss: 0.6875 - acc: 0.5383 - val_loss: 0.6881 - val_acc: 0.5421\n",
      "Epoch 21/100\n",
      "42/42 [==============================] - 0s 3ms/step - loss: 0.6870 - acc: 0.5425 - val_loss: 0.6886 - val_acc: 0.5410\n",
      "Epoch 22/100\n",
      "42/42 [==============================] - 0s 4ms/step - loss: 0.6869 - acc: 0.5417 - val_loss: 0.6883 - val_acc: 0.5330\n",
      "Epoch 23/100\n",
      "42/42 [==============================] - 0s 3ms/step - loss: 0.6861 - acc: 0.5485 - val_loss: 0.6887 - val_acc: 0.5376\n",
      "Epoch 24/100\n",
      "42/42 [==============================] - 0s 3ms/step - loss: 0.6860 - acc: 0.5466 - val_loss: 0.6883 - val_acc: 0.5421\n",
      "Epoch 25/100\n",
      "42/42 [==============================] - 0s 3ms/step - loss: 0.6851 - acc: 0.5504 - val_loss: 0.6885 - val_acc: 0.5421\n"
     ]
    }
   ],
   "source": [
    "# Add early stopping\n",
    "from tensorflow.keras.callbacks import EarlyStopping\n",
    "\n",
    "model2 = Sequential()\n",
    "model2.add(GRU(8, input_shape=(3, 8), return_sequences=True)) # True if next layer is RNN\n",
    "model2.add(GRU(8, return_sequences=False)) # False if next layer is Dense\n",
    "\n",
    "model2.add(Dense(4, activation='relu'))\n",
    "\n",
    "model2.add(Dense(1, activation='sigmoid'))\n",
    "\n",
    "model2.compile(optimizer='adam', loss='bce', metrics=['acc'])\n",
    "\n",
    "es = EarlyStopping(patience = 5)\n",
    "\n",
    "history2 = model2.fit(train_sequences,\n",
    "                      validation_data = test_sequences,\n",
    "                      epochs=100, batch_size = 64,\n",
    "                      callbacks = [es])"
   ]
  },
  {
   "cell_type": "code",
   "execution_count": 77,
   "metadata": {},
   "outputs": [
    {
     "data": {
      "image/png": "[encoded data removed]",
      "text/plain": [
       "<Figure size 432x288 with 1 Axes>"
      ]
     },
     "metadata": {
      "needs_background": "light"
     },
     "output_type": "display_data"
    }
   ],
   "source": [
    "plt.plot(history2.history['loss'], label='Train loss')\n",
    "plt.plot(history2.history['val_loss'], label='Test loss')\n",
    "plt.plot(history.history['loss'], label='Original Train loss')\n",
    "plt.plot(history.history['val_loss'], label='Original Test loss')\n",
    "plt.legend();"
   ]
  },
  {
   "cell_type": "markdown",
   "metadata": {},
   "source": [
    "## Your turn!\n",
    "---\n",
    "\n",
    "Can you improve this model? Try to build a model that minimizes the testing loss even more!"
   ]
  },
  {
   "cell_type": "code",
   "execution_count": 81,
   "metadata": {},
   "outputs": [],
   "source": [
    "model = Sequential()\n",
    "model.add(GRU(64, input_shape = input_shape, return_sequences = True)) #True is next layer is RNN\n",
    "model.add(GRU(32, return_sequences = False))\n",
    "\n",
    "model.add(Dense(4, activation = 'relu'))\n",
    "model.add(Dense(4, activation = 'relu'))\n",
    "model.add(Dense(4, activation = 'relu'))\n",
    "\n",
    "#output layer\n",
    "model.add(Dense(1, activation = 'sigmoid'))"
   ]
  },
  {
   "cell_type": "code",
   "execution_count": 84,
   "metadata": {},
   "outputs": [],
   "source": [
    "model.compile(optimizer = Adam(learning_rate = .001), loss = 'bce', metrics = ['acc'])\n",
    "\n",
    "history = model.fit(train_sequences, \n",
    "                    validation_data = test_sequences, \n",
    "                    epochs = 100, verbose = 0)"
   ]
  },
  {
   "cell_type": "code",
   "execution_count": 83,
   "metadata": {},
   "outputs": [
    {
     "data": {
      "image/png": "[encoded data removed]",
      "text/plain": [
       "<Figure size 432x288 with 1 Axes>"
      ]
     },
     "metadata": {
      "needs_background": "light"
     },
     "output_type": "display_data"
    }
   ],
   "source": [
    "plt.plot(history.history['loss'], label='Train loss')\n",
    "plt.plot(history.history['val_loss'], label='Test loss')\n",
    "plt.legend();"
   ]
  },
  {
   "cell_type": "code",
   "execution_count": null,
   "metadata": {},
   "outputs": [],
   "source": []
  }
 ],
 "metadata": {
  "kernelspec": {
   "display_name": "Python 3",
   "language": "python",
   "name": "python3"
  },
  "language_info": {
   "codemirror_mode": {
    "name": "ipython",
    "version": 3
   },
   "file_extension": ".py",
   "mimetype": "text/x-python",
   "name": "python",
   "nbconvert_exporter": "python",
   "pygments_lexer": "ipython3",
   "version": "3.8.8"
  }
 },
 "nbformat": 4,
 "nbformat_minor": 4
}
