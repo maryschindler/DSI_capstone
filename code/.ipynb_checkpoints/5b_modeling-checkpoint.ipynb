{
 "cells": [
  {
   "cell_type": "markdown",
   "id": "148756ae-8988-498a-97e4-71eeac512be3",
   "metadata": {},
   "source": [
    "## Modeling"
   ]
  },
  {
   "cell_type": "markdown",
   "id": "9e7cda76-1dce-4ff0-92e4-10edf8b4f76a",
   "metadata": {},
   "source": [
    "**Imports**"
   ]
  },
  {
   "cell_type": "code",
   "execution_count": 1,
   "id": "c9b2c363-9741-4789-81d6-20921610a365",
   "metadata": {},
   "outputs": [],
   "source": [
    "import pandas as pd\n",
    "pd.set_option('display.max_columns', None)\n",
    "import numpy as np\n",
    "np.random.seed(42)\n",
    "\n",
    "from sklearn.preprocessing import StandardScaler\n",
    "from sklearn.model_selection import train_test_split, GridSearchCV\n",
    "from sklearn.metrics import accuracy_score\n",
    "\n",
    "from tensorflow import keras\n",
    "from tensorflow.keras import layers\n",
    "from tensorflow.keras.callbacks import EarlyStopping\n",
    "from tensorflow.keras.layers import Dense, Dropout, Embedding, LSTM\n",
    "from tensorflow.keras.models import Sequential\n",
    "from tensorflow.keras.optimizers import Adam\n",
    "from tensorflow.keras.utils import to_categorical, plot_model\n",
    "from tensorflow.keras.wrappers.scikit_learn import KerasRegressor\n",
    "\n",
    "import matplotlib.pyplot as plt\n",
    "import seaborn as sns"
   ]
  },
  {
   "cell_type": "markdown",
   "id": "733cc16e-d5d5-4912-9c10-658979acede2",
   "metadata": {},
   "source": [
    "**Reading in Data**"
   ]
  },
  {
   "cell_type": "code",
   "execution_count": 2,
   "id": "70edef58-7cbf-493c-9919-6b0cfb9b5d14",
   "metadata": {},
   "outputs": [
    {
     "data": {
      "text/plain": [
       "(36003, 21)"
      ]
     },
     "execution_count": 2,
     "metadata": {},
     "output_type": "execute_result"
    }
   ],
   "source": [
    "model_sets = np.load('../data/model_sets.npy')\n",
    "model_sets.shape"
   ]
  },
  {
   "cell_type": "code",
   "execution_count": 3,
   "id": "c593df44-ec91-4636-924e-0c71dd02396f",
   "metadata": {},
   "outputs": [],
   "source": [
    "#remember, I am modeling for song n + 1 based on songs n previously played:\n",
    "X_rr, y_rr = model_sets[:, :-1], model_sets[:, -1] "
   ]
  },
  {
   "cell_type": "code",
   "execution_count": 4,
   "id": "649c9b61-7759-43bf-90ca-ba21cbe6c067",
   "metadata": {},
   "outputs": [
    {
     "data": {
      "text/plain": [
       "((36003, 20), (36003,))"
      ]
     },
     "execution_count": 4,
     "metadata": {},
     "output_type": "execute_result"
    }
   ],
   "source": [
    "X_rr.shape, y_rr.shape"
   ]
  },
  {
   "cell_type": "markdown",
   "id": "00205f53-1560-46b0-b643-e415dc67b3c6",
   "metadata": {},
   "source": [
    "**Train-Test Split**"
   ]
  },
  {
   "cell_type": "code",
   "execution_count": 5,
   "id": "03c855a6-6135-4909-ba3d-37598e554dee",
   "metadata": {},
   "outputs": [],
   "source": [
    "X_train, X_test, y_train, y_test = train_test_split(X_rr, y_rr, \n",
    "                                                    test_size = 0.2, \n",
    "                                                    random_state = 42)"
   ]
  },
  {
   "cell_type": "code",
   "execution_count": 6,
   "id": "8c9cf5b6-2cd9-44bb-b7ee-9e8a0cb7ec89",
   "metadata": {},
   "outputs": [
    {
     "name": "stdout",
     "output_type": "stream",
     "text": [
      "X_train and y_train: (28802, 20), (28802,)\n",
      "X_test and y_test: (7201, 20), (7201,)\n"
     ]
    }
   ],
   "source": [
    "print(f'X_train and y_train: {X_train.shape}, {y_train.shape}')\n",
    "print(f'X_test and y_test: {X_test.shape}, {y_test.shape}')"
   ]
  },
  {
   "cell_type": "markdown",
   "id": "0e2d1544-d757-4ec2-a85f-8a44401b4cb5",
   "metadata": {},
   "source": [
    "**Modeling - Third Attempt, with Regularization**"
   ]
  },
  {
   "cell_type": "code",
   "execution_count": 7,
   "id": "e44038d8-830b-4200-bf60-b855fd09f318",
   "metadata": {},
   "outputs": [],
   "source": [
    "#REVISIT\n",
    "#REVISIT\n",
    "#REVISIT\n",
    "\n",
    "#consider using stringlookup instead of previously encoding:\n",
    "# ids_from_chars = tf.keras.layers.StringLookup(\n",
    "#     vocabulary=list(vocab), mask_token=None)"
   ]
  },
  {
   "cell_type": "code",
   "execution_count": 8,
   "id": "7eaf1d94-ab5d-4680-ae67-b6f6da4de141",
   "metadata": {},
   "outputs": [
    {
     "name": "stdout",
     "output_type": "stream",
     "text": [
      "970 unique songs!\n"
     ]
    }
   ],
   "source": [
    "#https://www.tensorflow.org/text/tutorials/text_generation\n",
    "songs = np.array(model_sets).tolist()\n",
    "songs = [item for sublist in songs for item in sublist]\n",
    "\n",
    "vocab = set(songs)\n",
    "print(f'{len(vocab)} unique songs!')"
   ]
  },
  {
   "cell_type": "code",
   "execution_count": 9,
   "id": "ae64a260-6e8c-42dd-b066-3bdd17b9b085",
   "metadata": {},
   "outputs": [],
   "source": [
    "# Length of the vocabulary in chars\n",
    "vocab_size = len(vocab)\n",
    "\n",
    "# The embedding dimension\n",
    "embedding_dim = 970\n",
    "\n",
    "# Number of RNN units\n",
    "rnn_units = 516"
   ]
  },
  {
   "cell_type": "code",
   "execution_count": 10,
   "id": "3a8e2983-2d00-434a-9d79-849fcf610ad5",
   "metadata": {},
   "outputs": [],
   "source": [
    "#https://www.geeksforgeeks.org/python-keras-keras-utils-to_categorical/\n",
    "#train labels:\n",
    "X_train_ohe = np.array([to_categorical(x, num_classes = vocab_size) for x in X_train])\n",
    "y_train_ohe = to_categorical(y_train, num_classes = vocab_size)\n",
    "\n",
    "#test labels:\n",
    "X_test_ohe = np.array([to_categorical(x, num_classes = vocab_size) for x in X_test])\n",
    "y_test_ohe = to_categorical(y_test, num_classes = vocab_size)"
   ]
  },
  {
   "cell_type": "code",
   "execution_count": 11,
   "id": "71da8d71-4cc2-47e4-93d0-8c56fd2a181d",
   "metadata": {},
   "outputs": [
    {
     "name": "stdout",
     "output_type": "stream",
     "text": [
      "Train shape: (28802, 20, 970), Test shape: (7201, 20, 970)\n",
      "Train shape: (28802, 970), Test shape: (7201, 970)\n"
     ]
    }
   ],
   "source": [
    "print(f'Train shape: {X_train_ohe.shape}, Test shape: {X_test_ohe.shape}')\n",
    "print(f'Train shape: {y_train_ohe.shape}, Test shape: {y_test_ohe.shape}')"
   ]
  },
  {
   "cell_type": "code",
   "execution_count": 12,
   "id": "3cd7fa2e-aa6b-4cb4-a74e-33530ab8ea52",
   "metadata": {},
   "outputs": [],
   "source": [
    "#https://medium.com/analytics-vidhya/understanding-embedding-layer-in-keras-bbe3ff1327ce\n",
    "#https://www.tensorflow.org/text/tutorials/text_generation\n",
    "#https://www.analyticsvidhya.com/blog/2021/08/predict-the-next-word-of-your-text-using-long-short-term-memory-lstm/\n",
    "#https://stackoverflow.com/questions/55774632/gridsearchcv-randomizedsearchcv-with-lstm\n",
    "\n",
    "model = Sequential()\n",
    "\n",
    "#first layer, embedding:\n",
    "model.add(Embedding(input_dim = vocab_size, output_dim = 100, input_length = X_train_ohe.shape[1]))\n",
    "\n",
    "#second layer, LSTM:\n",
    "model.add(LSTM(rnn_units))\n",
    "\n",
    "#third layer, dropout:\n",
    "model.add(Dropout(rate = 0.10))\n",
    "          \n",
    "#fourth layer, LSTM:\n",
    "model.add(Dense(rnn_units/4, activation = 'relu'))\n",
    "\n",
    "#final dense layer with softmax activation:\n",
    "model.add(Dense(embedding_dim, activation ='softmax'))"
   ]
  },
  {
   "cell_type": "code",
   "execution_count": 13,
   "id": "70c41664-827c-43fb-8900-cb8644d66514",
   "metadata": {},
   "outputs": [
    {
     "name": "stdout",
     "output_type": "stream",
     "text": [
      "Model: \"sequential\"\n",
      "_________________________________________________________________\n",
      " Layer (type)                Output Shape              Param #   \n",
      "=================================================================\n",
      " embedding (Embedding)       (None, 20, 100)           97000     \n",
      "                                                                 \n",
      " lstm (LSTM)                 (None, 516)               1273488   \n",
      "                                                                 \n",
      " dropout (Dropout)           (None, 516)               0         \n",
      "                                                                 \n",
      " dense (Dense)               (None, 129)               66693     \n",
      "                                                                 \n",
      " dense_1 (Dense)             (None, 970)               126100    \n",
      "                                                                 \n",
      "=================================================================\n",
      "Total params: 1,563,281\n",
      "Trainable params: 1,563,281\n",
      "Non-trainable params: 0\n",
      "_________________________________________________________________\n"
     ]
    }
   ],
   "source": [
    "model.summary()"
   ]
  },
  {
   "cell_type": "code",
   "execution_count": 14,
   "id": "8c70aa60-f7de-469a-8ee6-d0d6cc19dc0c",
   "metadata": {},
   "outputs": [
    {
     "data": {
      "image/png": "[encoded data removed]",
      "text/plain": [
       "<IPython.core.display.Image object>"
      ]
     },
     "execution_count": 14,
     "metadata": {},
     "output_type": "execute_result"
    }
   ],
   "source": [
    "#https://machinelearningmastery.com/visualize-deep-learning-neural-network-model-keras/\n",
    "plot_model(model, to_file='model_plot.png', show_shapes=True, show_layer_names=True)"
   ]
  },
  {
   "cell_type": "code",
   "execution_count": 15,
   "id": "16f3d378-8090-488c-8b04-bb9ca3fa1948",
   "metadata": {},
   "outputs": [],
   "source": [
    "opt = Adam(learning_rate = 0.01)\n",
    "model.compile(loss = 'categorical_crossentropy', optimizer = opt, metrics = ['accuracy'])"
   ]
  },
  {
   "cell_type": "code",
   "execution_count": 16,
   "id": "2da46541-6677-4c1d-8f67-7e728c07bf14",
   "metadata": {},
   "outputs": [
    {
     "name": "stdout",
     "output_type": "stream",
     "text": [
      "Epoch 1/20\n",
      "226/226 [==============================] - 65s 269ms/step - loss: 5.3745 - accuracy: 0.0390 - val_loss: 5.0165 - val_accuracy: 0.0717\n",
      "Epoch 2/20\n",
      "226/226 [==============================] - 59s 259ms/step - loss: 4.8846 - accuracy: 0.0787 - val_loss: 4.8972 - val_accuracy: 0.0887\n",
      "Epoch 3/20\n",
      "226/226 [==============================] - 57s 251ms/step - loss: 4.7197 - accuracy: 0.0883 - val_loss: 4.7444 - val_accuracy: 0.0915\n",
      "Epoch 4/20\n",
      "226/226 [==============================] - 58s 259ms/step - loss: 4.5932 - accuracy: 0.0960 - val_loss: 4.6871 - val_accuracy: 0.0979\n",
      "Epoch 5/20\n",
      "226/226 [==============================] - 58s 258ms/step - loss: 4.5047 - accuracy: 0.1012 - val_loss: 4.6752 - val_accuracy: 0.1003\n",
      "Epoch 6/20\n",
      "226/226 [==============================] - 59s 262ms/step - loss: 4.4322 - accuracy: 0.1043 - val_loss: 4.6703 - val_accuracy: 0.1015\n",
      "Epoch 7/20\n",
      "226/226 [==============================] - 59s 260ms/step - loss: 4.3726 - accuracy: 0.1092 - val_loss: 4.6579 - val_accuracy: 0.1025\n",
      "Epoch 8/20\n",
      "226/226 [==============================] - 59s 262ms/step - loss: 4.3201 - accuracy: 0.1122 - val_loss: 4.6935 - val_accuracy: 0.1028\n",
      "Epoch 9/20\n",
      "226/226 [==============================] - 59s 260ms/step - loss: 4.2716 - accuracy: 0.1147 - val_loss: 4.6794 - val_accuracy: 0.1046\n",
      "Epoch 10/20\n",
      "226/226 [==============================] - 58s 258ms/step - loss: 4.2335 - accuracy: 0.1209 - val_loss: 4.7385 - val_accuracy: 0.1042\n",
      "Epoch 11/20\n",
      "226/226 [==============================] - 58s 257ms/step - loss: 4.2080 - accuracy: 0.1199 - val_loss: 4.7438 - val_accuracy: 0.1119\n",
      "Epoch 12/20\n",
      "226/226 [==============================] - 34s 148ms/step - loss: 4.1645 - accuracy: 0.1262 - val_loss: 4.7302 - val_accuracy: 0.1058\n",
      "Epoch 13/20\n",
      "226/226 [==============================] - 34s 150ms/step - loss: 4.1450 - accuracy: 0.1279 - val_loss: 4.7857 - val_accuracy: 0.1040\n",
      "Epoch 14/20\n",
      "226/226 [==============================] - 34s 151ms/step - loss: 4.1088 - accuracy: 0.1308 - val_loss: 4.7970 - val_accuracy: 0.1053\n",
      "Epoch 15/20\n",
      "226/226 [==============================] - 34s 151ms/step - loss: 4.0824 - accuracy: 0.1313 - val_loss: 4.7978 - val_accuracy: 0.1022\n",
      "Epoch 16/20\n",
      "226/226 [==============================] - 34s 150ms/step - loss: 4.0732 - accuracy: 0.1310 - val_loss: 4.8764 - val_accuracy: 0.1042\n",
      "Epoch 17/20\n",
      "226/226 [==============================] - 35s 155ms/step - loss: 4.0552 - accuracy: 0.1342 - val_loss: 4.8541 - val_accuracy: 0.1087\n",
      "Epoch 18/20\n",
      "226/226 [==============================] - 34s 149ms/step - loss: 4.0260 - accuracy: 0.1369 - val_loss: 4.9055 - val_accuracy: 0.1028\n",
      "Epoch 19/20\n",
      "226/226 [==============================] - 34s 151ms/step - loss: 3.9896 - accuracy: 0.1425 - val_loss: 4.9594 - val_accuracy: 0.1047\n",
      "Epoch 20/20\n",
      "226/226 [==============================] - 34s 150ms/step - loss: 3.9677 - accuracy: 0.1426 - val_loss: 4.9480 - val_accuracy: 0.1010\n"
     ]
    }
   ],
   "source": [
    "history = model.fit(X_train, y_train_ohe,\n",
    "                    validation_data = (X_test, y_test_ohe),\n",
    "                    batch_size = 128, \n",
    "                    epochs = 20)"
   ]
  },
  {
   "cell_type": "code",
   "execution_count": 17,
   "id": "ba6d4512-27ac-4bae-900c-9423fe39d961",
   "metadata": {},
   "outputs": [
    {
     "data": {
      "image/png": "[encoded data removed]",
      "text/plain": [
       "<Figure size 432x288 with 1 Axes>"
      ]
     },
     "metadata": {
      "needs_background": "light"
     },
     "output_type": "display_data"
    }
   ],
   "source": [
    "plt.plot(history.history['accuracy'])\n",
    "plt.plot(history.history['val_accuracy'])\n",
    "plt.title('model accuracy')\n",
    "plt.ylabel('accuracy')\n",
    "plt.xlabel('epoch')\n",
    "plt.legend(['train', 'test'], loc = 'upper left');"
   ]
  },
  {
   "cell_type": "code",
   "execution_count": 18,
   "id": "6a275808-16b3-4582-8404-861b1aabd53a",
   "metadata": {},
   "outputs": [
    {
     "data": {
      "image/png": "[encoded data removed]",
      "text/plain": [
       "<Figure size 432x288 with 1 Axes>"
      ]
     },
     "metadata": {
      "needs_background": "light"
     },
     "output_type": "display_data"
    }
   ],
   "source": [
    "plt.plot(history.history['loss'])\n",
    "plt.plot(history.history['val_loss'])\n",
    "plt.title('model loss')\n",
    "plt.ylabel('loss')\n",
    "plt.xlabel('epoch')\n",
    "plt.legend(['train', 'test'], loc='upper left');"
   ]
  },
  {
   "cell_type": "code",
   "execution_count": null,
   "id": "39207266-1a22-48ef-9f5e-e729bd9fb34d",
   "metadata": {},
   "outputs": [],
   "source": []
  }
 ],
 "metadata": {
  "kernelspec": {
   "display_name": "Python 3",
   "language": "python",
   "name": "python3"
  },
  "language_info": {
   "codemirror_mode": {
    "name": "ipython",
    "version": 3
   },
   "file_extension": ".py",
   "mimetype": "text/x-python",
   "name": "python",
   "nbconvert_exporter": "python",
   "pygments_lexer": "ipython3",
   "version": "3.8.8"
  }
 },
 "nbformat": 4,
 "nbformat_minor": 5
}
