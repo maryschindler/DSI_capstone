{
 "cells": [
  {
   "cell_type": "markdown",
   "id": "148756ae-8988-498a-97e4-71eeac512be3",
   "metadata": {},
   "source": [
    "## Modeling"
   ]
  },
  {
   "cell_type": "markdown",
   "id": "9e7cda76-1dce-4ff0-92e4-10edf8b4f76a",
   "metadata": {},
   "source": [
    "**Imports**"
   ]
  },
  {
   "cell_type": "code",
   "execution_count": 1,
   "id": "c9b2c363-9741-4789-81d6-20921610a365",
   "metadata": {},
   "outputs": [],
   "source": [
    "import pandas as pd\n",
    "pd.set_option('display.max_columns', None)\n",
    "import numpy as np\n",
    "np.random.seed(42)\n",
    "\n",
    "from sklearn.preprocessing import StandardScaler\n",
    "from sklearn.model_selection import train_test_split, GridSearchCV\n",
    "from sklearn.metrics import accuracy_score\n",
    "\n",
    "from tensorflow import keras\n",
    "from tensorflow.keras import layers\n",
    "from tensorflow.keras.callbacks import EarlyStopping\n",
    "from tensorflow.keras.layers import Dense, Dropout, Embedding, LSTM\n",
    "from tensorflow.keras.models import Sequential\n",
    "from tensorflow.keras.optimizers import Adam\n",
    "from tensorflow.keras.utils import to_categorical, plot_model\n",
    "from tensorflow.keras.wrappers.scikit_learn import KerasRegressor\n",
    "\n",
    "import matplotlib.pyplot as plt\n",
    "import seaborn as sns"
   ]
  },
  {
   "cell_type": "markdown",
   "id": "733cc16e-d5d5-4912-9c10-658979acede2",
   "metadata": {},
   "source": [
    "**Reading in Data**"
   ]
  },
  {
   "cell_type": "code",
   "execution_count": 2,
   "id": "70edef58-7cbf-493c-9919-6b0cfb9b5d14",
   "metadata": {},
   "outputs": [
    {
     "data": {
      "text/plain": [
       "(36003, 21)"
      ]
     },
     "execution_count": 2,
     "metadata": {},
     "output_type": "execute_result"
    }
   ],
   "source": [
    "model_sets = np.load('../data/model_sets.npy')\n",
    "model_sets.shape"
   ]
  },
  {
   "cell_type": "code",
   "execution_count": 3,
   "id": "c593df44-ec91-4636-924e-0c71dd02396f",
   "metadata": {},
   "outputs": [],
   "source": [
    "#remember, I am modeling for song n + 1 based on songs n previously played:\n",
    "X_rr, y_rr = model_sets[:, :-1], model_sets[:, -1] "
   ]
  },
  {
   "cell_type": "code",
   "execution_count": 4,
   "id": "649c9b61-7759-43bf-90ca-ba21cbe6c067",
   "metadata": {},
   "outputs": [
    {
     "data": {
      "text/plain": [
       "((36003, 20), (36003,))"
      ]
     },
     "execution_count": 4,
     "metadata": {},
     "output_type": "execute_result"
    }
   ],
   "source": [
    "X_rr.shape, y_rr.shape"
   ]
  },
  {
   "cell_type": "markdown",
   "id": "00205f53-1560-46b0-b643-e415dc67b3c6",
   "metadata": {},
   "source": [
    "**Train-Test Split**"
   ]
  },
  {
   "cell_type": "code",
   "execution_count": 5,
   "id": "03c855a6-6135-4909-ba3d-37598e554dee",
   "metadata": {},
   "outputs": [],
   "source": [
    "X_train, X_test, y_train, y_test = train_test_split(X_rr, y_rr, \n",
    "                                                    test_size = 0.2, \n",
    "                                                    random_state = 42)"
   ]
  },
  {
   "cell_type": "code",
   "execution_count": 6,
   "id": "8c9cf5b6-2cd9-44bb-b7ee-9e8a0cb7ec89",
   "metadata": {},
   "outputs": [
    {
     "name": "stdout",
     "output_type": "stream",
     "text": [
      "X_train and y_train: (28802, 20), (28802,)\n",
      "X_test and y_test: (7201, 20), (7201,)\n"
     ]
    }
   ],
   "source": [
    "print(f'X_train and y_train: {X_train.shape}, {y_train.shape}')\n",
    "print(f'X_test and y_test: {X_test.shape}, {y_test.shape}')"
   ]
  },
  {
   "cell_type": "markdown",
   "id": "0e2d1544-d757-4ec2-a85f-8a44401b4cb5",
   "metadata": {},
   "source": [
    "**Modeling - Third Attempt, with Regularization**"
   ]
  },
  {
   "cell_type": "code",
   "execution_count": 7,
   "id": "e44038d8-830b-4200-bf60-b855fd09f318",
   "metadata": {},
   "outputs": [],
   "source": [
    "#REVISIT\n",
    "#REVISIT\n",
    "#REVISIT\n",
    "\n",
    "#consider using stringlookup instead of previously encoding:\n",
    "# ids_from_chars = tf.keras.layers.StringLookup(\n",
    "#     vocabulary=list(vocab), mask_token=None)"
   ]
  },
  {
   "cell_type": "code",
   "execution_count": 8,
   "id": "7eaf1d94-ab5d-4680-ae67-b6f6da4de141",
   "metadata": {},
   "outputs": [
    {
     "name": "stdout",
     "output_type": "stream",
     "text": [
      "970 unique songs!\n"
     ]
    }
   ],
   "source": [
    "#https://www.tensorflow.org/text/tutorials/text_generation\n",
    "songs = np.array(model_sets).tolist()\n",
    "songs = [item for sublist in songs for item in sublist]\n",
    "\n",
    "vocab = set(songs)\n",
    "print(f'{len(vocab)} unique songs!')"
   ]
  },
  {
   "cell_type": "code",
   "execution_count": 9,
   "id": "ae64a260-6e8c-42dd-b066-3bdd17b9b085",
   "metadata": {},
   "outputs": [],
   "source": [
    "# Length of the vocabulary in chars\n",
    "vocab_size = len(vocab)\n",
    "\n",
    "# The embedding dimension\n",
    "embedding_dim = 970\n",
    "\n",
    "# Number of RNN units\n",
    "rnn_units = 516"
   ]
  },
  {
   "cell_type": "code",
   "execution_count": 10,
   "id": "3a8e2983-2d00-434a-9d79-849fcf610ad5",
   "metadata": {},
   "outputs": [],
   "source": [
    "#https://www.geeksforgeeks.org/python-keras-keras-utils-to_categorical/\n",
    "#train labels:\n",
    "X_train_ohe = np.array([to_categorical(x, num_classes = vocab_size) for x in X_train])\n",
    "y_train_ohe = to_categorical(y_train, num_classes = vocab_size)\n",
    "\n",
    "#test labels:\n",
    "X_test_ohe = np.array([to_categorical(x, num_classes = vocab_size) for x in X_test])\n",
    "y_test_ohe = to_categorical(y_test, num_classes = vocab_size)"
   ]
  },
  {
   "cell_type": "code",
   "execution_count": 11,
   "id": "71da8d71-4cc2-47e4-93d0-8c56fd2a181d",
   "metadata": {},
   "outputs": [
    {
     "name": "stdout",
     "output_type": "stream",
     "text": [
      "Train shape: (28802, 20, 970), Test shape: (7201, 20, 970)\n",
      "Train shape: (28802, 970), Test shape: (7201, 970)\n"
     ]
    }
   ],
   "source": [
    "print(f'Train shape: {X_train_ohe.shape}, Test shape: {X_test_ohe.shape}')\n",
    "print(f'Train shape: {y_train_ohe.shape}, Test shape: {y_test_ohe.shape}')"
   ]
  },
  {
   "cell_type": "code",
   "execution_count": 12,
   "id": "3cd7fa2e-aa6b-4cb4-a74e-33530ab8ea52",
   "metadata": {},
   "outputs": [],
   "source": [
    "#https://medium.com/analytics-vidhya/understanding-embedding-layer-in-keras-bbe3ff1327ce\n",
    "#https://www.tensorflow.org/text/tutorials/text_generation\n",
    "#https://www.analyticsvidhya.com/blog/2021/08/predict-the-next-word-of-your-text-using-long-short-term-memory-lstm/\n",
    "#https://stackoverflow.com/questions/55774632/gridsearchcv-randomizedsearchcv-with-lstm\n",
    "\n",
    "model = Sequential()\n",
    "\n",
    "#first layer, embedding:\n",
    "model.add(Embedding(input_dim = vocab_size, output_dim = 100, input_length = X_train_ohe.shape[1]))\n",
    "\n",
    "#second layer, LSTM:\n",
    "model.add(LSTM(256))\n",
    "\n",
    "#third layer, dropout:\n",
    "model.add(Dropout(rate = 0.20))\n",
    "          \n",
    "#fourth layer, LSTM:\n",
    "model.add(Dense(rnn_units/4, activation = 'relu'))\n",
    "\n",
    "#final dense layer with softmax activation:\n",
    "model.add(Dense(embedding_dim, activation ='softmax'))"
   ]
  },
  {
   "cell_type": "code",
   "execution_count": 13,
   "id": "70c41664-827c-43fb-8900-cb8644d66514",
   "metadata": {},
   "outputs": [
    {
     "name": "stdout",
     "output_type": "stream",
     "text": [
      "Model: \"sequential\"\n",
      "_________________________________________________________________\n",
      " Layer (type)                Output Shape              Param #   \n",
      "=================================================================\n",
      " embedding (Embedding)       (None, 20, 100)           97000     \n",
      "                                                                 \n",
      " lstm (LSTM)                 (None, 256)               365568    \n",
      "                                                                 \n",
      " dropout (Dropout)           (None, 256)               0         \n",
      "                                                                 \n",
      " dense (Dense)               (None, 129)               33153     \n",
      "                                                                 \n",
      " dense_1 (Dense)             (None, 970)               126100    \n",
      "                                                                 \n",
      "=================================================================\n",
      "Total params: 621,821\n",
      "Trainable params: 621,821\n",
      "Non-trainable params: 0\n",
      "_________________________________________________________________\n"
     ]
    }
   ],
   "source": [
    "model.summary()"
   ]
  },
  {
   "cell_type": "code",
   "execution_count": 14,
   "id": "8c70aa60-f7de-469a-8ee6-d0d6cc19dc0c",
   "metadata": {},
   "outputs": [
    {
     "data": {
      "image/png": "[encoded data removed]",
      "text/plain": [
       "<IPython.core.display.Image object>"
      ]
     },
     "execution_count": 14,
     "metadata": {},
     "output_type": "execute_result"
    }
   ],
   "source": [
    "#https://machinelearningmastery.com/visualize-deep-learning-neural-network-model-keras/\n",
    "plot_model(model, to_file='model_plot_0.png', show_shapes=True, show_layer_names=True)"
   ]
  },
  {
   "cell_type": "code",
   "execution_count": 15,
   "id": "16f3d378-8090-488c-8b04-bb9ca3fa1948",
   "metadata": {},
   "outputs": [],
   "source": [
    "opt = Adam(learning_rate = 0.01)\n",
    "model.compile(loss = 'categorical_crossentropy', optimizer = opt, metrics = ['accuracy'])"
   ]
  },
  {
   "cell_type": "code",
   "execution_count": 16,
   "id": "2da46541-6677-4c1d-8f67-7e728c07bf14",
   "metadata": {},
   "outputs": [
    {
     "name": "stdout",
     "output_type": "stream",
     "text": [
      "Epoch 1/20\n",
      "226/226 [==============================] - 13s 53ms/step - loss: 5.4218 - accuracy: 0.0382 - val_loss: 5.0625 - val_accuracy: 0.0710\n",
      "Epoch 2/20\n",
      "226/226 [==============================] - 11s 48ms/step - loss: 4.9506 - accuracy: 0.0745 - val_loss: 4.9105 - val_accuracy: 0.0836\n",
      "Epoch 3/20\n",
      "226/226 [==============================] - 11s 50ms/step - loss: 4.7605 - accuracy: 0.0868 - val_loss: 4.7885 - val_accuracy: 0.0933\n",
      "Epoch 4/20\n",
      "226/226 [==============================] - 11s 49ms/step - loss: 4.6337 - accuracy: 0.0942 - val_loss: 4.7330 - val_accuracy: 0.0955\n",
      "Epoch 5/20\n",
      "226/226 [==============================] - 11s 48ms/step - loss: 4.5339 - accuracy: 0.0997 - val_loss: 4.7012 - val_accuracy: 0.0946\n",
      "Epoch 6/20\n",
      "226/226 [==============================] - 11s 49ms/step - loss: 4.4589 - accuracy: 0.1036 - val_loss: 4.6899 - val_accuracy: 0.1022\n",
      "Epoch 7/20\n",
      "226/226 [==============================] - 11s 50ms/step - loss: 4.4095 - accuracy: 0.1082 - val_loss: 4.7092 - val_accuracy: 0.1064\n",
      "Epoch 8/20\n",
      "226/226 [==============================] - 11s 50ms/step - loss: 4.3534 - accuracy: 0.1109 - val_loss: 4.6823 - val_accuracy: 0.1048\n",
      "Epoch 9/20\n",
      "226/226 [==============================] - 12s 53ms/step - loss: 4.2977 - accuracy: 0.1160 - val_loss: 4.7243 - val_accuracy: 0.1097\n",
      "Epoch 10/20\n",
      "226/226 [==============================] - 12s 53ms/step - loss: 4.2590 - accuracy: 0.1181 - val_loss: 4.7153 - val_accuracy: 0.1089\n",
      "Epoch 11/20\n",
      "226/226 [==============================] - 12s 53ms/step - loss: 4.2163 - accuracy: 0.1203 - val_loss: 4.7653 - val_accuracy: 0.1087\n",
      "Epoch 12/20\n",
      "226/226 [==============================] - 12s 53ms/step - loss: 4.1855 - accuracy: 0.1229 - val_loss: 4.7560 - val_accuracy: 0.1082\n",
      "Epoch 13/20\n",
      "226/226 [==============================] - 12s 53ms/step - loss: 4.1604 - accuracy: 0.1226 - val_loss: 4.7553 - val_accuracy: 0.1076\n",
      "Epoch 14/20\n",
      "226/226 [==============================] - 12s 52ms/step - loss: 4.1296 - accuracy: 0.1253 - val_loss: 4.7916 - val_accuracy: 0.1062\n",
      "Epoch 15/20\n",
      "226/226 [==============================] - 12s 54ms/step - loss: 4.0974 - accuracy: 0.1298 - val_loss: 4.7928 - val_accuracy: 0.1082\n",
      "Epoch 16/20\n",
      "226/226 [==============================] - 12s 54ms/step - loss: 4.0887 - accuracy: 0.1302 - val_loss: 4.8095 - val_accuracy: 0.1100\n",
      "Epoch 17/20\n",
      "226/226 [==============================] - 12s 53ms/step - loss: 4.0728 - accuracy: 0.1335 - val_loss: 4.8429 - val_accuracy: 0.1043\n",
      "Epoch 18/20\n",
      "226/226 [==============================] - 12s 53ms/step - loss: 4.0398 - accuracy: 0.1347 - val_loss: 4.8597 - val_accuracy: 0.1083\n",
      "Epoch 19/20\n",
      "226/226 [==============================] - 12s 54ms/step - loss: 4.0135 - accuracy: 0.1341 - val_loss: 4.8970 - val_accuracy: 0.1062\n",
      "Epoch 20/20\n",
      "226/226 [==============================] - 12s 54ms/step - loss: 3.9979 - accuracy: 0.1392 - val_loss: 4.8778 - val_accuracy: 0.1097\n"
     ]
    }
   ],
   "source": [
    "history = model.fit(X_train, y_train_ohe,\n",
    "                    validation_data = (X_test, y_test_ohe),\n",
    "                    batch_size = 128, \n",
    "                    epochs = 20)"
   ]
  },
  {
   "cell_type": "code",
   "execution_count": 17,
   "id": "ba6d4512-27ac-4bae-900c-9423fe39d961",
   "metadata": {},
   "outputs": [
    {
     "data": {
      "image/png": "[encoded data removed]",
      "text/plain": [
       "<Figure size 432x288 with 1 Axes>"
      ]
     },
     "metadata": {
      "needs_background": "light"
     },
     "output_type": "display_data"
    }
   ],
   "source": [
    "plt.plot(history.history['accuracy'])\n",
    "plt.plot(history.history['val_accuracy'])\n",
    "plt.title('Model Accuracy')\n",
    "plt.ylabel('Accuracy')\n",
    "plt.xlabel('Epoch')\n",
    "plt.legend(['Train', 'Test'], loc = 'upper left');"
   ]
  },
  {
   "cell_type": "code",
   "execution_count": 18,
   "id": "6a275808-16b3-4582-8404-861b1aabd53a",
   "metadata": {},
   "outputs": [
    {
     "data": {
      "image/png": "[encoded data removed]",
      "text/plain": [
       "<Figure size 432x288 with 1 Axes>"
      ]
     },
     "metadata": {
      "needs_background": "light"
     },
     "output_type": "display_data"
    }
   ],
   "source": [
    "plt.plot(history.history['loss'])\n",
    "plt.plot(history.history['val_loss'])\n",
    "plt.title('Model Loss')\n",
    "plt.ylabel('Loss')\n",
    "plt.xlabel('Epoch')\n",
    "plt.legend(['Train', 'Test'], loc='upper left');"
   ]
  },
  {
   "cell_type": "markdown",
   "id": "cf51f7fc-86da-4a90-881a-0b9724d5f176",
   "metadata": {},
   "source": [
    "**Making Predictions for this, the Best Performing Model**"
   ]
  },
  {
   "cell_type": "code",
   "execution_count": 19,
   "id": "27cef9da-b4ca-4270-a1e7-d72a569aa096",
   "metadata": {},
   "outputs": [
    {
     "data": {
      "text/plain": [
       "array([[940, 616, 824, 748, 470, 951, 641, 817,  47,  91,  52, 345, 620,\n",
       "        145, 916, 213, 611, 903, 883, 338],\n",
       "       [840, 955, 177, 502, 911, 579, 502, 462, 278,  87, 617, 183, 631,\n",
       "        451, 267, 357, 251, 483, 517, 345]])"
      ]
     },
     "execution_count": 19,
     "metadata": {},
     "output_type": "execute_result"
    }
   ],
   "source": [
    "X_test[0:2]"
   ]
  },
  {
   "cell_type": "code",
   "execution_count": 20,
   "id": "59b8a510-14b4-4103-ab2f-fd137daa6909",
   "metadata": {},
   "outputs": [
    {
     "data": {
      "text/plain": [
       "array([[1.4583292e-08, 6.3874267e-14, 1.2075654e-13, ..., 1.7586471e-09,\n",
       "        2.5291289e-14, 2.3105693e-13],\n",
       "       [1.4236618e-05, 3.5754263e-07, 1.0475231e-08, ..., 1.8832811e-06,\n",
       "        4.5215128e-07, 1.2387343e-08]], dtype=float32)"
      ]
     },
     "execution_count": 20,
     "metadata": {},
     "output_type": "execute_result"
    }
   ],
   "source": [
    "preds = model.predict(X_test)\n",
    "preds[0:2]"
   ]
  },
  {
   "cell_type": "code",
   "execution_count": 51,
   "id": "e3e0306f-1034-4c52-b176-2b44e452583e",
   "metadata": {},
   "outputs": [],
   "source": [
    "#https://stackoverflow.com/questions/51382524/what-is-the-difference-between-predict-and-predict-class-functions-in-keras\n",
    "#https://stackoverflow.com/questions/44806125/attributeerror-model-object-has-no-attribute-predict-classes\n",
    "\n",
    "preds = np.argmax(preds, axis = 1)"
   ]
  },
  {
   "cell_type": "code",
   "execution_count": 22,
   "id": "5e09b637-5db5-428c-a226-91ceb8f1d31f",
   "metadata": {},
   "outputs": [],
   "source": [
    "df = pd.read_csv('../data/showsandsets.csv')"
   ]
  },
  {
   "cell_type": "code",
   "execution_count": 23,
   "id": "002cf3a5-c805-4401-a64c-d73e55dc4309",
   "metadata": {},
   "outputs": [
    {
     "data": {
      "text/plain": [
       "[\"'Long Cool Woman in a Black Dress'\",\n",
       " \"'Proud Mary'\",\n",
       " \"'In the Midnight Hour'\",\n",
       " \"'Squeeze Box'\",\n",
       " \"'Roadhouse Blues'\",\n",
       " \"'Happy Birthday to You'\",\n",
       " \"'Scarlet Begonias'\",\n",
       " \"'Fire on the Mountain'\",\n",
       " \"'Makisupa Policeman'\",\n",
       " \"'In the Midnight Hour'\",\n",
       " \"'Wild Child'\",\n",
       " \"'Jam'\"]"
      ]
     },
     "execution_count": 23,
     "metadata": {},
     "output_type": "execute_result"
    }
   ],
   "source": [
    "setlist = df['setlists'].tolist()\n",
    "setlist = ''.join(setlist)\n",
    "setlist = setlist.replace('][', ', ')\n",
    "setlist = setlist.replace('[', '')\n",
    "setlist = setlist.replace(']', '')\n",
    "setlist = setlist.split(', ')\n",
    "setlist[0:12]"
   ]
  },
  {
   "cell_type": "code",
   "execution_count": 24,
   "id": "279f5fbb-c72e-4ba1-9055-0ca8fefdf749",
   "metadata": {},
   "outputs": [],
   "source": [
    "unique_songs = sorted(set(setlist))"
   ]
  },
  {
   "cell_type": "code",
   "execution_count": 25,
   "id": "7671f21a-82bf-46be-9f2f-ead9938f29af",
   "metadata": {},
   "outputs": [],
   "source": [
    "from itertools import islice\n",
    "\n",
    "rev_idx_list = {index: song for index, song in enumerate(unique_songs)}\n",
    "#rev_idx_list #commented out for length"
   ]
  },
  {
   "cell_type": "code",
   "execution_count": 26,
   "id": "8faa6649-7988-487e-8692-19e955bffc4f",
   "metadata": {},
   "outputs": [
    {
     "data": {
      "text/plain": [
       "\"'A Wave of Hope'\""
      ]
     },
     "execution_count": 26,
     "metadata": {},
     "output_type": "execute_result"
    }
   ],
   "source": [
    "rev_idx_list[100]"
   ]
  },
  {
   "cell_type": "code",
   "execution_count": 63,
   "id": "ec0a6976-64b2-46e5-8c16-1c822149b4a5",
   "metadata": {},
   "outputs": [
    {
     "data": {
      "text/plain": [
       "array([\"'Jennifer Dances'\", \"'Wild Honey Pie'\", \"'The Rock'\",\n",
       "       \"'Jennifer Dances'\", \"'Terrapin Station'\", \"'David Bowie'\",\n",
       "       \"'Wild Honey Pie'\", \"'Pebbles and Marbles'\", \"'The Rock'\",\n",
       "       \"'The Curtain With'\", \"'Mallory'\", \"'Sleep Again'\",\n",
       "       \"'The Practical Song'\", \"'Satin Doll'\", \"'The Vibration of Life'\",\n",
       "       \"'Pebbles and Marbles'\", \"'Slave to the Traffic Light'\",\n",
       "       \"'The Rock'\", \"'Pebbles and Marbles'\", \"'Shake Your Coconuts'\"],\n",
       "      dtype='<U48')"
      ]
     },
     "execution_count": 63,
     "metadata": {},
     "output_type": "execute_result"
    }
   ],
   "source": [
    "#https://stackoverflow.com/questions/16992713/translate-every-element-in-numpy-array-according-to-key\n",
    "\n",
    "np.vectorize(rev_idx_list.get)(preds)[0:20]"
   ]
  },
  {
   "cell_type": "code",
   "execution_count": 46,
   "id": "cf72c29d-5db4-4518-9e21-a86eb5d6a892",
   "metadata": {},
   "outputs": [
    {
     "data": {
      "text/plain": [
       "\"'Two Versions of Me'\""
      ]
     },
     "execution_count": 46,
     "metadata": {},
     "output_type": "execute_result"
    }
   ],
   "source": [
    "np.vectorize(rev_idx_list.get)(preds)[0]"
   ]
  },
  {
   "cell_type": "code",
   "execution_count": 38,
   "id": "125974b7-76bb-44b0-b6fb-9404d3386333",
   "metadata": {},
   "outputs": [
    {
     "data": {
      "text/plain": [
       "array([[969, 621, 439, 739, 644, 375, 679, 312, 509, 439, 934, 448, 155,\n",
       "          6, 740,   6, 203, 301, 924, 284, 448]])"
      ]
     },
     "execution_count": 38,
     "metadata": {},
     "output_type": "execute_result"
    }
   ],
   "source": [
    "model_sets[0:1]"
   ]
  },
  {
   "cell_type": "code",
   "execution_count": 53,
   "id": "136a1251-d6a5-4973-83e4-ec97a0f3c64c",
   "metadata": {},
   "outputs": [
    {
     "data": {
      "text/plain": [
       "array([[1.4903367e-09, 1.1257783e-06, 9.6284657e-07, ..., 3.4059896e-05,\n",
       "        2.3012080e-07, 9.5172169e-07],\n",
       "       [5.5174298e-12, 9.4814114e-03, 6.3238019e-07, ..., 1.9963764e-04,\n",
       "        1.1798131e-05, 7.7053960e-07],\n",
       "       [7.8334429e-11, 1.2653425e-03, 6.6844655e-07, ..., 1.4585512e-05,\n",
       "        2.2132942e-06, 6.9202457e-07],\n",
       "       ...,\n",
       "       [1.9454839e-05, 8.3569579e-10, 3.9568855e-11, ..., 8.2169862e-09,\n",
       "        1.2722592e-08, 4.3125618e-11],\n",
       "       [1.0399124e-05, 2.0401887e-06, 3.7441165e-08, ..., 7.0499541e-06,\n",
       "        5.2758933e-06, 4.2353431e-08],\n",
       "       [2.6371445e-06, 1.2063627e-07, 1.4642442e-09, ..., 9.0533831e-07,\n",
       "        6.7680463e-07, 1.6827072e-09]], dtype=float32)"
      ]
     },
     "execution_count": 53,
     "metadata": {},
     "output_type": "execute_result"
    }
   ],
   "source": [
    "preds = model.predict(X_rr)\n",
    "preds"
   ]
  },
  {
   "cell_type": "code",
   "execution_count": 54,
   "id": "eef137f8-d449-4d2a-87f5-19fbc8bd4dea",
   "metadata": {},
   "outputs": [],
   "source": [
    "preds = np.argmax(preds, axis = 1)"
   ]
  },
  {
   "cell_type": "code",
   "execution_count": 74,
   "id": "769ddeeb-bf8f-41cd-a442-1ada42b20494",
   "metadata": {},
   "outputs": [
    {
     "data": {
      "text/plain": [
       "\"'David Bowie'\""
      ]
     },
     "execution_count": 74,
     "metadata": {},
     "output_type": "execute_result"
    }
   ],
   "source": [
    "np.vectorize(rev_idx_list.get)(preds)[5]"
   ]
  },
  {
   "cell_type": "code",
   "execution_count": 75,
   "id": "e8466029-cf53-4a0b-ba47-37bbb16ccb43",
   "metadata": {},
   "outputs": [],
   "source": [
    "#Attempting to write a function to generate a setlist:\n",
    "\n",
    "# def generate_full_setlist(model, n_songs):\n",
    "    \n",
    "#     setlist = []\n",
    "    \n",
    "#     for songs in range(1, n_songs):\n",
    "#         preds = model.predict(X_rr)\n",
    "        \n",
    "#         # predict next song\n",
    "#         for i in range(1, n_songs):\n",
    "#             next_song = np.vectorize(rev_idx_list.get)(preds)[i]\n",
    "        \n",
    "#             # append to list\n",
    "#             setlist.append(next_song)        \n",
    "    \n",
    "#     return setlist"
   ]
  },
  {
   "cell_type": "code",
   "execution_count": null,
   "id": "df7357aa-632b-4fa0-aee6-4f1b8ce24348",
   "metadata": {},
   "outputs": [],
   "source": []
  }
 ],
 "metadata": {
  "kernelspec": {
   "display_name": "Python 3",
   "language": "python",
   "name": "python3"
  },
  "language_info": {
   "codemirror_mode": {
    "name": "ipython",
    "version": 3
   },
   "file_extension": ".py",
   "mimetype": "text/x-python",
   "name": "python",
   "nbconvert_exporter": "python",
   "pygments_lexer": "ipython3",
   "version": "3.8.8"
  }
 },
 "nbformat": 4,
 "nbformat_minor": 5
}
