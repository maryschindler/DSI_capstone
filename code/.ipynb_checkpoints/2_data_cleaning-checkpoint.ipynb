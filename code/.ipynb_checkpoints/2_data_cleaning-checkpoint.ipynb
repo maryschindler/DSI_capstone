{
 "cells": [
  {
   "cell_type": "markdown",
   "id": "dccf3b5a-b4da-4bdb-b9e4-cc12941930ca",
   "metadata": {},
   "source": [
    "## Data Cleaning ##"
   ]
  },
  {
   "cell_type": "markdown",
   "id": "fa65c68c-ca20-45bc-813b-e6b16e5efdcd",
   "metadata": {},
   "source": [
    "**Imports**"
   ]
  },
  {
   "cell_type": "code",
   "execution_count": 1,
   "id": "a70927b7-de17-4f1f-8dec-f1c5e352aa19",
   "metadata": {},
   "outputs": [],
   "source": [
    "import pandas as pd\n",
    "pd.set_option('display.max_columns', None)\n",
    "\n",
    "import numpy as np\n",
    "np.random.seed(42)\n",
    "\n",
    "import matplotlib.pyplot as plt\n",
    "import seaborn as sns\n",
    "sns.set(style = \"darkgrid\")\n",
    "\n",
    "import datetime as dt"
   ]
  },
  {
   "cell_type": "markdown",
   "id": "08ed6420-9894-4c7e-9952-e2f3dc3f5616",
   "metadata": {},
   "source": [
    "**Reading in Shows' Data**"
   ]
  },
  {
   "cell_type": "code",
   "execution_count": 63,
   "id": "b5f61944-2ddc-41ef-8233-0496e8b087cd",
   "metadata": {},
   "outputs": [],
   "source": [
    "shows_df = pd.read_csv('../data/just_shows.csv').drop(columns = 'Unnamed: 0')"
   ]
  },
  {
   "cell_type": "code",
   "execution_count": 64,
   "id": "290698a9-5d29-498e-84ed-c4fa9a741058",
   "metadata": {},
   "outputs": [
    {
     "data": {
      "text/html": [
       "<div>\n",
       "<style scoped>\n",
       "    .dataframe tbody tr th:only-of-type {\n",
       "        vertical-align: middle;\n",
       "    }\n",
       "\n",
       "    .dataframe tbody tr th {\n",
       "        vertical-align: top;\n",
       "    }\n",
       "\n",
       "    .dataframe thead th {\n",
       "        text-align: right;\n",
       "    }\n",
       "</style>\n",
       "<table border=\"1\" class=\"dataframe\">\n",
       "  <thead>\n",
       "    <tr style=\"text-align: right;\">\n",
       "      <th></th>\n",
       "      <th>showid</th>\n",
       "      <th>showyear</th>\n",
       "      <th>showmonth</th>\n",
       "      <th>showdate</th>\n",
       "      <th>permalink</th>\n",
       "      <th>setlist_notes</th>\n",
       "      <th>venue</th>\n",
       "      <th>city</th>\n",
       "      <th>state</th>\n",
       "      <th>country</th>\n",
       "      <th>artist_name</th>\n",
       "      <th>tourid</th>\n",
       "      <th>tour_name</th>\n",
       "    </tr>\n",
       "  </thead>\n",
       "  <tbody>\n",
       "    <tr>\n",
       "      <th>0</th>\n",
       "      <td>1251168326</td>\n",
       "      <td>1983</td>\n",
       "      <td>10</td>\n",
       "      <td>1983-10-30</td>\n",
       "      <td>https://phish.net/setlists/phish-october-30-19...</td>\n",
       "      <td>Throughout most of Phish history this was unde...</td>\n",
       "      <td>Harris-Millis Cafeteria - University of Vermont</td>\n",
       "      <td>Burlington</td>\n",
       "      <td>VT</td>\n",
       "      <td>USA</td>\n",
       "      <td>Phish</td>\n",
       "      <td>61</td>\n",
       "      <td>Not Part of a Tour</td>\n",
       "    </tr>\n",
       "    <tr>\n",
       "      <th>1</th>\n",
       "      <td>1251253100</td>\n",
       "      <td>1983</td>\n",
       "      <td>12</td>\n",
       "      <td>1983-12-02</td>\n",
       "      <td>https://phish.net/setlists/phish-december-02-1...</td>\n",
       "      <td>Trey, Mike, Fish, and Jeff Holdsworth recall b...</td>\n",
       "      <td>Harris-Millis Cafeteria - University of Vermont</td>\n",
       "      <td>Burlington</td>\n",
       "      <td>VT</td>\n",
       "      <td>USA</td>\n",
       "      <td>Phish</td>\n",
       "      <td>1</td>\n",
       "      <td>1983 Tour</td>\n",
       "    </tr>\n",
       "    <tr>\n",
       "      <th>2</th>\n",
       "      <td>1251253531</td>\n",
       "      <td>1983</td>\n",
       "      <td>12</td>\n",
       "      <td>1983-12-03</td>\n",
       "      <td>https://phish.net/setlists/phish-december-03-1...</td>\n",
       "      <td>This show, played by Trey, Mike, Fish, and Jef...</td>\n",
       "      <td>Marsh / Austin / Tupper Dormitory, University ...</td>\n",
       "      <td>Burlington</td>\n",
       "      <td>VT</td>\n",
       "      <td>USA</td>\n",
       "      <td>Phish</td>\n",
       "      <td>1</td>\n",
       "      <td>1983 Tour</td>\n",
       "    </tr>\n",
       "  </tbody>\n",
       "</table>\n",
       "</div>"
      ],
      "text/plain": [
       "       showid  showyear  showmonth    showdate  \\\n",
       "0  1251168326      1983         10  1983-10-30   \n",
       "1  1251253100      1983         12  1983-12-02   \n",
       "2  1251253531      1983         12  1983-12-03   \n",
       "\n",
       "                                           permalink  \\\n",
       "0  https://phish.net/setlists/phish-october-30-19...   \n",
       "1  https://phish.net/setlists/phish-december-02-1...   \n",
       "2  https://phish.net/setlists/phish-december-03-1...   \n",
       "\n",
       "                                       setlist_notes  \\\n",
       "0  Throughout most of Phish history this was unde...   \n",
       "1  Trey, Mike, Fish, and Jeff Holdsworth recall b...   \n",
       "2  This show, played by Trey, Mike, Fish, and Jef...   \n",
       "\n",
       "                                               venue        city state  \\\n",
       "0    Harris-Millis Cafeteria - University of Vermont  Burlington    VT   \n",
       "1    Harris-Millis Cafeteria - University of Vermont  Burlington    VT   \n",
       "2  Marsh / Austin / Tupper Dormitory, University ...  Burlington    VT   \n",
       "\n",
       "  country artist_name  tourid           tour_name  \n",
       "0     USA       Phish      61  Not Part of a Tour  \n",
       "1     USA       Phish       1           1983 Tour  \n",
       "2     USA       Phish       1           1983 Tour  "
      ]
     },
     "execution_count": 64,
     "metadata": {},
     "output_type": "execute_result"
    }
   ],
   "source": [
    "shows_df.head(3)"
   ]
  },
  {
   "cell_type": "code",
   "execution_count": 65,
   "id": "59c829a6-8a63-49c1-993b-2041dad156c8",
   "metadata": {},
   "outputs": [
    {
     "data": {
      "text/html": [
       "<div>\n",
       "<style scoped>\n",
       "    .dataframe tbody tr th:only-of-type {\n",
       "        vertical-align: middle;\n",
       "    }\n",
       "\n",
       "    .dataframe tbody tr th {\n",
       "        vertical-align: top;\n",
       "    }\n",
       "\n",
       "    .dataframe thead th {\n",
       "        text-align: right;\n",
       "    }\n",
       "</style>\n",
       "<table border=\"1\" class=\"dataframe\">\n",
       "  <thead>\n",
       "    <tr style=\"text-align: right;\">\n",
       "      <th></th>\n",
       "      <th>showid</th>\n",
       "      <th>showyear</th>\n",
       "      <th>showmonth</th>\n",
       "      <th>showdate</th>\n",
       "      <th>permalink</th>\n",
       "      <th>setlist_notes</th>\n",
       "      <th>venue</th>\n",
       "      <th>city</th>\n",
       "      <th>state</th>\n",
       "      <th>country</th>\n",
       "      <th>artist_name</th>\n",
       "      <th>tourid</th>\n",
       "      <th>tour_name</th>\n",
       "    </tr>\n",
       "  </thead>\n",
       "  <tbody>\n",
       "    <tr>\n",
       "      <th>2015</th>\n",
       "      <td>1622655409</td>\n",
       "      <td>2022</td>\n",
       "      <td>2</td>\n",
       "      <td>2022-02-25</td>\n",
       "      <td>https://phish.net/setlists/phish-february-25-2...</td>\n",
       "      <td>NaN</td>\n",
       "      <td>Moon Palace</td>\n",
       "      <td>Cancun, Quintana Roo</td>\n",
       "      <td>NaN</td>\n",
       "      <td>Mexico</td>\n",
       "      <td>Phish</td>\n",
       "      <td>61</td>\n",
       "      <td>Not Part of a Tour</td>\n",
       "    </tr>\n",
       "    <tr>\n",
       "      <th>2016</th>\n",
       "      <td>1622655457</td>\n",
       "      <td>2022</td>\n",
       "      <td>2</td>\n",
       "      <td>2022-02-26</td>\n",
       "      <td>https://phish.net/setlists/phish-february-26-2...</td>\n",
       "      <td>NaN</td>\n",
       "      <td>Moon Palace</td>\n",
       "      <td>Cancun, Quintana Roo</td>\n",
       "      <td>NaN</td>\n",
       "      <td>Mexico</td>\n",
       "      <td>Phish</td>\n",
       "      <td>61</td>\n",
       "      <td>Not Part of a Tour</td>\n",
       "    </tr>\n",
       "    <tr>\n",
       "      <th>2017</th>\n",
       "      <td>1622655484</td>\n",
       "      <td>2022</td>\n",
       "      <td>2</td>\n",
       "      <td>2022-02-27</td>\n",
       "      <td>https://phish.net/setlists/phish-february-27-2...</td>\n",
       "      <td>NaN</td>\n",
       "      <td>Moon Palace</td>\n",
       "      <td>Cancun, Quintana Roo</td>\n",
       "      <td>NaN</td>\n",
       "      <td>Mexico</td>\n",
       "      <td>Phish</td>\n",
       "      <td>61</td>\n",
       "      <td>Not Part of a Tour</td>\n",
       "    </tr>\n",
       "  </tbody>\n",
       "</table>\n",
       "</div>"
      ],
      "text/plain": [
       "          showid  showyear  showmonth    showdate  \\\n",
       "2015  1622655409      2022          2  2022-02-25   \n",
       "2016  1622655457      2022          2  2022-02-26   \n",
       "2017  1622655484      2022          2  2022-02-27   \n",
       "\n",
       "                                              permalink setlist_notes  \\\n",
       "2015  https://phish.net/setlists/phish-february-25-2...           NaN   \n",
       "2016  https://phish.net/setlists/phish-february-26-2...           NaN   \n",
       "2017  https://phish.net/setlists/phish-february-27-2...           NaN   \n",
       "\n",
       "            venue                  city state country artist_name  tourid  \\\n",
       "2015  Moon Palace  Cancun, Quintana Roo   NaN  Mexico       Phish      61   \n",
       "2016  Moon Palace  Cancun, Quintana Roo   NaN  Mexico       Phish      61   \n",
       "2017  Moon Palace  Cancun, Quintana Roo   NaN  Mexico       Phish      61   \n",
       "\n",
       "               tour_name  \n",
       "2015  Not Part of a Tour  \n",
       "2016  Not Part of a Tour  \n",
       "2017  Not Part of a Tour  "
      ]
     },
     "execution_count": 65,
     "metadata": {},
     "output_type": "execute_result"
    }
   ],
   "source": [
    "shows_df.tail(3)"
   ]
  },
  {
   "cell_type": "code",
   "execution_count": 66,
   "id": "94e93313-87a6-4749-a49e-043c2f9a7a41",
   "metadata": {},
   "outputs": [
    {
     "data": {
      "text/plain": [
       "(2018, 13)"
      ]
     },
     "execution_count": 66,
     "metadata": {},
     "output_type": "execute_result"
    }
   ],
   "source": [
    "shows_df.shape"
   ]
  },
  {
   "cell_type": "code",
   "execution_count": 67,
   "id": "f5eb3c85-3de8-4813-b24f-726a8547131c",
   "metadata": {},
   "outputs": [
    {
     "data": {
      "text/plain": [
       "Index(['showid', 'showyear', 'showmonth', 'showdate', 'permalink',\n",
       "       'setlist_notes', 'venue', 'city', 'state', 'country', 'artist_name',\n",
       "       'tourid', 'tour_name'],\n",
       "      dtype='object')"
      ]
     },
     "execution_count": 67,
     "metadata": {},
     "output_type": "execute_result"
    }
   ],
   "source": [
    "shows_df.columns"
   ]
  },
  {
   "cell_type": "markdown",
   "id": "9635350d-2835-4af7-9385-d5540a9ddc47",
   "metadata": {},
   "source": [
    "**Reading in Setlists' Data**"
   ]
  },
  {
   "cell_type": "code",
   "execution_count": 2,
   "id": "ec9c6705-bdd1-4fd7-a006-308b2708d1d7",
   "metadata": {},
   "outputs": [],
   "source": [
    "setlists_df = pd.read_csv('../data/just_setlists.csv').drop(columns = 'Unnamed: 0')"
   ]
  },
  {
   "cell_type": "code",
   "execution_count": 3,
   "id": "be087ea7-458d-4d97-a115-e2f84f821f45",
   "metadata": {},
   "outputs": [
    {
     "data": {
      "text/html": [
       "<div>\n",
       "<style scoped>\n",
       "    .dataframe tbody tr th:only-of-type {\n",
       "        vertical-align: middle;\n",
       "    }\n",
       "\n",
       "    .dataframe tbody tr th {\n",
       "        vertical-align: top;\n",
       "    }\n",
       "\n",
       "    .dataframe thead th {\n",
       "        text-align: right;\n",
       "    }\n",
       "</style>\n",
       "<table border=\"1\" class=\"dataframe\">\n",
       "  <thead>\n",
       "    <tr style=\"text-align: right;\">\n",
       "      <th></th>\n",
       "      <th>showid</th>\n",
       "      <th>showdate</th>\n",
       "      <th>permalink</th>\n",
       "      <th>showyear</th>\n",
       "      <th>uniqueid</th>\n",
       "      <th>meta</th>\n",
       "      <th>setlistnotes</th>\n",
       "      <th>songid</th>\n",
       "      <th>position</th>\n",
       "      <th>transition</th>\n",
       "      <th>set</th>\n",
       "      <th>isjam</th>\n",
       "      <th>isreprise</th>\n",
       "      <th>tracktime</th>\n",
       "      <th>gap</th>\n",
       "      <th>tourid</th>\n",
       "      <th>tourname</th>\n",
       "      <th>song</th>\n",
       "      <th>is_original</th>\n",
       "      <th>venueid</th>\n",
       "      <th>venue</th>\n",
       "      <th>city</th>\n",
       "      <th>state</th>\n",
       "      <th>country</th>\n",
       "      <th>artist_name</th>\n",
       "    </tr>\n",
       "  </thead>\n",
       "  <tbody>\n",
       "    <tr>\n",
       "      <th>0</th>\n",
       "      <td>1326251770</td>\n",
       "      <td>1982-12-07</td>\n",
       "      <td>https://phish.net/setlists/trey-anastasio-dece...</td>\n",
       "      <td>1982</td>\n",
       "      <td>181509</td>\n",
       "      <td>Space Antelope</td>\n",
       "      <td>This list is likely incomplete, and the date m...</td>\n",
       "      <td>1750</td>\n",
       "      <td>1</td>\n",
       "      <td>2</td>\n",
       "      <td>1</td>\n",
       "      <td>0</td>\n",
       "      <td>0</td>\n",
       "      <td>NaN</td>\n",
       "      <td>0</td>\n",
       "      <td>61</td>\n",
       "      <td>Not Part of a Tour</td>\n",
       "      <td>Lifespace</td>\n",
       "      <td>0</td>\n",
       "      <td>1140</td>\n",
       "      <td>The Taft School</td>\n",
       "      <td>Watertown</td>\n",
       "      <td>CT</td>\n",
       "      <td>USA</td>\n",
       "      <td>Trey Anastasio</td>\n",
       "    </tr>\n",
       "    <tr>\n",
       "      <th>1</th>\n",
       "      <td>1326251770</td>\n",
       "      <td>1982-12-07</td>\n",
       "      <td>https://phish.net/setlists/trey-anastasio-dece...</td>\n",
       "      <td>1982</td>\n",
       "      <td>181510</td>\n",
       "      <td>Space Antelope</td>\n",
       "      <td>This list is likely incomplete, and the date m...</td>\n",
       "      <td>16</td>\n",
       "      <td>2</td>\n",
       "      <td>1</td>\n",
       "      <td>1</td>\n",
       "      <td>0</td>\n",
       "      <td>0</td>\n",
       "      <td>NaN</td>\n",
       "      <td>0</td>\n",
       "      <td>61</td>\n",
       "      <td>Not Part of a Tour</td>\n",
       "      <td>All Along the Watchtower</td>\n",
       "      <td>0</td>\n",
       "      <td>1140</td>\n",
       "      <td>The Taft School</td>\n",
       "      <td>Watertown</td>\n",
       "      <td>CT</td>\n",
       "      <td>USA</td>\n",
       "      <td>Trey Anastasio</td>\n",
       "    </tr>\n",
       "    <tr>\n",
       "      <th>2</th>\n",
       "      <td>1326251770</td>\n",
       "      <td>1982-12-07</td>\n",
       "      <td>https://phish.net/setlists/trey-anastasio-dece...</td>\n",
       "      <td>1982</td>\n",
       "      <td>181511</td>\n",
       "      <td>Space Antelope</td>\n",
       "      <td>This list is likely incomplete, and the date m...</td>\n",
       "      <td>1618</td>\n",
       "      <td>3</td>\n",
       "      <td>1</td>\n",
       "      <td>1</td>\n",
       "      <td>0</td>\n",
       "      <td>0</td>\n",
       "      <td>NaN</td>\n",
       "      <td>0</td>\n",
       "      <td>61</td>\n",
       "      <td>Not Part of a Tour</td>\n",
       "      <td>Franklin's Tower</td>\n",
       "      <td>0</td>\n",
       "      <td>1140</td>\n",
       "      <td>The Taft School</td>\n",
       "      <td>Watertown</td>\n",
       "      <td>CT</td>\n",
       "      <td>USA</td>\n",
       "      <td>Trey Anastasio</td>\n",
       "    </tr>\n",
       "  </tbody>\n",
       "</table>\n",
       "</div>"
      ],
      "text/plain": [
       "       showid    showdate                                          permalink  \\\n",
       "0  1326251770  1982-12-07  https://phish.net/setlists/trey-anastasio-dece...   \n",
       "1  1326251770  1982-12-07  https://phish.net/setlists/trey-anastasio-dece...   \n",
       "2  1326251770  1982-12-07  https://phish.net/setlists/trey-anastasio-dece...   \n",
       "\n",
       "   showyear  uniqueid            meta  \\\n",
       "0      1982    181509  Space Antelope   \n",
       "1      1982    181510  Space Antelope   \n",
       "2      1982    181511  Space Antelope   \n",
       "\n",
       "                                        setlistnotes  songid  position  \\\n",
       "0  This list is likely incomplete, and the date m...    1750         1   \n",
       "1  This list is likely incomplete, and the date m...      16         2   \n",
       "2  This list is likely incomplete, and the date m...    1618         3   \n",
       "\n",
       "   transition set  isjam  isreprise tracktime  gap  tourid  \\\n",
       "0           2   1      0          0       NaN    0      61   \n",
       "1           1   1      0          0       NaN    0      61   \n",
       "2           1   1      0          0       NaN    0      61   \n",
       "\n",
       "             tourname                      song  is_original  venueid  \\\n",
       "0  Not Part of a Tour                 Lifespace            0     1140   \n",
       "1  Not Part of a Tour  All Along the Watchtower            0     1140   \n",
       "2  Not Part of a Tour          Franklin's Tower            0     1140   \n",
       "\n",
       "             venue       city state country     artist_name  \n",
       "0  The Taft School  Watertown    CT     USA  Trey Anastasio  \n",
       "1  The Taft School  Watertown    CT     USA  Trey Anastasio  \n",
       "2  The Taft School  Watertown    CT     USA  Trey Anastasio  "
      ]
     },
     "execution_count": 3,
     "metadata": {},
     "output_type": "execute_result"
    }
   ],
   "source": [
    "setlists_df.head(3)"
   ]
  },
  {
   "cell_type": "code",
   "execution_count": 4,
   "id": "0f9d0a5a-9913-4bab-9d25-486bfd60198f",
   "metadata": {},
   "outputs": [
    {
     "data": {
      "text/html": [
       "<div>\n",
       "<style scoped>\n",
       "    .dataframe tbody tr th:only-of-type {\n",
       "        vertical-align: middle;\n",
       "    }\n",
       "\n",
       "    .dataframe tbody tr th {\n",
       "        vertical-align: top;\n",
       "    }\n",
       "\n",
       "    .dataframe thead th {\n",
       "        text-align: right;\n",
       "    }\n",
       "</style>\n",
       "<table border=\"1\" class=\"dataframe\">\n",
       "  <thead>\n",
       "    <tr style=\"text-align: right;\">\n",
       "      <th></th>\n",
       "      <th>showid</th>\n",
       "      <th>showdate</th>\n",
       "      <th>permalink</th>\n",
       "      <th>showyear</th>\n",
       "      <th>uniqueid</th>\n",
       "      <th>meta</th>\n",
       "      <th>setlistnotes</th>\n",
       "      <th>songid</th>\n",
       "      <th>position</th>\n",
       "      <th>transition</th>\n",
       "      <th>set</th>\n",
       "      <th>isjam</th>\n",
       "      <th>isreprise</th>\n",
       "      <th>tracktime</th>\n",
       "      <th>gap</th>\n",
       "      <th>tourid</th>\n",
       "      <th>tourname</th>\n",
       "      <th>song</th>\n",
       "      <th>is_original</th>\n",
       "      <th>venueid</th>\n",
       "      <th>venue</th>\n",
       "      <th>city</th>\n",
       "      <th>state</th>\n",
       "      <th>country</th>\n",
       "      <th>artist_name</th>\n",
       "    </tr>\n",
       "  </thead>\n",
       "  <tbody>\n",
       "    <tr>\n",
       "      <th>58101</th>\n",
       "      <td>1620930022</td>\n",
       "      <td>2021-10-31</td>\n",
       "      <td>https://phish.net/setlists/phish-october-31-20...</td>\n",
       "      <td>2021</td>\n",
       "      <td>462535</td>\n",
       "      <td>NaN</td>\n",
       "      <td>For the second set, the band's \"musical costum...</td>\n",
       "      <td>630</td>\n",
       "      <td>24</td>\n",
       "      <td>1</td>\n",
       "      <td>3</td>\n",
       "      <td>2</td>\n",
       "      <td>2</td>\n",
       "      <td>NaN</td>\n",
       "      <td>8</td>\n",
       "      <td>61</td>\n",
       "      <td>Not Part of a Tour</td>\n",
       "      <td>Twist</td>\n",
       "      <td>1</td>\n",
       "      <td>1316</td>\n",
       "      <td>MGM Grand Garden Arena</td>\n",
       "      <td>Las Vegas</td>\n",
       "      <td>NV</td>\n",
       "      <td>USA</td>\n",
       "      <td>Phish</td>\n",
       "    </tr>\n",
       "    <tr>\n",
       "      <th>58102</th>\n",
       "      <td>1620930022</td>\n",
       "      <td>2021-10-31</td>\n",
       "      <td>https://phish.net/setlists/phish-october-31-20...</td>\n",
       "      <td>2021</td>\n",
       "      <td>462560</td>\n",
       "      <td>NaN</td>\n",
       "      <td>For the second set, the band's \"musical costum...</td>\n",
       "      <td>2829</td>\n",
       "      <td>25</td>\n",
       "      <td>5</td>\n",
       "      <td>3</td>\n",
       "      <td>2</td>\n",
       "      <td>2</td>\n",
       "      <td>NaN</td>\n",
       "      <td>8</td>\n",
       "      <td>61</td>\n",
       "      <td>Not Part of a Tour</td>\n",
       "      <td>Drift While You're Sleeping</td>\n",
       "      <td>0</td>\n",
       "      <td>1316</td>\n",
       "      <td>MGM Grand Garden Arena</td>\n",
       "      <td>Las Vegas</td>\n",
       "      <td>NV</td>\n",
       "      <td>USA</td>\n",
       "      <td>Phish</td>\n",
       "    </tr>\n",
       "    <tr>\n",
       "      <th>58103</th>\n",
       "      <td>1620930022</td>\n",
       "      <td>2021-10-31</td>\n",
       "      <td>https://phish.net/setlists/phish-october-31-20...</td>\n",
       "      <td>2021</td>\n",
       "      <td>462611</td>\n",
       "      <td>NaN</td>\n",
       "      <td>For the second set, the band's \"musical costum...</td>\n",
       "      <td>250</td>\n",
       "      <td>26</td>\n",
       "      <td>6</td>\n",
       "      <td>e</td>\n",
       "      <td>2</td>\n",
       "      <td>2</td>\n",
       "      <td>NaN</td>\n",
       "      <td>6</td>\n",
       "      <td>61</td>\n",
       "      <td>Not Part of a Tour</td>\n",
       "      <td>Harry Hood</td>\n",
       "      <td>1</td>\n",
       "      <td>1316</td>\n",
       "      <td>MGM Grand Garden Arena</td>\n",
       "      <td>Las Vegas</td>\n",
       "      <td>NV</td>\n",
       "      <td>USA</td>\n",
       "      <td>Phish</td>\n",
       "    </tr>\n",
       "  </tbody>\n",
       "</table>\n",
       "</div>"
      ],
      "text/plain": [
       "           showid    showdate  \\\n",
       "58101  1620930022  2021-10-31   \n",
       "58102  1620930022  2021-10-31   \n",
       "58103  1620930022  2021-10-31   \n",
       "\n",
       "                                               permalink  showyear  uniqueid  \\\n",
       "58101  https://phish.net/setlists/phish-october-31-20...      2021    462535   \n",
       "58102  https://phish.net/setlists/phish-october-31-20...      2021    462560   \n",
       "58103  https://phish.net/setlists/phish-october-31-20...      2021    462611   \n",
       "\n",
       "      meta                                       setlistnotes  songid  \\\n",
       "58101  NaN  For the second set, the band's \"musical costum...     630   \n",
       "58102  NaN  For the second set, the band's \"musical costum...    2829   \n",
       "58103  NaN  For the second set, the band's \"musical costum...     250   \n",
       "\n",
       "       position  transition set  isjam  isreprise tracktime  gap  tourid  \\\n",
       "58101        24           1   3      2          2       NaN    8      61   \n",
       "58102        25           5   3      2          2       NaN    8      61   \n",
       "58103        26           6   e      2          2       NaN    6      61   \n",
       "\n",
       "                 tourname                         song  is_original  venueid  \\\n",
       "58101  Not Part of a Tour                        Twist            1     1316   \n",
       "58102  Not Part of a Tour  Drift While You're Sleeping            0     1316   \n",
       "58103  Not Part of a Tour                   Harry Hood            1     1316   \n",
       "\n",
       "                        venue       city state country artist_name  \n",
       "58101  MGM Grand Garden Arena  Las Vegas    NV     USA       Phish  \n",
       "58102  MGM Grand Garden Arena  Las Vegas    NV     USA       Phish  \n",
       "58103  MGM Grand Garden Arena  Las Vegas    NV     USA       Phish  "
      ]
     },
     "execution_count": 4,
     "metadata": {},
     "output_type": "execute_result"
    }
   ],
   "source": [
    "setlists_df.tail(3)"
   ]
  },
  {
   "cell_type": "code",
   "execution_count": 5,
   "id": "136dd40b-a277-44cc-a149-3c7ecd497dcb",
   "metadata": {},
   "outputs": [
    {
     "data": {
      "text/plain": [
       "(58104, 25)"
      ]
     },
     "execution_count": 5,
     "metadata": {},
     "output_type": "execute_result"
    }
   ],
   "source": [
    "setlists_df.shape"
   ]
  },
  {
   "cell_type": "code",
   "execution_count": 6,
   "id": "eceda508-38f6-49d5-87f9-0599dce3999a",
   "metadata": {},
   "outputs": [
    {
     "data": {
      "text/plain": [
       "Index(['showid', 'showdate', 'permalink', 'showyear', 'uniqueid', 'meta',\n",
       "       'setlistnotes', 'songid', 'position', 'transition', 'set', 'isjam',\n",
       "       'isreprise', 'tracktime', 'gap', 'tourid', 'tourname', 'song',\n",
       "       'is_original', 'venueid', 'venue', 'city', 'state', 'country',\n",
       "       'artist_name'],\n",
       "      dtype='object')"
      ]
     },
     "execution_count": 6,
     "metadata": {},
     "output_type": "execute_result"
    }
   ],
   "source": [
    "setlists_df.columns"
   ]
  },
  {
   "cell_type": "markdown",
   "id": "3e6eaad9-4459-4dae-86bd-1ff41dafe56f",
   "metadata": {},
   "source": [
    "**Extracing All Phish Setlists in Shows**"
   ]
  },
  {
   "cell_type": "code",
   "execution_count": 91,
   "id": "c14dfa55-6435-4218-8c45-69a7f5f0f88c",
   "metadata": {},
   "outputs": [
    {
     "data": {
      "text/plain": [
       "2018"
      ]
     },
     "execution_count": 91,
     "metadata": {},
     "output_type": "execute_result"
    }
   ],
   "source": [
    "phish_shows = shows_df['showid'].tolist()\n",
    "len(phish_shows)"
   ]
  },
  {
   "cell_type": "code",
   "execution_count": 101,
   "id": "1134d262-d158-410d-be53-92df7636d61d",
   "metadata": {},
   "outputs": [
    {
     "data": {
      "text/plain": [
       "1804"
      ]
     },
     "execution_count": 101,
     "metadata": {},
     "output_type": "execute_result"
    }
   ],
   "source": [
    "phish_shows1 = setlists_df['showid'].unique().tolist()\n",
    "len(phish_shows1)"
   ]
  },
  {
   "cell_type": "code",
   "execution_count": 102,
   "id": "07f72e5d-2763-4fae-be1f-82d0f0d0f31d",
   "metadata": {},
   "outputs": [],
   "source": [
    "#making sure all the shows in setlists_df are in shows_df\n",
    "shows_df = shows_df[shows_df['showid'].isin(phish_shows1)]"
   ]
  },
  {
   "cell_type": "code",
   "execution_count": 104,
   "id": "bac6d950-9f84-4dc6-8f05-b7edd7ac49a4",
   "metadata": {},
   "outputs": [
    {
     "data": {
      "text/plain": [
       "(1804, 13)"
      ]
     },
     "execution_count": 104,
     "metadata": {},
     "output_type": "execute_result"
    }
   ],
   "source": [
    "shows_df.shape"
   ]
  },
  {
   "cell_type": "code",
   "execution_count": 109,
   "id": "8b0c8ca6-3907-49a9-bd48-d26398114ab8",
   "metadata": {},
   "outputs": [],
   "source": [
    "#making sure all the shows in shows_df are in setlists_df\n",
    "setlists_df = setlists_df[setlists_df['showid'].isin(phish_shows)]"
   ]
  },
  {
   "cell_type": "code",
   "execution_count": 106,
   "id": "5272ecb0-f6d6-4ed7-9b1a-6653919cba48",
   "metadata": {},
   "outputs": [
    {
     "data": {
      "text/plain": [
       "1804"
      ]
     },
     "execution_count": 106,
     "metadata": {},
     "output_type": "execute_result"
    }
   ],
   "source": [
    "setlists_df['showid'].nunique()"
   ]
  },
  {
   "cell_type": "code",
   "execution_count": 107,
   "id": "bd66c50c-5da9-4689-a7c5-2071d974c59b",
   "metadata": {},
   "outputs": [
    {
     "data": {
      "text/plain": [
       "(35807, 21)"
      ]
     },
     "execution_count": 107,
     "metadata": {},
     "output_type": "execute_result"
    }
   ],
   "source": [
    "setlists_df.shape"
   ]
  },
  {
   "cell_type": "markdown",
   "id": "9ed86513-c8b7-4c48-8ed0-9277255c4f8e",
   "metadata": {},
   "source": [
    "**Exploring the Data**"
   ]
  },
  {
   "cell_type": "code",
   "execution_count": 110,
   "id": "ee064d58-2be3-4f6b-8748-77b4c4212ea8",
   "metadata": {},
   "outputs": [
    {
     "name": "stdout",
     "output_type": "stream",
     "text": [
      "<class 'pandas.core.frame.DataFrame'>\n",
      "Int64Index: 35807 entries, 8 to 58103\n",
      "Data columns (total 21 columns):\n",
      " #   Column       Non-Null Count  Dtype \n",
      "---  ------       --------------  ----- \n",
      " 0   showid       35807 non-null  int64 \n",
      " 1   showdate     35807 non-null  object\n",
      " 2   permalink    35807 non-null  object\n",
      " 3   showyear     35807 non-null  int64 \n",
      " 4   uniqueid     35807 non-null  int64 \n",
      " 5   songid       35807 non-null  int64 \n",
      " 6   position     35807 non-null  int64 \n",
      " 7   transition   35807 non-null  int64 \n",
      " 8   set          35807 non-null  object\n",
      " 9   isjam        35807 non-null  int64 \n",
      " 10  isreprise    35807 non-null  int64 \n",
      " 11  gap          35807 non-null  int64 \n",
      " 12  tourid       35807 non-null  int64 \n",
      " 13  tourname     35807 non-null  object\n",
      " 14  song         35807 non-null  object\n",
      " 15  is_original  35807 non-null  int64 \n",
      " 16  venueid      35807 non-null  int64 \n",
      " 17  venue        35807 non-null  object\n",
      " 18  city         35807 non-null  object\n",
      " 19  country      35807 non-null  object\n",
      " 20  artist_name  35807 non-null  object\n",
      "dtypes: int64(12), object(9)\n",
      "memory usage: 6.0+ MB\n"
     ]
    }
   ],
   "source": [
    "setlists_df.info()\n",
    "#note, showdate needs to be converted to datetime dtype"
   ]
  },
  {
   "cell_type": "code",
   "execution_count": 111,
   "id": "581c88d0-7e22-4750-88e3-777cbdf5563d",
   "metadata": {},
   "outputs": [
    {
     "data": {
      "text/plain": [
       "showid         0\n",
       "gap            0\n",
       "country        0\n",
       "city           0\n",
       "venue          0\n",
       "venueid        0\n",
       "is_original    0\n",
       "song           0\n",
       "tourname       0\n",
       "tourid         0\n",
       "isreprise      0\n",
       "showdate       0\n",
       "isjam          0\n",
       "set            0\n",
       "transition     0\n",
       "position       0\n",
       "songid         0\n",
       "uniqueid       0\n",
       "showyear       0\n",
       "permalink      0\n",
       "artist_name    0\n",
       "dtype: int64"
      ]
     },
     "execution_count": 111,
     "metadata": {},
     "output_type": "execute_result"
    }
   ],
   "source": [
    "setlists_df.isna().sum().sort_values(ascending = False)"
   ]
  },
  {
   "cell_type": "markdown",
   "id": "274d1175-8790-4d55-bae2-025e968328a6",
   "metadata": {},
   "source": [
    "**Counting the Number of Shows and Songs**"
   ]
  },
  {
   "cell_type": "code",
   "execution_count": 112,
   "id": "7d1b5b46-947b-476d-a8e2-ad4f6ab791b6",
   "metadata": {},
   "outputs": [
    {
     "data": {
      "text/plain": [
       "1804"
      ]
     },
     "execution_count": 112,
     "metadata": {},
     "output_type": "execute_result"
    }
   ],
   "source": [
    "#the number of unique shows since the beginning:\n",
    "setlists_df['showid'].nunique()"
   ]
  },
  {
   "cell_type": "code",
   "execution_count": 113,
   "id": "50e23207-c6d5-4ab3-a58b-b5076a42a9de",
   "metadata": {},
   "outputs": [
    {
     "data": {
      "text/plain": [
       "949"
      ]
     },
     "execution_count": 113,
     "metadata": {},
     "output_type": "execute_result"
    }
   ],
   "source": [
    "#the number of unique songs played:\n",
    "setlists_df['songid'].nunique()"
   ]
  },
  {
   "cell_type": "code",
   "execution_count": 26,
   "id": "1913e19a-b0d4-4042-8e63-19de52447fa7",
   "metadata": {},
   "outputs": [
    {
     "data": {
      "text/plain": [
       "325"
      ]
     },
     "execution_count": 26,
     "metadata": {},
     "output_type": "execute_result"
    }
   ],
   "source": [
    "setlists_df.loc[setlists_df['is_original'] == 1, 'songid'].nunique()"
   ]
  },
  {
   "cell_type": "markdown",
   "id": "4be5e9c6-9406-4333-ad23-0aeb53071a4a",
   "metadata": {},
   "source": [
    "DELETE LATER DELETE LATER DELETE LATER\n",
    "\n",
    "Creating a training dataset\n",
    "With the language modeling approach in hand, I generated training data by first dropping incomplete setlists and then concatenating together every setlist chronologically into one long list and encoding the data — song-to-integer for each of the 876 unique songs, plus all setlist identifiers. Maintaining the setlist identifiers (Set 1, Set 2, Encore, etc.) in the sequence provides context and will allow the model to learn that certain songs are more likely to occur as the opener vs. middle of the second set vs. the encore."
   ]
  },
  {
   "cell_type": "markdown",
   "id": "8cfe46e2-8094-4fa2-9b39-dee084979534",
   "metadata": {},
   "source": [
    "**Creating Function to Build column 'setlist'**"
   ]
  },
  {
   "cell_type": "code",
   "execution_count": 118,
   "id": "918e87de-0e65-4c99-83d3-920865deb034",
   "metadata": {},
   "outputs": [
    {
     "data": {
      "text/plain": [
       "['Long Cool Woman in a Black Dress',\n",
       " 'Proud Mary',\n",
       " 'In the Midnight Hour',\n",
       " 'Squeeze Box',\n",
       " 'Roadhouse Blues',\n",
       " 'Happy Birthday to You',\n",
       " 'Scarlet Begonias',\n",
       " 'Fire on the Mountain']"
      ]
     },
     "execution_count": 118,
     "metadata": {},
     "output_type": "execute_result"
    }
   ],
   "source": [
    "show_1251253100 = setlists_df.loc[setlists_df['showid'] == 1251253100]['song'].tolist()\n",
    "show_1251253100"
   ]
  },
  {
   "cell_type": "code",
   "execution_count": 27,
   "id": "1f60f9f2-70fe-4fe5-9a82-308177c38950",
   "metadata": {},
   "outputs": [],
   "source": [
    "#FIGURING OUT FUNCTION FOR SETLISTS:\n",
    "#I need to look at each unique show ID and get the rows for each unique ID\n",
    "#I need to include whether or not the song is in set 1 or set 2\n",
    "#I need to make a new column thats a string list of each song in the show\n",
    "\n",
    "#I need to make a new dataframe of the entries that are each show. "
   ]
  },
  {
   "cell_type": "code",
   "execution_count": 82,
   "id": "683001f9-2294-4633-8340-09b191137840",
   "metadata": {},
   "outputs": [],
   "source": [
    "#https://stackoverflow.com/questions/12293208/how-to-create-a-list-of-lists\n",
    "\n",
    "def make_setlist_col(df):\n",
    "    shows = []\n",
    "    for show in df['showid'].unique():\n",
    "        show = df.loc[df['showid'] == show]['song'].tolist()\n",
    "        shows.append(show)\n",
    "        \n",
    "    shows_df['setlists'] = shows\n",
    "    \n",
    "    return shows_df"
   ]
  },
  {
   "cell_type": "code",
   "execution_count": 119,
   "id": "801a21e2-73c8-4990-a51b-d8795ea525b0",
   "metadata": {},
   "outputs": [
    {
     "name": "stderr",
     "output_type": "stream",
     "text": [
      "<ipython-input-82-5428e5e1c42c>:9: SettingWithCopyWarning: \n",
      "A value is trying to be set on a copy of a slice from a DataFrame.\n",
      "Try using .loc[row_indexer,col_indexer] = value instead\n",
      "\n",
      "See the caveats in the documentation: https://pandas.pydata.org/pandas-docs/stable/user_guide/indexing.html#returning-a-view-versus-a-copy\n",
      "  shows_df['setlists'] = shows\n"
     ]
    },
    {
     "data": {
      "text/html": [
       "<div>\n",
       "<style scoped>\n",
       "    .dataframe tbody tr th:only-of-type {\n",
       "        vertical-align: middle;\n",
       "    }\n",
       "\n",
       "    .dataframe tbody tr th {\n",
       "        vertical-align: top;\n",
       "    }\n",
       "\n",
       "    .dataframe thead th {\n",
       "        text-align: right;\n",
       "    }\n",
       "</style>\n",
       "<table border=\"1\" class=\"dataframe\">\n",
       "  <thead>\n",
       "    <tr style=\"text-align: right;\">\n",
       "      <th></th>\n",
       "      <th>showid</th>\n",
       "      <th>showyear</th>\n",
       "      <th>showmonth</th>\n",
       "      <th>showdate</th>\n",
       "      <th>permalink</th>\n",
       "      <th>setlist_notes</th>\n",
       "      <th>venue</th>\n",
       "      <th>city</th>\n",
       "      <th>state</th>\n",
       "      <th>country</th>\n",
       "      <th>artist_name</th>\n",
       "      <th>tourid</th>\n",
       "      <th>tour_name</th>\n",
       "      <th>setlists</th>\n",
       "    </tr>\n",
       "  </thead>\n",
       "  <tbody>\n",
       "    <tr>\n",
       "      <th>1</th>\n",
       "      <td>1251253100</td>\n",
       "      <td>1983</td>\n",
       "      <td>12</td>\n",
       "      <td>1983-12-02</td>\n",
       "      <td>https://phish.net/setlists/phish-december-02-1...</td>\n",
       "      <td>Trey, Mike, Fish, and Jeff Holdsworth recall b...</td>\n",
       "      <td>Harris-Millis Cafeteria - University of Vermont</td>\n",
       "      <td>Burlington</td>\n",
       "      <td>VT</td>\n",
       "      <td>USA</td>\n",
       "      <td>Phish</td>\n",
       "      <td>1</td>\n",
       "      <td>1983 Tour</td>\n",
       "      <td>[Long Cool Woman in a Black Dress, Proud Mary,...</td>\n",
       "    </tr>\n",
       "    <tr>\n",
       "      <th>3</th>\n",
       "      <td>1250613219</td>\n",
       "      <td>1984</td>\n",
       "      <td>10</td>\n",
       "      <td>1984-10-23</td>\n",
       "      <td>https://phish.net/setlists/phish-october-23-19...</td>\n",
       "      <td>This show, played in the garage of a house on ...</td>\n",
       "      <td>69 Grant Street</td>\n",
       "      <td>Burlington</td>\n",
       "      <td>VT</td>\n",
       "      <td>USA</td>\n",
       "      <td>Phish</td>\n",
       "      <td>2</td>\n",
       "      <td>1984 Tour</td>\n",
       "      <td>[Makisupa Policeman]</td>\n",
       "    </tr>\n",
       "    <tr>\n",
       "      <th>4</th>\n",
       "      <td>1251262142</td>\n",
       "      <td>1984</td>\n",
       "      <td>11</td>\n",
       "      <td>1984-11-03</td>\n",
       "      <td>https://phish.net/setlists/phish-november-03-1...</td>\n",
       "      <td>The setlist for this show might be incomplete,...</td>\n",
       "      <td>Slade Hall, University of Vermont</td>\n",
       "      <td>Burlington</td>\n",
       "      <td>VT</td>\n",
       "      <td>USA</td>\n",
       "      <td>Phish</td>\n",
       "      <td>2</td>\n",
       "      <td>1984 Tour</td>\n",
       "      <td>[In the Midnight Hour, Wild Child, Jam, Bertha...</td>\n",
       "    </tr>\n",
       "    <tr>\n",
       "      <th>5</th>\n",
       "      <td>1251262498</td>\n",
       "      <td>1984</td>\n",
       "      <td>12</td>\n",
       "      <td>1984-12-01</td>\n",
       "      <td>https://phish.net/setlists/phish-december-01-1...</td>\n",
       "      <td>Skippy and Fluffhead featured The Dude of Life...</td>\n",
       "      <td>Nectar's</td>\n",
       "      <td>Burlington</td>\n",
       "      <td>VT</td>\n",
       "      <td>USA</td>\n",
       "      <td>Phish</td>\n",
       "      <td>2</td>\n",
       "      <td>1984 Tour</td>\n",
       "      <td>[Jam, Wild Child, Bertha, Can't You Hear Me Kn...</td>\n",
       "    </tr>\n",
       "    <tr>\n",
       "      <th>6</th>\n",
       "      <td>1251587227</td>\n",
       "      <td>1985</td>\n",
       "      <td>2</td>\n",
       "      <td>1985-02-01</td>\n",
       "      <td>https://phish.net/setlists/phish-february-01-1...</td>\n",
       "      <td>It is unconfirmed if this setlist is correct f...</td>\n",
       "      <td>Doolin's</td>\n",
       "      <td>Burlington</td>\n",
       "      <td>VT</td>\n",
       "      <td>USA</td>\n",
       "      <td>Phish</td>\n",
       "      <td>3</td>\n",
       "      <td>1985 Tour</td>\n",
       "      <td>[Slave to the Traffic Light, Mike's Song, Dave...</td>\n",
       "    </tr>\n",
       "    <tr>\n",
       "      <th>...</th>\n",
       "      <td>...</td>\n",
       "      <td>...</td>\n",
       "      <td>...</td>\n",
       "      <td>...</td>\n",
       "      <td>...</td>\n",
       "      <td>...</td>\n",
       "      <td>...</td>\n",
       "      <td>...</td>\n",
       "      <td>...</td>\n",
       "      <td>...</td>\n",
       "      <td>...</td>\n",
       "      <td>...</td>\n",
       "      <td>...</td>\n",
       "      <td>...</td>\n",
       "    </tr>\n",
       "    <tr>\n",
       "      <th>2005</th>\n",
       "      <td>1620929961</td>\n",
       "      <td>2021</td>\n",
       "      <td>10</td>\n",
       "      <td>2021-10-26</td>\n",
       "      <td>https://phish.net/setlists/phish-october-26-20...</td>\n",
       "      <td>Pebbles and Marbles and Sample in a Jar were u...</td>\n",
       "      <td>Santa Barbara Bowl</td>\n",
       "      <td>Santa Barbara</td>\n",
       "      <td>CA</td>\n",
       "      <td>USA</td>\n",
       "      <td>Phish</td>\n",
       "      <td>61</td>\n",
       "      <td>Not Part of a Tour</td>\n",
       "      <td>[Pebbles and Marbles, Makisupa Policeman, Samp...</td>\n",
       "    </tr>\n",
       "    <tr>\n",
       "      <th>2006</th>\n",
       "      <td>1620929979</td>\n",
       "      <td>2021</td>\n",
       "      <td>10</td>\n",
       "      <td>2021-10-28</td>\n",
       "      <td>https://phish.net/setlists/phish-october-28-20...</td>\n",
       "      <td>This show featured a setlist with all songs fe...</td>\n",
       "      <td>MGM Grand Garden Arena</td>\n",
       "      <td>Las Vegas</td>\n",
       "      <td>NV</td>\n",
       "      <td>USA</td>\n",
       "      <td>Phish</td>\n",
       "      <td>61</td>\n",
       "      <td>Not Part of a Tour</td>\n",
       "      <td>[Also Sprach Zarathustra, 1999, 555, 46 Days, ...</td>\n",
       "    </tr>\n",
       "    <tr>\n",
       "      <th>2007</th>\n",
       "      <td>1620929993</td>\n",
       "      <td>2021</td>\n",
       "      <td>10</td>\n",
       "      <td>2021-10-29</td>\n",
       "      <td>https://phish.net/setlists/phish-october-29-20...</td>\n",
       "      <td>Trey and Mike quoted Little Squirrel throughou...</td>\n",
       "      <td>MGM Grand Garden Arena</td>\n",
       "      <td>Las Vegas</td>\n",
       "      <td>NV</td>\n",
       "      <td>USA</td>\n",
       "      <td>Phish</td>\n",
       "      <td>61</td>\n",
       "      <td>Not Part of a Tour</td>\n",
       "      <td>[Olivia's Pool, Axilla (Part II), Mike's Song,...</td>\n",
       "    </tr>\n",
       "    <tr>\n",
       "      <th>2008</th>\n",
       "      <td>1620930007</td>\n",
       "      <td>2021</td>\n",
       "      <td>10</td>\n",
       "      <td>2021-10-30</td>\n",
       "      <td>https://phish.net/setlists/phish-october-30-20...</td>\n",
       "      <td>The songs in this show were based on animals. ...</td>\n",
       "      <td>MGM Grand Garden Arena</td>\n",
       "      <td>Las Vegas</td>\n",
       "      <td>NV</td>\n",
       "      <td>USA</td>\n",
       "      <td>Phish</td>\n",
       "      <td>61</td>\n",
       "      <td>Not Part of a Tour</td>\n",
       "      <td>[The Dogs, Ocelot, Turtle in the Clouds, Run L...</td>\n",
       "    </tr>\n",
       "    <tr>\n",
       "      <th>2009</th>\n",
       "      <td>1620930022</td>\n",
       "      <td>2021</td>\n",
       "      <td>10</td>\n",
       "      <td>2021-10-31</td>\n",
       "      <td>https://phish.net/setlists/phish-october-31-20...</td>\n",
       "      <td>For the second set, the band's \"musical costum...</td>\n",
       "      <td>MGM Grand Garden Arena</td>\n",
       "      <td>Las Vegas</td>\n",
       "      <td>NV</td>\n",
       "      <td>USA</td>\n",
       "      <td>Phish</td>\n",
       "      <td>61</td>\n",
       "      <td>Not Part of a Tour</td>\n",
       "      <td>[Buried Alive, Roses Are Free, Ghost, Wolfman'...</td>\n",
       "    </tr>\n",
       "  </tbody>\n",
       "</table>\n",
       "<p>1804 rows × 14 columns</p>\n",
       "</div>"
      ],
      "text/plain": [
       "          showid  showyear  showmonth    showdate  \\\n",
       "1     1251253100      1983         12  1983-12-02   \n",
       "3     1250613219      1984         10  1984-10-23   \n",
       "4     1251262142      1984         11  1984-11-03   \n",
       "5     1251262498      1984         12  1984-12-01   \n",
       "6     1251587227      1985          2  1985-02-01   \n",
       "...          ...       ...        ...         ...   \n",
       "2005  1620929961      2021         10  2021-10-26   \n",
       "2006  1620929979      2021         10  2021-10-28   \n",
       "2007  1620929993      2021         10  2021-10-29   \n",
       "2008  1620930007      2021         10  2021-10-30   \n",
       "2009  1620930022      2021         10  2021-10-31   \n",
       "\n",
       "                                              permalink  \\\n",
       "1     https://phish.net/setlists/phish-december-02-1...   \n",
       "3     https://phish.net/setlists/phish-october-23-19...   \n",
       "4     https://phish.net/setlists/phish-november-03-1...   \n",
       "5     https://phish.net/setlists/phish-december-01-1...   \n",
       "6     https://phish.net/setlists/phish-february-01-1...   \n",
       "...                                                 ...   \n",
       "2005  https://phish.net/setlists/phish-october-26-20...   \n",
       "2006  https://phish.net/setlists/phish-october-28-20...   \n",
       "2007  https://phish.net/setlists/phish-october-29-20...   \n",
       "2008  https://phish.net/setlists/phish-october-30-20...   \n",
       "2009  https://phish.net/setlists/phish-october-31-20...   \n",
       "\n",
       "                                          setlist_notes  \\\n",
       "1     Trey, Mike, Fish, and Jeff Holdsworth recall b...   \n",
       "3     This show, played in the garage of a house on ...   \n",
       "4     The setlist for this show might be incomplete,...   \n",
       "5     Skippy and Fluffhead featured The Dude of Life...   \n",
       "6     It is unconfirmed if this setlist is correct f...   \n",
       "...                                                 ...   \n",
       "2005  Pebbles and Marbles and Sample in a Jar were u...   \n",
       "2006  This show featured a setlist with all songs fe...   \n",
       "2007  Trey and Mike quoted Little Squirrel throughou...   \n",
       "2008  The songs in this show were based on animals. ...   \n",
       "2009  For the second set, the band's \"musical costum...   \n",
       "\n",
       "                                                venue           city state  \\\n",
       "1     Harris-Millis Cafeteria - University of Vermont     Burlington    VT   \n",
       "3                                     69 Grant Street     Burlington    VT   \n",
       "4                   Slade Hall, University of Vermont     Burlington    VT   \n",
       "5                                            Nectar's     Burlington    VT   \n",
       "6                                            Doolin's     Burlington    VT   \n",
       "...                                               ...            ...   ...   \n",
       "2005                               Santa Barbara Bowl  Santa Barbara    CA   \n",
       "2006                           MGM Grand Garden Arena      Las Vegas    NV   \n",
       "2007                           MGM Grand Garden Arena      Las Vegas    NV   \n",
       "2008                           MGM Grand Garden Arena      Las Vegas    NV   \n",
       "2009                           MGM Grand Garden Arena      Las Vegas    NV   \n",
       "\n",
       "     country artist_name  tourid           tour_name  \\\n",
       "1        USA       Phish       1           1983 Tour   \n",
       "3        USA       Phish       2           1984 Tour   \n",
       "4        USA       Phish       2           1984 Tour   \n",
       "5        USA       Phish       2           1984 Tour   \n",
       "6        USA       Phish       3           1985 Tour   \n",
       "...      ...         ...     ...                 ...   \n",
       "2005     USA       Phish      61  Not Part of a Tour   \n",
       "2006     USA       Phish      61  Not Part of a Tour   \n",
       "2007     USA       Phish      61  Not Part of a Tour   \n",
       "2008     USA       Phish      61  Not Part of a Tour   \n",
       "2009     USA       Phish      61  Not Part of a Tour   \n",
       "\n",
       "                                               setlists  \n",
       "1     [Long Cool Woman in a Black Dress, Proud Mary,...  \n",
       "3                                  [Makisupa Policeman]  \n",
       "4     [In the Midnight Hour, Wild Child, Jam, Bertha...  \n",
       "5     [Jam, Wild Child, Bertha, Can't You Hear Me Kn...  \n",
       "6     [Slave to the Traffic Light, Mike's Song, Dave...  \n",
       "...                                                 ...  \n",
       "2005  [Pebbles and Marbles, Makisupa Policeman, Samp...  \n",
       "2006  [Also Sprach Zarathustra, 1999, 555, 46 Days, ...  \n",
       "2007  [Olivia's Pool, Axilla (Part II), Mike's Song,...  \n",
       "2008  [The Dogs, Ocelot, Turtle in the Clouds, Run L...  \n",
       "2009  [Buried Alive, Roses Are Free, Ghost, Wolfman'...  \n",
       "\n",
       "[1804 rows x 14 columns]"
      ]
     },
     "execution_count": 119,
     "metadata": {},
     "output_type": "execute_result"
    }
   ],
   "source": [
    "make_setlist_col(setlists_df)"
   ]
  },
  {
   "cell_type": "code",
   "execution_count": 121,
   "id": "b3a3fa15-5a22-40b2-a615-c21ef1d07695",
   "metadata": {},
   "outputs": [
    {
     "name": "stdout",
     "output_type": "stream",
     "text": [
      "<class 'pandas.core.frame.DataFrame'>\n",
      "Int64Index: 1804 entries, 1 to 2009\n",
      "Data columns (total 14 columns):\n",
      " #   Column         Non-Null Count  Dtype \n",
      "---  ------         --------------  ----- \n",
      " 0   showid         1804 non-null   int64 \n",
      " 1   showyear       1804 non-null   int64 \n",
      " 2   showmonth      1804 non-null   int64 \n",
      " 3   showdate       1804 non-null   object\n",
      " 4   permalink      1804 non-null   object\n",
      " 5   setlist_notes  1767 non-null   object\n",
      " 6   venue          1804 non-null   object\n",
      " 7   city           1804 non-null   object\n",
      " 8   state          1686 non-null   object\n",
      " 9   country        1804 non-null   object\n",
      " 10  artist_name    1804 non-null   object\n",
      " 11  tourid         1804 non-null   int64 \n",
      " 12  tour_name      1804 non-null   object\n",
      " 13  setlists       1804 non-null   object\n",
      "dtypes: int64(4), object(10)\n",
      "memory usage: 211.4+ KB\n"
     ]
    }
   ],
   "source": [
    "shows_df.info()"
   ]
  },
  {
   "cell_type": "code",
   "execution_count": 122,
   "id": "bf2c6d37-461a-4d20-bae0-e647f6658a4e",
   "metadata": {},
   "outputs": [
    {
     "data": {
      "text/plain": [
       "state            118\n",
       "setlist_notes     37\n",
       "showid             0\n",
       "showyear           0\n",
       "showmonth          0\n",
       "showdate           0\n",
       "permalink          0\n",
       "venue              0\n",
       "city               0\n",
       "country            0\n",
       "artist_name        0\n",
       "tourid             0\n",
       "tour_name          0\n",
       "setlists           0\n",
       "dtype: int64"
      ]
     },
     "execution_count": 122,
     "metadata": {},
     "output_type": "execute_result"
    }
   ],
   "source": [
    "shows_df.isna().sum().sort_values(ascending = False)"
   ]
  },
  {
   "cell_type": "code",
   "execution_count": 125,
   "id": "ad64ffa2-2dfb-4fc7-8dff-ffa165d6a7ee",
   "metadata": {},
   "outputs": [
    {
     "data": {
      "text/plain": [
       "Canada            19\n",
       "Germany           18\n",
       "Mexico            16\n",
       "Japan             12\n",
       "France            11\n",
       "Italy             11\n",
       "Denmark            8\n",
       "England            5\n",
       "Netherlands        4\n",
       "Spain              4\n",
       "Czech Republic     3\n",
       "Belgium            3\n",
       "Ireland            2\n",
       "USA                1\n",
       "Austria            1\n",
       "Name: country, dtype: int64"
      ]
     },
     "execution_count": 125,
     "metadata": {},
     "output_type": "execute_result"
    }
   ],
   "source": [
    "shows_df[shows_df['state'].isna()]['country'].value_counts()"
   ]
  },
  {
   "cell_type": "markdown",
   "id": "71e01b85-a209-4f48-bec2-2a23a8bbc5f6",
   "metadata": {},
   "source": [
    "- The entries where 'state' is null represents enough of my data that I'm not going to drop the entries. Although I can't easily rename the null 'state' to the appropriate ones, given the number of countries across which they are spread, I am going to rename them to 'Not Available'."
   ]
  }
 ],
 "metadata": {
  "kernelspec": {
   "display_name": "Python 3",
   "language": "python",
   "name": "python3"
  },
  "language_info": {
   "codemirror_mode": {
    "name": "ipython",
    "version": 3
   },
   "file_extension": ".py",
   "mimetype": "text/x-python",
   "name": "python",
   "nbconvert_exporter": "python",
   "pygments_lexer": "ipython3",
   "version": "3.8.8"
  }
 },
 "nbformat": 4,
 "nbformat_minor": 5
}
