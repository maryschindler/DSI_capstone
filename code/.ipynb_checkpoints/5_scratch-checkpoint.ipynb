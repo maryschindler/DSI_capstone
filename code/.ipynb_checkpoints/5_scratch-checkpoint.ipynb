{
 "cells": [
  {
   "cell_type": "code",
   "execution_count": 31,
   "id": "028650c4-a842-44ab-83e2-93647ccdb7c7",
   "metadata": {},
   "outputs": [],
   "source": [
    "X_train_ohe = np.array([to_categorical(x, num_classes = classes) for x in X_train])\n",
    "X_test_ohe = np.array([to_categorical(x, num_classes = classes) for x in X_test])\n",
    "\n",
    "y_train_ohe = to_categorical(y_train, num_classes = classes)\n",
    "y_test_ohe = to_categorical(y_test, num_classes = classes)"
   ]
  },
  {
   "cell_type": "code",
   "execution_count": 32,
   "id": "bb68f22a-1ea2-4900-aad1-3544ffca4234",
   "metadata": {},
   "outputs": [
    {
     "data": {
      "text/plain": [
       "(28802, 20, 970)"
      ]
     },
     "execution_count": 32,
     "metadata": {},
     "output_type": "execute_result"
    }
   ],
   "source": [
    "X_train_ohe.shape"
   ]
  },
  {
   "cell_type": "code",
   "execution_count": 33,
   "id": "99737773-58cf-417c-80b5-41d83b7bbf21",
   "metadata": {},
   "outputs": [
    {
     "data": {
      "text/plain": [
       "array([[0., 0., 0., ..., 0., 0., 0.],\n",
       "       [0., 0., 0., ..., 0., 0., 0.],\n",
       "       [0., 0., 0., ..., 0., 0., 0.],\n",
       "       ...,\n",
       "       [0., 0., 0., ..., 0., 0., 0.],\n",
       "       [0., 0., 0., ..., 0., 0., 0.],\n",
       "       [0., 0., 0., ..., 0., 0., 0.]], dtype=float32)"
      ]
     },
     "execution_count": 33,
     "metadata": {},
     "output_type": "execute_result"
    }
   ],
   "source": [
    "X_train_ohe[0]"
   ]
  },
  {
   "cell_type": "code",
   "execution_count": null,
   "id": "afa7bcd3-1341-4943-87de-0b20ef38d379",
   "metadata": {},
   "outputs": [],
   "source": [
    "model = Sequential()\n",
    "# add embedding layer with embedding size of 50\n",
    "model.add(Embedding(input_dim = classes, output_dim = 50, input_length = 20))\n",
    "# add LSTM layer with 100 units\n",
    "model.add(LSTM(units = 100))\n",
    "# add dense layer\n",
    "model.add(Dense(units = 100, activation = 'relu'))\n",
    "# add final dense with softmax\n",
    "model.add(Dense(units = classes, activation = 'softmax'))\n",
    "\n",
    "print(model.summary())"
   ]
  },
  {
   "cell_type": "code",
   "execution_count": null,
   "id": "92011f16-f67e-4c3e-b7ce-2084a5635756",
   "metadata": {},
   "outputs": [],
   "source": [
    "opt = Adam(learning_rate = 0.01)\n",
    "model.compile(loss = 'categorical_crossentropy', optimizer = opt, metrics = ['accuracy'])"
   ]
  },
  {
   "cell_type": "code",
   "execution_count": null,
   "id": "2341499b-2bb0-496d-86e5-bd044d8ce5e7",
   "metadata": {},
   "outputs": [],
   "source": [
    "model.compile(optimizer = opt, \n",
    "              loss = 'categorical_crossentropy', \n",
    "              metrics = ['accuracy'])"
   ]
  },
  {
   "cell_type": "code",
   "execution_count": null,
   "id": "3e9d220a-cc6e-4cde-9afe-0d67e6a0bb0e",
   "metadata": {},
   "outputs": [],
   "source": [
    "# Add early stopping\n",
    "from tensorflow.keras.callbacks import EarlyStopping\n",
    "\n",
    "model = Sequential()\n",
    "\n",
    "model.add(Embedding(input_dim = classes, output_dim=50, input_length = X_train_ohe.shape[1]))\n",
    "\n",
    "model.add(Dense(64, activation = 'relu'))\n",
    "\n",
    "model.add(Dense(10, activation = 'softmax'))\n",
    "\n",
    "model.compile(optimizer='adam', loss='bce', metrics=['acc'])\n",
    "\n",
    "es = EarlyStopping(patience = 5)\n",
    "\n",
    "history = model.fit(x=X_train, y=y_train_ohe, validation_data=(X_test, y_test_ohe),\n",
    "                      epochs=100, batch_size = 64,\n",
    "                      callbacks = [es])"
   ]
  },
  {
   "cell_type": "code",
   "execution_count": null,
   "id": "a6c6f282-1998-4098-8438-47a1a8f8304d",
   "metadata": {},
   "outputs": [],
   "source": [
    "# #https://www.analyticsvidhya.com/blog/2021/08/predict-the-next-word-of-your-text-using-long-short-term-memory-lstm/\n",
    "\n",
    "# model = Sequential()\n",
    "# model.add(LSTM(128, input_shape = ((20, 1, ))))\n",
    "# model.add(Dense(870))"
   ]
  },
  {
   "cell_type": "code",
   "execution_count": null,
   "id": "978c8bf1-bb9f-4d5b-87af-0788d1ee261b",
   "metadata": {},
   "outputs": [],
   "source": [
    "#https://stackoverflow.com/questions/55774632/gridsearchcv-randomizedsearchcv-with-lstm\n",
    "def model_func(layer_one_neurons = 64, layer_two_neurons = 32, LSTM_layers = 100):\n",
    "    #instantiate the model:\n",
    "    model = Sequential()\n",
    "\n",
    "    model.add(Dense(layer_one_neurons, activation = 'relu',\n",
    "                        input_shape = (20, 1, )))\n",
    "\n",
    "    model.add(LSTM(LSTM_layers, activation = 'relu'))\n",
    "    #model.add(Dropout(rate = 0.25))\n",
    "    \n",
    "    model.add(Dense(layer_two_neurons, activation = 'relu',\n",
    "                        input_shape = (20, 1, )))\n",
    "\n",
    "    #model.add(Dense(970, activation = 'softmax'))\n",
    "    \n",
    "    opt = Adam(learningrate)\n",
    "    \n",
    "    #compiling:\n",
    "    model.compile(optimizer = opt, loss = 'mse', metrics=['acc'])\n",
    "    \n",
    "    es = EarlyStopping(patience = 5)\n",
    "    \n",
    "    return history"
   ]
  },
  {
   "cell_type": "code",
   "execution_count": null,
   "id": "ad026ff1-3ceb-47cd-9916-1d689129e68e",
   "metadata": {},
   "outputs": [],
   "source": [
    "nn = KerasRegressor(build_fn = model_func, batch_size = 64, verbose = 0)"
   ]
  },
  {
   "cell_type": "code",
   "execution_count": null,
   "id": "b0bde5d3-7a3f-4402-9940-89a1a74a64f3",
   "metadata": {},
   "outputs": [],
   "source": [
    "# history = model.fit(train_sequences, \n",
    "#                     validation_data = test_sequences, \n",
    "#                     epochs = 50, verbose = 2)"
   ]
  },
  {
   "cell_type": "code",
   "execution_count": null,
   "id": "92d5a3d3-9873-45bc-b175-2a5269ae1384",
   "metadata": {},
   "outputs": [],
   "source": [
    "param_grid = {\n",
    "    'epochs' : [10, 20],\n",
    "    'layer_one_neurons' : [32, 64],\n",
    "    'layer_two_neurons' : [32],\n",
    "    'LSTM_layers' : [64, 100]}\n",
    "    #, 'dropout' : [.05, .1]}\n",
    "\n",
    "#gridsearch:\n",
    "gs = GridSearchCV(nn, param_grid = param_grid)"
   ]
  },
  {
   "cell_type": "code",
   "execution_count": null,
   "id": "f6407625-9ccd-47fa-bbb6-3beada97ec58",
   "metadata": {},
   "outputs": [],
   "source": [
    "# gs.fit(X_train, y_train, verbose = 2)\n",
    "\n",
    "# #print outs:\n",
    "# print(gs.best_score_)\n",
    "# gs.best_params_"
   ]
  },
  {
   "cell_type": "code",
   "execution_count": null,
   "id": "c06bfbd5-fe9e-4dd6-977b-7fdb89dbe70f",
   "metadata": {},
   "outputs": [],
   "source": [
    "history = model.fit(X_train, y_train,\n",
    "                    validation_split = 0.05,\n",
    "                    batch_size = 128,\n",
    "                    epochs = 2,\n",
    "                    shuffle = True)"
   ]
  },
  {
   "cell_type": "code",
   "execution_count": null,
   "id": "c4337e1e-970b-489c-9f4b-3677971f0254",
   "metadata": {},
   "outputs": [],
   "source": [
    "plt.plot(history.history['acc'])\n",
    "plt.plot(history.history['val_acc'])\n",
    "plt.title('model accuracy')\n",
    "plt.ylabel('accuracy')\n",
    "plt.xlabel('epoch')\n",
    "plt.legend(['train', 'test'], loc = 'upper left')"
   ]
  },
  {
   "cell_type": "code",
   "execution_count": null,
   "id": "68cc9f57-0d4c-4566-bf75-28e5ad355d5c",
   "metadata": {},
   "outputs": [],
   "source": [
    "plt.plot(history.history['loss'])\n",
    "plt.plot(history.history['val_loss'])\n",
    "plt.title('model loss')\n",
    "plt.ylabel('loss')\n",
    "plt.xlabel('epoch')\n",
    "plt.legend(['train', 'test'], loc = 'upper left')"
   ]
  },
  {
   "cell_type": "code",
   "execution_count": null,
   "id": "d605c804-06e6-44eb-b4ba-f5b1ed0eb70a",
   "metadata": {},
   "outputs": [],
   "source": [
    "#Consider setting initial epoch?"
   ]
  }
 ],
 "metadata": {
  "kernelspec": {
   "display_name": "Python 3",
   "language": "python",
   "name": "python3"
  },
  "language_info": {
   "codemirror_mode": {
    "name": "ipython",
    "version": 3
   },
   "file_extension": ".py",
   "mimetype": "text/x-python",
   "name": "python",
   "nbconvert_exporter": "python",
   "pygments_lexer": "ipython3",
   "version": "3.8.8"
  }
 },
 "nbformat": 4,
 "nbformat_minor": 5
}
