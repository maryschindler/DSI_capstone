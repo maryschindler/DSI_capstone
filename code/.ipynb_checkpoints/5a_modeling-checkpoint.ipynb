{
 "cells": [
  {
   "cell_type": "markdown",
   "id": "148756ae-8988-498a-97e4-71eeac512be3",
   "metadata": {},
   "source": [
    "## Modeling"
   ]
  },
  {
   "cell_type": "markdown",
   "id": "9e7cda76-1dce-4ff0-92e4-10edf8b4f76a",
   "metadata": {},
   "source": [
    "**Imports**"
   ]
  },
  {
   "cell_type": "code",
   "execution_count": 1,
   "id": "c9b2c363-9741-4789-81d6-20921610a365",
   "metadata": {},
   "outputs": [],
   "source": [
    "import pandas as pd\n",
    "pd.set_option('display.max_columns', None)\n",
    "import numpy as np\n",
    "np.random.seed(42)\n",
    "\n",
    "from sklearn.preprocessing import StandardScaler\n",
    "from sklearn.model_selection import train_test_split, GridSearchCV\n",
    "from sklearn.metrics import accuracy_score\n",
    "\n",
    "from tensorflow import keras\n",
    "from tensorflow.keras import layers\n",
    "from tensorflow.keras.callbacks import EarlyStopping\n",
    "from tensorflow.keras.layers import Dense, Dropout, Embedding, LSTM\n",
    "from tensorflow.keras.models import Sequential\n",
    "from tensorflow.keras.optimizers import Adam\n",
    "from tensorflow.keras.utils import to_categorical\n",
    "from tensorflow.keras.wrappers.scikit_learn import KerasRegressor\n",
    "\n",
    "import matplotlib.pyplot as plt\n",
    "import seaborn as sns"
   ]
  },
  {
   "cell_type": "markdown",
   "id": "733cc16e-d5d5-4912-9c10-658979acede2",
   "metadata": {},
   "source": [
    "**Reading in Data**"
   ]
  },
  {
   "cell_type": "code",
   "execution_count": 2,
   "id": "70edef58-7cbf-493c-9919-6b0cfb9b5d14",
   "metadata": {},
   "outputs": [
    {
     "data": {
      "text/plain": [
       "(36003, 21)"
      ]
     },
     "execution_count": 2,
     "metadata": {},
     "output_type": "execute_result"
    }
   ],
   "source": [
    "model_sets = np.load('../data/model_sets.npy')\n",
    "model_sets.shape"
   ]
  },
  {
   "cell_type": "code",
   "execution_count": 3,
   "id": "c593df44-ec91-4636-924e-0c71dd02396f",
   "metadata": {},
   "outputs": [],
   "source": [
    "#remember, I am modeling for song n + 1 based on songs n previously played:\n",
    "X_rr, y_rr = model_sets[:, :-1], model_sets[:, -1] "
   ]
  },
  {
   "cell_type": "code",
   "execution_count": 4,
   "id": "649c9b61-7759-43bf-90ca-ba21cbe6c067",
   "metadata": {},
   "outputs": [
    {
     "data": {
      "text/plain": [
       "((36003, 20), (36003,))"
      ]
     },
     "execution_count": 4,
     "metadata": {},
     "output_type": "execute_result"
    }
   ],
   "source": [
    "X_rr.shape, y_rr.shape"
   ]
  },
  {
   "cell_type": "markdown",
   "id": "00205f53-1560-46b0-b643-e415dc67b3c6",
   "metadata": {},
   "source": [
    "**Train-Test Split**"
   ]
  },
  {
   "cell_type": "code",
   "execution_count": 5,
   "id": "03c855a6-6135-4909-ba3d-37598e554dee",
   "metadata": {},
   "outputs": [],
   "source": [
    "X_train, X_test, y_train, y_test = train_test_split(X_rr, y_rr, \n",
    "                                                    test_size = 0.2, \n",
    "                                                    random_state = 42)"
   ]
  },
  {
   "cell_type": "code",
   "execution_count": 6,
   "id": "8c9cf5b6-2cd9-44bb-b7ee-9e8a0cb7ec89",
   "metadata": {},
   "outputs": [
    {
     "name": "stdout",
     "output_type": "stream",
     "text": [
      "X_train and y_train: (28802, 20), (28802,)\n",
      "X_test and y_test: (7201, 20), (7201,)\n"
     ]
    }
   ],
   "source": [
    "print(f'X_train and y_train: {X_train.shape}, {y_train.shape}')\n",
    "print(f'X_test and y_test: {X_test.shape}, {y_test.shape}')"
   ]
  },
  {
   "cell_type": "markdown",
   "id": "0e2d1544-d757-4ec2-a85f-8a44401b4cb5",
   "metadata": {},
   "source": [
    "**Modeling**"
   ]
  },
  {
   "cell_type": "code",
   "execution_count": 7,
   "id": "e44038d8-830b-4200-bf60-b855fd09f318",
   "metadata": {},
   "outputs": [],
   "source": [
    "#REVISIT\n",
    "#REVISIT\n",
    "#REVISIT\n",
    "\n",
    "#consider using stringlookup instead of previously encoding:\n",
    "# ids_from_chars = tf.keras.layers.StringLookup(\n",
    "#     vocabulary=list(vocab), mask_token=None)"
   ]
  },
  {
   "cell_type": "code",
   "execution_count": 7,
   "id": "7eaf1d94-ab5d-4680-ae67-b6f6da4de141",
   "metadata": {},
   "outputs": [
    {
     "name": "stdout",
     "output_type": "stream",
     "text": [
      "970 unique songs!\n"
     ]
    }
   ],
   "source": [
    "#https://www.tensorflow.org/text/tutorials/text_generation\n",
    "songs = np.array(model_sets).tolist()\n",
    "songs = [item for sublist in songs for item in sublist]\n",
    "\n",
    "vocab = set(songs)\n",
    "print(f'{len(vocab)} unique songs!')"
   ]
  },
  {
   "cell_type": "code",
   "execution_count": 8,
   "id": "ae64a260-6e8c-42dd-b066-3bdd17b9b085",
   "metadata": {},
   "outputs": [],
   "source": [
    "# Length of the vocabulary in chars\n",
    "vocab_size = len(vocab)\n",
    "\n",
    "# The embedding dimension\n",
    "embedding_dim = 970\n",
    "\n",
    "# Number of RNN units\n",
    "rnn_units = 516"
   ]
  },
  {
   "cell_type": "code",
   "execution_count": 10,
   "id": "3a8e2983-2d00-434a-9d79-849fcf610ad5",
   "metadata": {},
   "outputs": [],
   "source": [
    "#https://www.geeksforgeeks.org/python-keras-keras-utils-to_categorical/\n",
    "#train labels:\n",
    "X_train_ohe = np.array([to_categorical(x, num_classes = vocab_size) for x in X_train])\n",
    "y_train_ohe = to_categorical(y_train, num_classes = vocab_size)\n",
    "\n",
    "#test labels:\n",
    "X_test_ohe = np.array([to_categorical(x, num_classes = vocab_size) for x in X_test])\n",
    "y_test_ohe = to_categorical(y_test, num_classes = vocab_size)"
   ]
  },
  {
   "cell_type": "code",
   "execution_count": 11,
   "id": "71da8d71-4cc2-47e4-93d0-8c56fd2a181d",
   "metadata": {},
   "outputs": [
    {
     "name": "stdout",
     "output_type": "stream",
     "text": [
      "Train shape: (28802, 20, 970), Test shape: (7201, 20, 970)\n",
      "Train shape: (28802, 970), Test shape: (7201, 970)\n"
     ]
    }
   ],
   "source": [
    "print(f'Train shape: {X_train_ohe.shape}, Test shape: {X_test_ohe.shape}')\n",
    "print(f'Train shape: {y_train_ohe.shape}, Test shape: {y_test_ohe.shape}')"
   ]
  },
  {
   "cell_type": "code",
   "execution_count": 12,
   "id": "3cd7fa2e-aa6b-4cb4-a74e-33530ab8ea52",
   "metadata": {},
   "outputs": [],
   "source": [
    "#https://medium.com/analytics-vidhya/understanding-embedding-layer-in-keras-bbe3ff1327ce\n",
    "#https://www.tensorflow.org/text/tutorials/text_generation\n",
    "#https://www.analyticsvidhya.com/blog/2021/08/predict-the-next-word-of-your-text-using-long-short-term-memory-lstm/\n",
    "#https://stackoverflow.com/questions/55774632/gridsearchcv-randomizedsearchcv-with-lstm\n",
    "\n",
    "model = Sequential()\n",
    "\n",
    "#first layer, embedding:\n",
    "model.add(Embedding(vocab_size, embedding_dim))\n",
    "\n",
    "#second layer, LSTM:\n",
    "model.add(LSTM(rnn_units))\n",
    "\n",
    "#final dense layer with softmax activation:\n",
    "model.add(Dense(embedding_dim, activation ='softmax'))"
   ]
  },
  {
   "cell_type": "code",
   "execution_count": 13,
   "id": "70c41664-827c-43fb-8900-cb8644d66514",
   "metadata": {},
   "outputs": [
    {
     "name": "stdout",
     "output_type": "stream",
     "text": [
      "Model: \"sequential\"\n",
      "_________________________________________________________________\n",
      " Layer (type)                Output Shape              Param #   \n",
      "=================================================================\n",
      " embedding (Embedding)       (None, None, 970)         940900    \n",
      "                                                                 \n",
      " lstm (LSTM)                 (None, 516)               3069168   \n",
      "                                                                 \n",
      " dense (Dense)               (None, 970)               501490    \n",
      "                                                                 \n",
      "=================================================================\n",
      "Total params: 4,511,558\n",
      "Trainable params: 4,511,558\n",
      "Non-trainable params: 0\n",
      "_________________________________________________________________\n"
     ]
    }
   ],
   "source": [
    "model.summary()"
   ]
  },
  {
   "cell_type": "code",
   "execution_count": 15,
   "id": "16f3d378-8090-488c-8b04-bb9ca3fa1948",
   "metadata": {},
   "outputs": [],
   "source": [
    "opt = Adam(learning_rate = 0.01)\n",
    "model.compile(loss = 'categorical_crossentropy', optimizer = opt, metrics = ['accuracy'])"
   ]
  },
  {
   "cell_type": "code",
   "execution_count": 16,
   "id": "2da46541-6677-4c1d-8f67-7e728c07bf14",
   "metadata": {},
   "outputs": [
    {
     "name": "stdout",
     "output_type": "stream",
     "text": [
      "Epoch 1/20\n",
      "226/226 [==============================] - 59s 257ms/step - loss: 5.1103 - accuracy: 0.0748\n",
      "Epoch 2/20\n",
      "226/226 [==============================] - 58s 258ms/step - loss: 4.6424 - accuracy: 0.1024\n",
      "Epoch 3/20\n",
      "226/226 [==============================] - 57s 254ms/step - loss: 4.4887 - accuracy: 0.1099\n",
      "Epoch 4/20\n",
      "226/226 [==============================] - 57s 254ms/step - loss: 4.3381 - accuracy: 0.1208\n",
      "Epoch 5/20\n",
      "226/226 [==============================] - 58s 255ms/step - loss: 4.2306 - accuracy: 0.1278\n",
      "Epoch 6/20\n",
      "226/226 [==============================] - 58s 255ms/step - loss: 4.1254 - accuracy: 0.1389\n",
      "Epoch 7/20\n",
      "226/226 [==============================] - 58s 257ms/step - loss: 4.0375 - accuracy: 0.1469\n",
      "Epoch 8/20\n",
      "226/226 [==============================] - 57s 254ms/step - loss: 3.9321 - accuracy: 0.1577\n",
      "Epoch 9/20\n",
      "226/226 [==============================] - 57s 254ms/step - loss: 3.8544 - accuracy: 0.1660\n",
      "Epoch 10/20\n",
      "226/226 [==============================] - 58s 255ms/step - loss: 3.7875 - accuracy: 0.1769\n",
      "Epoch 11/20\n",
      "226/226 [==============================] - 58s 255ms/step - loss: 3.6993 - accuracy: 0.1863\n",
      "Epoch 12/20\n",
      "226/226 [==============================] - 58s 256ms/step - loss: 3.6509 - accuracy: 0.1965\n",
      "Epoch 13/20\n",
      "226/226 [==============================] - 58s 255ms/step - loss: 3.5860 - accuracy: 0.2030\n",
      "Epoch 14/20\n",
      "226/226 [==============================] - 57s 254ms/step - loss: 3.5434 - accuracy: 0.2088\n",
      "Epoch 15/20\n",
      "226/226 [==============================] - 57s 254ms/step - loss: 3.4952 - accuracy: 0.2162\n",
      "Epoch 16/20\n",
      "226/226 [==============================] - 57s 251ms/step - loss: 3.4816 - accuracy: 0.2206\n",
      "Epoch 17/20\n",
      "226/226 [==============================] - 57s 251ms/step - loss: 3.4221 - accuracy: 0.2294\n",
      "Epoch 18/20\n",
      "226/226 [==============================] - 57s 251ms/step - loss: 3.3426 - accuracy: 0.2400\n",
      "Epoch 19/20\n",
      "226/226 [==============================] - 57s 251ms/step - loss: 3.2723 - accuracy: 0.2508\n",
      "Epoch 20/20\n",
      "226/226 [==============================] - 57s 251ms/step - loss: 3.2701 - accuracy: 0.2540\n"
     ]
    }
   ],
   "source": [
    "history = model.fit(X_train, y_train_ohe,\n",
    "                    batch_size = 128, \n",
    "                    epochs = 20)"
   ]
  },
  {
   "cell_type": "code",
   "execution_count": 17,
   "id": "ba6d4512-27ac-4bae-900c-9423fe39d961",
   "metadata": {},
   "outputs": [],
   "source": [
    "# plt.plot(history.history['acc'])\n",
    "# plt.plot(history.history['val_acc'])\n",
    "# plt.title('model accuracy')\n",
    "# plt.ylabel('accuracy')\n",
    "# plt.xlabel('epoch')\n",
    "# plt.legend(['train', 'test'], loc = 'upper left')"
   ]
  },
  {
   "cell_type": "code",
   "execution_count": 17,
   "id": "47f1e98e-8a04-413d-87c7-c5a0133148e3",
   "metadata": {},
   "outputs": [],
   "source": [
    "#https://medium.com/analytics-vidhya/understanding-embedding-layer-in-keras-bbe3ff1327ce\n",
    "#https://www.tensorflow.org/text/tutorials/text_generation\n",
    "#https://www.analyticsvidhya.com/blog/2021/08/predict-the-next-word-of-your-text-using-long-short-term-memory-lstm/\n",
    "#https://stackoverflow.com/questions/55774632/gridsearchcv-randomizedsearchcv-with-lstm\n",
    "\n",
    "def model_func(vocab_size = len(vocab),\n",
    "               embedding_dim = 970,\n",
    "               rnn_units = 516,\n",
    "               dropout = 0.10,\n",
    "               learningrate = 0.01):\n",
    "\n",
    "    model = Sequential()\n",
    "\n",
    "    #first layer, embedding:\n",
    "    model.add(Embedding(vocab_size, embedding_dim))\n",
    "\n",
    "    #second layer, LSTM:\n",
    "    model.add(LSTM(rnn_units))\n",
    "\n",
    "    #final dense layer with softmax activation:\n",
    "    model.add(Dense(embedding_dim, activation ='softmax'))\n",
    "    \n",
    "    #setting optimizer:\n",
    "    opt = Adam(learningrate)\n",
    "    \n",
    "    #compiling:\n",
    "    model.compile(optimizer = opt, loss = 'mse', metrics = ['accuracy'])\n",
    "\n",
    "    return model"
   ]
  },
  {
   "cell_type": "code",
   "execution_count": 18,
   "id": "95779e1c-f3de-45c7-8bb7-9094bc873c3b",
   "metadata": {},
   "outputs": [
    {
     "name": "stderr",
     "output_type": "stream",
     "text": [
      "<ipython-input-18-a0c81aac32b1>:1: DeprecationWarning: KerasRegressor is deprecated, use Sci-Keras (https://github.com/adriangb/scikeras) instead.\n",
      "  rnn = KerasRegressor(build_fn = model_func, batch_size = 128, verbose = 0)\n"
     ]
    }
   ],
   "source": [
    "rnn = KerasRegressor(build_fn = model_func, batch_size = 128, verbose = 2)"
   ]
  },
  {
   "cell_type": "code",
   "execution_count": 20,
   "id": "054ba2a2-398e-4014-9823-4be73fa8a0e0",
   "metadata": {},
   "outputs": [],
   "source": [
    "param_grid = {\n",
    "    'epochs' : [10, 20],\n",
    "    'rnn_units' : [256, 516, 1024],\n",
    "    #'dropout' : [0.05, 0.10],\n",
    "    'learningrate': [0.01, 0.05]}\n",
    "\n",
    "#gridsearch:\n",
    "gs = GridSearchCV(rnn, param_grid = param_grid, cv = 3)"
   ]
  },
  {
   "cell_type": "code",
   "execution_count": null,
   "id": "a387f2ff-3b29-409f-89ff-ecbcf2dcadd6",
   "metadata": {},
   "outputs": [
    {
     "name": "stdout",
     "output_type": "stream",
     "text": [
      "Epoch 1/10\n",
      "151/151 - 20s - loss: 322490.5000 - accuracy: 9.3745e-04 - 20s/epoch - 133ms/step\n",
      "Epoch 2/10\n",
      "151/151 - 19s - loss: 322490.5312 - accuracy: 9.8953e-04 - 19s/epoch - 124ms/step\n",
      "Epoch 3/10\n",
      "151/151 - 19s - loss: 322490.4375 - accuracy: 9.8953e-04 - 19s/epoch - 124ms/step\n",
      "Epoch 4/10\n",
      "151/151 - 18s - loss: 322490.4688 - accuracy: 9.8953e-04 - 18s/epoch - 122ms/step\n",
      "Epoch 5/10\n",
      "151/151 - 19s - loss: 322490.5938 - accuracy: 0.0010 - 19s/epoch - 124ms/step\n",
      "Epoch 6/10\n",
      "151/151 - 19s - loss: 322490.6250 - accuracy: 0.0010 - 19s/epoch - 124ms/step\n",
      "Epoch 7/10\n",
      "151/151 - 19s - loss: 322490.5625 - accuracy: 0.0010 - 19s/epoch - 125ms/step\n",
      "Epoch 8/10\n",
      "151/151 - 19s - loss: 322490.4375 - accuracy: 0.0010 - 19s/epoch - 124ms/step\n",
      "Epoch 9/10\n",
      "151/151 - 19s - loss: 322490.5000 - accuracy: 0.0010 - 19s/epoch - 123ms/step\n",
      "Epoch 10/10\n",
      "151/151 - 19s - loss: 322490.4375 - accuracy: 0.0010 - 19s/epoch - 123ms/step\n",
      "Epoch 1/10\n",
      "151/151 - 19s - loss: 321922.7812 - accuracy: 8.3329e-04 - 19s/epoch - 128ms/step\n",
      "Epoch 2/10\n",
      "151/151 - 18s - loss: 321922.6562 - accuracy: 8.3329e-04 - 18s/epoch - 121ms/step\n",
      "Epoch 3/10\n",
      "151/151 - 18s - loss: 321922.8125 - accuracy: 8.3329e-04 - 18s/epoch - 122ms/step\n",
      "Epoch 4/10\n",
      "151/151 - 18s - loss: 321922.6875 - accuracy: 8.3329e-04 - 18s/epoch - 121ms/step\n",
      "Epoch 5/10\n",
      "151/151 - 18s - loss: 321922.6875 - accuracy: 8.8537e-04 - 18s/epoch - 119ms/step\n",
      "Epoch 6/10\n",
      "151/151 - 18s - loss: 321922.6562 - accuracy: 8.8537e-04 - 18s/epoch - 121ms/step\n",
      "Epoch 7/10\n",
      "151/151 - 18s - loss: 321922.6875 - accuracy: 8.8537e-04 - 18s/epoch - 121ms/step\n",
      "Epoch 8/10\n",
      "151/151 - 18s - loss: 321922.5938 - accuracy: 9.3745e-04 - 18s/epoch - 119ms/step\n",
      "Epoch 9/10\n",
      "151/151 - 18s - loss: 321922.7812 - accuracy: 9.3745e-04 - 18s/epoch - 120ms/step\n",
      "Epoch 10/10\n",
      "151/151 - 18s - loss: 321922.6875 - accuracy: 9.3745e-04 - 18s/epoch - 122ms/step\n",
      "Epoch 1/10\n",
      "151/151 - 20s - loss: 322501.3750 - accuracy: 8.8532e-04 - 20s/epoch - 130ms/step\n",
      "Epoch 2/10\n",
      "151/151 - 19s - loss: 322501.5000 - accuracy: 8.8532e-04 - 19s/epoch - 126ms/step\n",
      "Epoch 3/10\n",
      "151/151 - 19s - loss: 322501.4375 - accuracy: 8.3325e-04 - 19s/epoch - 128ms/step\n",
      "Epoch 4/10\n",
      "151/151 - 19s - loss: 322501.4688 - accuracy: 8.3325e-04 - 19s/epoch - 124ms/step\n",
      "Epoch 5/10\n",
      "151/151 - 19s - loss: 322501.4688 - accuracy: 9.3740e-04 - 19s/epoch - 126ms/step\n",
      "Epoch 6/10\n",
      "151/151 - 19s - loss: 322501.4062 - accuracy: 9.8948e-04 - 19s/epoch - 125ms/step\n",
      "Epoch 7/10\n",
      "151/151 - 19s - loss: 322501.3750 - accuracy: 9.8948e-04 - 19s/epoch - 129ms/step\n",
      "Epoch 8/10\n",
      "151/151 - 19s - loss: 322501.4062 - accuracy: 9.8948e-04 - 19s/epoch - 123ms/step\n",
      "Epoch 9/10\n",
      "151/151 - 19s - loss: 322501.5000 - accuracy: 0.0010 - 19s/epoch - 126ms/step\n",
      "Epoch 10/10\n",
      "151/151 - 19s - loss: 322501.4375 - accuracy: 9.8948e-04 - 19s/epoch - 128ms/step\n",
      "Epoch 1/10\n",
      "151/151 - 43s - loss: 322490.4688 - accuracy: 9.3745e-04 - 43s/epoch - 288ms/step\n",
      "Epoch 2/10\n",
      "151/151 - 41s - loss: 322490.5625 - accuracy: 9.8953e-04 - 41s/epoch - 272ms/step\n",
      "Epoch 3/10\n",
      "151/151 - 42s - loss: 322490.4688 - accuracy: 0.0010 - 42s/epoch - 281ms/step\n",
      "Epoch 4/10\n",
      "151/151 - 42s - loss: 322490.4375 - accuracy: 0.0010 - 42s/epoch - 277ms/step\n",
      "Epoch 5/10\n",
      "151/151 - 42s - loss: 322490.4688 - accuracy: 0.0010 - 42s/epoch - 276ms/step\n",
      "Epoch 6/10\n",
      "151/151 - 41s - loss: 322490.5000 - accuracy: 9.8953e-04 - 41s/epoch - 275ms/step\n",
      "Epoch 7/10\n",
      "151/151 - 42s - loss: 322490.4688 - accuracy: 0.0010 - 42s/epoch - 279ms/step\n",
      "Epoch 8/10\n",
      "151/151 - 43s - loss: 322490.5938 - accuracy: 9.8953e-04 - 43s/epoch - 285ms/step\n",
      "Epoch 9/10\n",
      "151/151 - 44s - loss: 322490.5000 - accuracy: 9.8953e-04 - 44s/epoch - 289ms/step\n",
      "Epoch 10/10\n",
      "151/151 - 43s - loss: 322490.5938 - accuracy: 9.8953e-04 - 43s/epoch - 286ms/step\n",
      "Epoch 1/10\n",
      "151/151 - 43s - loss: 321922.7812 - accuracy: 0.0011 - 43s/epoch - 283ms/step\n",
      "Epoch 2/10\n"
     ]
    }
   ],
   "source": [
    "gs.fit(X_train, y_train, verbose = 2)"
   ]
  },
  {
   "cell_type": "code",
   "execution_count": null,
   "id": "f3bfe04b-f940-4c11-8ec8-afa332de60c7",
   "metadata": {},
   "outputs": [],
   "source": [
    "print(gs.best_score_)\n",
    "gs.best_params_"
   ]
  },
  {
   "cell_type": "code",
   "execution_count": null,
   "id": "8c70aa60-f7de-469a-8ee6-d0d6cc19dc0c",
   "metadata": {},
   "outputs": [],
   "source": []
  }
 ],
 "metadata": {
  "kernelspec": {
   "display_name": "Python 3",
   "language": "python",
   "name": "python3"
  },
  "language_info": {
   "codemirror_mode": {
    "name": "ipython",
    "version": 3
   },
   "file_extension": ".py",
   "mimetype": "text/x-python",
   "name": "python",
   "nbconvert_exporter": "python",
   "pygments_lexer": "ipython3",
   "version": "3.8.8"
  }
 },
 "nbformat": 4,
 "nbformat_minor": 5
}
