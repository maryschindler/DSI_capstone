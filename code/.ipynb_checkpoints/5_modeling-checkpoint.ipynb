{
 "cells": [
  {
   "cell_type": "markdown",
   "id": "148756ae-8988-498a-97e4-71eeac512be3",
   "metadata": {},
   "source": [
    "## Modeling"
   ]
  },
  {
   "cell_type": "markdown",
   "id": "9e7cda76-1dce-4ff0-92e4-10edf8b4f76a",
   "metadata": {},
   "source": [
    "**Imports**"
   ]
  },
  {
   "cell_type": "code",
   "execution_count": 1,
   "id": "c9b2c363-9741-4789-81d6-20921610a365",
   "metadata": {},
   "outputs": [],
   "source": [
    "import pandas as pd\n",
    "pd.set_option('display.max_columns', None)\n",
    "import numpy as np\n",
    "np.random.seed(42)\n",
    "\n",
    "from sklearn.preprocessing import StandardScaler\n",
    "from sklearn.model_selection import train_test_split\n",
    "from sklearn.metrics import accuracy_score\n",
    "\n",
    "from tensorflow import keras\n",
    "from tensorflow.keras import layers\n",
    "from tensorflow.keras.callbacks import EarlyStopping\n",
    "from tensorflow.keras.layers import Dense, Dropout, LSTM\n",
    "from tensorflow.keras.models import Sequential\n",
    "from tensorflow.keras.optimizers import Adam\n",
    "\n",
    "import matplotlib.pyplot as plt\n",
    "import seaborn as sns"
   ]
  },
  {
   "cell_type": "code",
   "execution_count": 28,
   "id": "70edef58-7cbf-493c-9919-6b0cfb9b5d14",
   "metadata": {},
   "outputs": [
    {
     "data": {
      "text/plain": [
       "(36003, 21)"
      ]
     },
     "execution_count": 28,
     "metadata": {},
     "output_type": "execute_result"
    }
   ],
   "source": [
    "model_sets = np.load('../data/model_sets.npy')\n",
    "model_sets.shape"
   ]
  },
  {
   "cell_type": "code",
   "execution_count": 3,
   "id": "c593df44-ec91-4636-924e-0c71dd02396f",
   "metadata": {},
   "outputs": [],
   "source": [
    "#remember, I am modeling for song n + 1 based on songs n previously played:\n",
    "X_rr, y_rr = model_sets[:, :-1], model_sets[:, -1] "
   ]
  },
  {
   "cell_type": "code",
   "execution_count": 4,
   "id": "649c9b61-7759-43bf-90ca-ba21cbe6c067",
   "metadata": {},
   "outputs": [
    {
     "data": {
      "text/plain": [
       "((36003, 20), (36003,))"
      ]
     },
     "execution_count": 4,
     "metadata": {},
     "output_type": "execute_result"
    }
   ],
   "source": [
    "X_rr.shape, y_rr.shape"
   ]
  },
  {
   "cell_type": "markdown",
   "id": "00205f53-1560-46b0-b643-e415dc67b3c6",
   "metadata": {},
   "source": [
    "**Train-Test Split**"
   ]
  },
  {
   "cell_type": "code",
   "execution_count": 5,
   "id": "03c855a6-6135-4909-ba3d-37598e554dee",
   "metadata": {},
   "outputs": [],
   "source": [
    "X_train, X_test, y_train, y_test = train_test_split(X_rr, y_rr, \n",
    "                                                    test_size = 0.2, \n",
    "                                                    random_state = 42)"
   ]
  },
  {
   "cell_type": "code",
   "execution_count": 6,
   "id": "8c9cf5b6-2cd9-44bb-b7ee-9e8a0cb7ec89",
   "metadata": {},
   "outputs": [
    {
     "name": "stdout",
     "output_type": "stream",
     "text": [
      "X_train and y_train: (28802, 20), (28802,)\n",
      "X_test and y_test: (7201, 20), (7201,)\n"
     ]
    }
   ],
   "source": [
    "print(f'X_train and y_train: {X_train.shape}, {y_train.shape}')\n",
    "print(f'X_test and y_test: {X_test.shape}, {y_test.shape}')"
   ]
  },
  {
   "cell_type": "code",
   "execution_count": 7,
   "id": "5806ff30-f30d-44fe-b54a-0808ae81d0fd",
   "metadata": {},
   "outputs": [],
   "source": [
    "#scaling data for RNN:\n",
    "\n",
    "sc = StandardScaler()\n",
    "X_train_sc = sc.fit_transform(X_train)\n",
    "X_test_sc = sc.transform(X_test)"
   ]
  },
  {
   "cell_type": "code",
   "execution_count": 8,
   "id": "3d14f71c-b99e-4f09-b928-7d201896ed23",
   "metadata": {},
   "outputs": [],
   "source": [
    "# shape_X_train = X_train_sc.reshape((X_train_sc.shape[0], 1, X_train_sc.shape[1]))\n",
    "# shape_X_test = X_test_sc.reshape((X_test_sc.shape[0], 1, X_test_sc.shape[1]))"
   ]
  },
  {
   "cell_type": "code",
   "execution_count": 33,
   "id": "ac5079c2-14c9-4560-8cb4-d3df3c0fe25e",
   "metadata": {},
   "outputs": [
    {
     "ename": "NameError",
     "evalue": "name 'RandomNormal' is not defined",
     "output_type": "error",
     "traceback": [
      "\u001b[1;31m---------------------------------------------------------------------------\u001b[0m",
      "\u001b[1;31mNameError\u001b[0m                                 Traceback (most recent call last)",
      "\u001b[1;32m<ipython-input-33-39860402b037>\u001b[0m in \u001b[0;36m<module>\u001b[1;34m\u001b[0m\n\u001b[0;32m      8\u001b[0m \u001b[1;31m#set up second layer:\u001b[0m\u001b[1;33m\u001b[0m\u001b[1;33m\u001b[0m\u001b[1;33m\u001b[0m\u001b[0m\n\u001b[0;32m      9\u001b[0m model.add(LSTM(32, activation = 'relu', \n\u001b[1;32m---> 10\u001b[1;33m                \u001b[0mkernel_initializer\u001b[0m\u001b[1;33m=\u001b[0m\u001b[0mRandomNormal\u001b[0m\u001b[1;33m(\u001b[0m\u001b[0mmean\u001b[0m\u001b[1;33m=\u001b[0m\u001b[1;36m0.0\u001b[0m\u001b[1;33m,\u001b[0m \u001b[0mstddev\u001b[0m\u001b[1;33m=\u001b[0m\u001b[1;36m0.05\u001b[0m\u001b[1;33m,\u001b[0m \u001b[0mseed\u001b[0m\u001b[1;33m=\u001b[0m\u001b[1;36m42\u001b[0m\u001b[1;33m)\u001b[0m\u001b[1;33m,\u001b[0m\u001b[1;33m\u001b[0m\u001b[1;33m\u001b[0m\u001b[0m\n\u001b[0m\u001b[0;32m     11\u001b[0m                bias_initializer=RandomNormal(mean=0.0, stddev=0.05, seed=42)))\n\u001b[0;32m     12\u001b[0m \u001b[1;33m\u001b[0m\u001b[0m\n",
      "\u001b[1;31mNameError\u001b[0m: name 'RandomNormal' is not defined"
     ]
    }
   ],
   "source": [
    "#https://stackoverflow.com/questions/55774632/gridsearchcv-randomizedsearchcv-with-lstm\n",
    "\n",
    "    #instantiate the model:\n",
    "    model = Sequential()\n",
    "    \n",
    "    #set up first layer:\n",
    "    model.add(Dense(32, activation = 'relu',\n",
    "                    input_shape = (20, 1, )))\n",
    "    \n",
    "    #set up second layer:\n",
    "    model.add(LSTM(32, activation = 'relu', \n",
    "                   kernel_initializer=RandomNormal(mean=0.0, stddev=0.05, seed=42), \n",
    "                   bias_initializer=RandomNormal(mean=0.0, stddev=0.05, seed=42)))\n",
    "    \n",
    "    #add output layer:\n",
    "    model.add(Dense(1, activation = None))\n",
    "    \n",
    "    #compiling:\n",
    "    model.compile(optimizer = 'adam', loss = 'mse', metrics=['acc'])"
   ]
  },
  {
   "cell_type": "code",
   "execution_count": 31,
   "id": "6a9bbe8c-c0a1-4bc6-a34b-f36449175486",
   "metadata": {},
   "outputs": [
    {
     "name": "stdout",
     "output_type": "stream",
     "text": [
      "Model: \"sequential_6\"\n",
      "_________________________________________________________________\n",
      " Layer (type)                Output Shape              Param #   \n",
      "=================================================================\n",
      " dense_14 (Dense)            (None, 20, 32)            64        \n",
      "                                                                 \n",
      " lstm_1 (LSTM)               (None, 32)                8320      \n",
      "                                                                 \n",
      " dense_15 (Dense)            (None, 1)                 33        \n",
      "                                                                 \n",
      "=================================================================\n",
      "Total params: 8,417\n",
      "Trainable params: 8,417\n",
      "Non-trainable params: 0\n",
      "_________________________________________________________________\n"
     ]
    }
   ],
   "source": [
    "model.summary()"
   ]
  },
  {
   "cell_type": "code",
   "execution_count": 32,
   "id": "857baca1-8eff-4657-bbf6-a61e9bbdd730",
   "metadata": {},
   "outputs": [
    {
     "name": "stdout",
     "output_type": "stream",
     "text": [
      "Epoch 1/50\n",
      "226/226 [==============================] - 2s 5ms/step - loss: 125481.3125 - acc: 3.4720e-05\n",
      "Epoch 2/50\n",
      "226/226 [==============================] - 1s 5ms/step - loss: 79248.7969 - acc: 3.4720e-05\n",
      "Epoch 3/50\n",
      "226/226 [==============================] - 1s 5ms/step - loss: 76979.4297 - acc: 3.4720e-05\n",
      "Epoch 4/50\n",
      "226/226 [==============================] - 1s 5ms/step - loss: 78027.2109 - acc: 3.4720e-05\n",
      "Epoch 5/50\n",
      "226/226 [==============================] - 1s 5ms/step - loss: 76586.6484 - acc: 3.4720e-05\n",
      "Epoch 6/50\n",
      "226/226 [==============================] - 1s 5ms/step - loss: 76856.1094 - acc: 3.4720e-05\n",
      "Epoch 7/50\n",
      "226/226 [==============================] - 1s 5ms/step - loss: 76521.2812 - acc: 3.4720e-05\n",
      "Epoch 8/50\n",
      "226/226 [==============================] - 1s 5ms/step - loss: 77201.5547 - acc: 3.4720e-05\n",
      "Epoch 9/50\n",
      "226/226 [==============================] - 1s 5ms/step - loss: 77181.3984 - acc: 3.4720e-05\n",
      "Epoch 10/50\n",
      "226/226 [==============================] - 1s 5ms/step - loss: 76724.1641 - acc: 3.4720e-05\n",
      "Epoch 11/50\n",
      "226/226 [==============================] - 1s 5ms/step - loss: 76542.4688 - acc: 3.4720e-05\n",
      "Epoch 12/50\n",
      "226/226 [==============================] - 1s 5ms/step - loss: 76859.2422 - acc: 3.4720e-05\n",
      "Epoch 13/50\n",
      "226/226 [==============================] - 1s 5ms/step - loss: 76417.3281 - acc: 3.4720e-05\n",
      "Epoch 14/50\n",
      "226/226 [==============================] - 1s 5ms/step - loss: 76584.4688 - acc: 3.4720e-05\n",
      "Epoch 15/50\n",
      "226/226 [==============================] - 1s 5ms/step - loss: 76669.4141 - acc: 3.4720e-05\n",
      "Epoch 16/50\n",
      "226/226 [==============================] - 1s 5ms/step - loss: 76625.9375 - acc: 3.4720e-05\n",
      "Epoch 17/50\n",
      "226/226 [==============================] - 1s 5ms/step - loss: 76740.9531 - acc: 3.4720e-05\n",
      "Epoch 18/50\n",
      "226/226 [==============================] - 1s 5ms/step - loss: 76603.8984 - acc: 3.4720e-05\n",
      "Epoch 19/50\n",
      "226/226 [==============================] - 1s 5ms/step - loss: 76819.1875 - acc: 3.4720e-05\n",
      "Epoch 20/50\n",
      "226/226 [==============================] - 1s 5ms/step - loss: 76652.7891 - acc: 3.4720e-05\n",
      "Epoch 21/50\n",
      "226/226 [==============================] - 1s 5ms/step - loss: 76979.2734 - acc: 3.4720e-05\n",
      "Epoch 22/50\n",
      "226/226 [==============================] - 1s 5ms/step - loss: 76514.9141 - acc: 3.4720e-05\n",
      "Epoch 23/50\n",
      "226/226 [==============================] - 1s 5ms/step - loss: 77285.8594 - acc: 3.4720e-05\n",
      "Epoch 24/50\n",
      "226/226 [==============================] - 1s 5ms/step - loss: 77049.9219 - acc: 3.4720e-05\n",
      "Epoch 25/50\n",
      "226/226 [==============================] - 1s 5ms/step - loss: 76427.8984 - acc: 3.4720e-05\n",
      "Epoch 26/50\n",
      "226/226 [==============================] - 1s 5ms/step - loss: 76647.0703 - acc: 3.4720e-05\n",
      "Epoch 27/50\n",
      "226/226 [==============================] - 1s 5ms/step - loss: 76546.7969 - acc: 3.4720e-05\n",
      "Epoch 28/50\n",
      "226/226 [==============================] - 1s 5ms/step - loss: 76391.4922 - acc: 3.4720e-05\n",
      "Epoch 29/50\n",
      "226/226 [==============================] - 1s 5ms/step - loss: 76750.0469 - acc: 3.4720e-05\n",
      "Epoch 30/50\n",
      "226/226 [==============================] - 1s 5ms/step - loss: 76592.5859 - acc: 3.4720e-05\n",
      "Epoch 31/50\n",
      "226/226 [==============================] - 1s 5ms/step - loss: 76460.8359 - acc: 3.4720e-05\n",
      "Epoch 32/50\n",
      "226/226 [==============================] - 1s 5ms/step - loss: 76271.3984 - acc: 3.4720e-05\n",
      "Epoch 33/50\n",
      "226/226 [==============================] - 1s 5ms/step - loss: 76545.0703 - acc: 3.4720e-05\n",
      "Epoch 34/50\n",
      "226/226 [==============================] - 1s 5ms/step - loss: 76476.7891 - acc: 3.4720e-05\n",
      "Epoch 35/50\n",
      "226/226 [==============================] - 1s 5ms/step - loss: 76729.7969 - acc: 3.4720e-05\n",
      "Epoch 36/50\n",
      "226/226 [==============================] - 1s 5ms/step - loss: 76606.2891 - acc: 3.4720e-05\n",
      "Epoch 37/50\n",
      "226/226 [==============================] - 1s 5ms/step - loss: 76549.0859 - acc: 3.4720e-05\n",
      "Epoch 38/50\n",
      "226/226 [==============================] - 1s 5ms/step - loss: 76539.1797 - acc: 3.4720e-05\n",
      "Epoch 39/50\n",
      "226/226 [==============================] - 1s 5ms/step - loss: 76593.8203 - acc: 3.4720e-05\n",
      "Epoch 40/50\n",
      "226/226 [==============================] - 1s 5ms/step - loss: 76324.5859 - acc: 3.4720e-05\n",
      "Epoch 41/50\n",
      "226/226 [==============================] - 1s 5ms/step - loss: 76420.7969 - acc: 3.4720e-05\n",
      "Epoch 42/50\n",
      "226/226 [==============================] - 1s 5ms/step - loss: 76511.9766 - acc: 3.4720e-05\n",
      "Epoch 43/50\n",
      "226/226 [==============================] - 1s 5ms/step - loss: 76443.4375 - acc: 3.4720e-05\n",
      "Epoch 44/50\n",
      "226/226 [==============================] - 1s 5ms/step - loss: 76195.6250 - acc: 3.4720e-05\n",
      "Epoch 45/50\n",
      "226/226 [==============================] - 1s 5ms/step - loss: 76327.6094 - acc: 3.4720e-05\n",
      "Epoch 46/50\n",
      "226/226 [==============================] - 1s 5ms/step - loss: 76329.6172 - acc: 3.4720e-05\n",
      "Epoch 47/50\n",
      "226/226 [==============================] - 1s 5ms/step - loss: 76482.2422 - acc: 3.4720e-05\n",
      "Epoch 48/50\n",
      "226/226 [==============================] - 1s 5ms/step - loss: 76338.3984 - acc: 3.4720e-05\n",
      "Epoch 49/50\n",
      "226/226 [==============================] - 1s 5ms/step - loss: 76897.1484 - acc: 3.4720e-05\n",
      "Epoch 50/50\n",
      "226/226 [==============================] - 1s 5ms/step - loss: 76404.9531 - acc: 3.4720e-05\n"
     ]
    },
    {
     "data": {
      "text/plain": [
       "<keras.callbacks.History at 0x24e0a58f4f0>"
      ]
     },
     "execution_count": 32,
     "metadata": {},
     "output_type": "execute_result"
    }
   ],
   "source": [
    "model.fit(X_train_sc, y_train, batch_size = 128, epochs = 50)"
   ]
  },
  {
   "cell_type": "code",
   "execution_count": 69,
   "id": "b74b3725-9022-4710-96cc-11cbbba1cfc4",
   "metadata": {},
   "outputs": [],
   "source": [
    "output_array = model.predict(X_train)"
   ]
  },
  {
   "cell_type": "code",
   "execution_count": 70,
   "id": "00f18c54-d411-4823-80b5-0e9de1ff1a99",
   "metadata": {},
   "outputs": [
    {
     "data": {
      "text/plain": [
       "array([-0.00547465, -0.00755025,  0.00371697, -0.00600972,  0.0060163 ,\n",
       "        0.00305121,  0.00086021, -0.00551636,  0.00076681, -0.0099721 ],\n",
       "      dtype=float32)"
      ]
     },
     "execution_count": 70,
     "metadata": {},
     "output_type": "execute_result"
    }
   ],
   "source": [
    "output_array[0]"
   ]
  },
  {
   "cell_type": "code",
   "execution_count": null,
   "id": "3a7e837c-6487-494e-91c3-9e293c066dd5",
   "metadata": {},
   "outputs": [],
   "source": []
  }
 ],
 "metadata": {
  "kernelspec": {
   "display_name": "Python 3",
   "language": "python",
   "name": "python3"
  },
  "language_info": {
   "codemirror_mode": {
    "name": "ipython",
    "version": 3
   },
   "file_extension": ".py",
   "mimetype": "text/x-python",
   "name": "python",
   "nbconvert_exporter": "python",
   "pygments_lexer": "ipython3",
   "version": "3.8.8"
  }
 },
 "nbformat": 4,
 "nbformat_minor": 5
}
