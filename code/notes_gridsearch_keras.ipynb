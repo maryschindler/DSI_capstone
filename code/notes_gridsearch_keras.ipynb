{
 "cells": [
  {
   "cell_type": "markdown",
   "metadata": {},
   "source": [
    "<img src=\"http://imgur.com/1ZcRyrc.png\" style=\"float: left; margin: 20px; height: 55px\">\n",
    "\n",
    "# `GridSearch` with `keras`\n",
    "\n",
    "_Authors: Riley Dallas (ATX)_\n",
    "\n",
    "---\n",
    "\n",
    "\n",
    "### Learning Objectives\n",
    "\n",
    "- Learn how to use `keras`'s `scikit_learn` wrappers.\n",
    "- Use `GridSearchCV` to tune a `keras` model"
   ]
  },
  {
   "cell_type": "code",
   "execution_count": 1,
   "metadata": {},
   "outputs": [],
   "source": [
    "from sklearn.datasets import make_regression\n",
    "from sklearn.preprocessing import StandardScaler\n",
    "from sklearn.model_selection import train_test_split, GridSearchCV\n",
    "from sklearn import metrics\n",
    "\n",
    "from tensorflow.keras.models import Sequential\n",
    "from tensorflow.keras.layers import Dense, Dropout\n",
    "from tensorflow.keras.wrappers.scikit_learn import KerasRegressor"
   ]
  },
  {
   "cell_type": "markdown",
   "metadata": {},
   "source": [
    "# Regression\n",
    "---\n",
    "\n",
    "`make_regression` is an excellent library for generating a random regression problem. This helps us focus on the model without having to worry about the dataset. \n",
    "\n",
    "In the cell below, use `make_regression` to generate 10,000 samples using 20 features."
   ]
  },
  {
   "cell_type": "code",
   "execution_count": 2,
   "metadata": {},
   "outputs": [],
   "source": [
    "X, y = make_regression(n_samples = 10_000, n_features = 20, random_state = 33)"
   ]
  },
  {
   "cell_type": "markdown",
   "metadata": {},
   "source": [
    "### Train/Test Split\n",
    "---\n",
    "\n",
    "We always want to have a validation set to test our model. Use the `train_test_split` function to split our `X` and `y` variables into a training set and a holdout set."
   ]
  },
  {
   "cell_type": "code",
   "execution_count": 3,
   "metadata": {},
   "outputs": [],
   "source": [
    "X_train, X_test, y_train, y_test = train_test_split(X, y,\n",
    "                                               random_state = 33)"
   ]
  },
  {
   "cell_type": "code",
   "execution_count": 4,
   "metadata": {},
   "outputs": [
    {
     "data": {
      "text/plain": [
       "array([[ 1.41189076, -0.91347111,  0.14259087, ...,  0.12344782,\n",
       "        -0.6496142 ,  1.52096123],\n",
       "       [-1.02816164,  0.98753556, -0.6275951 , ..., -0.48457181,\n",
       "         0.17234647,  2.44895862],\n",
       "       [-0.80786716, -0.30427438,  1.37881299, ...,  0.59347582,\n",
       "         2.23387656, -0.71765433],\n",
       "       ...,\n",
       "       [-1.63249941,  0.0194359 , -1.33280575, ..., -0.19320821,\n",
       "        -0.03490674, -1.75731354],\n",
       "       [-0.36617357, -0.99893844, -0.19514583, ..., -0.31899267,\n",
       "         0.85873147, -1.29094535],\n",
       "       [-0.58679975, -0.50215483, -0.35894277, ...,  0.39512846,\n",
       "         0.85427539,  0.13127747]])"
      ]
     },
     "execution_count": 4,
     "metadata": {},
     "output_type": "execute_result"
    }
   ],
   "source": [
    "X_train"
   ]
  },
  {
   "cell_type": "code",
   "execution_count": 5,
   "metadata": {},
   "outputs": [
    {
     "data": {
      "text/plain": [
       "(7500, 20)"
      ]
     },
     "execution_count": 5,
     "metadata": {},
     "output_type": "execute_result"
    }
   ],
   "source": [
    "X_train.shape"
   ]
  },
  {
   "cell_type": "markdown",
   "metadata": {},
   "source": [
    "### `StandardScaler`\n",
    "---\n",
    "\n",
    "You want to scale your data for *any* model that uses Gradient Descent, which includes Neural Networks."
   ]
  },
  {
   "cell_type": "code",
   "execution_count": 6,
   "metadata": {},
   "outputs": [],
   "source": [
    "sc = StandardScaler()\n",
    "X_train = sc.fit_transform(X_train)\n",
    "X_test = sc.transform(X_test)"
   ]
  },
  {
   "cell_type": "code",
   "execution_count": 7,
   "metadata": {},
   "outputs": [
    {
     "data": {
      "text/plain": [
       "array([[ 1.42655114e+00, -9.11952879e-01,  1.38036003e-01,\n",
       "        -2.01847908e+00, -1.47087576e+00, -5.81915264e-01,\n",
       "        -8.04751724e-01,  1.37427522e+00,  1.11047204e+00,\n",
       "         2.05078273e+00, -7.53627555e-01, -8.64710847e-01,\n",
       "        -4.14116197e-01, -1.79552709e-01, -7.95286428e-01,\n",
       "         1.87279362e-03,  6.49213492e-01,  1.23958264e-01,\n",
       "        -6.54504704e-01,  1.54373286e+00],\n",
       "       [-1.01397260e+00,  9.83207069e-01, -6.33044824e-01,\n",
       "         6.08844786e-01, -1.87112879e+00, -2.88773446e-01,\n",
       "         7.75784925e-01,  1.88356581e-01, -1.34772813e+00,\n",
       "        -1.38735230e-01,  7.82067489e-01,  7.26554639e-01,\n",
       "        -2.04091906e-01,  1.84734529e-01, -4.31466164e-01,\n",
       "        -8.67254109e-01, -6.70581820e-01, -4.86615351e-01,\n",
       "         1.60283694e-01,  2.47276938e+00],\n",
       "       [-7.93635569e-01, -3.04629791e-01,  1.37569445e+00,\n",
       "         3.30225661e-01,  5.72573035e-01,  1.09430600e-01,\n",
       "         3.47545543e-02, -5.53626571e-01,  5.82888914e-01,\n",
       "        -1.46615089e+00, -3.37711339e-01,  2.68688074e-02,\n",
       "        -6.49585389e-01,  8.96594015e-02, -7.20525262e-01,\n",
       "         3.63128600e-02,  1.34661686e+00,  5.95960610e-01,\n",
       "         2.20382526e+00, -6.97389415e-01],\n",
       "       [-7.68644708e-01, -2.31105894e-01,  7.04603135e-01,\n",
       "         1.36455369e-01,  3.07641114e-01,  5.20396372e-02,\n",
       "        -2.94435355e-01, -9.84443783e-02, -5.08433240e-01,\n",
       "         2.11817093e+00, -2.32168618e+00,  4.06465808e-01,\n",
       "        -8.31572882e-02,  8.58419402e-01,  8.83423954e-01,\n",
       "         9.68018332e-01, -1.59483640e+00,  8.72179817e-02,\n",
       "        -5.31283704e-01, -1.18200473e+00],\n",
       "       [-9.61083849e-02, -7.76105343e-01, -1.52793778e+00,\n",
       "         1.43874936e+00,  4.53535118e-01,  6.15309737e-01,\n",
       "         4.91651904e-01, -6.05869383e-01,  2.81867130e-03,\n",
       "        -1.00061018e+00, -4.69997945e-02,  1.12652281e+00,\n",
       "         2.53938620e-01, -1.29005587e+00,  7.47153278e-01,\n",
       "         5.19782243e-01, -4.27390077e-01,  8.84773387e-01,\n",
       "         2.96638485e-01, -2.47186063e-01]])"
      ]
     },
     "execution_count": 7,
     "metadata": {},
     "output_type": "execute_result"
    }
   ],
   "source": [
    "X_train[:5]\n",
    "#data set has been centered and scaled"
   ]
  },
  {
   "cell_type": "markdown",
   "metadata": {},
   "source": [
    "### Create your network topology\n",
    "---\n",
    "\n",
    "We'll create a neural network like we've done before, only this time we'll wrap the entire model in a function. Once we have that set up, we can use the `KerasRegressor` wrapper to set it up as an `sklearn` model, which we'll then apply `GridSearchCV`."
   ]
  },
  {
   "cell_type": "code",
   "execution_count": 8,
   "metadata": {},
   "outputs": [],
   "source": [
    "def model_func(layer_one_neurons = 32, layer_two_neurons = 32):\n",
    "    #instantiate the model:\n",
    "    model = Sequential()\n",
    "    \n",
    "    #set up first layer:\n",
    "    model.add(Dense(layer_one_neurons, activation = 'relu',\n",
    "                    input_shape = (20, )))\n",
    "    \n",
    "    #set up second layer:\n",
    "    model.add(Dense(layer_two_neurons, activation = 'relu'))\n",
    "    \n",
    "    #add output layer:\n",
    "    model.add(Dense(1, activation = None))\n",
    "    \n",
    "    model.compile(loss = 'mse', optimizer = 'adam')\n",
    "    \n",
    "    return model"
   ]
  },
  {
   "cell_type": "code",
   "execution_count": 9,
   "metadata": {},
   "outputs": [
    {
     "name": "stderr",
     "output_type": "stream",
     "text": [
      "<ipython-input-9-4b1f657b3015>:1: DeprecationWarning: KerasRegressor is deprecated, use Sci-Keras (https://github.com/adriangb/scikeras) instead.\n",
      "  nn = KerasRegressor(build_fn = model_func, batch_size = 512, verbose = 0)\n"
     ]
    }
   ],
   "source": [
    "nn = KerasRegressor(build_fn = model_func, batch_size = 512, verbose = 0)"
   ]
  },
  {
   "cell_type": "code",
   "execution_count": 11,
   "metadata": {},
   "outputs": [],
   "source": [
    "param_grid = {\n",
    "    'epochs' : [1000, 100],\n",
    "    'layer_one_neurons' : [32, 42],\n",
    "    'layer_two_neurons' : [32, 42],\n",
    "    \n",
    "}\n",
    "\n",
    "#gridsearch:\n",
    "\n",
    "gs = GridSearchCV(nn, param_grid = param_grid, cv = 3)"
   ]
  },
  {
   "cell_type": "code",
   "execution_count": 12,
   "metadata": {},
   "outputs": [
    {
     "name": "stdout",
     "output_type": "stream",
     "text": [
      "-0.034317836786309876\n"
     ]
    },
    {
     "data": {
      "text/plain": [
       "{'epochs': 1000, 'layer_one_neurons': 32, 'layer_two_neurons': 42}"
      ]
     },
     "execution_count": 12,
     "metadata": {},
     "output_type": "execute_result"
    }
   ],
   "source": [
    "gs.fit(X_train, y_train)\n",
    "print(gs.best_score_)\n",
    "gs.best_params_"
   ]
  },
  {
   "cell_type": "code",
   "execution_count": 13,
   "metadata": {},
   "outputs": [],
   "source": [
    "preds = gs.predict(X_test)"
   ]
  },
  {
   "cell_type": "code",
   "execution_count": 14,
   "metadata": {},
   "outputs": [
    {
     "data": {
      "text/plain": [
       "0.9999998974715377"
      ]
     },
     "execution_count": 14,
     "metadata": {},
     "output_type": "execute_result"
    }
   ],
   "source": [
    "metrics.r2_score(y_test, preds)"
   ]
  },
  {
   "cell_type": "code",
   "execution_count": 15,
   "metadata": {},
   "outputs": [],
   "source": [
    "preds_tr = gs.predict(X_train)"
   ]
  },
  {
   "cell_type": "code",
   "execution_count": 16,
   "metadata": {},
   "outputs": [
    {
     "data": {
      "text/plain": [
       "0.9999999999227697"
      ]
     },
     "execution_count": 16,
     "metadata": {},
     "output_type": "execute_result"
    }
   ],
   "source": [
    "metrics.r2_score(y_train, preds_tr)"
   ]
  },
  {
   "cell_type": "code",
   "execution_count": 17,
   "metadata": {},
   "outputs": [],
   "source": [
    "#lets create a large gridsearch - adding regularization"
   ]
  },
  {
   "cell_type": "raw",
   "metadata": {},
   "source": []
  },
  {
   "cell_type": "code",
   "execution_count": null,
   "metadata": {},
   "outputs": [],
   "source": [
    "def model_fn_deep(hidden_neurons = 32, hidden_layers = 5, dropout = 0.5):\n",
    "    model = Sequential()\n",
    "    for layer in range(hidden_layers):\n",
    "        if layer == 0 :\n",
    "            model.add(Dense(hidden_neurons, activation = 'relu',\n",
    "                            input_shape = (20, )))\n",
    "            model.add(Dropout(dropout))\n",
    "        \n",
    "        else:\n",
    "            model.add(Dense(hidden_neurons, activation = 'relu'))\n",
    "            model.add(Dropout(dropout))\n",
    "    model.add(Dense(1, activation = None))\n",
    "    \n",
    "    model.compile(loss = 'mse', optimizer = 'adam')\n",
    "    \n",
    "    return model"
   ]
  },
  {
   "cell_type": "code",
   "execution_count": 19,
   "metadata": {},
   "outputs": [
    {
     "name": "stderr",
     "output_type": "stream",
     "text": [
      "<ipython-input-19-bf8374d2d9ca>:1: DeprecationWarning: KerasRegressor is deprecated, use Sci-Keras (https://github.com/adriangb/scikeras) instead.\n",
      "  nn = KerasRegressor(build_fn = model_fn_deep, batch_size = 512, verbose = 0)\n"
     ]
    }
   ],
   "source": [
    "nn = KerasRegressor(build_fn = model_fn_deep, batch_size = 512, verbose = 0)"
   ]
  },
  {
   "cell_type": "code",
   "execution_count": 20,
   "metadata": {},
   "outputs": [],
   "source": [
    "nn_param_grid = {\n",
    "    'epochs' : [10, 20],\n",
    "    'hidden_neurons' : [20, 30],\n",
    "    'hidden_layers' : [3, 5, 7],\n",
    "    'dropout' : [.1, .2, .5]\n",
    "}"
   ]
  },
  {
   "cell_type": "code",
   "execution_count": 21,
   "metadata": {},
   "outputs": [],
   "source": [
    "gs_deep = GridSearchCV(nn, param_grid = nn_param_grid, cv = 5)"
   ]
  },
  {
   "cell_type": "code",
   "execution_count": 22,
   "metadata": {},
   "outputs": [
    {
     "name": "stdout",
     "output_type": "stream",
     "text": [
      "WARNING:tensorflow:5 out of the last 15 calls to <function Model.make_test_function.<locals>.test_function at 0x000002890ADC3AF0> triggered tf.function retracing. Tracing is expensive and the excessive number of tracings could be due to (1) creating @tf.function repeatedly in a loop, (2) passing tensors with different shapes, (3) passing Python objects instead of tensors. For (1), please define your @tf.function outside of the loop. For (2), @tf.function has experimental_relax_shapes=True option that relaxes argument shapes that can avoid unnecessary retracing. For (3), please refer to https://www.tensorflow.org/guide/function#controlling_retracing and https://www.tensorflow.org/api_docs/python/tf/function for  more details.\n",
      "WARNING:tensorflow:5 out of the last 13 calls to <function Model.make_test_function.<locals>.test_function at 0x000002890AEAAD30> triggered tf.function retracing. Tracing is expensive and the excessive number of tracings could be due to (1) creating @tf.function repeatedly in a loop, (2) passing tensors with different shapes, (3) passing Python objects instead of tensors. For (1), please define your @tf.function outside of the loop. For (2), @tf.function has experimental_relax_shapes=True option that relaxes argument shapes that can avoid unnecessary retracing. For (3), please refer to https://www.tensorflow.org/guide/function#controlling_retracing and https://www.tensorflow.org/api_docs/python/tf/function for  more details.\n"
     ]
    },
    {
     "data": {
      "text/plain": [
       "GridSearchCV(cv=5,\n",
       "             estimator=<keras.wrappers.scikit_learn.KerasRegressor object at 0x0000028909D86D90>,\n",
       "             param_grid={'dropout': [0.1, 0.2, 0.5], 'epochs': [10, 20],\n",
       "                         'hidden_layers': [3, 5, 7],\n",
       "                         'hidden_neurons': [20, 30]})"
      ]
     },
     "execution_count": 22,
     "metadata": {},
     "output_type": "execute_result"
    }
   ],
   "source": [
    "gs_deep.fit(X_train, y_train)"
   ]
  },
  {
   "cell_type": "code",
   "execution_count": 23,
   "metadata": {},
   "outputs": [
    {
     "name": "stdout",
     "output_type": "stream",
     "text": [
      "-637.0611328125\n"
     ]
    },
    {
     "data": {
      "text/plain": [
       "{'dropout': 0.1, 'epochs': 20, 'hidden_layers': 7, 'hidden_neurons': 30}"
      ]
     },
     "execution_count": 23,
     "metadata": {},
     "output_type": "execute_result"
    }
   ],
   "source": [
    "print(gs_deep.best_score_)\n",
    "gs_deep.best_params_"
   ]
  },
  {
   "cell_type": "code",
   "execution_count": 24,
   "metadata": {},
   "outputs": [],
   "source": [
    "train_preds = gs_deep.predict(X_train)\n",
    "test_preds = gs_deep.predict(X_test)"
   ]
  },
  {
   "cell_type": "code",
   "execution_count": 25,
   "metadata": {},
   "outputs": [
    {
     "name": "stdout",
     "output_type": "stream",
     "text": [
      "0.9883597644899899\n"
     ]
    }
   ],
   "source": [
    "print(metrics.r2_score(y_train, train_preds))"
   ]
  },
  {
   "cell_type": "code",
   "execution_count": 26,
   "metadata": {},
   "outputs": [
    {
     "name": "stdout",
     "output_type": "stream",
     "text": [
      "0.9879561752349176\n"
     ]
    }
   ],
   "source": [
    "print(metrics.r2_score(y_test, test_preds))"
   ]
  },
  {
   "cell_type": "code",
   "execution_count": 27,
   "metadata": {},
   "outputs": [],
   "source": [
    "from sklearn.linear_model import LinearRegression"
   ]
  },
  {
   "cell_type": "code",
   "execution_count": 28,
   "metadata": {},
   "outputs": [],
   "source": [
    "linreg = LinearRegression()"
   ]
  },
  {
   "cell_type": "code",
   "execution_count": 29,
   "metadata": {},
   "outputs": [
    {
     "data": {
      "text/plain": [
       "LinearRegression()"
      ]
     },
     "execution_count": 29,
     "metadata": {},
     "output_type": "execute_result"
    }
   ],
   "source": [
    "linreg.fit(X_train, y_train)"
   ]
  },
  {
   "cell_type": "code",
   "execution_count": 30,
   "metadata": {},
   "outputs": [
    {
     "data": {
      "text/plain": [
       "1.0"
      ]
     },
     "execution_count": 30,
     "metadata": {},
     "output_type": "execute_result"
    }
   ],
   "source": [
    "linreg.score(X_train, y_train)"
   ]
  },
  {
   "cell_type": "code",
   "execution_count": null,
   "metadata": {},
   "outputs": [],
   "source": []
  }
 ],
 "metadata": {
  "kernelspec": {
   "display_name": "Python 3",
   "language": "python",
   "name": "python3"
  },
  "language_info": {
   "codemirror_mode": {
    "name": "ipython",
    "version": 3
   },
   "file_extension": ".py",
   "mimetype": "text/x-python",
   "name": "python",
   "nbconvert_exporter": "python",
   "pygments_lexer": "ipython3",
   "version": "3.8.8"
  }
 },
 "nbformat": 4,
 "nbformat_minor": 4
}
