{
 "cells": [
  {
   "cell_type": "markdown",
   "id": "148756ae-8988-498a-97e4-71eeac512be3",
   "metadata": {},
   "source": [
    "## Modeling"
   ]
  },
  {
   "cell_type": "markdown",
   "id": "9e7cda76-1dce-4ff0-92e4-10edf8b4f76a",
   "metadata": {},
   "source": [
    "**Imports**"
   ]
  },
  {
   "cell_type": "code",
   "execution_count": 1,
   "id": "c9b2c363-9741-4789-81d6-20921610a365",
   "metadata": {},
   "outputs": [],
   "source": [
    "import pandas as pd\n",
    "pd.set_option('display.max_columns', None)\n",
    "import numpy as np\n",
    "np.random.seed(42)\n",
    "\n",
    "from sklearn.preprocessing import StandardScaler\n",
    "from sklearn.model_selection import train_test_split, GridSearchCV\n",
    "from sklearn.metrics import accuracy_score\n",
    "\n",
    "from tensorflow import keras\n",
    "from tensorflow.keras import layers\n",
    "from tensorflow.keras.callbacks import EarlyStopping\n",
    "from tensorflow.keras.layers import Dense, Dropout, Embedding, LSTM\n",
    "from tensorflow.keras.models import Sequential\n",
    "from tensorflow.keras.optimizers import Adam\n",
    "from tensorflow.keras.utils import to_categorical, plot_model\n",
    "from tensorflow.keras.wrappers.scikit_learn import KerasRegressor\n",
    "\n",
    "import matplotlib.pyplot as plt\n",
    "import seaborn as sns"
   ]
  },
  {
   "cell_type": "markdown",
   "id": "733cc16e-d5d5-4912-9c10-658979acede2",
   "metadata": {},
   "source": [
    "**Reading in Data**"
   ]
  },
  {
   "cell_type": "code",
   "execution_count": 2,
   "id": "70edef58-7cbf-493c-9919-6b0cfb9b5d14",
   "metadata": {},
   "outputs": [
    {
     "data": {
      "text/plain": [
       "(36003, 21)"
      ]
     },
     "execution_count": 2,
     "metadata": {},
     "output_type": "execute_result"
    }
   ],
   "source": [
    "model_sets = np.load('../data/model_sets.npy')\n",
    "model_sets.shape"
   ]
  },
  {
   "cell_type": "code",
   "execution_count": 3,
   "id": "c593df44-ec91-4636-924e-0c71dd02396f",
   "metadata": {},
   "outputs": [],
   "source": [
    "#remember, I am modeling for song n + 1 based on songs n previously played:\n",
    "X_rr, y_rr = model_sets[:, :-1], model_sets[:, -1] "
   ]
  },
  {
   "cell_type": "code",
   "execution_count": 4,
   "id": "649c9b61-7759-43bf-90ca-ba21cbe6c067",
   "metadata": {},
   "outputs": [
    {
     "data": {
      "text/plain": [
       "((36003, 20), (36003,))"
      ]
     },
     "execution_count": 4,
     "metadata": {},
     "output_type": "execute_result"
    }
   ],
   "source": [
    "X_rr.shape, y_rr.shape"
   ]
  },
  {
   "cell_type": "markdown",
   "id": "00205f53-1560-46b0-b643-e415dc67b3c6",
   "metadata": {},
   "source": [
    "**Train-Test Split**"
   ]
  },
  {
   "cell_type": "code",
   "execution_count": 5,
   "id": "03c855a6-6135-4909-ba3d-37598e554dee",
   "metadata": {},
   "outputs": [],
   "source": [
    "X_train, X_test, y_train, y_test = train_test_split(X_rr, y_rr, \n",
    "                                                    test_size = 0.2, \n",
    "                                                    random_state = 42)"
   ]
  },
  {
   "cell_type": "code",
   "execution_count": 6,
   "id": "8c9cf5b6-2cd9-44bb-b7ee-9e8a0cb7ec89",
   "metadata": {},
   "outputs": [
    {
     "name": "stdout",
     "output_type": "stream",
     "text": [
      "X_train and y_train: (28802, 20), (28802,)\n",
      "X_test and y_test: (7201, 20), (7201,)\n"
     ]
    }
   ],
   "source": [
    "print(f'X_train and y_train: {X_train.shape}, {y_train.shape}')\n",
    "print(f'X_test and y_test: {X_test.shape}, {y_test.shape}')"
   ]
  },
  {
   "cell_type": "markdown",
   "id": "0e2d1544-d757-4ec2-a85f-8a44401b4cb5",
   "metadata": {},
   "source": [
    "**Modeling - First Attempt**"
   ]
  },
  {
   "cell_type": "code",
   "execution_count": 7,
   "id": "e44038d8-830b-4200-bf60-b855fd09f318",
   "metadata": {},
   "outputs": [],
   "source": [
    "#REVISIT\n",
    "#REVISIT\n",
    "#REVISIT\n",
    "\n",
    "#consider using stringlookup instead of previously encoding:\n",
    "# ids_from_chars = tf.keras.layers.StringLookup(\n",
    "#     vocabulary=list(vocab), mask_token=None)"
   ]
  },
  {
   "cell_type": "code",
   "execution_count": 8,
   "id": "7eaf1d94-ab5d-4680-ae67-b6f6da4de141",
   "metadata": {},
   "outputs": [
    {
     "name": "stdout",
     "output_type": "stream",
     "text": [
      "970 unique songs!\n"
     ]
    }
   ],
   "source": [
    "#https://www.tensorflow.org/text/tutorials/text_generation\n",
    "songs = np.array(model_sets).tolist()\n",
    "songs = [item for sublist in songs for item in sublist]\n",
    "\n",
    "vocab = set(songs)\n",
    "print(f'{len(vocab)} unique songs!')"
   ]
  },
  {
   "cell_type": "code",
   "execution_count": 9,
   "id": "ae64a260-6e8c-42dd-b066-3bdd17b9b085",
   "metadata": {},
   "outputs": [],
   "source": [
    "# Length of the vocabulary in chars\n",
    "vocab_size = len(vocab)\n",
    "\n",
    "# The embedding dimension\n",
    "embedding_dim = 970\n",
    "\n",
    "# Number of RNN units\n",
    "rnn_units = 516"
   ]
  },
  {
   "cell_type": "code",
   "execution_count": 10,
   "id": "3a8e2983-2d00-434a-9d79-849fcf610ad5",
   "metadata": {},
   "outputs": [],
   "source": [
    "#https://www.geeksforgeeks.org/python-keras-keras-utils-to_categorical/\n",
    "#train labels:\n",
    "X_train_ohe = np.array([to_categorical(x, num_classes = vocab_size) for x in X_train])\n",
    "y_train_ohe = to_categorical(y_train, num_classes = vocab_size)\n",
    "\n",
    "#test labels:\n",
    "X_test_ohe = np.array([to_categorical(x, num_classes = vocab_size) for x in X_test])\n",
    "y_test_ohe = to_categorical(y_test, num_classes = vocab_size)"
   ]
  },
  {
   "cell_type": "code",
   "execution_count": 11,
   "id": "71da8d71-4cc2-47e4-93d0-8c56fd2a181d",
   "metadata": {},
   "outputs": [
    {
     "name": "stdout",
     "output_type": "stream",
     "text": [
      "Train shape: (28802, 20, 970), Test shape: (7201, 20, 970)\n",
      "Train shape: (28802, 970), Test shape: (7201, 970)\n"
     ]
    }
   ],
   "source": [
    "print(f'Train shape: {X_train_ohe.shape}, Test shape: {X_test_ohe.shape}')\n",
    "print(f'Train shape: {y_train_ohe.shape}, Test shape: {y_test_ohe.shape}')"
   ]
  },
  {
   "cell_type": "code",
   "execution_count": 12,
   "id": "3cd7fa2e-aa6b-4cb4-a74e-33530ab8ea52",
   "metadata": {},
   "outputs": [],
   "source": [
    "#https://medium.com/analytics-vidhya/understanding-embedding-layer-in-keras-bbe3ff1327ce\n",
    "#https://www.tensorflow.org/text/tutorials/text_generation\n",
    "#https://www.analyticsvidhya.com/blog/2021/08/predict-the-next-word-of-your-text-using-long-short-term-memory-lstm/\n",
    "#https://stackoverflow.com/questions/55774632/gridsearchcv-randomizedsearchcv-with-lstm\n",
    "\n",
    "model = Sequential()\n",
    "\n",
    "#first layer, embedding:\n",
    "model.add(Embedding(vocab_size, embedding_dim))\n",
    "\n",
    "#second layer, LSTM:\n",
    "model.add(LSTM(rnn_units))\n",
    "\n",
    "#final dense layer with softmax activation:\n",
    "model.add(Dense(embedding_dim, activation ='softmax'))"
   ]
  },
  {
   "cell_type": "code",
   "execution_count": 13,
   "id": "70c41664-827c-43fb-8900-cb8644d66514",
   "metadata": {},
   "outputs": [
    {
     "name": "stdout",
     "output_type": "stream",
     "text": [
      "Model: \"sequential\"\n",
      "_________________________________________________________________\n",
      " Layer (type)                Output Shape              Param #   \n",
      "=================================================================\n",
      " embedding (Embedding)       (None, None, 970)         940900    \n",
      "                                                                 \n",
      " lstm (LSTM)                 (None, 516)               3069168   \n",
      "                                                                 \n",
      " dense (Dense)               (None, 970)               501490    \n",
      "                                                                 \n",
      "=================================================================\n",
      "Total params: 4,511,558\n",
      "Trainable params: 4,511,558\n",
      "Non-trainable params: 0\n",
      "_________________________________________________________________\n"
     ]
    }
   ],
   "source": [
    "model.summary()"
   ]
  },
  {
   "cell_type": "code",
   "execution_count": 14,
   "id": "8c70aa60-f7de-469a-8ee6-d0d6cc19dc0c",
   "metadata": {},
   "outputs": [
    {
     "data": {
      "image/png": "[encoded data removed]",
      "text/plain": [
       "<IPython.core.display.Image object>"
      ]
     },
     "execution_count": 14,
     "metadata": {},
     "output_type": "execute_result"
    }
   ],
   "source": [
    "#https://machinelearningmastery.com/visualize-deep-learning-neural-network-model-keras/\n",
    "plot_model(model, to_file='model_plot.png', show_shapes=True, show_layer_names=True)"
   ]
  },
  {
   "cell_type": "code",
   "execution_count": 15,
   "id": "16f3d378-8090-488c-8b04-bb9ca3fa1948",
   "metadata": {},
   "outputs": [],
   "source": [
    "opt = Adam(learning_rate = 0.01)\n",
    "model.compile(loss = 'categorical_crossentropy', optimizer = opt, metrics = ['accuracy'])"
   ]
  },
  {
   "cell_type": "code",
   "execution_count": 16,
   "id": "2da46541-6677-4c1d-8f67-7e728c07bf14",
   "metadata": {},
   "outputs": [
    {
     "name": "stdout",
     "output_type": "stream",
     "text": [
      "Epoch 1/20\n",
      "226/226 [==============================] - 128s 544ms/step - loss: 5.0911 - accuracy: 0.0778 - val_loss: 4.7898 - val_accuracy: 0.1004\n",
      "Epoch 2/20\n",
      "226/226 [==============================] - 83s 368ms/step - loss: 4.6487 - accuracy: 0.1010 - val_loss: 4.8125 - val_accuracy: 0.1003\n",
      "Epoch 3/20\n",
      "226/226 [==============================] - 85s 378ms/step - loss: 4.5095 - accuracy: 0.1095 - val_loss: 4.9305 - val_accuracy: 0.0972\n",
      "Epoch 4/20\n",
      "226/226 [==============================] - 113s 501ms/step - loss: 4.3667 - accuracy: 0.1190 - val_loss: 5.0207 - val_accuracy: 0.1001\n",
      "Epoch 5/20\n",
      "226/226 [==============================] - 111s 493ms/step - loss: 4.2355 - accuracy: 0.1277 - val_loss: 5.1236 - val_accuracy: 0.0969\n",
      "Epoch 6/20\n",
      "226/226 [==============================] - 111s 490ms/step - loss: 4.1010 - accuracy: 0.1397 - val_loss: 5.2267 - val_accuracy: 0.0971\n",
      "Epoch 7/20\n",
      "226/226 [==============================] - 110s 489ms/step - loss: 3.9891 - accuracy: 0.1513 - val_loss: 5.3629 - val_accuracy: 0.0987\n",
      "Epoch 8/20\n",
      "226/226 [==============================] - 111s 493ms/step - loss: 3.8837 - accuracy: 0.1641 - val_loss: 5.4753 - val_accuracy: 0.0954\n",
      "Epoch 9/20\n",
      "226/226 [==============================] - 108s 480ms/step - loss: 3.8395 - accuracy: 0.1691 - val_loss: 5.6036 - val_accuracy: 0.0921\n",
      "Epoch 10/20\n",
      "226/226 [==============================] - 104s 462ms/step - loss: 3.7716 - accuracy: 0.1816 - val_loss: 5.7259 - val_accuracy: 0.0925\n",
      "Epoch 11/20\n",
      "226/226 [==============================] - 107s 474ms/step - loss: 3.7017 - accuracy: 0.1882 - val_loss: 5.7957 - val_accuracy: 0.0905\n",
      "Epoch 12/20\n",
      "226/226 [==============================] - 109s 482ms/step - loss: 3.6032 - accuracy: 0.2016 - val_loss: 5.8801 - val_accuracy: 0.0943\n",
      "Epoch 13/20\n",
      "226/226 [==============================] - 108s 479ms/step - loss: 3.5388 - accuracy: 0.2095 - val_loss: 5.9865 - val_accuracy: 0.0882\n",
      "Epoch 14/20\n",
      "226/226 [==============================] - 109s 481ms/step - loss: 3.4993 - accuracy: 0.2162 - val_loss: 6.1098 - val_accuracy: 0.0918\n",
      "Epoch 15/20\n",
      "226/226 [==============================] - 108s 480ms/step - loss: 3.4540 - accuracy: 0.2239 - val_loss: 6.1983 - val_accuracy: 0.0889\n",
      "Epoch 16/20\n",
      "226/226 [==============================] - 108s 480ms/step - loss: 3.4061 - accuracy: 0.2300 - val_loss: 6.3124 - val_accuracy: 0.0858\n",
      "Epoch 17/20\n",
      "226/226 [==============================] - 108s 476ms/step - loss: 3.3555 - accuracy: 0.2371 - val_loss: 6.4080 - val_accuracy: 0.0868\n",
      "Epoch 18/20\n",
      "226/226 [==============================] - 100s 441ms/step - loss: 3.3249 - accuracy: 0.2401 - val_loss: 6.4692 - val_accuracy: 0.0872\n",
      "Epoch 19/20\n",
      "226/226 [==============================] - 105s 464ms/step - loss: 3.2909 - accuracy: 0.2478 - val_loss: 6.5706 - val_accuracy: 0.0885\n",
      "Epoch 20/20\n",
      "226/226 [==============================] - 104s 460ms/step - loss: 3.2656 - accuracy: 0.2547 - val_loss: 6.6587 - val_accuracy: 0.0897\n"
     ]
    }
   ],
   "source": [
    "history = model.fit(X_train, y_train_ohe,\n",
    "                    validation_data = (X_test, y_test_ohe),\n",
    "                    batch_size = 128, \n",
    "                    epochs = 20)"
   ]
  },
  {
   "cell_type": "code",
   "execution_count": 21,
   "id": "ba6d4512-27ac-4bae-900c-9423fe39d961",
   "metadata": {},
   "outputs": [
    {
     "data": {
      "image/png": "[encoded data removed]",
      "text/plain": [
       "<Figure size 432x288 with 1 Axes>"
      ]
     },
     "metadata": {
      "needs_background": "light"
     },
     "output_type": "display_data"
    }
   ],
   "source": [
    "plt.plot(history.history['accuracy'])\n",
    "plt.plot(history.history['val_accuracy'])\n",
    "plt.title('model accuracy')\n",
    "plt.ylabel('accuracy')\n",
    "plt.xlabel('epoch')\n",
    "plt.legend(['train', 'test'], loc = 'upper left');"
   ]
  },
  {
   "cell_type": "code",
   "execution_count": 22,
   "id": "6a275808-16b3-4582-8404-861b1aabd53a",
   "metadata": {},
   "outputs": [
    {
     "data": {
      "image/png": "[encoded data removed]",
      "text/plain": [
       "<Figure size 432x288 with 1 Axes>"
      ]
     },
     "metadata": {
      "needs_background": "light"
     },
     "output_type": "display_data"
    }
   ],
   "source": [
    "plt.plot(history.history['loss'])\n",
    "plt.plot(history.history['val_loss'])\n",
    "plt.title('model loss')\n",
    "plt.ylabel('loss')\n",
    "plt.xlabel('epoch')\n",
    "plt.legend(['train', 'test'], loc='upper left');"
   ]
  },
  {
   "cell_type": "code",
   "execution_count": null,
   "id": "39207266-1a22-48ef-9f5e-e729bd9fb34d",
   "metadata": {},
   "outputs": [],
   "source": []
  }
 ],
 "metadata": {
  "kernelspec": {
   "display_name": "Python 3",
   "language": "python",
   "name": "python3"
  },
  "language_info": {
   "codemirror_mode": {
    "name": "ipython",
    "version": 3
   },
   "file_extension": ".py",
   "mimetype": "text/x-python",
   "name": "python",
   "nbconvert_exporter": "python",
   "pygments_lexer": "ipython3",
   "version": "3.8.8"
  }
 },
 "nbformat": 4,
 "nbformat_minor": 5
}
