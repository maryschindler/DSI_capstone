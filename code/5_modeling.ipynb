{
 "cells": [
  {
   "cell_type": "markdown",
   "id": "148756ae-8988-498a-97e4-71eeac512be3",
   "metadata": {},
   "source": [
    "## Modeling"
   ]
  },
  {
   "cell_type": "markdown",
   "id": "9e7cda76-1dce-4ff0-92e4-10edf8b4f76a",
   "metadata": {},
   "source": [
    "**Imports**"
   ]
  },
  {
   "cell_type": "code",
   "execution_count": 1,
   "id": "c9b2c363-9741-4789-81d6-20921610a365",
   "metadata": {},
   "outputs": [],
   "source": [
    "import pandas as pd\n",
    "pd.set_option('display.max_columns', None)\n",
    "import numpy as np\n",
    "np.random.seed(42)\n",
    "\n",
    "from sklearn.preprocessing import StandardScaler\n",
    "from sklearn.model_selection import train_test_split, GridSearchCV\n",
    "from sklearn.metrics import accuracy_score\n",
    "\n",
    "from tensorflow import keras\n",
    "from tensorflow.keras import layers\n",
    "from tensorflow.keras.callbacks import EarlyStopping\n",
    "from tensorflow.keras.initializers import RandomNormal\n",
    "from tensorflow.keras.layers import Dense, Dropout, LSTM\n",
    "from tensorflow.keras.models import Sequential\n",
    "from tensorflow.keras.optimizers import Adam\n",
    "from tensorflow.keras.wrappers.scikit_learn import KerasRegressor\n",
    "\n",
    "import matplotlib.pyplot as plt\n",
    "import seaborn as sns"
   ]
  },
  {
   "cell_type": "code",
   "execution_count": 2,
   "id": "70edef58-7cbf-493c-9919-6b0cfb9b5d14",
   "metadata": {},
   "outputs": [
    {
     "data": {
      "text/plain": [
       "(36003, 21)"
      ]
     },
     "execution_count": 2,
     "metadata": {},
     "output_type": "execute_result"
    }
   ],
   "source": [
    "model_sets = np.load('../data/model_sets.npy')\n",
    "model_sets.shape"
   ]
  },
  {
   "cell_type": "code",
   "execution_count": 3,
   "id": "c593df44-ec91-4636-924e-0c71dd02396f",
   "metadata": {},
   "outputs": [],
   "source": [
    "#remember, I am modeling for song n + 1 based on songs n previously played:\n",
    "X_rr, y_rr = model_sets[:, :-1], model_sets[:, -1] "
   ]
  },
  {
   "cell_type": "code",
   "execution_count": 4,
   "id": "649c9b61-7759-43bf-90ca-ba21cbe6c067",
   "metadata": {},
   "outputs": [
    {
     "data": {
      "text/plain": [
       "((36003, 20), (36003,))"
      ]
     },
     "execution_count": 4,
     "metadata": {},
     "output_type": "execute_result"
    }
   ],
   "source": [
    "X_rr.shape, y_rr.shape"
   ]
  },
  {
   "cell_type": "markdown",
   "id": "00205f53-1560-46b0-b643-e415dc67b3c6",
   "metadata": {},
   "source": [
    "**Train-Test Split**"
   ]
  },
  {
   "cell_type": "code",
   "execution_count": 5,
   "id": "03c855a6-6135-4909-ba3d-37598e554dee",
   "metadata": {},
   "outputs": [],
   "source": [
    "X_train, X_test, y_train, y_test = train_test_split(X_rr, y_rr, \n",
    "                                                    test_size = 0.2, \n",
    "                                                    random_state = 42)"
   ]
  },
  {
   "cell_type": "code",
   "execution_count": 6,
   "id": "8c9cf5b6-2cd9-44bb-b7ee-9e8a0cb7ec89",
   "metadata": {},
   "outputs": [
    {
     "name": "stdout",
     "output_type": "stream",
     "text": [
      "X_train and y_train: (28802, 20), (28802,)\n",
      "X_test and y_test: (7201, 20), (7201,)\n"
     ]
    }
   ],
   "source": [
    "print(f'X_train and y_train: {X_train.shape}, {y_train.shape}')\n",
    "print(f'X_test and y_test: {X_test.shape}, {y_test.shape}')"
   ]
  },
  {
   "cell_type": "code",
   "execution_count": 7,
   "id": "5806ff30-f30d-44fe-b54a-0808ae81d0fd",
   "metadata": {},
   "outputs": [],
   "source": [
    "#scaling data for RNN:\n",
    "\n",
    "sc = StandardScaler()\n",
    "X_train_sc = sc.fit_transform(X_train)\n",
    "X_test_sc = sc.transform(X_test)"
   ]
  },
  {
   "cell_type": "code",
   "execution_count": 8,
   "id": "d8be644e-e4dd-453d-8219-7dd6704d8703",
   "metadata": {},
   "outputs": [],
   "source": [
    "#remeber from '4_prep ...ipynb'\n",
    "\n",
    "#number of all unique songs played:\n",
    "#len(set(setlists_string))\n",
    "\n",
    "#970"
   ]
  },
  {
   "cell_type": "code",
   "execution_count": 9,
   "id": "3d14f71c-b99e-4f09-b928-7d201896ed23",
   "metadata": {},
   "outputs": [],
   "source": [
    "# shape_X_train = X_train_sc.reshape((X_train_sc.shape[0], 1, X_train_sc.shape[1]))\n",
    "# shape_X_test = X_test_sc.reshape((X_test_sc.shape[0], 1, X_test_sc.shape[1]))"
   ]
  },
  {
   "cell_type": "code",
   "execution_count": 10,
   "id": "ac5079c2-14c9-4560-8cb4-d3df3c0fe25e",
   "metadata": {},
   "outputs": [],
   "source": [
    "#https://stackoverflow.com/questions/55774632/gridsearchcv-randomizedsearchcv-with-lstm\n",
    "def model_func(layer_one_neurons = 64, layer_two_neurons = 32, LSTM_layers = 100):\n",
    "    #instantiate the model:\n",
    "    model = Sequential()\n",
    "\n",
    "    model.add(Dense(layer_one_neurons, activation = 'relu',\n",
    "                        input_shape = (20, 1, )))\n",
    "\n",
    "    model.add(LSTM(LSTM_layers, activation = 'relu', \n",
    "                       kernel_initializer=RandomNormal(mean = 0.0, stddev = 1, seed = 42), \n",
    "                       bias_initializer=RandomNormal(mean = 0.0, stddev = 1, seed = 42)))\n",
    "    model.add(Dropout(rate = 0.25))\n",
    "    \n",
    "    model.add(Dense(layer_two_neurons, activation = 'relu',\n",
    "                        input_shape = (20, 1, )))\n",
    "\n",
    "    model.add(Dense(970, activation = 'softmax'))\n",
    "\n",
    "    #compiling:\n",
    "    model.compile(optimizer = 'adam', loss = 'mse', metrics=['acc'])\n",
    "    \n",
    "    return model"
   ]
  },
  {
   "cell_type": "code",
   "execution_count": 11,
   "id": "42bacaa4-2bac-4d62-8815-a6aaccdd2212",
   "metadata": {},
   "outputs": [
    {
     "name": "stderr",
     "output_type": "stream",
     "text": [
      "<ipython-input-11-74176587df5c>:1: DeprecationWarning: KerasRegressor is deprecated, use Sci-Keras (https://github.com/adriangb/scikeras) instead.\n",
      "  nn = KerasRegressor(build_fn = model_func, batch_size = 64, verbose = 0)\n"
     ]
    }
   ],
   "source": [
    "nn = KerasRegressor(build_fn = model_func, batch_size = 64, verbose = 0)"
   ]
  },
  {
   "cell_type": "code",
   "execution_count": 12,
   "id": "6a9bbe8c-c0a1-4bc6-a34b-f36449175486",
   "metadata": {},
   "outputs": [],
   "source": [
    "param_grid = {\n",
    "    'epochs' : [100, 50],\n",
    "    'layer_one_neurons' : [32, 42],\n",
    "    'layer_two_neurons' : [32, 42],\n",
    "    'LSTM_layers' : [10, 32, 100]\n",
    "}\n",
    "\n",
    "#gridsearch:\n",
    "\n",
    "gs = GridSearchCV(nn, param_grid = param_grid, cv = 5)"
   ]
  },
  {
   "cell_type": "code",
   "execution_count": null,
   "id": "857baca1-8eff-4657-bbf6-a61e9bbdd730",
   "metadata": {},
   "outputs": [],
   "source": [
    "gs.fit(X_train_sc, y_train, verbose = 0)\n",
    "\n",
    "#print outs:\n",
    "print(gs.best_score_)\n",
    "gs.best_params_"
   ]
  },
  {
   "cell_type": "code",
   "execution_count": null,
   "id": "b74b3725-9022-4710-96cc-11cbbba1cfc4",
   "metadata": {},
   "outputs": [],
   "source": [
    "output_array = model.predict(X_train)"
   ]
  },
  {
   "cell_type": "code",
   "execution_count": null,
   "id": "3a7e837c-6487-494e-91c3-9e293c066dd5",
   "metadata": {},
   "outputs": [],
   "source": []
  },
  {
   "cell_type": "code",
   "execution_count": null,
   "id": "f95624ed-de1d-4907-b370-8c7f4f3b1b1a",
   "metadata": {},
   "outputs": [],
   "source": []
  }
 ],
 "metadata": {
  "kernelspec": {
   "display_name": "Python 3",
   "language": "python",
   "name": "python3"
  },
  "language_info": {
   "codemirror_mode": {
    "name": "ipython",
    "version": 3
   },
   "file_extension": ".py",
   "mimetype": "text/x-python",
   "name": "python",
   "nbconvert_exporter": "python",
   "pygments_lexer": "ipython3",
   "version": "3.8.8"
  }
 },
 "nbformat": 4,
 "nbformat_minor": 5
}
