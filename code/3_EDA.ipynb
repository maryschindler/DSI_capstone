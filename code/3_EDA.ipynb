{
 "cells": [
  {
   "cell_type": "markdown",
   "id": "ce32ab8d-7cb0-444d-b741-207ae2855714",
   "metadata": {},
   "source": [
    "## Exploratory Data Analysis"
   ]
  },
  {
   "cell_type": "markdown",
   "id": "baba36d6-c2c1-4d8f-80ff-d6ac112c8384",
   "metadata": {},
   "source": [
    "**Imports**"
   ]
  },
  {
   "cell_type": "code",
   "execution_count": 1,
   "id": "833c90d0-17f9-49de-aec1-928a7054691c",
   "metadata": {},
   "outputs": [],
   "source": [
    "import pandas as pd\n",
    "pd.set_option('display.max_columns', None)\n",
    "\n",
    "import numpy as np\n",
    "np.random.seed(42)\n",
    "\n",
    "import matplotlib.pyplot as plt\n",
    "import seaborn as sns\n",
    "sns.set(style = \"darkgrid\")\n",
    "\n",
    "import datetime as dt"
   ]
  },
  {
   "cell_type": "markdown",
   "id": "8478836b-a3ba-4e9d-a83b-4184da959a09",
   "metadata": {},
   "source": [
    "**Reading in Data**"
   ]
  },
  {
   "cell_type": "code",
   "execution_count": 2,
   "id": "e032203f-e634-456b-9a56-606e6870f677",
   "metadata": {},
   "outputs": [],
   "source": [
    "df = pd.read_csv('../data/showsandsets.csv')\n",
    "setlists_df = pd.read_csv('../data/just_setlists.csv')"
   ]
  },
  {
   "cell_type": "code",
   "execution_count": 3,
   "id": "f7927769-1d8e-4718-9843-7109a4aa3835",
   "metadata": {},
   "outputs": [
    {
     "data": {
      "text/html": [
       "<div>\n",
       "<style scoped>\n",
       "    .dataframe tbody tr th:only-of-type {\n",
       "        vertical-align: middle;\n",
       "    }\n",
       "\n",
       "    .dataframe tbody tr th {\n",
       "        vertical-align: top;\n",
       "    }\n",
       "\n",
       "    .dataframe thead th {\n",
       "        text-align: right;\n",
       "    }\n",
       "</style>\n",
       "<table border=\"1\" class=\"dataframe\">\n",
       "  <thead>\n",
       "    <tr style=\"text-align: right;\">\n",
       "      <th></th>\n",
       "      <th>showid</th>\n",
       "      <th>showyear</th>\n",
       "      <th>showmonth</th>\n",
       "      <th>showdate</th>\n",
       "      <th>permalink</th>\n",
       "      <th>setlist_notes</th>\n",
       "      <th>venue</th>\n",
       "      <th>city</th>\n",
       "      <th>state</th>\n",
       "      <th>country</th>\n",
       "      <th>artist_name</th>\n",
       "      <th>tourid</th>\n",
       "      <th>tour_name</th>\n",
       "      <th>setlists</th>\n",
       "    </tr>\n",
       "  </thead>\n",
       "  <tbody>\n",
       "    <tr>\n",
       "      <th>0</th>\n",
       "      <td>1251253100</td>\n",
       "      <td>1983</td>\n",
       "      <td>12</td>\n",
       "      <td>1983-12-02</td>\n",
       "      <td>https://phish.net/setlists/phish-december-02-1...</td>\n",
       "      <td>Trey, Mike, Fish, and Jeff Holdsworth recall b...</td>\n",
       "      <td>Harris-Millis Cafeteria - University of Vermont</td>\n",
       "      <td>Burlington</td>\n",
       "      <td>VT</td>\n",
       "      <td>USA</td>\n",
       "      <td>Phish</td>\n",
       "      <td>1</td>\n",
       "      <td>1983 Tour</td>\n",
       "      <td>['Long Cool Woman in a Black Dress', 'Proud Ma...</td>\n",
       "    </tr>\n",
       "    <tr>\n",
       "      <th>1</th>\n",
       "      <td>1250613219</td>\n",
       "      <td>1984</td>\n",
       "      <td>10</td>\n",
       "      <td>1984-10-23</td>\n",
       "      <td>https://phish.net/setlists/phish-october-23-19...</td>\n",
       "      <td>This show, played in the garage of a house on ...</td>\n",
       "      <td>69 Grant Street</td>\n",
       "      <td>Burlington</td>\n",
       "      <td>VT</td>\n",
       "      <td>USA</td>\n",
       "      <td>Phish</td>\n",
       "      <td>2</td>\n",
       "      <td>1984 Tour</td>\n",
       "      <td>['Makisupa Policeman']</td>\n",
       "    </tr>\n",
       "    <tr>\n",
       "      <th>2</th>\n",
       "      <td>1251262142</td>\n",
       "      <td>1984</td>\n",
       "      <td>11</td>\n",
       "      <td>1984-11-03</td>\n",
       "      <td>https://phish.net/setlists/phish-november-03-1...</td>\n",
       "      <td>The setlist for this show might be incomplete,...</td>\n",
       "      <td>Slade Hall, University of Vermont</td>\n",
       "      <td>Burlington</td>\n",
       "      <td>VT</td>\n",
       "      <td>USA</td>\n",
       "      <td>Phish</td>\n",
       "      <td>2</td>\n",
       "      <td>1984 Tour</td>\n",
       "      <td>['In the Midnight Hour', 'Wild Child', 'Jam', ...</td>\n",
       "    </tr>\n",
       "  </tbody>\n",
       "</table>\n",
       "</div>"
      ],
      "text/plain": [
       "       showid  showyear  showmonth    showdate  \\\n",
       "0  1251253100      1983         12  1983-12-02   \n",
       "1  1250613219      1984         10  1984-10-23   \n",
       "2  1251262142      1984         11  1984-11-03   \n",
       "\n",
       "                                           permalink  \\\n",
       "0  https://phish.net/setlists/phish-december-02-1...   \n",
       "1  https://phish.net/setlists/phish-october-23-19...   \n",
       "2  https://phish.net/setlists/phish-november-03-1...   \n",
       "\n",
       "                                       setlist_notes  \\\n",
       "0  Trey, Mike, Fish, and Jeff Holdsworth recall b...   \n",
       "1  This show, played in the garage of a house on ...   \n",
       "2  The setlist for this show might be incomplete,...   \n",
       "\n",
       "                                             venue        city state country  \\\n",
       "0  Harris-Millis Cafeteria - University of Vermont  Burlington    VT     USA   \n",
       "1                                  69 Grant Street  Burlington    VT     USA   \n",
       "2                Slade Hall, University of Vermont  Burlington    VT     USA   \n",
       "\n",
       "  artist_name  tourid  tour_name  \\\n",
       "0       Phish       1  1983 Tour   \n",
       "1       Phish       2  1984 Tour   \n",
       "2       Phish       2  1984 Tour   \n",
       "\n",
       "                                            setlists  \n",
       "0  ['Long Cool Woman in a Black Dress', 'Proud Ma...  \n",
       "1                             ['Makisupa Policeman']  \n",
       "2  ['In the Midnight Hour', 'Wild Child', 'Jam', ...  "
      ]
     },
     "execution_count": 3,
     "metadata": {},
     "output_type": "execute_result"
    }
   ],
   "source": [
    "df.head(3)"
   ]
  },
  {
   "cell_type": "code",
   "execution_count": 4,
   "id": "c0331b54-aa21-4386-98e4-1be580aca9f4",
   "metadata": {},
   "outputs": [
    {
     "data": {
      "text/plain": [
       "(1804, 14)"
      ]
     },
     "execution_count": 4,
     "metadata": {},
     "output_type": "execute_result"
    }
   ],
   "source": [
    "df.shape"
   ]
  },
  {
   "cell_type": "code",
   "execution_count": 5,
   "id": "25a679a8-82f9-4032-ae0b-684c08d8d266",
   "metadata": {},
   "outputs": [
    {
     "name": "stdout",
     "output_type": "stream",
     "text": [
      "<class 'pandas.core.frame.DataFrame'>\n",
      "RangeIndex: 1804 entries, 0 to 1803\n",
      "Data columns (total 14 columns):\n",
      " #   Column         Non-Null Count  Dtype \n",
      "---  ------         --------------  ----- \n",
      " 0   showid         1804 non-null   int64 \n",
      " 1   showyear       1804 non-null   int64 \n",
      " 2   showmonth      1804 non-null   int64 \n",
      " 3   showdate       1804 non-null   object\n",
      " 4   permalink      1804 non-null   object\n",
      " 5   setlist_notes  1804 non-null   object\n",
      " 6   venue          1804 non-null   object\n",
      " 7   city           1804 non-null   object\n",
      " 8   state          1804 non-null   object\n",
      " 9   country        1804 non-null   object\n",
      " 10  artist_name    1804 non-null   object\n",
      " 11  tourid         1804 non-null   int64 \n",
      " 12  tour_name      1804 non-null   object\n",
      " 13  setlists       1804 non-null   object\n",
      "dtypes: int64(4), object(10)\n",
      "memory usage: 197.4+ KB\n"
     ]
    }
   ],
   "source": [
    "df.info()"
   ]
  },
  {
   "cell_type": "code",
   "execution_count": 6,
   "id": "9692a1c1-9162-4bad-a190-26220b89b81c",
   "metadata": {},
   "outputs": [],
   "source": [
    "df['showdate'] = pd.to_datetime(df['showdate'])"
   ]
  },
  {
   "cell_type": "code",
   "execution_count": 7,
   "id": "3c0636b8-a0ef-46cc-b7ae-03989c66481c",
   "metadata": {},
   "outputs": [
    {
     "data": {
      "text/plain": [
       "showid                    int64\n",
       "showyear                  int64\n",
       "showmonth                 int64\n",
       "showdate         datetime64[ns]\n",
       "permalink                object\n",
       "setlist_notes            object\n",
       "venue                    object\n",
       "city                     object\n",
       "state                    object\n",
       "country                  object\n",
       "artist_name              object\n",
       "tourid                    int64\n",
       "tour_name                object\n",
       "setlists                 object\n",
       "dtype: object"
      ]
     },
     "execution_count": 7,
     "metadata": {},
     "output_type": "execute_result"
    }
   ],
   "source": [
    "df.dtypes"
   ]
  },
  {
   "cell_type": "markdown",
   "id": "ec5f8981-0636-498a-97a3-a323d33b18da",
   "metadata": {},
   "source": [
    "**Examining Column Values**"
   ]
  },
  {
   "cell_type": "code",
   "execution_count": 8,
   "id": "a6df7102-a81a-4614-b5fd-6849218d8ef0",
   "metadata": {},
   "outputs": [
    {
     "data": {
      "text/plain": [
       "Index(['showid', 'showyear', 'showmonth', 'showdate', 'permalink',\n",
       "       'setlist_notes', 'venue', 'city', 'state', 'country', 'artist_name',\n",
       "       'tourid', 'tour_name', 'setlists'],\n",
       "      dtype='object')"
      ]
     },
     "execution_count": 8,
     "metadata": {},
     "output_type": "execute_result"
    }
   ],
   "source": [
    "df.columns"
   ]
  },
  {
   "cell_type": "code",
   "execution_count": 9,
   "id": "0d4fb203-9e0e-48fa-9f71-07137cf9e832",
   "metadata": {},
   "outputs": [
    {
     "data": {
      "text/plain": [
       "Phish    1804\n",
       "Name: artist_name, dtype: int64"
      ]
     },
     "execution_count": 9,
     "metadata": {},
     "output_type": "execute_result"
    }
   ],
   "source": [
    "#just making sure we have only shows for Phish as Phish.net collects information on other bands\n",
    "df['artist_name'].value_counts()"
   ]
  },
  {
   "cell_type": "code",
   "execution_count": 10,
   "id": "b38ed2f7-7448-4504-9a14-46cae0a1bbd8",
   "metadata": {},
   "outputs": [
    {
     "data": {
      "text/plain": [
       "1804"
      ]
     },
     "execution_count": 10,
     "metadata": {},
     "output_type": "execute_result"
    }
   ],
   "source": [
    "#the number of unique shows since the beginning:\n",
    "df['showid'].nunique()"
   ]
  },
  {
   "cell_type": "code",
   "execution_count": 26,
   "id": "a7154d4a-d0ac-4f09-bfed-211cb340ea83",
   "metadata": {},
   "outputs": [
    {
     "data": {
      "text/plain": [
       "1983      1\n",
       "1984      3\n",
       "1985     13\n",
       "1986      9\n",
       "1987     20\n",
       "1988     53\n",
       "1989     88\n",
       "1990    127\n",
       "1991    124\n",
       "1992    124\n",
       "1993    112\n",
       "1994    128\n",
       "1995     83\n",
       "1996     73\n",
       "1997     84\n",
       "1998     71\n",
       "1999     69\n",
       "2000     58\n",
       "2001      1\n",
       "2002      3\n",
       "2003     47\n",
       "2004     21\n",
       "2008      1\n",
       "2009     52\n",
       "2010     50\n",
       "2011     41\n",
       "2012     37\n",
       "2013     41\n",
       "2014     42\n",
       "2015     31\n",
       "2016     48\n",
       "2017     29\n",
       "2018     39\n",
       "2019     41\n",
       "2020      5\n",
       "2021     35\n",
       "Name: showyear, dtype: int64"
      ]
     },
     "execution_count": 26,
     "metadata": {},
     "output_type": "execute_result"
    }
   ],
   "source": [
    "df['showyear'].value_counts().sort_index()"
   ]
  },
  {
   "cell_type": "code",
   "execution_count": 40,
   "id": "8b37c517-8c43-4ef7-8720-ed3366a1241e",
   "metadata": {},
   "outputs": [
    {
     "data": {
      "image/png": "[encoded data removed]",
      "text/plain": [
       "<Figure size 864x720 with 1 Axes>"
      ]
     },
     "metadata": {},
     "output_type": "display_data"
    }
   ],
   "source": [
    "plt.figure(figsize = (12, 10))\n",
    "fig = sns.countplot(x = 'showyear',\n",
    "                    data = df,\n",
    "                    palette = 'crest',\n",
    "                    edgecolor = 'black')\n",
    "fig.set(title = 'Show Frequency by Year',\n",
    "        xlabel = 'Year',\n",
    "        ylabel = 'Number of Shows')\n",
    "fig.set_xticklabels(labels = sorted(df['showyear'].value_counts().index),\n",
    "                    rotation=40);\n",
    "#change the title/xlabel/ylabel sizes?"
   ]
  },
  {
   "cell_type": "code",
   "execution_count": 13,
   "id": "09a8a27d-d033-49fa-b944-498a7eafe56a",
   "metadata": {},
   "outputs": [
    {
     "data": {
      "text/plain": [
       "12    183\n",
       "11    166\n",
       "10    216\n",
       "9      91\n",
       "8     199\n",
       "7     294\n",
       "6     183\n",
       "5     117\n",
       "4     130\n",
       "3      96\n",
       "2     101\n",
       "1      28\n",
       "Name: showmonth, dtype: int64"
      ]
     },
     "execution_count": 13,
     "metadata": {},
     "output_type": "execute_result"
    }
   ],
   "source": [
    "df['showmonth'].value_counts().sort_index(ascending = False)"
   ]
  },
  {
   "cell_type": "code",
   "execution_count": 41,
   "id": "50239a4c-d0ff-4427-86d0-4480a617c98f",
   "metadata": {},
   "outputs": [
    {
     "data": {
      "image/png": "[encoded data removed]",
      "text/plain": [
       "<Figure size 864x720 with 1 Axes>"
      ]
     },
     "metadata": {},
     "output_type": "display_data"
    }
   ],
   "source": [
    "plt.figure(figsize = (12, 10))\n",
    "fig = sns.countplot(x = 'showmonth',\n",
    "                    data = df,\n",
    "                    palette = 'crest',\n",
    "                    edgecolor = 'black')\n",
    "fig.set(title = 'Show Frequency by Month',\n",
    "        xlabel = 'Month',\n",
    "        ylabel = 'Number of Shows')\n",
    "fig.set_xticklabels(labels = sorted(df['showmonth'].value_counts().index),\n",
    "                    rotation = 40);\n",
    "#change the title/xlabel/ylabel sizes?"
   ]
  },
  {
   "cell_type": "code",
   "execution_count": 13,
   "id": "6d967101-5209-4f9f-8011-c352ee571204",
   "metadata": {},
   "outputs": [
    {
     "data": {
      "text/plain": [
       "Madison Square Garden              64\n",
       "The Front                          33\n",
       "Dick's Sporting Goods Park         30\n",
       "Nectar's                           24\n",
       "Saratoga Performing Arts Center    22\n",
       "                                   ..\n",
       "Auditorium Theatre                  1\n",
       "Club West                           1\n",
       "Summer Pops, Embarcadero Center     1\n",
       "Tenax                               1\n",
       "Achilles Rink, Union College        1\n",
       "Name: venue, Length: 766, dtype: int64"
      ]
     },
     "execution_count": 13,
     "metadata": {},
     "output_type": "execute_result"
    }
   ],
   "source": [
    "df['venue'].value_counts().sort_values(ascending = False)\n",
    "#Phish typically plays New Years' shows every year at MSG\n",
    "#It makes sense they have the highest count of shows played"
   ]
  },
  {
   "cell_type": "code",
   "execution_count": 14,
   "id": "84197c94-26b4-4df7-9c5a-0dcbb238edca",
   "metadata": {},
   "outputs": [
    {
     "data": {
      "text/plain": [
       "NY               277\n",
       "VT               157\n",
       "CA               127\n",
       "Not Available    118\n",
       "CO               102\n",
       "MA                99\n",
       "PA                69\n",
       "VA                56\n",
       "OH                49\n",
       "GA                48\n",
       "IL                47\n",
       "NJ                45\n",
       "NC                42\n",
       "WA                39\n",
       "FL                37\n",
       "ME                36\n",
       "NH                34\n",
       "TN                34\n",
       "IN                32\n",
       "NV                32\n",
       "WI                30\n",
       "CT                27\n",
       "MI                25\n",
       "TX                25\n",
       "OR                24\n",
       "MD                23\n",
       "RI                21\n",
       "MO                20\n",
       "SC                19\n",
       "AZ                18\n",
       "MN                14\n",
       "AL                11\n",
       "LA                11\n",
       "DC                10\n",
       "KS                 8\n",
       "UT                 7\n",
       "NM                 7\n",
       "KY                 5\n",
       "IA                 5\n",
       "NE                 2\n",
       "MS                 2\n",
       "DE                 2\n",
       "MT                 2\n",
       "ID                 2\n",
       "WV                 2\n",
       "OK                 1\n",
       "AR                 1\n",
       "Name: state, dtype: int64"
      ]
     },
     "execution_count": 14,
     "metadata": {},
     "output_type": "execute_result"
    }
   ],
   "source": [
    "df['state'].value_counts().sort_values(ascending = False)"
   ]
  },
  {
   "cell_type": "code",
   "execution_count": 15,
   "id": "d9eb5183-1a7b-445f-bdcf-49060f417387",
   "metadata": {},
   "outputs": [
    {
     "data": {
      "text/plain": [
       "New York               109\n",
       "Burlington             107\n",
       "Commerce City           30\n",
       "Philadelphia            29\n",
       "Atlanta                 28\n",
       "                      ... \n",
       "Santa Rosa               1\n",
       "Clearwater               1\n",
       "Burbank                  1\n",
       "Castleton                1\n",
       "San Juan Capistrano      1\n",
       "Name: city, Length: 370, dtype: int64"
      ]
     },
     "execution_count": 15,
     "metadata": {},
     "output_type": "execute_result"
    }
   ],
   "source": [
    "df['city'].value_counts().sort_values(ascending = False)\n",
    "#MSG is in New York and UVM is in Burlington, VT\n",
    "#where the band was foudned"
   ]
  },
  {
   "cell_type": "code",
   "execution_count": 16,
   "id": "812045c6-a64f-46f9-9889-e67a0c2342da",
   "metadata": {},
   "outputs": [
    {
     "data": {
      "text/plain": [
       "USA               1687\n",
       "Canada              19\n",
       "Germany             18\n",
       "Mexico              16\n",
       "Japan               12\n",
       "Italy               11\n",
       "France              11\n",
       "Denmark              8\n",
       "England              5\n",
       "Spain                4\n",
       "Netherlands          4\n",
       "Belgium              3\n",
       "Czech Republic       3\n",
       "Ireland              2\n",
       "Austria              1\n",
       "Name: country, dtype: int64"
      ]
     },
     "execution_count": 16,
     "metadata": {},
     "output_type": "execute_result"
    }
   ],
   "source": [
    "df['country'].value_counts().sort_values(ascending = False)"
   ]
  },
  {
   "cell_type": "code",
   "execution_count": 46,
   "id": "ab4de5ee-863a-479a-9aba-09c233d694e3",
   "metadata": {},
   "outputs": [
    {
     "data": {
      "image/png": "[encoded data removed]",
      "text/plain": [
       "<Figure size 864x720 with 1 Axes>"
      ]
     },
     "metadata": {},
     "output_type": "display_data"
    }
   ],
   "source": [
    "plt.figure(figsize = (12, 10))\n",
    "fig = sns.countplot(x = 'country',\n",
    "                    data = df,\n",
    "                    palette = 'crest',\n",
    "                    edgecolor = 'black')\n",
    "fig.set(title = 'Show Frequency by Country',\n",
    "        xlabel = 'Country',\n",
    "        ylabel = 'Number of Shows')\n",
    "fig.set_xticklabels(labels = df['country'].value_counts().index, rotation = 40);\n",
    "#change the title/xlabel/ylabel sizes?"
   ]
  },
  {
   "cell_type": "code",
   "execution_count": 17,
   "id": "d6e5df39-d17b-46f2-b7b4-2d64585806cd",
   "metadata": {},
   "outputs": [
    {
     "data": {
      "text/plain": [
       "186    22\n",
       "184     4\n",
       "183     8\n",
       "182    25\n",
       "181     4\n",
       "       ..\n",
       "5      20\n",
       "4       8\n",
       "3      12\n",
       "2       3\n",
       "1       1\n",
       "Name: tourid, Length: 94, dtype: int64"
      ]
     },
     "execution_count": 17,
     "metadata": {},
     "output_type": "execute_result"
    }
   ],
   "source": [
    "df['tourid'].value_counts().sort_index(ascending = False)"
   ]
  },
  {
   "cell_type": "code",
   "execution_count": 18,
   "id": "2ccf009a-4b8c-42e6-8dcc-1b8488853bcb",
   "metadata": {},
   "outputs": [
    {
     "data": {
      "text/plain": [
       "Not Part of a Tour    110\n",
       "Mexico 2017             3\n",
       "Mexico 2016             3\n",
       "2021 Summer Tour       22\n",
       "2019 Summer Tour       25\n",
       "                     ... \n",
       "1987 Tour              20\n",
       "1986 Tour               8\n",
       "1985 Tour              12\n",
       "1984 Tour               3\n",
       "1983 Tour               1\n",
       "Name: tour_name, Length: 94, dtype: int64"
      ]
     },
     "execution_count": 18,
     "metadata": {},
     "output_type": "execute_result"
    }
   ],
   "source": [
    "df['tour_name'].value_counts().sort_index(ascending = False)"
   ]
  },
  {
   "cell_type": "code",
   "execution_count": 19,
   "id": "f8689ffb-2b57-49ed-ab48-8a433e8cef32",
   "metadata": {},
   "outputs": [
    {
     "data": {
      "text/plain": [
       "1799"
      ]
     },
     "execution_count": 19,
     "metadata": {},
     "output_type": "execute_result"
    }
   ],
   "source": [
    "df['setlists'].nunique()"
   ]
  },
  {
   "cell_type": "code",
   "execution_count": 38,
   "id": "dbde2196-4eb6-4d56-9df6-95df9789aff3",
   "metadata": {},
   "outputs": [
    {
     "data": {
      "text/plain": [
       "177"
      ]
     },
     "execution_count": 38,
     "metadata": {},
     "output_type": "execute_result"
    }
   ],
   "source": [
    "len(df['setlists'][0])"
   ]
  },
  {
   "cell_type": "code",
   "execution_count": 42,
   "id": "c3508205-5216-42bb-9aa3-9087441396e7",
   "metadata": {},
   "outputs": [
    {
     "data": {
      "text/plain": [
       "19.96840354767184"
      ]
     },
     "execution_count": 42,
     "metadata": {},
     "output_type": "execute_result"
    }
   ],
   "source": [
    "df['setlength'] = df['setlists'].str.split(\", \").str.len()\n",
    "df['setlength'].mean()"
   ]
  },
  {
   "cell_type": "code",
   "execution_count": null,
   "id": "3ccc0f0e-d837-4b8b-953a-ec9cbb66d3e1",
   "metadata": {},
   "outputs": [],
   "source": []
  }
 ],
 "metadata": {
  "kernelspec": {
   "display_name": "Python 3",
   "language": "python",
   "name": "python3"
  },
  "language_info": {
   "codemirror_mode": {
    "name": "ipython",
    "version": 3
   },
   "file_extension": ".py",
   "mimetype": "text/x-python",
   "name": "python",
   "nbconvert_exporter": "python",
   "pygments_lexer": "ipython3",
   "version": "3.8.8"
  }
 },
 "nbformat": 4,
 "nbformat_minor": 5
}
