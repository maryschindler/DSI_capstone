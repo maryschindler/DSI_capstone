{
 "cells": [
  {
   "cell_type": "markdown",
   "id": "148756ae-8988-498a-97e4-71eeac512be3",
   "metadata": {},
   "source": [
    "## Modeling"
   ]
  },
  {
   "cell_type": "markdown",
   "id": "9e7cda76-1dce-4ff0-92e4-10edf8b4f76a",
   "metadata": {},
   "source": [
    "**Imports**"
   ]
  },
  {
   "cell_type": "code",
   "execution_count": 1,
   "id": "c9b2c363-9741-4789-81d6-20921610a365",
   "metadata": {},
   "outputs": [],
   "source": [
    "import pandas as pd\n",
    "pd.set_option('display.max_columns', None)\n",
    "import numpy as np\n",
    "np.random.seed(42)\n",
    "\n",
    "from sklearn.preprocessing import StandardScaler\n",
    "from sklearn.model_selection import train_test_split, GridSearchCV\n",
    "from sklearn.metrics import accuracy_score\n",
    "\n",
    "from tensorflow import keras\n",
    "from tensorflow.keras import layers\n",
    "from tensorflow.keras.callbacks import EarlyStopping\n",
    "from tensorflow.keras.layers import Dense, Dropout, Embedding, LSTM\n",
    "from tensorflow.keras.models import Sequential\n",
    "from tensorflow.keras.optimizers import Adam\n",
    "from tensorflow.keras.utils import to_categorical, plot_model\n",
    "from tensorflow.keras.wrappers.scikit_learn import KerasRegressor\n",
    "\n",
    "import matplotlib.pyplot as plt\n",
    "import seaborn as sns"
   ]
  },
  {
   "cell_type": "markdown",
   "id": "733cc16e-d5d5-4912-9c10-658979acede2",
   "metadata": {},
   "source": [
    "**Reading in Data**"
   ]
  },
  {
   "cell_type": "code",
   "execution_count": 2,
   "id": "70edef58-7cbf-493c-9919-6b0cfb9b5d14",
   "metadata": {},
   "outputs": [
    {
     "data": {
      "text/plain": [
       "(36003, 21)"
      ]
     },
     "execution_count": 2,
     "metadata": {},
     "output_type": "execute_result"
    }
   ],
   "source": [
    "model_sets = np.load('../data/model_sets.npy')\n",
    "model_sets.shape"
   ]
  },
  {
   "cell_type": "code",
   "execution_count": 3,
   "id": "c593df44-ec91-4636-924e-0c71dd02396f",
   "metadata": {},
   "outputs": [],
   "source": [
    "#remember, I am modeling for song n + 1 based on songs n previously played:\n",
    "X_rr, y_rr = model_sets[:, :-1], model_sets[:, -1] "
   ]
  },
  {
   "cell_type": "code",
   "execution_count": 4,
   "id": "649c9b61-7759-43bf-90ca-ba21cbe6c067",
   "metadata": {},
   "outputs": [
    {
     "data": {
      "text/plain": [
       "((36003, 20), (36003,))"
      ]
     },
     "execution_count": 4,
     "metadata": {},
     "output_type": "execute_result"
    }
   ],
   "source": [
    "X_rr.shape, y_rr.shape"
   ]
  },
  {
   "cell_type": "markdown",
   "id": "00205f53-1560-46b0-b643-e415dc67b3c6",
   "metadata": {},
   "source": [
    "**Train-Test Split**"
   ]
  },
  {
   "cell_type": "code",
   "execution_count": 5,
   "id": "03c855a6-6135-4909-ba3d-37598e554dee",
   "metadata": {},
   "outputs": [],
   "source": [
    "X_train, X_test, y_train, y_test = train_test_split(X_rr, y_rr, \n",
    "                                                    test_size = 0.2, \n",
    "                                                    random_state = 42)"
   ]
  },
  {
   "cell_type": "code",
   "execution_count": 6,
   "id": "8c9cf5b6-2cd9-44bb-b7ee-9e8a0cb7ec89",
   "metadata": {},
   "outputs": [
    {
     "name": "stdout",
     "output_type": "stream",
     "text": [
      "X_train and y_train: (28802, 20), (28802,)\n",
      "X_test and y_test: (7201, 20), (7201,)\n"
     ]
    }
   ],
   "source": [
    "print(f'X_train and y_train: {X_train.shape}, {y_train.shape}')\n",
    "print(f'X_test and y_test: {X_test.shape}, {y_test.shape}')"
   ]
  },
  {
   "cell_type": "markdown",
   "id": "0e2d1544-d757-4ec2-a85f-8a44401b4cb5",
   "metadata": {},
   "source": [
    "**Modeling - Third Attempt, with Regularization**"
   ]
  },
  {
   "cell_type": "code",
   "execution_count": 7,
   "id": "e44038d8-830b-4200-bf60-b855fd09f318",
   "metadata": {},
   "outputs": [],
   "source": [
    "#REVISIT\n",
    "#REVISIT\n",
    "#REVISIT\n",
    "\n",
    "#consider using stringlookup instead of previously encoding:\n",
    "# ids_from_chars = tf.keras.layers.StringLookup(\n",
    "#     vocabulary=list(vocab), mask_token=None)"
   ]
  },
  {
   "cell_type": "code",
   "execution_count": 8,
   "id": "7eaf1d94-ab5d-4680-ae67-b6f6da4de141",
   "metadata": {},
   "outputs": [
    {
     "name": "stdout",
     "output_type": "stream",
     "text": [
      "970 unique songs!\n"
     ]
    }
   ],
   "source": [
    "#https://www.tensorflow.org/text/tutorials/text_generation\n",
    "songs = np.array(model_sets).tolist()\n",
    "songs = [item for sublist in songs for item in sublist]\n",
    "\n",
    "vocab = set(songs)\n",
    "print(f'{len(vocab)} unique songs!')"
   ]
  },
  {
   "cell_type": "code",
   "execution_count": 9,
   "id": "ae64a260-6e8c-42dd-b066-3bdd17b9b085",
   "metadata": {},
   "outputs": [],
   "source": [
    "# Length of the vocabulary in chars\n",
    "vocab_size = len(vocab)\n",
    "\n",
    "# The embedding dimension\n",
    "embedding_dim = 970\n",
    "\n",
    "# Number of RNN units\n",
    "rnn_units = 516"
   ]
  },
  {
   "cell_type": "code",
   "execution_count": 10,
   "id": "3a8e2983-2d00-434a-9d79-849fcf610ad5",
   "metadata": {},
   "outputs": [],
   "source": [
    "#https://www.geeksforgeeks.org/python-keras-keras-utils-to_categorical/\n",
    "#train labels:\n",
    "X_train_ohe = np.array([to_categorical(x, num_classes = vocab_size) for x in X_train])\n",
    "y_train_ohe = to_categorical(y_train, num_classes = vocab_size)\n",
    "\n",
    "#test labels:\n",
    "X_test_ohe = np.array([to_categorical(x, num_classes = vocab_size) for x in X_test])\n",
    "y_test_ohe = to_categorical(y_test, num_classes = vocab_size)"
   ]
  },
  {
   "cell_type": "code",
   "execution_count": 11,
   "id": "71da8d71-4cc2-47e4-93d0-8c56fd2a181d",
   "metadata": {},
   "outputs": [
    {
     "name": "stdout",
     "output_type": "stream",
     "text": [
      "Train shape: (28802, 20, 970), Test shape: (7201, 20, 970)\n",
      "Train shape: (28802, 970), Test shape: (7201, 970)\n"
     ]
    }
   ],
   "source": [
    "print(f'Train shape: {X_train_ohe.shape}, Test shape: {X_test_ohe.shape}')\n",
    "print(f'Train shape: {y_train_ohe.shape}, Test shape: {y_test_ohe.shape}')"
   ]
  },
  {
   "cell_type": "code",
   "execution_count": 12,
   "id": "3cd7fa2e-aa6b-4cb4-a74e-33530ab8ea52",
   "metadata": {},
   "outputs": [],
   "source": [
    "#https://medium.com/analytics-vidhya/understanding-embedding-layer-in-keras-bbe3ff1327ce\n",
    "#https://www.tensorflow.org/text/tutorials/text_generation\n",
    "#https://www.analyticsvidhya.com/blog/2021/08/predict-the-next-word-of-your-text-using-long-short-term-memory-lstm/\n",
    "#https://stackoverflow.com/questions/55774632/gridsearchcv-randomizedsearchcv-with-lstm\n",
    "\n",
    "model = Sequential()\n",
    "\n",
    "#first layer, embedding:\n",
    "model.add(Embedding(input_dim = vocab_size, output_dim = 100, input_length = X_train_ohe.shape[1]))\n",
    "\n",
    "#second layer, LSTM:\n",
    "model.add(LSTM(rnn_units))\n",
    "\n",
    "#third layer, dropout:\n",
    "model.add(Dropout(rate = 0.20))\n",
    "          \n",
    "#fourth layer, LSTM:\n",
    "model.add(Dense(rnn_units/4, activation = 'relu'))\n",
    "\n",
    "#final dense layer with softmax activation:\n",
    "model.add(Dense(embedding_dim, activation ='softmax'))"
   ]
  },
  {
   "cell_type": "code",
   "execution_count": 13,
   "id": "70c41664-827c-43fb-8900-cb8644d66514",
   "metadata": {},
   "outputs": [
    {
     "name": "stdout",
     "output_type": "stream",
     "text": [
      "Model: \"sequential\"\n",
      "_________________________________________________________________\n",
      " Layer (type)                Output Shape              Param #   \n",
      "=================================================================\n",
      " embedding (Embedding)       (None, 20, 100)           97000     \n",
      "                                                                 \n",
      " lstm (LSTM)                 (None, 516)               1273488   \n",
      "                                                                 \n",
      " dropout (Dropout)           (None, 516)               0         \n",
      "                                                                 \n",
      " dense (Dense)               (None, 129)               66693     \n",
      "                                                                 \n",
      " dense_1 (Dense)             (None, 970)               126100    \n",
      "                                                                 \n",
      "=================================================================\n",
      "Total params: 1,563,281\n",
      "Trainable params: 1,563,281\n",
      "Non-trainable params: 0\n",
      "_________________________________________________________________\n"
     ]
    }
   ],
   "source": [
    "model.summary()"
   ]
  },
  {
   "cell_type": "code",
   "execution_count": 14,
   "id": "8c70aa60-f7de-469a-8ee6-d0d6cc19dc0c",
   "metadata": {},
   "outputs": [
    {
     "data": {
      "image/png": "[encoded data removed]",
      "text/plain": [
       "<IPython.core.display.Image object>"
      ]
     },
     "execution_count": 14,
     "metadata": {},
     "output_type": "execute_result"
    }
   ],
   "source": [
    "#https://machinelearningmastery.com/visualize-deep-learning-neural-network-model-keras/\n",
    "plot_model(model, to_file='model_plot_0.png', show_shapes=True, show_layer_names=True)"
   ]
  },
  {
   "cell_type": "code",
   "execution_count": 15,
   "id": "16f3d378-8090-488c-8b04-bb9ca3fa1948",
   "metadata": {},
   "outputs": [],
   "source": [
    "opt = Adam(learning_rate = 0.01)\n",
    "model.compile(loss = 'categorical_crossentropy', optimizer = opt, metrics = ['accuracy'])"
   ]
  },
  {
   "cell_type": "code",
   "execution_count": 16,
   "id": "2da46541-6677-4c1d-8f67-7e728c07bf14",
   "metadata": {},
   "outputs": [
    {
     "name": "stdout",
     "output_type": "stream",
     "text": [
      "Epoch 1/20\n",
      "226/226 [==============================] - 37s 159ms/step - loss: 5.4443 - accuracy: 0.0344 - val_loss: 5.0992 - val_accuracy: 0.0667\n",
      "Epoch 2/20\n",
      "226/226 [==============================] - 35s 157ms/step - loss: 4.9712 - accuracy: 0.0710 - val_loss: 4.9144 - val_accuracy: 0.0805\n",
      "Epoch 3/20\n",
      "226/226 [==============================] - 35s 156ms/step - loss: 4.7968 - accuracy: 0.0827 - val_loss: 4.8213 - val_accuracy: 0.0904\n",
      "Epoch 4/20\n",
      "226/226 [==============================] - 37s 165ms/step - loss: 4.6856 - accuracy: 0.0890 - val_loss: 4.8172 - val_accuracy: 0.0864\n",
      "Epoch 5/20\n",
      "226/226 [==============================] - 36s 160ms/step - loss: 4.6108 - accuracy: 0.0932 - val_loss: 4.7367 - val_accuracy: 0.0983\n",
      "Epoch 6/20\n",
      "226/226 [==============================] - 35s 155ms/step - loss: 4.5264 - accuracy: 0.0975 - val_loss: 4.7100 - val_accuracy: 0.0998\n",
      "Epoch 7/20\n",
      "226/226 [==============================] - 35s 155ms/step - loss: 4.4523 - accuracy: 0.1026 - val_loss: 4.7263 - val_accuracy: 0.0986\n",
      "Epoch 8/20\n",
      "226/226 [==============================] - 35s 156ms/step - loss: 4.3984 - accuracy: 0.1102 - val_loss: 4.7017 - val_accuracy: 0.1065\n",
      "Epoch 9/20\n",
      "226/226 [==============================] - 34s 152ms/step - loss: 4.3551 - accuracy: 0.1105 - val_loss: 4.7265 - val_accuracy: 0.0986\n",
      "Epoch 10/20\n",
      "226/226 [==============================] - 35s 154ms/step - loss: 4.3253 - accuracy: 0.1124 - val_loss: 4.7242 - val_accuracy: 0.1040\n",
      "Epoch 11/20\n",
      "226/226 [==============================] - 35s 153ms/step - loss: 4.2862 - accuracy: 0.1170 - val_loss: 4.7527 - val_accuracy: 0.1040\n",
      "Epoch 12/20\n",
      "226/226 [==============================] - 35s 153ms/step - loss: 4.2690 - accuracy: 0.1165 - val_loss: 4.7545 - val_accuracy: 0.1044\n",
      "Epoch 13/20\n",
      "226/226 [==============================] - 35s 153ms/step - loss: 4.2269 - accuracy: 0.1205 - val_loss: 4.7601 - val_accuracy: 0.1079\n",
      "Epoch 14/20\n",
      "226/226 [==============================] - 36s 158ms/step - loss: 4.2143 - accuracy: 0.1206 - val_loss: 4.7970 - val_accuracy: 0.1021\n",
      "Epoch 15/20\n",
      "226/226 [==============================] - 36s 157ms/step - loss: 4.1790 - accuracy: 0.1233 - val_loss: 4.7651 - val_accuracy: 0.0980\n",
      "Epoch 16/20\n",
      "226/226 [==============================] - 35s 154ms/step - loss: 4.1462 - accuracy: 0.1281 - val_loss: 4.8255 - val_accuracy: 0.1079\n",
      "Epoch 17/20\n",
      "226/226 [==============================] - 35s 155ms/step - loss: 4.1191 - accuracy: 0.1300 - val_loss: 4.8450 - val_accuracy: 0.1085\n",
      "Epoch 18/20\n",
      "226/226 [==============================] - 35s 154ms/step - loss: 4.1020 - accuracy: 0.1307 - val_loss: 4.8479 - val_accuracy: 0.1051\n",
      "Epoch 19/20\n",
      "226/226 [==============================] - 35s 154ms/step - loss: 4.0865 - accuracy: 0.1336 - val_loss: 4.9033 - val_accuracy: 0.1021\n",
      "Epoch 20/20\n",
      "226/226 [==============================] - 35s 156ms/step - loss: 4.2019 - accuracy: 0.1228 - val_loss: 4.8975 - val_accuracy: 0.1033\n"
     ]
    }
   ],
   "source": [
    "history = model.fit(X_train, y_train_ohe,\n",
    "                    validation_data = (X_test, y_test_ohe),\n",
    "                    batch_size = 128, \n",
    "                    epochs = 20)"
   ]
  },
  {
   "cell_type": "code",
   "execution_count": 17,
   "id": "ba6d4512-27ac-4bae-900c-9423fe39d961",
   "metadata": {},
   "outputs": [
    {
     "data": {
      "image/png": "[encoded data removed]",
      "text/plain": [
       "<Figure size 432x288 with 1 Axes>"
      ]
     },
     "metadata": {
      "needs_background": "light"
     },
     "output_type": "display_data"
    }
   ],
   "source": [
    "plt.plot(history.history['accuracy'])\n",
    "plt.plot(history.history['val_accuracy'])\n",
    "plt.title('Model Accuracy')\n",
    "plt.ylabel('Accuracy')\n",
    "plt.xlabel('Epoch')\n",
    "plt.legend(['Train', 'Test'], loc = 'upper left');"
   ]
  },
  {
   "cell_type": "code",
   "execution_count": 18,
   "id": "6a275808-16b3-4582-8404-861b1aabd53a",
   "metadata": {},
   "outputs": [
    {
     "data": {
      "image/png": "[encoded data removed]",
      "text/plain": [
       "<Figure size 432x288 with 1 Axes>"
      ]
     },
     "metadata": {
      "needs_background": "light"
     },
     "output_type": "display_data"
    }
   ],
   "source": [
    "plt.plot(history.history['loss'])\n",
    "plt.plot(history.history['val_loss'])\n",
    "plt.title('Model Loss')\n",
    "plt.ylabel('Loss')\n",
    "plt.xlabel('Epoch')\n",
    "plt.legend(['Train', 'Test'], loc='upper left');"
   ]
  },
  {
   "cell_type": "markdown",
   "id": "cf51f7fc-86da-4a90-881a-0b9724d5f176",
   "metadata": {},
   "source": [
    "**Making Predictions for this, the Best Performing Model**"
   ]
  },
  {
   "cell_type": "code",
   "execution_count": 19,
   "id": "27cef9da-b4ca-4270-a1e7-d72a569aa096",
   "metadata": {},
   "outputs": [
    {
     "data": {
      "text/plain": [
       "array([[940, 616, 824, 748, 470, 951, 641, 817,  47,  91,  52, 345, 620,\n",
       "        145, 916, 213, 611, 903, 883, 338],\n",
       "       [840, 955, 177, 502, 911, 579, 502, 462, 278,  87, 617, 183, 631,\n",
       "        451, 267, 357, 251, 483, 517, 345]])"
      ]
     },
     "execution_count": 19,
     "metadata": {},
     "output_type": "execute_result"
    }
   ],
   "source": [
    "X_test[0:2]"
   ]
  },
  {
   "cell_type": "code",
   "execution_count": 20,
   "id": "59b8a510-14b4-4103-ab2f-fd137daa6909",
   "metadata": {},
   "outputs": [
    {
     "data": {
      "text/plain": [
       "array([[1.64622161e-05, 2.17202728e-10, 5.00141817e-10, ...,\n",
       "        1.72131462e-10, 8.11779366e-10, 2.53539328e-10],\n",
       "       [1.07923624e-04, 6.47794884e-09, 3.74775500e-09, ...,\n",
       "        3.23518670e-08, 8.02983999e-11, 1.50236013e-09]], dtype=float32)"
      ]
     },
     "execution_count": 20,
     "metadata": {},
     "output_type": "execute_result"
    }
   ],
   "source": [
    "preds = model.predict(X_test)\n",
    "preds[0:2]"
   ]
  },
  {
   "cell_type": "code",
   "execution_count": 21,
   "id": "e3e0306f-1034-4c52-b176-2b44e452583e",
   "metadata": {},
   "outputs": [],
   "source": [
    "#https://stackoverflow.com/questions/51382524/what-is-the-difference-between-predict-and-predict-class-functions-in-keras\n",
    "#https://stackoverflow.com/questions/44806125/attributeerror-model-object-has-no-attribute-predict-classes\n",
    "\n",
    "preds = np.argmax(preds, axis = 1)"
   ]
  },
  {
   "cell_type": "code",
   "execution_count": 22,
   "id": "5e09b637-5db5-428c-a226-91ceb8f1d31f",
   "metadata": {},
   "outputs": [],
   "source": [
    "df = pd.read_csv('../data/showsandsets.csv')"
   ]
  },
  {
   "cell_type": "code",
   "execution_count": 23,
   "id": "002cf3a5-c805-4401-a64c-d73e55dc4309",
   "metadata": {},
   "outputs": [
    {
     "data": {
      "text/plain": [
       "[\"'Long Cool Woman in a Black Dress'\",\n",
       " \"'Proud Mary'\",\n",
       " \"'In the Midnight Hour'\",\n",
       " \"'Squeeze Box'\",\n",
       " \"'Roadhouse Blues'\",\n",
       " \"'Happy Birthday to You'\",\n",
       " \"'Scarlet Begonias'\",\n",
       " \"'Fire on the Mountain'\",\n",
       " \"'Makisupa Policeman'\",\n",
       " \"'In the Midnight Hour'\",\n",
       " \"'Wild Child'\",\n",
       " \"'Jam'\"]"
      ]
     },
     "execution_count": 23,
     "metadata": {},
     "output_type": "execute_result"
    }
   ],
   "source": [
    "setlist = df['setlists'].tolist()\n",
    "setlist = ''.join(setlist)\n",
    "setlist = setlist.replace('][', ', ')\n",
    "setlist = setlist.replace('[', '')\n",
    "setlist = setlist.replace(']', '')\n",
    "setlist = setlist.split(', ')\n",
    "setlist[0:12]"
   ]
  },
  {
   "cell_type": "code",
   "execution_count": 24,
   "id": "279f5fbb-c72e-4ba1-9055-0ca8fefdf749",
   "metadata": {},
   "outputs": [],
   "source": [
    "unique_songs = sorted(set(setlist))"
   ]
  },
  {
   "cell_type": "code",
   "execution_count": 25,
   "id": "7671f21a-82bf-46be-9f2f-ead9938f29af",
   "metadata": {},
   "outputs": [],
   "source": [
    "from itertools import islice\n",
    "\n",
    "rev_idx_list = {index: song for index, song in enumerate(unique_songs)}\n",
    "#rev_idx_list #commented out for length"
   ]
  },
  {
   "cell_type": "code",
   "execution_count": 26,
   "id": "8faa6649-7988-487e-8692-19e955bffc4f",
   "metadata": {},
   "outputs": [
    {
     "data": {
      "text/plain": [
       "\"'A Wave of Hope'\""
      ]
     },
     "execution_count": 26,
     "metadata": {},
     "output_type": "execute_result"
    }
   ],
   "source": [
    "rev_idx_list[100]"
   ]
  },
  {
   "cell_type": "code",
   "execution_count": 28,
   "id": "cf72c29d-5db4-4518-9e21-a86eb5d6a892",
   "metadata": {},
   "outputs": [
    {
     "data": {
      "text/plain": [
       "\"'Plasma'\""
      ]
     },
     "execution_count": 28,
     "metadata": {},
     "output_type": "execute_result"
    }
   ],
   "source": [
    "np.vectorize(rev_idx_list.get)(preds)[0]"
   ]
  },
  {
   "cell_type": "code",
   "execution_count": 32,
   "id": "ec0a6976-64b2-46e5-8c16-1c822149b4a5",
   "metadata": {},
   "outputs": [
    {
     "data": {
      "text/plain": [
       "array([\"'Chalk Dust Torture'\", \"'Tweezer'\",\n",
       "       \"'Stealing Time From the Faulty Plan'\", \"'Harry Hood'\",\n",
       "       \"'Big Black Furry Creature from Mars'\",\n",
       "       \"'Stealing Time From the Faulty Plan'\", \"'Layla'\", \"'NICU'\",\n",
       "       \"'Plasma'\", '\"I Didn\\'t Know\"', \"'Oh Atlanta'\",\n",
       "       \"'Bouncing Around the Room'\", \"'Hold to a Dream'\",\n",
       "       \"'I Am in Miami'\", \"'Stealing Time From the Faulty Plan'\",\n",
       "       \"'Chalk Dust Torture'\", \"'McGrupp and the Watchful Hosemasters'\",\n",
       "       \"New York'\", \"'Simple'\", \"'Bouncing Around the Room'\"],\n",
       "      dtype='<U38')"
      ]
     },
     "execution_count": 32,
     "metadata": {},
     "output_type": "execute_result"
    }
   ],
   "source": [
    "#https://stackoverflow.com/questions/16992713/translate-every-element-in-numpy-array-according-to-key\n",
    "\n",
    "np.vectorize(rev_idx_list.get)(preds)[500:520]"
   ]
  },
  {
   "cell_type": "code",
   "execution_count": 29,
   "id": "e8466029-cf53-4a0b-ba47-37bbb16ccb43",
   "metadata": {},
   "outputs": [],
   "source": [
    "#Attempting to write a function to generate a setlist:\n",
    "\n",
    "# def generate_full_setlist(model, n_songs):\n",
    "    \n",
    "#     setlist = []\n",
    "    \n",
    "#     for songs in range(1, n_songs):\n",
    "#         preds = model.predict(X_rr)\n",
    "        \n",
    "#         # predict next song\n",
    "#         for i in range(1, n_songs):\n",
    "#             next_song = np.vectorize(rev_idx_list.get)(preds)[i]\n",
    "        \n",
    "#             # append to list\n",
    "#             setlist.append(next_song)        \n",
    "    \n",
    "#     return setlist"
   ]
  },
  {
   "cell_type": "code",
   "execution_count": null,
   "id": "df7357aa-632b-4fa0-aee6-4f1b8ce24348",
   "metadata": {},
   "outputs": [],
   "source": []
  }
 ],
 "metadata": {
  "kernelspec": {
   "display_name": "Python 3",
   "language": "python",
   "name": "python3"
  },
  "language_info": {
   "codemirror_mode": {
    "name": "ipython",
    "version": 3
   },
   "file_extension": ".py",
   "mimetype": "text/x-python",
   "name": "python",
   "nbconvert_exporter": "python",
   "pygments_lexer": "ipython3",
   "version": "3.8.8"
  }
 },
 "nbformat": 4,
 "nbformat_minor": 5
}
