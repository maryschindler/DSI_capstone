{
 "cells": [
  {
   "cell_type": "markdown",
   "id": "7eb63166-e524-48e5-b5cb-76291f6e7ae7",
   "metadata": {},
   "source": [
    "**Imports**"
   ]
  },
  {
   "cell_type": "code",
   "execution_count": 1,
   "id": "c95bec49-ba7f-42f8-aa69-7c52c160c9a4",
   "metadata": {},
   "outputs": [],
   "source": [
    "import pandas as pd\n",
    "pd.set_option('display.max_columns', None)\n",
    "import requests\n",
    "from bs4 import BeautifulSoup"
   ]
  },
  {
   "cell_type": "code",
   "execution_count": 2,
   "id": "21975e62-926f-4077-a84f-9db99efbcc84",
   "metadata": {},
   "outputs": [],
   "source": [
    "#setting up url and request:\n",
    "\n",
    "#all Phish shows\n",
    "url_all_shows = 'https://api.phish.net/v5/shows/artist/phish.json?order_by=showdate&apikey=6076B286964369D2D195'\n",
    "url_set_lists = 'https://api.phish.net/v5/setlists.json?order_by=showdate&apikey=6076B286964369D2D195'\n",
    "\n",
    "res_all_shows = requests.get(url_all_shows)\n",
    "res_set_lists = requests.get(url_set_lists)"
   ]
  },
  {
   "cell_type": "code",
   "execution_count": 3,
   "id": "da2c5038-04e0-4872-98df-d6326f3cdb4d",
   "metadata": {},
   "outputs": [
    {
     "name": "stdout",
     "output_type": "stream",
     "text": [
      "200\n",
      "200\n"
     ]
    }
   ],
   "source": [
    "#confirming appropriate status code (not 404, 502, etc.):\n",
    "print(res_all_shows.status_code)\n",
    "print(res_set_lists.status_code)"
   ]
  },
  {
   "cell_type": "markdown",
   "id": "4b5d94aa-0fc7-45bd-9c56-28815f0f4101",
   "metadata": {},
   "source": [
    "**Creating DataFrame for Shows**"
   ]
  },
  {
   "cell_type": "code",
   "execution_count": 4,
   "id": "1dcbbe5c-383f-462e-a93b-b59b05e75995",
   "metadata": {},
   "outputs": [],
   "source": [
    "#creating the soup object for shows:\n",
    "soup_all_shows = BeautifulSoup(res_all_shows.content, 'lxml')"
   ]
  },
  {
   "cell_type": "code",
   "execution_count": 5,
   "id": "0c969a73-6329-4b46-9c86-7303e0668d82",
   "metadata": {},
   "outputs": [],
   "source": [
    "data_all_shows = res_all_shows.json()"
   ]
  },
  {
   "cell_type": "code",
   "execution_count": 6,
   "id": "bd1fe525-243d-4a36-ae79-390a589d7018",
   "metadata": {},
   "outputs": [
    {
     "data": {
      "text/plain": [
       "{'showid': '1251168326',\n",
       " 'showyear': '1983',\n",
       " 'showmonth': '10',\n",
       " 'showday': '30',\n",
       " 'showdate': '1983-10-30',\n",
       " 'permalink': 'https://phish.net/setlists/phish-october-30-1983-harris-millis-cafeteria-university-of-vermont-burlington-vt-usa.html',\n",
       " 'exclude_from_stats': '1',\n",
       " 'venueid': '7',\n",
       " 'setlist_notes': 'Throughout most of Phish history this was understood to have been the date of the first Phish show. The band believed this to be true as late as 1998, when on October 30 they celebrated their &ldquo;15th anniversary.&rdquo; Later research, however, revealed this to be incorrect, and that the correct date of this first show &ndash; commonly referred to as the &ldquo;Thriller&rdquo; show or a &ldquo;Halloween Dance&rdquo; &ndash; is December 2, 1983.',\n",
       " 'venue': 'Harris-Millis Cafeteria - University of Vermont',\n",
       " 'city': 'Burlington',\n",
       " 'state': 'VT',\n",
       " 'country': 'USA',\n",
       " 'artistid': '1',\n",
       " 'artist_name': 'Phish',\n",
       " 'tourid': '61',\n",
       " 'tour_name': 'Not Part of a Tour',\n",
       " 'created_at': None,\n",
       " 'updated_at': None}"
      ]
     },
     "execution_count": 6,
     "metadata": {},
     "output_type": "execute_result"
    }
   ],
   "source": [
    "data_all_shows['data'][0]"
   ]
  },
  {
   "cell_type": "code",
   "execution_count": 7,
   "id": "e7516e46-2161-46e8-9174-dfd8fa2ca79a",
   "metadata": {},
   "outputs": [],
   "source": [
    "#building 'shows' data dictionary\n",
    "shows = []\n",
    "\n",
    "for show in data_all_shows['data']:\n",
    "    show_dict = {\n",
    "        'showid': show['showid'],\n",
    "        'showyear': show['showyear'],\n",
    "        'showmonth': show['showmonth'],\n",
    "        'showdate': show['showdate'],\n",
    "        'permalink': show['permalink'],\n",
    "        'setlist_notes': show['setlist_notes'],\n",
    "        'venue': show['venue'],\n",
    "        'city': show['city'],\n",
    "        'state': show['state'],\n",
    "        'country': show['country'],\n",
    "        'city': show['city'],\n",
    "        'artist_name': show['artist_name'],\n",
    "        'tourid': show['tourid'],\n",
    "        'tour_name': show['tour_name'],\n",
    "                }\n",
    "    shows.append(show_dict)"
   ]
  },
  {
   "cell_type": "code",
   "execution_count": 8,
   "id": "069bc233-a2a3-436c-99c8-76542ce204a7",
   "metadata": {},
   "outputs": [
    {
     "data": {
      "text/html": [
       "<div>\n",
       "<style scoped>\n",
       "    .dataframe tbody tr th:only-of-type {\n",
       "        vertical-align: middle;\n",
       "    }\n",
       "\n",
       "    .dataframe tbody tr th {\n",
       "        vertical-align: top;\n",
       "    }\n",
       "\n",
       "    .dataframe thead th {\n",
       "        text-align: right;\n",
       "    }\n",
       "</style>\n",
       "<table border=\"1\" class=\"dataframe\">\n",
       "  <thead>\n",
       "    <tr style=\"text-align: right;\">\n",
       "      <th></th>\n",
       "      <th>showid</th>\n",
       "      <th>showyear</th>\n",
       "      <th>showmonth</th>\n",
       "      <th>showdate</th>\n",
       "      <th>permalink</th>\n",
       "      <th>setlist_notes</th>\n",
       "      <th>venue</th>\n",
       "      <th>city</th>\n",
       "      <th>state</th>\n",
       "      <th>country</th>\n",
       "      <th>artist_name</th>\n",
       "      <th>tourid</th>\n",
       "      <th>tour_name</th>\n",
       "    </tr>\n",
       "  </thead>\n",
       "  <tbody>\n",
       "    <tr>\n",
       "      <th>0</th>\n",
       "      <td>1251168326</td>\n",
       "      <td>1983</td>\n",
       "      <td>10</td>\n",
       "      <td>1983-10-30</td>\n",
       "      <td>https://phish.net/setlists/phish-october-30-19...</td>\n",
       "      <td>Throughout most of Phish history this was unde...</td>\n",
       "      <td>Harris-Millis Cafeteria - University of Vermont</td>\n",
       "      <td>Burlington</td>\n",
       "      <td>VT</td>\n",
       "      <td>USA</td>\n",
       "      <td>Phish</td>\n",
       "      <td>61</td>\n",
       "      <td>Not Part of a Tour</td>\n",
       "    </tr>\n",
       "    <tr>\n",
       "      <th>1</th>\n",
       "      <td>1251253100</td>\n",
       "      <td>1983</td>\n",
       "      <td>12</td>\n",
       "      <td>1983-12-02</td>\n",
       "      <td>https://phish.net/setlists/phish-december-02-1...</td>\n",
       "      <td>Trey, Mike, Fish, and Jeff Holdsworth recall b...</td>\n",
       "      <td>Harris-Millis Cafeteria - University of Vermont</td>\n",
       "      <td>Burlington</td>\n",
       "      <td>VT</td>\n",
       "      <td>USA</td>\n",
       "      <td>Phish</td>\n",
       "      <td>1</td>\n",
       "      <td>1983 Tour</td>\n",
       "    </tr>\n",
       "    <tr>\n",
       "      <th>2</th>\n",
       "      <td>1251253531</td>\n",
       "      <td>1983</td>\n",
       "      <td>12</td>\n",
       "      <td>1983-12-03</td>\n",
       "      <td>https://phish.net/setlists/phish-december-03-1...</td>\n",
       "      <td>This show, played by Trey, Mike, Fish, and Jef...</td>\n",
       "      <td>Marsh / Austin / Tupper Dormitory, University ...</td>\n",
       "      <td>Burlington</td>\n",
       "      <td>VT</td>\n",
       "      <td>USA</td>\n",
       "      <td>Phish</td>\n",
       "      <td>1</td>\n",
       "      <td>1983 Tour</td>\n",
       "    </tr>\n",
       "  </tbody>\n",
       "</table>\n",
       "</div>"
      ],
      "text/plain": [
       "       showid showyear showmonth    showdate  \\\n",
       "0  1251168326     1983        10  1983-10-30   \n",
       "1  1251253100     1983        12  1983-12-02   \n",
       "2  1251253531     1983        12  1983-12-03   \n",
       "\n",
       "                                           permalink  \\\n",
       "0  https://phish.net/setlists/phish-october-30-19...   \n",
       "1  https://phish.net/setlists/phish-december-02-1...   \n",
       "2  https://phish.net/setlists/phish-december-03-1...   \n",
       "\n",
       "                                       setlist_notes  \\\n",
       "0  Throughout most of Phish history this was unde...   \n",
       "1  Trey, Mike, Fish, and Jeff Holdsworth recall b...   \n",
       "2  This show, played by Trey, Mike, Fish, and Jef...   \n",
       "\n",
       "                                               venue        city state  \\\n",
       "0    Harris-Millis Cafeteria - University of Vermont  Burlington    VT   \n",
       "1    Harris-Millis Cafeteria - University of Vermont  Burlington    VT   \n",
       "2  Marsh / Austin / Tupper Dormitory, University ...  Burlington    VT   \n",
       "\n",
       "  country artist_name tourid           tour_name  \n",
       "0     USA       Phish     61  Not Part of a Tour  \n",
       "1     USA       Phish      1           1983 Tour  \n",
       "2     USA       Phish      1           1983 Tour  "
      ]
     },
     "execution_count": 8,
     "metadata": {},
     "output_type": "execute_result"
    }
   ],
   "source": [
    "shows_df = pd.DataFrame(shows)\n",
    "shows_df.head(3)"
   ]
  },
  {
   "cell_type": "code",
   "execution_count": 9,
   "id": "b6c0dc71-1da2-4794-a2ea-080498a11bb1",
   "metadata": {},
   "outputs": [
    {
     "data": {
      "text/plain": [
       "(2020, 13)"
      ]
     },
     "execution_count": 9,
     "metadata": {},
     "output_type": "execute_result"
    }
   ],
   "source": [
    "shows_df.shape"
   ]
  },
  {
   "cell_type": "code",
   "execution_count": 10,
   "id": "b4ae7cad-a0bf-46f2-9235-af246153364f",
   "metadata": {},
   "outputs": [
    {
     "name": "stdout",
     "output_type": "stream",
     "text": [
      "<class 'pandas.core.frame.DataFrame'>\n",
      "RangeIndex: 2020 entries, 0 to 2019\n",
      "Data columns (total 13 columns):\n",
      " #   Column         Non-Null Count  Dtype \n",
      "---  ------         --------------  ----- \n",
      " 0   showid         2020 non-null   object\n",
      " 1   showyear       2020 non-null   object\n",
      " 2   showmonth      2020 non-null   object\n",
      " 3   showdate       2020 non-null   object\n",
      " 4   permalink      2020 non-null   object\n",
      " 5   setlist_notes  2020 non-null   object\n",
      " 6   venue          2020 non-null   object\n",
      " 7   city           2020 non-null   object\n",
      " 8   state          2019 non-null   object\n",
      " 9   country        2020 non-null   object\n",
      " 10  artist_name    2020 non-null   object\n",
      " 11  tourid         2019 non-null   object\n",
      " 12  tour_name      2019 non-null   object\n",
      "dtypes: object(13)\n",
      "memory usage: 205.3+ KB\n"
     ]
    }
   ],
   "source": [
    "shows_df.info()"
   ]
  },
  {
   "cell_type": "code",
   "execution_count": 11,
   "id": "94efe3e5-322c-40bd-933d-d3d5901fae62",
   "metadata": {},
   "outputs": [
    {
     "data": {
      "text/plain": [
       "(2020, 13)"
      ]
     },
     "execution_count": 11,
     "metadata": {},
     "output_type": "execute_result"
    }
   ],
   "source": [
    "shows_df.shape"
   ]
  },
  {
   "cell_type": "code",
   "execution_count": 12,
   "id": "201cedb0-2f3b-49f0-a730-2163da64baa6",
   "metadata": {},
   "outputs": [],
   "source": [
    "shows_df.dropna(inplace = True)"
   ]
  },
  {
   "cell_type": "code",
   "execution_count": 13,
   "id": "fd24d5a5-5f07-4c9f-886b-fcd28b3b84dd",
   "metadata": {},
   "outputs": [],
   "source": [
    "shows_df.to_csv('../data/just_shows.csv')"
   ]
  },
  {
   "cell_type": "markdown",
   "id": "116db733-d626-4ec7-91b1-c11eeaaac5b6",
   "metadata": {},
   "source": [
    "**Creating DataFrame for Setlists**"
   ]
  },
  {
   "cell_type": "code",
   "execution_count": 14,
   "id": "f7a6d7d5-abf4-46a1-9664-f2af72083b33",
   "metadata": {},
   "outputs": [],
   "source": [
    "#creating the soup object for setlists:\n",
    "soup_set_lists = BeautifulSoup(res_set_lists.content, 'lxml')"
   ]
  },
  {
   "cell_type": "code",
   "execution_count": 15,
   "id": "f474bed9-ce87-4228-8657-ce105bdc3a07",
   "metadata": {},
   "outputs": [],
   "source": [
    "data_set_lists = res_set_lists.json()"
   ]
  },
  {
   "cell_type": "code",
   "execution_count": 16,
   "id": "38a78d07-38ac-4704-97c7-67abad77c912",
   "metadata": {},
   "outputs": [
    {
     "data": {
      "text/plain": [
       "{'showid': '1326251770',\n",
       " 'showdate': '1982-12-07',\n",
       " 'permalink': 'https://phish.net/setlists/trey-anastasio-december-07-1982-the-taft-school-watertown-ct-usa.html',\n",
       " 'showyear': '1982',\n",
       " 'uniqueid': '181509',\n",
       " 'meta': 'Space Antelope',\n",
       " 'reviews': '0',\n",
       " 'exclude': '0',\n",
       " 'setlistnotes': 'This list is likely incomplete, and the date may be incorrect. This is the only show by Space Antelope documented by a recording in circulation, though there were likely other gigs. The Jam that preceded Walk on the Wild Side&nbsp;contained part of what would become the <a href=\"http://phish.net/song/arrival/history\">Arrival</a>&nbsp;segment of <a href=\"http://phish.net/song/fluffs-travels/history\">Fluff&#39;s Travels</a>.',\n",
       " 'soundcheck': '',\n",
       " 'songid': '1750',\n",
       " 'position': '1',\n",
       " 'transition': '2',\n",
       " 'footnote': '',\n",
       " 'set': '1',\n",
       " 'isjam': '0',\n",
       " 'isreprise': '0',\n",
       " 'isjamchart': '0',\n",
       " 'jamchart_description': '',\n",
       " 'tracktime': '',\n",
       " 'gap': '0',\n",
       " 'tourid': '61',\n",
       " 'tourname': 'Not Part of a Tour',\n",
       " 'tourwhen': 'No Tour',\n",
       " 'song': 'Lifespace',\n",
       " 'nickname': 'Lifespace',\n",
       " 'slug': 'lifespace',\n",
       " 'is_original': '0',\n",
       " 'venueid': '1140',\n",
       " 'venue': 'The Taft School',\n",
       " 'city': 'Watertown',\n",
       " 'state': 'CT',\n",
       " 'country': 'USA',\n",
       " 'trans_mark': ' > ',\n",
       " 'artistid': '2',\n",
       " 'artist_slug': 'trey-anastasio',\n",
       " 'artist_name': 'Trey Anastasio'}"
      ]
     },
     "execution_count": 16,
     "metadata": {},
     "output_type": "execute_result"
    }
   ],
   "source": [
    "data_set_lists['data'][0]"
   ]
  },
  {
   "cell_type": "code",
   "execution_count": 17,
   "id": "74d7307d-4bd6-4081-a16b-6faf631be6bf",
   "metadata": {},
   "outputs": [],
   "source": [
    "#building 'setlists' data dictionary\n",
    "setlists = []\n",
    "\n",
    "for song in data_set_lists['data']:\n",
    "    song_dict = {\n",
    "        'showid': song['showid'],\n",
    "        'showdate': song['showdate'],\n",
    "        'permalink': song['permalink'],\n",
    "        'showyear': song['showyear'],\n",
    "        'uniqueid': song['uniqueid'],\n",
    "        'meta': song['meta'],\n",
    "        'setlistnotes': song['setlistnotes'],\n",
    "        'songid': song['songid'],\n",
    "        'position': song['position'],\n",
    "        'transition': song['transition'],\n",
    "        'set': song['set'],\n",
    "        'isjam': song['isjam'],\n",
    "        'isreprise': song['isreprise'],\n",
    "        'tracktime': song['tracktime'],\n",
    "        'gap': song['gap'],\n",
    "        'tourid': song['tourid'],\n",
    "        'tourname': song['tourname'],\n",
    "        'song': song['song'],\n",
    "        'is_original': song['is_original'],\n",
    "        'venueid': song['venueid'],\n",
    "        'venue': song['venue'],\n",
    "        'city': song['city'],\n",
    "        'state': song['state'],\n",
    "        'country': song['country'],\n",
    "        'artist_name': song['artist_name'],\n",
    "                }\n",
    "    setlists.append(song_dict)"
   ]
  },
  {
   "cell_type": "code",
   "execution_count": 18,
   "id": "7751bbb2-0482-4503-b46c-a94eb809794d",
   "metadata": {},
   "outputs": [
    {
     "data": {
      "text/html": [
       "<div>\n",
       "<style scoped>\n",
       "    .dataframe tbody tr th:only-of-type {\n",
       "        vertical-align: middle;\n",
       "    }\n",
       "\n",
       "    .dataframe tbody tr th {\n",
       "        vertical-align: top;\n",
       "    }\n",
       "\n",
       "    .dataframe thead th {\n",
       "        text-align: right;\n",
       "    }\n",
       "</style>\n",
       "<table border=\"1\" class=\"dataframe\">\n",
       "  <thead>\n",
       "    <tr style=\"text-align: right;\">\n",
       "      <th></th>\n",
       "      <th>showid</th>\n",
       "      <th>showdate</th>\n",
       "      <th>permalink</th>\n",
       "      <th>showyear</th>\n",
       "      <th>uniqueid</th>\n",
       "      <th>meta</th>\n",
       "      <th>setlistnotes</th>\n",
       "      <th>songid</th>\n",
       "      <th>position</th>\n",
       "      <th>transition</th>\n",
       "      <th>set</th>\n",
       "      <th>isjam</th>\n",
       "      <th>isreprise</th>\n",
       "      <th>tracktime</th>\n",
       "      <th>gap</th>\n",
       "      <th>tourid</th>\n",
       "      <th>tourname</th>\n",
       "      <th>song</th>\n",
       "      <th>is_original</th>\n",
       "      <th>venueid</th>\n",
       "      <th>venue</th>\n",
       "      <th>city</th>\n",
       "      <th>state</th>\n",
       "      <th>country</th>\n",
       "      <th>artist_name</th>\n",
       "    </tr>\n",
       "  </thead>\n",
       "  <tbody>\n",
       "    <tr>\n",
       "      <th>0</th>\n",
       "      <td>1326251770</td>\n",
       "      <td>1982-12-07</td>\n",
       "      <td>https://phish.net/setlists/trey-anastasio-dece...</td>\n",
       "      <td>1982</td>\n",
       "      <td>181509</td>\n",
       "      <td>Space Antelope</td>\n",
       "      <td>This list is likely incomplete, and the date m...</td>\n",
       "      <td>1750</td>\n",
       "      <td>1</td>\n",
       "      <td>2</td>\n",
       "      <td>1</td>\n",
       "      <td>0</td>\n",
       "      <td>0</td>\n",
       "      <td></td>\n",
       "      <td>0</td>\n",
       "      <td>61</td>\n",
       "      <td>Not Part of a Tour</td>\n",
       "      <td>Lifespace</td>\n",
       "      <td>0</td>\n",
       "      <td>1140</td>\n",
       "      <td>The Taft School</td>\n",
       "      <td>Watertown</td>\n",
       "      <td>CT</td>\n",
       "      <td>USA</td>\n",
       "      <td>Trey Anastasio</td>\n",
       "    </tr>\n",
       "    <tr>\n",
       "      <th>1</th>\n",
       "      <td>1326251770</td>\n",
       "      <td>1982-12-07</td>\n",
       "      <td>https://phish.net/setlists/trey-anastasio-dece...</td>\n",
       "      <td>1982</td>\n",
       "      <td>181510</td>\n",
       "      <td>Space Antelope</td>\n",
       "      <td>This list is likely incomplete, and the date m...</td>\n",
       "      <td>16</td>\n",
       "      <td>2</td>\n",
       "      <td>1</td>\n",
       "      <td>1</td>\n",
       "      <td>0</td>\n",
       "      <td>0</td>\n",
       "      <td></td>\n",
       "      <td>0</td>\n",
       "      <td>61</td>\n",
       "      <td>Not Part of a Tour</td>\n",
       "      <td>All Along the Watchtower</td>\n",
       "      <td>0</td>\n",
       "      <td>1140</td>\n",
       "      <td>The Taft School</td>\n",
       "      <td>Watertown</td>\n",
       "      <td>CT</td>\n",
       "      <td>USA</td>\n",
       "      <td>Trey Anastasio</td>\n",
       "    </tr>\n",
       "    <tr>\n",
       "      <th>2</th>\n",
       "      <td>1326251770</td>\n",
       "      <td>1982-12-07</td>\n",
       "      <td>https://phish.net/setlists/trey-anastasio-dece...</td>\n",
       "      <td>1982</td>\n",
       "      <td>181511</td>\n",
       "      <td>Space Antelope</td>\n",
       "      <td>This list is likely incomplete, and the date m...</td>\n",
       "      <td>1618</td>\n",
       "      <td>3</td>\n",
       "      <td>1</td>\n",
       "      <td>1</td>\n",
       "      <td>0</td>\n",
       "      <td>0</td>\n",
       "      <td></td>\n",
       "      <td>0</td>\n",
       "      <td>61</td>\n",
       "      <td>Not Part of a Tour</td>\n",
       "      <td>Franklin's Tower</td>\n",
       "      <td>0</td>\n",
       "      <td>1140</td>\n",
       "      <td>The Taft School</td>\n",
       "      <td>Watertown</td>\n",
       "      <td>CT</td>\n",
       "      <td>USA</td>\n",
       "      <td>Trey Anastasio</td>\n",
       "    </tr>\n",
       "  </tbody>\n",
       "</table>\n",
       "</div>"
      ],
      "text/plain": [
       "       showid    showdate                                          permalink  \\\n",
       "0  1326251770  1982-12-07  https://phish.net/setlists/trey-anastasio-dece...   \n",
       "1  1326251770  1982-12-07  https://phish.net/setlists/trey-anastasio-dece...   \n",
       "2  1326251770  1982-12-07  https://phish.net/setlists/trey-anastasio-dece...   \n",
       "\n",
       "  showyear uniqueid            meta  \\\n",
       "0     1982   181509  Space Antelope   \n",
       "1     1982   181510  Space Antelope   \n",
       "2     1982   181511  Space Antelope   \n",
       "\n",
       "                                        setlistnotes songid position  \\\n",
       "0  This list is likely incomplete, and the date m...   1750        1   \n",
       "1  This list is likely incomplete, and the date m...     16        2   \n",
       "2  This list is likely incomplete, and the date m...   1618        3   \n",
       "\n",
       "  transition set isjam isreprise tracktime gap tourid            tourname  \\\n",
       "0          2   1     0         0             0     61  Not Part of a Tour   \n",
       "1          1   1     0         0             0     61  Not Part of a Tour   \n",
       "2          1   1     0         0             0     61  Not Part of a Tour   \n",
       "\n",
       "                       song is_original venueid            venue       city  \\\n",
       "0                 Lifespace           0    1140  The Taft School  Watertown   \n",
       "1  All Along the Watchtower           0    1140  The Taft School  Watertown   \n",
       "2          Franklin's Tower           0    1140  The Taft School  Watertown   \n",
       "\n",
       "  state country     artist_name  \n",
       "0    CT     USA  Trey Anastasio  \n",
       "1    CT     USA  Trey Anastasio  \n",
       "2    CT     USA  Trey Anastasio  "
      ]
     },
     "execution_count": 18,
     "metadata": {},
     "output_type": "execute_result"
    }
   ],
   "source": [
    "setlists_df = pd.DataFrame(setlists)\n",
    "setlists_df.head(3)"
   ]
  },
  {
   "cell_type": "code",
   "execution_count": 19,
   "id": "6745700a-da27-4c3e-943c-09a4b01e3d16",
   "metadata": {},
   "outputs": [
    {
     "data": {
      "text/plain": [
       "(58104, 25)"
      ]
     },
     "execution_count": 19,
     "metadata": {},
     "output_type": "execute_result"
    }
   ],
   "source": [
    "setlists_df.shape"
   ]
  },
  {
   "cell_type": "code",
   "execution_count": 20,
   "id": "2a203cb4-ee6c-447f-bcf5-f86bc6860f68",
   "metadata": {},
   "outputs": [
    {
     "name": "stdout",
     "output_type": "stream",
     "text": [
      "<class 'pandas.core.frame.DataFrame'>\n",
      "RangeIndex: 58104 entries, 0 to 58103\n",
      "Data columns (total 25 columns):\n",
      " #   Column        Non-Null Count  Dtype \n",
      "---  ------        --------------  ----- \n",
      " 0   showid        58104 non-null  object\n",
      " 1   showdate      58104 non-null  object\n",
      " 2   permalink     58104 non-null  object\n",
      " 3   showyear      58104 non-null  object\n",
      " 4   uniqueid      58104 non-null  object\n",
      " 5   meta          58104 non-null  object\n",
      " 6   setlistnotes  58104 non-null  object\n",
      " 7   songid        58104 non-null  object\n",
      " 8   position      58104 non-null  object\n",
      " 9   transition    58104 non-null  object\n",
      " 10  set           58104 non-null  object\n",
      " 11  isjam         58104 non-null  object\n",
      " 12  isreprise     58104 non-null  object\n",
      " 13  tracktime     48430 non-null  object\n",
      " 14  gap           58104 non-null  object\n",
      " 15  tourid        58104 non-null  object\n",
      " 16  tourname      58104 non-null  object\n",
      " 17  song          58104 non-null  object\n",
      " 18  is_original   58104 non-null  object\n",
      " 19  venueid       58104 non-null  object\n",
      " 20  venue         58104 non-null  object\n",
      " 21  city          58104 non-null  object\n",
      " 22  state         58084 non-null  object\n",
      " 23  country       58104 non-null  object\n",
      " 24  artist_name   58104 non-null  object\n",
      "dtypes: object(25)\n",
      "memory usage: 11.1+ MB\n"
     ]
    }
   ],
   "source": [
    "setlists_df.info()"
   ]
  },
  {
   "cell_type": "code",
   "execution_count": 21,
   "id": "cf2f31c6-11cc-4e79-b25d-d37fa7159138",
   "metadata": {},
   "outputs": [],
   "source": [
    "setlists_df.to_csv('../data/just_setlists.csv')"
   ]
  }
 ],
 "metadata": {
  "kernelspec": {
   "display_name": "Python 3",
   "language": "python",
   "name": "python3"
  },
  "language_info": {
   "codemirror_mode": {
    "name": "ipython",
    "version": 3
   },
   "file_extension": ".py",
   "mimetype": "text/x-python",
   "name": "python",
   "nbconvert_exporter": "python",
   "pygments_lexer": "ipython3",
   "version": "3.8.8"
  }
 },
 "nbformat": 4,
 "nbformat_minor": 5
}
