{
 "cells": [
  {
   "cell_type": "code",
   "execution_count": 1,
   "id": "452a5504-21b6-48f4-88aa-5c591570738f",
   "metadata": {},
   "outputs": [],
   "source": [
    "import pandas as pd\n",
    "pd.set_option('display.max_columns', None)\n",
    "import numpy as np\n",
    "np.random.seed(42)\n",
    "\n",
    "import matplotlib.pyplot as plt\n",
    "import seaborn as sns\n",
    "sns.set(style = \"darkgrid\")\n",
    "\n",
    "from sklearn.preprocessing import OneHotEncoder"
   ]
  },
  {
   "cell_type": "code",
   "execution_count": 2,
   "id": "77cd7c77-364c-4525-aafe-a9f411e85af7",
   "metadata": {},
   "outputs": [],
   "source": [
    "df = pd.read_csv('../data/showsandsets.csv')"
   ]
  },
  {
   "cell_type": "markdown",
   "id": "9a717d05-acb3-40ef-894d-2603739e5217",
   "metadata": {},
   "source": [
    "**Building the List of Songs to Model on:**"
   ]
  },
  {
   "cell_type": "code",
   "execution_count": 3,
   "id": "567d74e7-a3c9-4fa2-b920-c2a306f40e11",
   "metadata": {},
   "outputs": [],
   "source": [
    "#the number of unique songs played:\n",
    "#setlists_df['songid'].nunique()"
   ]
  },
  {
   "cell_type": "code",
   "execution_count": 4,
   "id": "af619615-aa77-47ab-af3d-5cbde7369ae5",
   "metadata": {},
   "outputs": [],
   "source": [
    "#setlists_df.loc[setlists_df['is_original'] == 1, 'songid'].nunique()"
   ]
  },
  {
   "cell_type": "code",
   "execution_count": 5,
   "id": "cb441b72-2427-45dc-9fe5-28a19f32dcb2",
   "metadata": {},
   "outputs": [],
   "source": [
    "setlists = df['setlists'].tolist()"
   ]
  },
  {
   "cell_type": "code",
   "execution_count": 6,
   "id": "d85aab4b-8b6e-4f06-a51a-f94aaae7002f",
   "metadata": {},
   "outputs": [
    {
     "name": "stdout",
     "output_type": "stream",
     "text": [
      "['Long Cool Woman in a Black Dress', 'Proud Mary', 'In the Midnight Hour', 'Squeeze Box', 'Roadhouse Blues', 'Happy Birthday to You', 'Scarlet Begonias', 'Fire on the Mountain']['Makisupa Policeman']['In the Midnight Hour', 'Wild Child', 'Jam', 'Bertha', \"Can't You Hear Me Knocking\", 'St. Stephen', \"Can't You Hear Me Knocking\", 'Camel Walk', 'Eyes of the World', 'Whipping Post', 'Drums']['Jam', 'Wild Child', 'Bertha', \"Can't You Hear Me Knocking\", 'Camel Walk', 'Jam', 'In the Midnight Hour', 'Scarlet Begonias', 'Fire', 'Fire on the Mountain', 'Makisupa Policeman', 'Slave to the Traffic Light', 'Spanish Flea', \"Don't Want You No More\", 'Cities', 'Drums', 'Skippy the Wondermouse', 'Fluffhead', 'Eyes of the World']['Slave to the Traffic Light', \"Mike's Song\", \"Dave's Energy Guide\", 'You Enjoy Myself', 'Alumni Blues', 'Letter to Jimmy Page', 'Alumni Blues', 'Prep School Hippie', 'Run Like an Antelope']['Anarchy', 'Camel Walk', 'Fire Up the Ganja', 'Skippy the Wondermouse'\n"
     ]
    }
   ],
   "source": [
    "setlists_joined = \"\".join(setlists)\n",
    "print(setlists_joined[0:982])"
   ]
  },
  {
   "cell_type": "code",
   "execution_count": 7,
   "id": "306d4dff-b7e3-4720-974d-3328501848e8",
   "metadata": {},
   "outputs": [],
   "source": [
    "setlists_delim = setlists_joined.replace('][', ', ')\n",
    "# setlists_delim = setlists_joined.replace('[', ', ')\n",
    "# setlists_delim = setlists_joined.replace(']', ', ')\n",
    "\n",
    "#I wish I could do 'jams' or 'intros/outro' to designate a transition\n",
    "\n",
    "#REVISIT REVISIT REVISIT\n",
    "#REVISIT REVISIT REVISIT\n",
    "#REVISIT REVISIT REVISIT"
   ]
  },
  {
   "cell_type": "code",
   "execution_count": 8,
   "id": "2568e6bd-238f-42af-b2a3-8f3c82f5bdde",
   "metadata": {},
   "outputs": [
    {
     "name": "stdout",
     "output_type": "stream",
     "text": [
      "['Long Cool Woman in a Black Dress', 'Proud Mary', 'In the Midnight Hour', 'Squeeze Box', 'Roadhouse Blues', 'Happy Birthday to You', 'Scarlet Begonias', 'Fire on the Mountain', 'Makisupa Policeman', 'In the Midnight Hour', 'Wild Child', 'Jam', 'Bertha', \"Can't You Hear Me Knocking\", 'St. Stephen', \"Can't You Hear Me Knocking\", 'Camel Walk', 'Eyes of the World', 'Whipping Post', 'Drums', 'Jam', 'Wild Child', 'Bertha', \"Can't You Hear Me Knocking\", 'Camel Walk', 'Jam', 'In the Midnight Hour', 'Scarlet Begonias', 'Fire', 'Fire on the Mountain', 'Makisupa Policeman', 'Slave to the Traffic Light', 'Spanish Flea', \"Don't Want You No More\", 'Cities', 'Drums', 'Skippy the Wondermouse', 'Fluffhead', 'Eyes of the World', 'Slave to the Traffic Light', \"Mike's Song\", \"Dave's Energy Guide\", 'You Enjoy Myself', 'Alumni Blues', 'Letter to Jimmy Page', 'Alumni Blues', 'Prep School Hippie', 'Run Like an Antelope', 'Anarchy', 'Camel Walk', 'Fire Up the Ganja', 'Skippy the Wondermouse'\n"
     ]
    }
   ],
   "source": [
    "print(setlists_delim[0:982])"
   ]
  },
  {
   "cell_type": "code",
   "execution_count": 9,
   "id": "320eff71-85bd-4d93-bb17-3856101f6bfb",
   "metadata": {},
   "outputs": [
    {
     "data": {
      "text/plain": [
       "[\"['Long Cool Woman in a Black Dress'\",\n",
       " \"'Proud Mary'\",\n",
       " \"'In the Midnight Hour'\",\n",
       " \"'Squeeze Box'\",\n",
       " \"'Roadhouse Blues'\"]"
      ]
     },
     "execution_count": 9,
     "metadata": {},
     "output_type": "execute_result"
    }
   ],
   "source": [
    "setlists_string = setlists_delim.split(', ')\n",
    "setlists_string[0:5]"
   ]
  },
  {
   "cell_type": "code",
   "execution_count": 10,
   "id": "98b60926-2fcf-48fb-bccb-ec9321e7c4ff",
   "metadata": {},
   "outputs": [
    {
     "data": {
      "text/plain": [
       "36023"
      ]
     },
     "execution_count": 10,
     "metadata": {},
     "output_type": "execute_result"
    }
   ],
   "source": [
    "#number of all songs played:\n",
    "len(setlists_string)"
   ]
  },
  {
   "cell_type": "code",
   "execution_count": 11,
   "id": "7c3cfd09-bb4d-4fc8-bc1f-d410e6043718",
   "metadata": {},
   "outputs": [
    {
     "data": {
      "text/plain": [
       "970"
      ]
     },
     "execution_count": 11,
     "metadata": {},
     "output_type": "execute_result"
    }
   ],
   "source": [
    "#number of all unique songs played:\n",
    "len(set(setlists_string))"
   ]
  },
  {
   "cell_type": "code",
   "execution_count": 12,
   "id": "7e804a4d-3d12-45aa-8f70-cdff561da09e",
   "metadata": {},
   "outputs": [
    {
     "data": {
      "text/plain": [
       "['\"Ain\\'t Love Funny\"',\n",
       " '\"Cryin\\'\"',\n",
       " '\"Everything\\'s Right\"',\n",
       " '\"I\\'ll Come Running\"',\n",
       " '\"Jumpin\\' Jack Flash\"',\n",
       " '\"Olivia\\'s Pool\"',\n",
       " '\"Take the \\'A\\' Train\"',\n",
       " '\"Why Don\\'t We Do It in the Road?\"',\n",
       " \"'A Apolitical Blues'\",\n",
       " \"'All Along the Watchtower'\",\n",
       " \"'American Woman'\",\n",
       " \"'Auld Lang Syne'\",\n",
       " \"'Back on the Train'\",\n",
       " \"'Big Alligator'\",\n",
       " \"'Black-Eyed Katy'\",\n",
       " \"'Bobby Jean'\",\n",
       " \"'Brother'\",\n",
       " \"'Cannonball'\",\n",
       " \"'Chalk Dust Torture'\",\n",
       " \"'Coconut'\",\n",
       " \"'Corona'\",\n",
       " \"'Day or Night'\",\n",
       " \"'Dinner and a Movie'\",\n",
       " \"'Down By the River'\",\n",
       " \"'Eclipse'\",\n",
       " \"'Evolve'\",\n",
       " \"'Fire on the Mountain'\",\n",
       " \"'Foreplay/Long Time'\",\n",
       " \"'Frost'\",\n",
       " \"'Girls Girls Girls'\",\n",
       " \"'Goodbye Jam'\",\n",
       " \"'Halfway to the Moon'\",\n",
       " \"'Heavy Rotation'\",\n",
       " \"'Hold Your Head Up'\",\n",
       " \"'I Always Wanted It This Way'\",\n",
       " \"'I Know a Little'\",\n",
       " \"'If I Only Had a Brain'\",\n",
       " \"'Iron Man'\",\n",
       " \"'Julius'\",\n",
       " \"'La Grange'\",\n",
       " \"'Life on Mars?'\",\n",
       " \"'Lonely Trip'\",\n",
       " \"'Lucky Seven'\",\n",
       " \"'Maybe'\",\n",
       " \"'Merry Pranksters Jam'\",\n",
       " \"'Moby Dick'\",\n",
       " \"'Mr. Completely'\",\n",
       " \"'My Soul'\",\n",
       " \"'No Dogs Allowed'\",\n",
       " \"'Oh Atlanta'\",\n",
       " \"'Passing Through'\",\n",
       " \"'Plasma'\",\n",
       " \"'Punch You in the Eye'\",\n",
       " \"'Revolution'\",\n",
       " \"'Rock and Roll All Nite'\",\n",
       " \"'Rotation Jam'\",\n",
       " \"'Sanity'\",\n",
       " \"'Secret Smile'\",\n",
       " \"'Shaggy Dog'\",\n",
       " \"'Simple'\",\n",
       " \"'Snow'\",\n",
       " \"'Spanish Moon'\",\n",
       " \"'Star'\",\n",
       " \"'Strawberry Letter 23'\",\n",
       " \"'Sweet Emotion'\",\n",
       " \"'Taste That Surrounds'\",\n",
       " \"'The Birds'\",\n",
       " \"'The Final Hurrah'\",\n",
       " \"'The Last Step'\",\n",
       " \"'The Other One'\",\n",
       " \"'The Squirming Coil'\",\n",
       " \"'Theme From the Bottom'\",\n",
       " \"'Time'\",\n",
       " \"'Tubthumping'\",\n",
       " \"'Uncloudy Day'\",\n",
       " \"'Vultures'\",\n",
       " \"'Water in the Sky'\",\n",
       " \"'Whipping Post'\",\n",
       " \"'Wild Thing'\",\n",
       " \"'Woodstock'\",\n",
       " \"'Your Pet Cat'\"]"
      ]
     },
     "execution_count": 12,
     "metadata": {},
     "output_type": "execute_result"
    }
   ],
   "source": [
    "#all unique songs played:\n",
    "unique_songs = sorted(set(setlists_string))\n",
    "unique_songs[0::12]"
   ]
  },
  {
   "cell_type": "markdown",
   "id": "e31737fd-0d48-48bb-8be0-6496b3c08bc4",
   "metadata": {},
   "source": [
    "- I want to be able to model on a list of the songs played in order to predict the next song (song N + 1 based on the previous N songs played) so I need to map the song titles to integers."
   ]
  },
  {
   "cell_type": "code",
   "execution_count": 13,
   "id": "946b6dc8-212c-492f-8c0f-bdc01e7b6cfe",
   "metadata": {},
   "outputs": [],
   "source": [
    "#https://stackoverflow.com/questions/53801614/map-elements-of-a-list-to-their-index-in-another-list\n",
    "#from itertools import islice\n",
    "from itertools import islice\n",
    "\n",
    "idx_list = {song: index for index, song in enumerate(unique_songs)}\n",
    "#idx_list #commented out for length"
   ]
  },
  {
   "cell_type": "markdown",
   "id": "8a9709eb-cac5-41c4-9551-55677e45ff53",
   "metadata": {},
   "source": [
    "- Applying the index_list mapping to the entire (running) setlist:"
   ]
  },
  {
   "cell_type": "code",
   "execution_count": 14,
   "id": "b04aab2d-7f1f-4a1d-b2ac-790a7b0ae74d",
   "metadata": {},
   "outputs": [
    {
     "data": {
      "text/plain": [
       "36023"
      ]
     },
     "execution_count": 14,
     "metadata": {},
     "output_type": "execute_result"
    }
   ],
   "source": [
    "encoded_setlists_list = [idx_list[song] for song in setlists_string]\n",
    "len(encoded_setlists_list)"
   ]
  },
  {
   "cell_type": "code",
   "execution_count": 15,
   "id": "23a09c6d-951c-4fc4-855c-dfd9c29e473f",
   "metadata": {},
   "outputs": [
    {
     "data": {
      "text/plain": [
       "[969, 621, 439, 739, 644, 375, 679, 312, 509, 439, 934, 448]"
      ]
     },
     "execution_count": 15,
     "metadata": {},
     "output_type": "execute_result"
    }
   ],
   "source": [
    "#first twelve songs played:\n",
    "encoded_setlists_list[0:12]"
   ]
  },
  {
   "cell_type": "code",
   "execution_count": 16,
   "id": "d7c679a6-e5c5-4038-a582-1d4206af53d3",
   "metadata": {},
   "outputs": [
    {
     "data": {
      "text/plain": [
       "\"['Long Cool Woman in a Black Dress', 'Proud Mary', 'In the Midnight Hour', 'Squeeze Box', 'Roadhouse Blues', 'Happy Birthday to You', 'Scarlet Begonias', 'Fire on the Mountain']\""
      ]
     },
     "execution_count": 16,
     "metadata": {},
     "output_type": "execute_result"
    }
   ],
   "source": [
    "#Phish's first show:\n",
    "df['setlists'][0]"
   ]
  },
  {
   "cell_type": "code",
   "execution_count": 17,
   "id": "3e769507-8586-4dd0-b424-65b5f7d6c008",
   "metadata": {},
   "outputs": [
    {
     "data": {
      "text/plain": [
       "[969, 621, 439, 739, 644, 375, 679, 312]"
      ]
     },
     "execution_count": 17,
     "metadata": {},
     "output_type": "execute_result"
    }
   ],
   "source": [
    "#Phish's first show as an encoded list:\n",
    "encoded_setlists_list[0:8]"
   ]
  },
  {
   "cell_type": "code",
   "execution_count": 18,
   "id": "48439cb5-fc6e-4355-acfa-612a94e3a562",
   "metadata": {},
   "outputs": [],
   "source": [
    "#as calculated in '3_EDA' notebook, the avg. length of a Phish setlist is 19.96:\n",
    "length = 20\n",
    "model_sets = []\n",
    "\n",
    "for song in range(length, len(encoded_setlists_list)):\n",
    "    \n",
    "    #selecting a range of 20 songs\n",
    "    songs = encoded_setlists_list[song - length: song + 1]\n",
    "    \n",
    "    #building the setlist from songs\n",
    "    model_sets.append(songs)"
   ]
  },
  {
   "cell_type": "code",
   "execution_count": 19,
   "id": "10d74d2d-f340-4556-a21d-49e6e3014b71",
   "metadata": {},
   "outputs": [
    {
     "data": {
      "text/plain": [
       "[[969,\n",
       "  621,\n",
       "  439,\n",
       "  739,\n",
       "  644,\n",
       "  375,\n",
       "  679,\n",
       "  312,\n",
       "  509,\n",
       "  439,\n",
       "  934,\n",
       "  448,\n",
       "  155,\n",
       "  6,\n",
       "  740,\n",
       "  6,\n",
       "  203,\n",
       "  301,\n",
       "  924,\n",
       "  284,\n",
       "  448],\n",
       " [621,\n",
       "  439,\n",
       "  739,\n",
       "  644,\n",
       "  375,\n",
       "  679,\n",
       "  312,\n",
       "  509,\n",
       "  439,\n",
       "  934,\n",
       "  448,\n",
       "  155,\n",
       "  6,\n",
       "  740,\n",
       "  6,\n",
       "  203,\n",
       "  301,\n",
       "  924,\n",
       "  284,\n",
       "  448,\n",
       "  934],\n",
       " [439,\n",
       "  739,\n",
       "  644,\n",
       "  375,\n",
       "  679,\n",
       "  312,\n",
       "  509,\n",
       "  439,\n",
       "  934,\n",
       "  448,\n",
       "  155,\n",
       "  6,\n",
       "  740,\n",
       "  6,\n",
       "  203,\n",
       "  301,\n",
       "  924,\n",
       "  284,\n",
       "  448,\n",
       "  934,\n",
       "  155]]"
      ]
     },
     "execution_count": 19,
     "metadata": {},
     "output_type": "execute_result"
    }
   ],
   "source": [
    "model_sets[0:3]"
   ]
  },
  {
   "cell_type": "code",
   "execution_count": 24,
   "id": "d5d7f6db-9efd-4a42-83ff-b7df9521b2dd",
   "metadata": {},
   "outputs": [],
   "source": [
    "# #is this necessary?\n",
    "# ohe = OneHotEncoder() \n",
    "# ohe.fit(model_sets)"
   ]
  },
  {
   "cell_type": "code",
   "execution_count": 25,
   "id": "d558063f-6a99-4bf4-a692-4928d113e396",
   "metadata": {},
   "outputs": [
    {
     "data": {
      "text/plain": [
       "array([[969, 621, 439, ..., 924, 284, 448],\n",
       "       [621, 439, 739, ..., 284, 448, 934],\n",
       "       [439, 739, 644, ..., 448, 934, 155],\n",
       "       ...,\n",
       "       [ 87, 462, 331, ..., 727,  14, 885],\n",
       "       [462, 331, 251, ...,  14, 885,  22],\n",
       "       [331, 251, 465, ..., 885,  22, 379]])"
      ]
     },
     "execution_count": 25,
     "metadata": {},
     "output_type": "execute_result"
    }
   ],
   "source": [
    "np.array(model_sets)"
   ]
  },
  {
   "cell_type": "code",
   "execution_count": 22,
   "id": "878b6459-7c37-483d-9f00-3546c374e837",
   "metadata": {},
   "outputs": [
    {
     "data": {
      "text/plain": [
       "21"
      ]
     },
     "execution_count": 22,
     "metadata": {},
     "output_type": "execute_result"
    }
   ],
   "source": [
    "len(np.array(model_sets)[1])"
   ]
  },
  {
   "cell_type": "code",
   "execution_count": 23,
   "id": "3bae1fac-9673-4703-af17-9ac11be8cb38",
   "metadata": {},
   "outputs": [],
   "source": [
    "#https://numpy.org/doc/stable/reference/generated/numpy.save.html\n",
    "#https://numpy.org/doc/stable/reference/generated/numpy.load.html#numpy.load\n",
    "\n",
    "np.save('../data/model_sets.npy', np.array(model_sets), allow_pickle = True)"
   ]
  },
  {
   "cell_type": "code",
   "execution_count": null,
   "id": "d1c17407-3d2f-498b-86a7-69e6390aa915",
   "metadata": {},
   "outputs": [],
   "source": []
  }
 ],
 "metadata": {
  "kernelspec": {
   "display_name": "Python 3",
   "language": "python",
   "name": "python3"
  },
  "language_info": {
   "codemirror_mode": {
    "name": "ipython",
    "version": 3
   },
   "file_extension": ".py",
   "mimetype": "text/x-python",
   "name": "python",
   "nbconvert_exporter": "python",
   "pygments_lexer": "ipython3",
   "version": "3.8.8"
  }
 },
 "nbformat": 4,
 "nbformat_minor": 5
}
